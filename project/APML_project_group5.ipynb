{
 "cells": [
  {
   "cell_type": "code",
   "execution_count": 22,
   "metadata": {
    "ExecuteTime": {
     "end_time": "2023-01-28T16:36:41.428735Z",
     "start_time": "2023-01-28T16:36:41.408727Z"
    }
   },
   "outputs": [],
   "source": [
    "import os\n",
    "import pandas as pd\n",
    "from pathlib import Path\n",
    "import numpy as np\n",
    "import random\n",
    "\n",
    "\n",
    "# import xgboost as xgb\n",
    "from sklearn.metrics import confusion_matrix, recall_score, auc, roc_curve, precision_score, f1_score\n",
    "from sklearn.model_selection import train_test_split, KFold, cross_val_score, GridSearchCV, cross_val_score, train_test_split\n",
    "from sklearn.ensemble import RandomForestClassifier\n",
    "from sklearn.linear_model import LogisticRegression, SGDClassifier\n",
    "from sklearn.tree import DecisionTreeClassifier\n",
    "from sklearn.svm import SVC\n",
    "from sklearn.feature_selection import RFE\n",
    "\n",
    "# from sklearn.metrics import confusion_matrix\n",
    "from sklearn.metrics import accuracy_score\n",
    "from sklearn.pipeline import make_pipeline\n",
    "from sklearn.preprocessing import StandardScaler\n",
    "\n",
    "from warnings import simplefilter\n",
    "from sklearn.exceptions import ConvergenceWarning, FitFailedWarning\n",
    "simplefilter(\"ignore\", category=ConvergenceWarning)\n",
    "simplefilter(\"ignore\", UserWarning)\n",
    "simplefilter(\"ignore\", category= FitFailedWarning)\n",
    "\n",
    "from matplotlib import pyplot as plt\n",
    "import seaborn as sns\n",
    "\n",
    "from tqdm import tqdm\n",
    "\n",
    "pd.options.mode.chained_assignment = None  \n",
    "pd.set_option('display.max_columns', 100) \n",
    "pd.set_option('display.max_rows', 50) "
   ]
  },
  {
   "cell_type": "markdown",
   "metadata": {},
   "source": [
    "## Functions"
   ]
  },
  {
   "cell_type": "code",
   "execution_count": 23,
   "metadata": {
    "ExecuteTime": {
     "end_time": "2023-01-28T16:36:41.933721Z",
     "start_time": "2023-01-28T16:36:41.923724Z"
    }
   },
   "outputs": [],
   "source": [
    "# 1. Fun\n",
    "def encode_and_bind(original_dataframe, feature_to_encode):\n",
    "\n",
    "    \"\"\"\n",
    "    This function makes One-hot-encoding\n",
    "    Input: \n",
    "    - original dataset\n",
    "    - feature for One-hot-encoding\n",
    "    Output:\n",
    "    - datatable with One-hot-encoded features\n",
    "    \n",
    "    \"\"\"\n",
    "    #1. Make dummies and OHE     \n",
    "    dummies = pd.get_dummies(original_dataframe[[feature_to_encode]])\n",
    "    res = pd.concat([original_dataframe, dummies], axis=1).drop(feature_to_encode, axis=1)\n",
    "    \n",
    "    return(res)"
   ]
  },
  {
   "cell_type": "code",
   "execution_count": 24,
   "metadata": {
    "ExecuteTime": {
     "end_time": "2023-01-28T16:36:42.378728Z",
     "start_time": "2023-01-28T16:36:42.356725Z"
    }
   },
   "outputs": [],
   "source": [
    "# 4. Fun\n",
    "def feature_description(feature, data):\n",
    "    sns.set(\n",
    "    font_scale =0.7,\n",
    "    style      =\"whitegrid\",\n",
    "    )\n",
    "    print('Analyzed feature: ',feature)\n",
    "    \n",
    "    if feature in cat_col:\n",
    "        fig, axes = plt.subplots(2, 1, figsize=(5, 7))\n",
    "\n",
    "                \n",
    "        fig1 = sns.countplot(ax=axes[0], data=data, y= feature, orient='h')\n",
    "        fig1.set(xlabel=None, ylabel = None) \n",
    "        axes[0].set_title(f'Distribution of {feature}')\n",
    "        \n",
    "        fig2 = sns.barplot(ax=axes[1],y=feature, x=\"bad_client_target\",  data=data, orient='h', errorbar=None)\n",
    "        fig2.set(xlabel=None, ylabel = None) \n",
    "        axes[1].set_title(f'Normalised ratio of bad clients with respect to {feature}')\n",
    "        \n",
    "        fig.tight_layout()\n",
    "        \n",
    "    if feature in num_col:\n",
    "        fig, axes = plt.subplots(2, 1, figsize=(5, 7))\n",
    "\n",
    "                \n",
    "        fig1 = sns.histplot(ax=axes[0], data=data, x= feature);\n",
    "        fig1.set(xlabel=None, ylabel = None) \n",
    "        axes[0].set_title(f'Distribution of {feature}')\n",
    "        \n",
    "        fig2 = sns.boxplot(ax=axes[1],x=feature, y=\"bad_client_target\",  data=data, orient='h') ;\n",
    "        fig2.set(xlabel=None, ylabel = None) \n",
    "        axes[1].set_title(f'Distribution of client types by {feature}')\n",
    "        \n",
    "        fig.tight_layout()    "
   ]
  },
  {
   "cell_type": "code",
   "execution_count": 25,
   "metadata": {
    "ExecuteTime": {
     "end_time": "2023-01-28T16:36:42.790731Z",
     "start_time": "2023-01-28T16:36:42.771723Z"
    }
   },
   "outputs": [],
   "source": [
    "def rfe_selector(X, y, num_feats):\n",
    "    # 1. Create the object and fit\n",
    "    model = RandomForestClassifier(random_state=5, \n",
    "                               max_depth = 4,\n",
    "                               max_features = 3,\n",
    "                               n_estimators = 1000\n",
    "                              )\n",
    "\n",
    "    rfe_lr = RFE(estimator=model, \n",
    "                 n_features_to_select=num_feats,\n",
    "                 step=1,\n",
    "                 verbose=0\n",
    "    )\n",
    "    rfe_lr = rfe_lr.fit(X, y)\n",
    "\n",
    "    # 2. Get Support from the model\n",
    "    rfe_support = rfe_lr.get_support()\n",
    "\n",
    "    # 3. Best features from the model\n",
    "    rfe_feature = X.loc[:, rfe_support].columns.tolist()\n",
    "    # rfe_lr_feature\n",
    "    return rfe_support, rfe_feature"
   ]
  },
  {
   "cell_type": "markdown",
   "metadata": {},
   "source": [
    "## Download data"
   ]
  },
  {
   "cell_type": "markdown",
   "metadata": {},
   "source": [
    "DataSource:\n",
    "https://www.kaggle.com/datasets/podsyp/is-this-a-good-customer"
   ]
  },
  {
   "cell_type": "code",
   "execution_count": 5,
   "metadata": {
    "ExecuteTime": {
     "end_time": "2023-01-28T16:28:11.633923Z",
     "start_time": "2023-01-28T16:28:11.572898Z"
    }
   },
   "outputs": [
    {
     "name": "stdout",
     "output_type": "stream",
     "text": [
      "data shape: (1723, 14)\n"
     ]
    },
    {
     "data": {
      "text/html": [
       "<div>\n",
       "<style scoped>\n",
       "    .dataframe tbody tr th:only-of-type {\n",
       "        vertical-align: middle;\n",
       "    }\n",
       "\n",
       "    .dataframe tbody tr th {\n",
       "        vertical-align: top;\n",
       "    }\n",
       "\n",
       "    .dataframe thead th {\n",
       "        text-align: right;\n",
       "    }\n",
       "</style>\n",
       "<table border=\"1\" class=\"dataframe\">\n",
       "  <thead>\n",
       "    <tr style=\"text-align: right;\">\n",
       "      <th></th>\n",
       "      <th>month</th>\n",
       "      <th>credit_amount</th>\n",
       "      <th>credit_term</th>\n",
       "      <th>age</th>\n",
       "      <th>sex</th>\n",
       "      <th>education</th>\n",
       "      <th>product_type</th>\n",
       "      <th>having_children_flg</th>\n",
       "      <th>region</th>\n",
       "      <th>income</th>\n",
       "      <th>family_status</th>\n",
       "      <th>phone_operator</th>\n",
       "      <th>is_client</th>\n",
       "      <th>bad_client_target</th>\n",
       "    </tr>\n",
       "  </thead>\n",
       "  <tbody>\n",
       "    <tr>\n",
       "      <th>0</th>\n",
       "      <td>1</td>\n",
       "      <td>7000</td>\n",
       "      <td>12</td>\n",
       "      <td>39</td>\n",
       "      <td>male</td>\n",
       "      <td>Secondary special education</td>\n",
       "      <td>Cell phones</td>\n",
       "      <td>0</td>\n",
       "      <td>2</td>\n",
       "      <td>21000</td>\n",
       "      <td>Another</td>\n",
       "      <td>0</td>\n",
       "      <td>0</td>\n",
       "      <td>0</td>\n",
       "    </tr>\n",
       "    <tr>\n",
       "      <th>1</th>\n",
       "      <td>1</td>\n",
       "      <td>19000</td>\n",
       "      <td>6</td>\n",
       "      <td>20</td>\n",
       "      <td>male</td>\n",
       "      <td>Secondary special education</td>\n",
       "      <td>Household appliances</td>\n",
       "      <td>1</td>\n",
       "      <td>2</td>\n",
       "      <td>17000</td>\n",
       "      <td>Another</td>\n",
       "      <td>3</td>\n",
       "      <td>1</td>\n",
       "      <td>0</td>\n",
       "    </tr>\n",
       "    <tr>\n",
       "      <th>2</th>\n",
       "      <td>1</td>\n",
       "      <td>29000</td>\n",
       "      <td>12</td>\n",
       "      <td>23</td>\n",
       "      <td>female</td>\n",
       "      <td>Secondary special education</td>\n",
       "      <td>Household appliances</td>\n",
       "      <td>0</td>\n",
       "      <td>2</td>\n",
       "      <td>31000</td>\n",
       "      <td>Another</td>\n",
       "      <td>2</td>\n",
       "      <td>0</td>\n",
       "      <td>0</td>\n",
       "    </tr>\n",
       "    <tr>\n",
       "      <th>3</th>\n",
       "      <td>1</td>\n",
       "      <td>10000</td>\n",
       "      <td>12</td>\n",
       "      <td>30</td>\n",
       "      <td>male</td>\n",
       "      <td>Secondary special education</td>\n",
       "      <td>Cell phones</td>\n",
       "      <td>1</td>\n",
       "      <td>2</td>\n",
       "      <td>31000</td>\n",
       "      <td>Unmarried</td>\n",
       "      <td>3</td>\n",
       "      <td>1</td>\n",
       "      <td>0</td>\n",
       "    </tr>\n",
       "    <tr>\n",
       "      <th>4</th>\n",
       "      <td>1</td>\n",
       "      <td>14500</td>\n",
       "      <td>12</td>\n",
       "      <td>25</td>\n",
       "      <td>female</td>\n",
       "      <td>Higher education</td>\n",
       "      <td>Cell phones</td>\n",
       "      <td>0</td>\n",
       "      <td>2</td>\n",
       "      <td>26000</td>\n",
       "      <td>Married</td>\n",
       "      <td>0</td>\n",
       "      <td>1</td>\n",
       "      <td>0</td>\n",
       "    </tr>\n",
       "  </tbody>\n",
       "</table>\n",
       "</div>"
      ],
      "text/plain": [
       "   month  credit_amount  credit_term  age     sex  \\\n",
       "0      1           7000           12   39    male   \n",
       "1      1          19000            6   20    male   \n",
       "2      1          29000           12   23  female   \n",
       "3      1          10000           12   30    male   \n",
       "4      1          14500           12   25  female   \n",
       "\n",
       "                     education          product_type  having_children_flg  \\\n",
       "0  Secondary special education           Cell phones                    0   \n",
       "1  Secondary special education  Household appliances                    1   \n",
       "2  Secondary special education  Household appliances                    0   \n",
       "3  Secondary special education           Cell phones                    1   \n",
       "4             Higher education           Cell phones                    0   \n",
       "\n",
       "   region  income family_status  phone_operator  is_client  bad_client_target  \n",
       "0       2   21000       Another               0          0                  0  \n",
       "1       2   17000       Another               3          1                  0  \n",
       "2       2   31000       Another               2          0                  0  \n",
       "3       2   31000     Unmarried               3          1                  0  \n",
       "4       2   26000       Married               0          1                  0  "
      ]
     },
     "execution_count": 5,
     "metadata": {},
     "output_type": "execute_result"
    }
   ],
   "source": [
    "# 1. Set path and download data \n",
    "data = pd.read_csv(Path('..//data//clients.csv'), sep=',' )\n",
    "\n",
    "print('data shape:',data.shape)\n",
    "data.head()"
   ]
  },
  {
   "cell_type": "markdown",
   "metadata": {},
   "source": [
    "## Data description"
   ]
  },
  {
   "cell_type": "code",
   "execution_count": 6,
   "metadata": {
    "ExecuteTime": {
     "end_time": "2023-01-28T16:28:11.665939Z",
     "start_time": "2023-01-28T16:28:11.637896Z"
    }
   },
   "outputs": [
    {
     "name": "stdout",
     "output_type": "stream",
     "text": [
      "<class 'pandas.core.frame.DataFrame'>\n",
      "RangeIndex: 1723 entries, 0 to 1722\n",
      "Data columns (total 14 columns):\n",
      " #   Column               Non-Null Count  Dtype \n",
      "---  ------               --------------  ----- \n",
      " 0   month                1723 non-null   int64 \n",
      " 1   credit_amount        1723 non-null   int64 \n",
      " 2   credit_term          1723 non-null   int64 \n",
      " 3   age                  1723 non-null   int64 \n",
      " 4   sex                  1723 non-null   object\n",
      " 5   education            1723 non-null   object\n",
      " 6   product_type         1723 non-null   object\n",
      " 7   having_children_flg  1723 non-null   int64 \n",
      " 8   region               1723 non-null   int64 \n",
      " 9   income               1723 non-null   int64 \n",
      " 10  family_status        1723 non-null   object\n",
      " 11  phone_operator       1723 non-null   int64 \n",
      " 12  is_client            1723 non-null   int64 \n",
      " 13  bad_client_target    1723 non-null   int64 \n",
      "dtypes: int64(10), object(4)\n",
      "memory usage: 188.6+ KB\n"
     ]
    }
   ],
   "source": [
    "# 1. Look at main info\n",
    "data.info()"
   ]
  },
  {
   "cell_type": "code",
   "execution_count": 7,
   "metadata": {
    "ExecuteTime": {
     "end_time": "2023-01-28T16:28:11.681907Z",
     "start_time": "2023-01-28T16:28:11.669899Z"
    }
   },
   "outputs": [],
   "source": [
    "# 2. Split data on numerical and categorical var\n",
    "num_col = [ 'credit_amount', 'credit_term', 'age',\n",
    "          'income'\n",
    "          ]\n",
    "cat_col = [ 'month','sex', 'education', 'product_type', \n",
    "           'family_status', 'having_children_flg', 'region', \n",
    "           'phone_operator', 'is_client', 'bad_client_target'\n",
    "          ]\n",
    "all_columns = data.columns"
   ]
  },
  {
   "cell_type": "code",
   "execution_count": 8,
   "metadata": {
    "ExecuteTime": {
     "end_time": "2023-01-28T16:28:11.713920Z",
     "start_time": "2023-01-28T16:28:11.685895Z"
    }
   },
   "outputs": [
    {
     "data": {
      "text/html": [
       "<div>\n",
       "<style scoped>\n",
       "    .dataframe tbody tr th:only-of-type {\n",
       "        vertical-align: middle;\n",
       "    }\n",
       "\n",
       "    .dataframe tbody tr th {\n",
       "        vertical-align: top;\n",
       "    }\n",
       "\n",
       "    .dataframe thead th {\n",
       "        text-align: right;\n",
       "    }\n",
       "</style>\n",
       "<table border=\"1\" class=\"dataframe\">\n",
       "  <thead>\n",
       "    <tr style=\"text-align: right;\">\n",
       "      <th></th>\n",
       "      <th>credit_amount</th>\n",
       "      <th>credit_term</th>\n",
       "      <th>age</th>\n",
       "      <th>income</th>\n",
       "    </tr>\n",
       "  </thead>\n",
       "  <tbody>\n",
       "    <tr>\n",
       "      <th>count</th>\n",
       "      <td>1723.000000</td>\n",
       "      <td>1723.000000</td>\n",
       "      <td>1723.000000</td>\n",
       "      <td>1723.000000</td>\n",
       "    </tr>\n",
       "    <tr>\n",
       "      <th>mean</th>\n",
       "      <td>29264.654672</td>\n",
       "      <td>11.546721</td>\n",
       "      <td>35.911782</td>\n",
       "      <td>32652.350551</td>\n",
       "    </tr>\n",
       "    <tr>\n",
       "      <th>std</th>\n",
       "      <td>27926.778301</td>\n",
       "      <td>6.548354</td>\n",
       "      <td>13.120203</td>\n",
       "      <td>20913.193158</td>\n",
       "    </tr>\n",
       "    <tr>\n",
       "      <th>min</th>\n",
       "      <td>5000.000000</td>\n",
       "      <td>3.000000</td>\n",
       "      <td>18.000000</td>\n",
       "      <td>1000.000000</td>\n",
       "    </tr>\n",
       "    <tr>\n",
       "      <th>25%</th>\n",
       "      <td>13000.000000</td>\n",
       "      <td>6.000000</td>\n",
       "      <td>26.000000</td>\n",
       "      <td>21000.000000</td>\n",
       "    </tr>\n",
       "    <tr>\n",
       "      <th>50%</th>\n",
       "      <td>21500.000000</td>\n",
       "      <td>12.000000</td>\n",
       "      <td>32.000000</td>\n",
       "      <td>27000.000000</td>\n",
       "    </tr>\n",
       "    <tr>\n",
       "      <th>75%</th>\n",
       "      <td>34000.000000</td>\n",
       "      <td>12.000000</td>\n",
       "      <td>44.000000</td>\n",
       "      <td>38000.000000</td>\n",
       "    </tr>\n",
       "    <tr>\n",
       "      <th>max</th>\n",
       "      <td>301000.000000</td>\n",
       "      <td>36.000000</td>\n",
       "      <td>90.000000</td>\n",
       "      <td>401000.000000</td>\n",
       "    </tr>\n",
       "  </tbody>\n",
       "</table>\n",
       "</div>"
      ],
      "text/plain": [
       "       credit_amount  credit_term          age         income\n",
       "count    1723.000000  1723.000000  1723.000000    1723.000000\n",
       "mean    29264.654672    11.546721    35.911782   32652.350551\n",
       "std     27926.778301     6.548354    13.120203   20913.193158\n",
       "min      5000.000000     3.000000    18.000000    1000.000000\n",
       "25%     13000.000000     6.000000    26.000000   21000.000000\n",
       "50%     21500.000000    12.000000    32.000000   27000.000000\n",
       "75%     34000.000000    12.000000    44.000000   38000.000000\n",
       "max    301000.000000    36.000000    90.000000  401000.000000"
      ]
     },
     "execution_count": 8,
     "metadata": {},
     "output_type": "execute_result"
    }
   ],
   "source": [
    "# 2.1 Description of numerical vars\n",
    "data[num_col].describe()"
   ]
  },
  {
   "cell_type": "code",
   "execution_count": 9,
   "metadata": {
    "ExecuteTime": {
     "end_time": "2023-01-28T16:28:11.775896Z",
     "start_time": "2023-01-28T16:28:11.717896Z"
    }
   },
   "outputs": [
    {
     "data": {
      "text/html": [
       "<div>\n",
       "<style scoped>\n",
       "    .dataframe tbody tr th:only-of-type {\n",
       "        vertical-align: middle;\n",
       "    }\n",
       "\n",
       "    .dataframe tbody tr th {\n",
       "        vertical-align: top;\n",
       "    }\n",
       "\n",
       "    .dataframe thead th {\n",
       "        text-align: right;\n",
       "    }\n",
       "</style>\n",
       "<table border=\"1\" class=\"dataframe\">\n",
       "  <thead>\n",
       "    <tr style=\"text-align: right;\">\n",
       "      <th></th>\n",
       "      <th>month</th>\n",
       "      <th>sex</th>\n",
       "      <th>education</th>\n",
       "      <th>product_type</th>\n",
       "      <th>family_status</th>\n",
       "      <th>having_children_flg</th>\n",
       "      <th>region</th>\n",
       "      <th>phone_operator</th>\n",
       "      <th>is_client</th>\n",
       "      <th>bad_client_target</th>\n",
       "    </tr>\n",
       "  </thead>\n",
       "  <tbody>\n",
       "    <tr>\n",
       "      <th>count</th>\n",
       "      <td>1723</td>\n",
       "      <td>1723</td>\n",
       "      <td>1723</td>\n",
       "      <td>1723</td>\n",
       "      <td>1723</td>\n",
       "      <td>1723</td>\n",
       "      <td>1723</td>\n",
       "      <td>1723</td>\n",
       "      <td>1723</td>\n",
       "      <td>1723</td>\n",
       "    </tr>\n",
       "    <tr>\n",
       "      <th>unique</th>\n",
       "      <td>12</td>\n",
       "      <td>2</td>\n",
       "      <td>6</td>\n",
       "      <td>22</td>\n",
       "      <td>3</td>\n",
       "      <td>2</td>\n",
       "      <td>3</td>\n",
       "      <td>5</td>\n",
       "      <td>2</td>\n",
       "      <td>2</td>\n",
       "    </tr>\n",
       "    <tr>\n",
       "      <th>top</th>\n",
       "      <td>11</td>\n",
       "      <td>male</td>\n",
       "      <td>Secondary special education</td>\n",
       "      <td>Cell phones</td>\n",
       "      <td>Another</td>\n",
       "      <td>0</td>\n",
       "      <td>2</td>\n",
       "      <td>1</td>\n",
       "      <td>1</td>\n",
       "      <td>0</td>\n",
       "    </tr>\n",
       "    <tr>\n",
       "      <th>freq</th>\n",
       "      <td>174</td>\n",
       "      <td>931</td>\n",
       "      <td>836</td>\n",
       "      <td>498</td>\n",
       "      <td>1201</td>\n",
       "      <td>985</td>\n",
       "      <td>1414</td>\n",
       "      <td>666</td>\n",
       "      <td>1042</td>\n",
       "      <td>1527</td>\n",
       "    </tr>\n",
       "  </tbody>\n",
       "</table>\n",
       "</div>"
      ],
      "text/plain": [
       "        month   sex                    education product_type family_status  \\\n",
       "count    1723  1723                         1723         1723          1723   \n",
       "unique     12     2                            6           22             3   \n",
       "top        11  male  Secondary special education  Cell phones       Another   \n",
       "freq      174   931                          836          498          1201   \n",
       "\n",
       "        having_children_flg  region  phone_operator  is_client  \\\n",
       "count                  1723    1723            1723       1723   \n",
       "unique                    2       3               5          2   \n",
       "top                       0       2               1          1   \n",
       "freq                    985    1414             666       1042   \n",
       "\n",
       "        bad_client_target  \n",
       "count                1723  \n",
       "unique                  2  \n",
       "top                     0  \n",
       "freq                 1527  "
      ]
     },
     "execution_count": 9,
     "metadata": {},
     "output_type": "execute_result"
    }
   ],
   "source": [
    "# 2.2 Description cat variables\n",
    "(data[cat_col]\n",
    " .astype({'having_children_flg': 'object',\n",
    "          'region': 'object',\n",
    "          'phone_operator': 'object',\n",
    "          'is_client': 'object',\n",
    "          'bad_client_target': 'object',\n",
    "          'month': 'object',\n",
    "         })\n",
    " .describe()\n",
    ")"
   ]
  },
  {
   "cell_type": "code",
   "execution_count": 10,
   "metadata": {
    "ExecuteTime": {
     "end_time": "2023-01-28T16:28:11.807897Z",
     "start_time": "2023-01-28T16:28:11.781898Z"
    },
    "scrolled": true
   },
   "outputs": [
    {
     "data": {
      "text/plain": [
       "month                  0\n",
       "credit_amount          0\n",
       "credit_term            0\n",
       "age                    0\n",
       "sex                    0\n",
       "education              0\n",
       "product_type           0\n",
       "having_children_flg    0\n",
       "region                 0\n",
       "income                 0\n",
       "family_status          0\n",
       "phone_operator         0\n",
       "is_client              0\n",
       "bad_client_target      0\n",
       "dtype: int64"
      ]
     },
     "execution_count": 10,
     "metadata": {},
     "output_type": "execute_result"
    }
   ],
   "source": [
    "# 3. Checking NA values\n",
    "data.isna().sum()"
   ]
  },
  {
   "cell_type": "code",
   "execution_count": 11,
   "metadata": {
    "ExecuteTime": {
     "end_time": "2023-01-28T16:28:11.823895Z",
     "start_time": "2023-01-28T16:28:11.811896Z"
    }
   },
   "outputs": [],
   "source": [
    "# Conclusion:\n",
    "# 1. No NA values"
   ]
  },
  {
   "cell_type": "markdown",
   "metadata": {},
   "source": [
    "### Insights of the dependent variable"
   ]
  },
  {
   "cell_type": "code",
   "execution_count": 12,
   "metadata": {
    "ExecuteTime": {
     "end_time": "2023-01-28T16:28:11.838893Z",
     "start_time": "2023-01-28T16:28:11.826895Z"
    }
   },
   "outputs": [],
   "source": [
    "# 1. Determine general params for a plot\n",
    "sns.set(\n",
    "    font_scale =1,\n",
    "    style      =\"whitegrid\",\n",
    ")"
   ]
  },
  {
   "cell_type": "code",
   "execution_count": 15,
   "metadata": {
    "ExecuteTime": {
     "end_time": "2023-01-28T16:29:13.162807Z",
     "start_time": "2023-01-28T16:29:12.832735Z"
    }
   },
   "outputs": [
    {
     "name": "stdout",
     "output_type": "stream",
     "text": [
      "\n",
      "Statistics\n",
      "0    1527\n",
      "1     196\n",
      "Name: bad_client_target, dtype: int64\n",
      "0    0.886245\n",
      "1    0.113755\n",
      "Name: bad_client_target, dtype: float64\n"
     ]
    },
    {
     "data": {
      "image/png": "[encoded data removed]",
      "text/plain": [
       "<Figure size 1500x500 with 2 Axes>"
      ]
     },
     "metadata": {},
     "output_type": "display_data"
    }
   ],
   "source": [
    "# 1. Plot distribution of dependant variable\n",
    "fig, axes = plt.subplots(1, 2, figsize=(15, 5))\n",
    "\n",
    "fig.suptitle('Distribution of Dependent Variable Values')\n",
    "fig1 = sns.countplot(ax=axes[0], data=data, x='bad_client_target', orient='v');\n",
    "df_share = pd.DataFrame(data.bad_client_target.value_counts(1)).reset_index()\n",
    "df_share.columns = ['bad_client_target', 'Normalised ratio']\n",
    "fig2 =sns.barplot(data=df_share, x='bad_client_target', y='Normalised ratio');\n",
    "\n",
    "print()\n",
    "print('Statistics')\n",
    "print(data.bad_client_target.value_counts())\n",
    "print(data.bad_client_target.value_counts(1))"
   ]
  },
  {
   "cell_type": "code",
   "execution_count": 14,
   "metadata": {
    "ExecuteTime": {
     "end_time": "2023-01-25T22:34:43.129140Z",
     "start_time": "2023-01-25T22:34:43.118619Z"
    }
   },
   "outputs": [],
   "source": [
    "# Conclusion:\n",
    "# This is an imbalanced dataset'"
   ]
  },
  {
   "cell_type": "markdown",
   "metadata": {},
   "source": [
    "### Insights of the independent variables\n",
    "\n",
    "#### month"
   ]
  },
  {
   "cell_type": "code",
   "execution_count": 26,
   "metadata": {
    "ExecuteTime": {
     "end_time": "2023-01-28T16:36:48.394655Z",
     "start_time": "2023-01-28T16:36:47.691657Z"
    }
   },
   "outputs": [
    {
     "name": "stdout",
     "output_type": "stream",
     "text": [
      "Analyzed feature:  month\n"
     ]
    },
    {
     "data": {
      "image/png": "[encoded data removed]",
      "text/plain": [
       "<Figure size 500x700 with 2 Axes>"
      ]
     },
     "metadata": {},
     "output_type": "display_data"
    }
   ],
   "source": [
    "feature = data.columns[0]\n",
    "feature_description(feature, data)"
   ]
  },
  {
   "cell_type": "markdown",
   "metadata": {},
   "source": [
    "#### credit_amount"
   ]
  },
  {
   "cell_type": "code",
   "execution_count": 16,
   "metadata": {
    "ExecuteTime": {
     "end_time": "2023-01-25T22:34:47.200107Z",
     "start_time": "2023-01-25T22:34:44.896601Z"
    },
    "scrolled": false
   },
   "outputs": [
    {
     "name": "stdout",
     "output_type": "stream",
     "text": [
      "Analyzed feature:  credit_amount\n"
     ]
    },
    {
     "data": {
      "image/png": "[encoded data removed]",
      "text/plain": [
       "<Figure size 500x700 with 2 Axes>"
      ]
     },
     "metadata": {},
     "output_type": "display_data"
    }
   ],
   "source": [
    "feature = data.columns[1]\n",
    "feature_description(feature, data)"
   ]
  },
  {
   "cell_type": "markdown",
   "metadata": {},
   "source": [
    "#### credit_term"
   ]
  },
  {
   "cell_type": "code",
   "execution_count": 17,
   "metadata": {
    "ExecuteTime": {
     "end_time": "2023-01-25T22:34:48.992000Z",
     "start_time": "2023-01-25T22:34:47.206110Z"
    }
   },
   "outputs": [
    {
     "name": "stdout",
     "output_type": "stream",
     "text": [
      "Analyzed feature:  credit_term\n"
     ]
    },
    {
     "data": {
      "image/png": "[encoded data removed]",
      "text/plain": [
       "<Figure size 500x700 with 2 Axes>"
      ]
     },
     "metadata": {},
     "output_type": "display_data"
    }
   ],
   "source": [
    "feature = data.columns[2]\n",
    "feature_description(feature, data)"
   ]
  },
  {
   "cell_type": "markdown",
   "metadata": {},
   "source": [
    "#### age"
   ]
  },
  {
   "cell_type": "code",
   "execution_count": 18,
   "metadata": {
    "ExecuteTime": {
     "end_time": "2023-01-25T22:34:50.715939Z",
     "start_time": "2023-01-25T22:34:48.997922Z"
    }
   },
   "outputs": [
    {
     "name": "stdout",
     "output_type": "stream",
     "text": [
      "Analyzed feature:  age\n"
     ]
    },
    {
     "data": {
      "image/png": "[encoded data removed]",
      "text/plain": [
       "<Figure size 500x700 with 2 Axes>"
      ]
     },
     "metadata": {},
     "output_type": "display_data"
    }
   ],
   "source": [
    "feature = data.columns[3]\n",
    "feature_description(feature, data)"
   ]
  },
  {
   "cell_type": "markdown",
   "metadata": {},
   "source": [
    "#### sex"
   ]
  },
  {
   "cell_type": "code",
   "execution_count": 19,
   "metadata": {
    "ExecuteTime": {
     "end_time": "2023-01-25T22:34:51.944725Z",
     "start_time": "2023-01-25T22:34:50.720458Z"
    }
   },
   "outputs": [
    {
     "name": "stdout",
     "output_type": "stream",
     "text": [
      "Analyzed feature:  sex\n"
     ]
    },
    {
     "data": {
      "image/png": "[encoded data removed]",
      "text/plain": [
       "<Figure size 500x700 with 2 Axes>"
      ]
     },
     "metadata": {},
     "output_type": "display_data"
    }
   ],
   "source": [
    "feature = data.columns[4]\n",
    "feature_description(feature, data)"
   ]
  },
  {
   "cell_type": "markdown",
   "metadata": {},
   "source": [
    "#### education"
   ]
  },
  {
   "cell_type": "code",
   "execution_count": 20,
   "metadata": {
    "ExecuteTime": {
     "end_time": "2023-01-25T22:34:53.402586Z",
     "start_time": "2023-01-25T22:34:51.955728Z"
    }
   },
   "outputs": [
    {
     "name": "stdout",
     "output_type": "stream",
     "text": [
      "Analyzed feature:  education\n"
     ]
    },
    {
     "data": {
      "image/png": "[encoded data removed]",
      "text/plain": [
       "<Figure size 500x700 with 2 Axes>"
      ]
     },
     "metadata": {},
     "output_type": "display_data"
    }
   ],
   "source": [
    "feature = data.columns[5]\n",
    "feature_description(feature, data)"
   ]
  },
  {
   "cell_type": "markdown",
   "metadata": {},
   "source": [
    "#### product_type"
   ]
  },
  {
   "cell_type": "code",
   "execution_count": 21,
   "metadata": {
    "ExecuteTime": {
     "end_time": "2023-01-25T22:34:55.309763Z",
     "start_time": "2023-01-25T22:34:53.406461Z"
    }
   },
   "outputs": [
    {
     "name": "stdout",
     "output_type": "stream",
     "text": [
      "Analyzed feature:  product_type\n"
     ]
    },
    {
     "data": {
      "image/png": "[encoded data removed]",
      "text/plain": [
       "<Figure size 500x700 with 2 Axes>"
      ]
     },
     "metadata": {},
     "output_type": "display_data"
    }
   ],
   "source": [
    "feature = data.columns[6]\n",
    "feature_description(feature, data)"
   ]
  },
  {
   "cell_type": "markdown",
   "metadata": {},
   "source": [
    "#### having_children_flg"
   ]
  },
  {
   "cell_type": "code",
   "execution_count": 22,
   "metadata": {
    "ExecuteTime": {
     "end_time": "2023-01-25T22:34:56.848813Z",
     "start_time": "2023-01-25T22:34:55.313765Z"
    }
   },
   "outputs": [
    {
     "name": "stdout",
     "output_type": "stream",
     "text": [
      "Analyzed feature:  having_children_flg\n"
     ]
    },
    {
     "data": {
      "image/png": "[encoded data removed]",
      "text/plain": [
       "<Figure size 500x700 with 2 Axes>"
      ]
     },
     "metadata": {},
     "output_type": "display_data"
    }
   ],
   "source": [
    "feature = data.columns[7]\n",
    "feature_description(feature, data)"
   ]
  },
  {
   "cell_type": "markdown",
   "metadata": {},
   "source": [
    "#### region"
   ]
  },
  {
   "cell_type": "code",
   "execution_count": 23,
   "metadata": {
    "ExecuteTime": {
     "end_time": "2023-01-25T22:34:58.507768Z",
     "start_time": "2023-01-25T22:34:56.855628Z"
    }
   },
   "outputs": [
    {
     "name": "stdout",
     "output_type": "stream",
     "text": [
      "Analyzed feature:  region\n"
     ]
    },
    {
     "data": {
      "image/png": "[encoded data removed]",
      "text/plain": [
       "<Figure size 500x700 with 2 Axes>"
      ]
     },
     "metadata": {},
     "output_type": "display_data"
    }
   ],
   "source": [
    "feature = data.columns[8]\n",
    "feature_description(feature, data)"
   ]
  },
  {
   "cell_type": "markdown",
   "metadata": {},
   "source": [
    "#### income"
   ]
  },
  {
   "cell_type": "code",
   "execution_count": 24,
   "metadata": {
    "ExecuteTime": {
     "end_time": "2023-01-25T22:35:01.072066Z",
     "start_time": "2023-01-25T22:34:58.514110Z"
    }
   },
   "outputs": [
    {
     "name": "stdout",
     "output_type": "stream",
     "text": [
      "Analyzed feature:  income\n"
     ]
    },
    {
     "data": {
      "image/png": "[encoded data removed]",
      "text/plain": [
       "<Figure size 500x700 with 2 Axes>"
      ]
     },
     "metadata": {},
     "output_type": "display_data"
    }
   ],
   "source": [
    "feature = data.columns[9]\n",
    "feature_description(feature, data)"
   ]
  },
  {
   "cell_type": "markdown",
   "metadata": {},
   "source": [
    "#### family_status"
   ]
  },
  {
   "cell_type": "code",
   "execution_count": 25,
   "metadata": {
    "ExecuteTime": {
     "end_time": "2023-01-25T22:35:02.298925Z",
     "start_time": "2023-01-25T22:35:01.078156Z"
    }
   },
   "outputs": [
    {
     "name": "stdout",
     "output_type": "stream",
     "text": [
      "Analyzed feature:  family_status\n"
     ]
    },
    {
     "data": {
      "image/png": "[encoded data removed]",
      "text/plain": [
       "<Figure size 500x700 with 2 Axes>"
      ]
     },
     "metadata": {},
     "output_type": "display_data"
    }
   ],
   "source": [
    "feature = data.columns[10]\n",
    "feature_description(feature, data)"
   ]
  },
  {
   "cell_type": "markdown",
   "metadata": {},
   "source": [
    "#### phone_operator"
   ]
  },
  {
   "cell_type": "code",
   "execution_count": 26,
   "metadata": {
    "ExecuteTime": {
     "end_time": "2023-01-25T22:35:03.901655Z",
     "start_time": "2023-01-25T22:35:02.307861Z"
    }
   },
   "outputs": [
    {
     "name": "stdout",
     "output_type": "stream",
     "text": [
      "Analyzed feature:  phone_operator\n"
     ]
    },
    {
     "data": {
      "image/png": "[encoded data removed]",
      "text/plain": [
       "<Figure size 500x700 with 2 Axes>"
      ]
     },
     "metadata": {},
     "output_type": "display_data"
    }
   ],
   "source": [
    "feature = data.columns[11]\n",
    "feature_description(feature, data)"
   ]
  },
  {
   "cell_type": "markdown",
   "metadata": {},
   "source": [
    "#### is_client"
   ]
  },
  {
   "cell_type": "code",
   "execution_count": 27,
   "metadata": {
    "ExecuteTime": {
     "end_time": "2023-01-25T22:35:05.046495Z",
     "start_time": "2023-01-25T22:35:03.909454Z"
    }
   },
   "outputs": [
    {
     "name": "stdout",
     "output_type": "stream",
     "text": [
      "Analyzed feature:  is_client\n"
     ]
    },
    {
     "data": {
      "image/png": "[encoded data removed]",
      "text/plain": [
       "<Figure size 500x700 with 2 Axes>"
      ]
     },
     "metadata": {},
     "output_type": "display_data"
    }
   ],
   "source": [
    "feature = data.columns[12]\n",
    "feature_description(feature, data)"
   ]
  },
  {
   "cell_type": "code",
   "execution_count": 28,
   "metadata": {
    "ExecuteTime": {
     "end_time": "2023-01-25T22:35:05.078473Z",
     "start_time": "2023-01-25T22:35:05.065495Z"
    }
   },
   "outputs": [],
   "source": [
    "# Conclusions:\n",
    "\n",
    "# 1. Most bad clients are in December, minority are in July.\n",
    "# 2. There are outliers in credit amount.\n",
    "# 3. Bad clients have higher credit term.\n",
    "# 4. Female are bad clients more frequently.\n",
    "# 5. People with only secondary education are bad clients more frequently.\n",
    "# 6. It seems that loan for cell phone is the most risky\n",
    "# 7. People with children are less risky clients\n",
    "# 8. People from region 3 are riskier.\n",
    "# 9. There are outliers in income.\n",
    "# 10. Marriage status, phone operator don’t influence the probability of client default\n",
    "# 11. Clients of bank are more risky "
   ]
  },
  {
   "cell_type": "markdown",
   "metadata": {},
   "source": [
    "## Data preprocessing\n",
    "\n",
    "### One-hot-encoding"
   ]
  },
  {
   "cell_type": "code",
   "execution_count": 29,
   "metadata": {
    "ExecuteTime": {
     "end_time": "2023-01-25T22:35:05.154656Z",
     "start_time": "2023-01-25T22:35:05.087366Z"
    }
   },
   "outputs": [
    {
     "name": "stdout",
     "output_type": "stream",
     "text": [
      "Before:  (1723, 14)\n",
      "After:  (1723, 42)\n"
     ]
    }
   ],
   "source": [
    "# OHE\n",
    "ohe_vars = ['education', 'product_type', 'family_status', 'sex']\n",
    "\n",
    "print('Before: ',data.shape)\n",
    "for ohe_var in ohe_vars:\n",
    "    data = encode_and_bind(data , ohe_var)\n",
    "    \n",
    "data = data.drop('sex_male', axis = 1)\n",
    "data = data.rename(columns = {\"product_type_Childen's goods\": \"product_type_Childen_good\"})\n",
    "print('After: ',data.shape)    "
   ]
  },
  {
   "cell_type": "code",
   "execution_count": 30,
   "metadata": {
    "ExecuteTime": {
     "end_time": "2023-01-25T22:35:05.185738Z",
     "start_time": "2023-01-25T22:35:05.161553Z"
    }
   },
   "outputs": [],
   "source": [
    "# Swap data\n",
    "data = data[['bad_client_target','month', 'credit_amount', \n",
    "      'credit_term', 'age', 'having_children_flg',\n",
    "       'region', 'income', 'phone_operator', 'is_client', \n",
    "       'education_Higher education', 'education_Incomplete higher education',\n",
    "       'education_Incomplete secondary education', 'education_PhD degree',\n",
    "       'education_Secondary education',\n",
    "       'education_Secondary special education', 'product_type_Audio & Video',\n",
    "       'product_type_Auto', 'product_type_Boats', 'product_type_Cell phones',\n",
    "       'product_type_Childen_good', 'product_type_Clothing',\n",
    "       'product_type_Computers', 'product_type_Construction Materials',\n",
    "       'product_type_Cosmetics and beauty services',\n",
    "       'product_type_Fishing and hunting supplies', 'product_type_Fitness',\n",
    "       'product_type_Furniture', 'product_type_Garden equipment',\n",
    "       'product_type_Household appliances', 'product_type_Jewelry',\n",
    "       'product_type_Medical services', 'product_type_Music',\n",
    "       'product_type_Repair Services', 'product_type_Sporting goods',\n",
    "       'product_type_Tourism', 'product_type_Training',\n",
    "       'product_type_Windows & Doors', 'family_status_Another',\n",
    "       'family_status_Married', 'family_status_Unmarried', 'sex_female']]"
   ]
  },
  {
   "cell_type": "markdown",
   "metadata": {
    "ExecuteTime": {
     "end_time": "2023-01-22T21:47:36.574585Z",
     "start_time": "2023-01-22T21:47:36.555586Z"
    }
   },
   "source": [
    "## Modelling"
   ]
  },
  {
   "cell_type": "markdown",
   "metadata": {},
   "source": [
    "### Train and test split"
   ]
  },
  {
   "cell_type": "code",
   "execution_count": 31,
   "metadata": {
    "ExecuteTime": {
     "end_time": "2023-01-25T22:35:05.216025Z",
     "start_time": "2023-01-25T22:35:05.193549Z"
    },
    "scrolled": true
   },
   "outputs": [
    {
     "name": "stdout",
     "output_type": "stream",
     "text": [
      "(1206, 41)\n",
      "(517, 41)\n"
     ]
    }
   ],
   "source": [
    "# split data to features and label\n",
    "X = data.iloc[:,1:]\n",
    "y = data.bad_client_target\n",
    "\n",
    "\n",
    "# split data to train and test sets\n",
    "X_train, X_test, y_train, y_test = train_test_split(X,  y, test_size=0.3, random_state=5);\n",
    "print(X_train.shape)\n",
    "print(X_test.shape)\n"
   ]
  },
  {
   "cell_type": "code",
   "execution_count": 32,
   "metadata": {
    "ExecuteTime": {
     "end_time": "2023-01-25T22:35:05.247201Z",
     "start_time": "2023-01-25T22:35:05.222967Z"
    }
   },
   "outputs": [
    {
     "name": "stdout",
     "output_type": "stream",
     "text": [
      "y distribution - train: \n",
      " 0    1073\n",
      "1     133\n",
      "Name: bad_client_target, dtype: int64\n",
      "\n",
      "y distribution - test: \n",
      " 0    454\n",
      "1     63\n",
      "Name: bad_client_target, dtype: int64\n"
     ]
    }
   ],
   "source": [
    "print('y distribution - train: \\n',y_train.value_counts())\n",
    "print()\n",
    "print('y distribution - test: \\n',y_test.value_counts())"
   ]
  },
  {
   "cell_type": "markdown",
   "metadata": {},
   "source": [
    "### Default models"
   ]
  },
  {
   "cell_type": "code",
   "execution_count": 33,
   "metadata": {
    "ExecuteTime": {
     "end_time": "2023-01-25T22:35:05.263153Z",
     "start_time": "2023-01-25T22:35:05.252969Z"
    }
   },
   "outputs": [],
   "source": [
    "# Create result dictionary\n",
    "res_tab = {}"
   ]
  },
  {
   "cell_type": "markdown",
   "metadata": {},
   "source": [
    "#### Logistic Regression"
   ]
  },
  {
   "cell_type": "code",
   "execution_count": 34,
   "metadata": {
    "ExecuteTime": {
     "end_time": "2023-01-25T22:35:05.355963Z",
     "start_time": "2023-01-25T22:35:05.269966Z"
    }
   },
   "outputs": [
    {
     "name": "stdout",
     "output_type": "stream",
     "text": [
      "AUC:  0.72764\n",
      "confusion_matrix: \n",
      " [[287 167]\n",
      " [ 16  47]]\n"
     ]
    }
   ],
   "source": [
    "# 1. Model name\n",
    "model_name = 'Logit'\n",
    "\n",
    "# 2. Determine model\n",
    "pipeline = make_pipeline(StandardScaler(), LogisticRegression(random_state=5))\n",
    "\n",
    "# 3. Train model\n",
    "pipeline.fit(X_train,y_train)\n",
    "\n",
    "# 4. Prediction\n",
    "prediction = pipeline.predict_proba(X_test)[:,1]\n",
    "fpr, tpr, thresholds = roc_curve(y_test, prediction)\n",
    "auc_def = round(auc(fpr, tpr),5)\n",
    "print('AUC: ', auc_def)\n",
    "\n",
    "# 5. Prediction + threshold\n",
    "threshold = 0.1\n",
    "prediction = np.where(prediction < threshold, 0, 1)\n",
    "print('confusion_matrix: \\n',confusion_matrix(y_test, prediction))\n",
    "\n",
    "# 6. Save results\n",
    "res_tab[model_name] = auc_def"
   ]
  },
  {
   "cell_type": "markdown",
   "metadata": {},
   "source": [
    "#### Decision Tree"
   ]
  },
  {
   "cell_type": "code",
   "execution_count": 35,
   "metadata": {
    "ExecuteTime": {
     "end_time": "2023-01-25T22:35:05.433964Z",
     "start_time": "2023-01-25T22:35:05.361965Z"
    }
   },
   "outputs": [
    {
     "name": "stdout",
     "output_type": "stream",
     "text": [
      "AUC:  0.5715\n",
      "confusion_matrix: \n",
      " [[382  72]\n",
      " [ 44  19]]\n"
     ]
    }
   ],
   "source": [
    "# 1. Model name\n",
    "model_name = 'Decision_Tree'\n",
    "\n",
    "# 2. Determine model\n",
    "pipeline = make_pipeline(StandardScaler(), DecisionTreeClassifier(random_state=5))\n",
    "\n",
    "# 3. Train model\n",
    "pipeline.fit(X_train,y_train)\n",
    "\n",
    "# 4. Prediction\n",
    "prediction = pipeline.predict_proba(X_test)[:,1]\n",
    "fpr, tpr, thresholds = roc_curve(y_test, prediction)\n",
    "auc_def = round(auc(fpr, tpr),5)\n",
    "print('AUC: ', auc_def)\n",
    "\n",
    "# 5. Prediction + threshold\n",
    "threshold = 0.1\n",
    "prediction = np.where(prediction < threshold, 0, 1)\n",
    "print('confusion_matrix: \\n',confusion_matrix(y_test, prediction))\n",
    "\n",
    "# 6. Save results\n",
    "res_tab[model_name] = auc_def"
   ]
  },
  {
   "cell_type": "markdown",
   "metadata": {},
   "source": [
    "#### Random Forest"
   ]
  },
  {
   "cell_type": "code",
   "execution_count": 36,
   "metadata": {
    "ExecuteTime": {
     "end_time": "2023-01-25T22:35:05.965503Z",
     "start_time": "2023-01-25T22:35:05.440968Z"
    }
   },
   "outputs": [
    {
     "name": "stdout",
     "output_type": "stream",
     "text": [
      "AUC:  0.74953\n",
      "confusion_matrix: \n",
      " [[270 184]\n",
      " [ 14  49]]\n"
     ]
    }
   ],
   "source": [
    "# 1. Model name\n",
    "model_name = 'Random_Forest'\n",
    "\n",
    "# 2. Determine model\n",
    "pipeline = make_pipeline(StandardScaler(), RandomForestClassifier(random_state=5))\n",
    "\n",
    "# 3. Train model\n",
    "pipeline.fit(X_train,y_train)\n",
    "\n",
    "# 4. Prediction\n",
    "prediction = pipeline.predict_proba(X_test)[:,1]\n",
    "fpr, tpr, thresholds = roc_curve(y_test, prediction)\n",
    "auc_def = round(auc(fpr, tpr),5)\n",
    "print('AUC: ', auc_def)\n",
    "\n",
    "# 5. Prediction + threshold\n",
    "threshold = 0.1\n",
    "prediction = np.where(prediction < threshold, 0, 1)\n",
    "print('confusion_matrix: \\n',confusion_matrix(y_test, prediction))\n",
    "\n",
    "# 6. Save results\n",
    "res_tab[model_name] = auc_def"
   ]
  },
  {
   "cell_type": "markdown",
   "metadata": {},
   "source": [
    "#### SGD"
   ]
  },
  {
   "cell_type": "code",
   "execution_count": 37,
   "metadata": {
    "ExecuteTime": {
     "end_time": "2023-01-25T22:35:06.045495Z",
     "start_time": "2023-01-25T22:35:05.972244Z"
    }
   },
   "outputs": [
    {
     "name": "stdout",
     "output_type": "stream",
     "text": [
      "AUC:  0.49032\n",
      "confusion_matrix: \n",
      " [[438  16]\n",
      " [ 62   1]]\n"
     ]
    }
   ],
   "source": [
    "# 1. Model name\n",
    "model_name = 'SGD'\n",
    "\n",
    "# 2. Determine model\n",
    "pipeline = make_pipeline(StandardScaler(), SGDClassifier(random_state=5))\n",
    "\n",
    "# 3. Train model\n",
    "pipeline.fit(X_train,y_train)\n",
    "\n",
    "# 4. Prediction\n",
    "prediction = pipeline.predict(X_test)\n",
    "fpr, tpr, thresholds = roc_curve(y_test, prediction)\n",
    "auc_def = round(auc(fpr, tpr),5)\n",
    "print('AUC: ', auc_def)\n",
    "\n",
    "# 5. Prediction + threshold\n",
    "threshold = 0.1\n",
    "prediction = np.where(prediction < threshold, 0, 1)\n",
    "print('confusion_matrix: \\n',confusion_matrix(y_test, prediction))\n",
    "\n",
    "# 6. Save results\n",
    "res_tab[model_name] = auc_def"
   ]
  },
  {
   "cell_type": "markdown",
   "metadata": {},
   "source": [
    "#### SVM"
   ]
  },
  {
   "cell_type": "code",
   "execution_count": 38,
   "metadata": {
    "ExecuteTime": {
     "end_time": "2023-01-25T22:35:06.902557Z",
     "start_time": "2023-01-25T22:35:06.051497Z"
    }
   },
   "outputs": [
    {
     "name": "stdout",
     "output_type": "stream",
     "text": [
      "AUC:  0.64079\n",
      "confusion_matrix: \n",
      " [[128 326]\n",
      " [  5  58]]\n"
     ]
    }
   ],
   "source": [
    "# 1. Model name\n",
    "model_name = 'SVM'\n",
    "\n",
    "# 2. Determine model\n",
    "pipeline = make_pipeline(StandardScaler(), SVC(random_state=5, probability=True))\n",
    "\n",
    "# 3. Train model\n",
    "pipeline.fit(X_train,y_train)\n",
    "\n",
    "# 4. Prediction\n",
    "prediction = pipeline.predict_proba(X_test)[:, 1]\n",
    "fpr, tpr, thresholds = roc_curve(y_test, prediction)\n",
    "auc_def = round(auc(fpr, tpr),5)\n",
    "print('AUC: ', auc_def)\n",
    "\n",
    "# 5. Prediction + threshold\n",
    "threshold = 0.1\n",
    "prediction = np.where(prediction < threshold, 0, 1)\n",
    "print('confusion_matrix: \\n',confusion_matrix(y_test, prediction))\n",
    "\n",
    "# 6. Save results\n",
    "res_tab[model_name] = auc_def"
   ]
  },
  {
   "cell_type": "markdown",
   "metadata": {},
   "source": [
    "#### Result Table"
   ]
  },
  {
   "cell_type": "code",
   "execution_count": 39,
   "metadata": {
    "ExecuteTime": {
     "end_time": "2023-01-25T22:35:06.948508Z",
     "start_time": "2023-01-25T22:35:06.909545Z"
    }
   },
   "outputs": [
    {
     "data": {
      "text/html": [
       "<div>\n",
       "<style scoped>\n",
       "    .dataframe tbody tr th:only-of-type {\n",
       "        vertical-align: middle;\n",
       "    }\n",
       "\n",
       "    .dataframe tbody tr th {\n",
       "        vertical-align: top;\n",
       "    }\n",
       "\n",
       "    .dataframe thead th {\n",
       "        text-align: right;\n",
       "    }\n",
       "</style>\n",
       "<table border=\"1\" class=\"dataframe\">\n",
       "  <thead>\n",
       "    <tr style=\"text-align: right;\">\n",
       "      <th></th>\n",
       "      <th>AUC_default_models</th>\n",
       "    </tr>\n",
       "  </thead>\n",
       "  <tbody>\n",
       "    <tr>\n",
       "      <th>Random_Forest</th>\n",
       "      <td>0.74953</td>\n",
       "    </tr>\n",
       "    <tr>\n",
       "      <th>Logit</th>\n",
       "      <td>0.72764</td>\n",
       "    </tr>\n",
       "    <tr>\n",
       "      <th>SVM</th>\n",
       "      <td>0.64079</td>\n",
       "    </tr>\n",
       "    <tr>\n",
       "      <th>Decision_Tree</th>\n",
       "      <td>0.57150</td>\n",
       "    </tr>\n",
       "    <tr>\n",
       "      <th>SGD</th>\n",
       "      <td>0.49032</td>\n",
       "    </tr>\n",
       "  </tbody>\n",
       "</table>\n",
       "</div>"
      ],
      "text/plain": [
       "               AUC_default_models\n",
       "Random_Forest             0.74953\n",
       "Logit                     0.72764\n",
       "SVM                       0.64079\n",
       "Decision_Tree             0.57150\n",
       "SGD                       0.49032"
      ]
     },
     "execution_count": 39,
     "metadata": {},
     "output_type": "execute_result"
    }
   ],
   "source": [
    "res_tab_df = (pd.DataFrame.from_dict(res_tab, orient='index')\n",
    "              .rename(columns = {0:'AUC_default_models'})\n",
    "              .sort_values('AUC_default_models', ascending = False)\n",
    ")\n",
    "res_tab_df"
   ]
  },
  {
   "cell_type": "code",
   "execution_count": 41,
   "metadata": {
    "ExecuteTime": {
     "end_time": "2023-01-25T22:35:07.417198Z",
     "start_time": "2023-01-25T22:35:07.003130Z"
    }
   },
   "outputs": [
    {
     "data": {
      "image/png": "[encoded data removed]",
      "text/plain": [
       "<Figure size 640x480 with 1 Axes>"
      ]
     },
     "metadata": {},
     "output_type": "display_data"
    }
   ],
   "source": [
    "sns.barplot(data=res_tab_df.reset_index().rename(columns = {'index': 'models'}), x='models', y='AUC_default_models')\n",
    "plt.show()"
   ]
  },
  {
   "cell_type": "code",
   "execution_count": 42,
   "metadata": {
    "ExecuteTime": {
     "end_time": "2023-01-25T22:35:07.447250Z",
     "start_time": "2023-01-25T22:35:07.425195Z"
    }
   },
   "outputs": [],
   "source": [
    "# The best default model is Random Forest"
   ]
  },
  {
   "cell_type": "markdown",
   "metadata": {},
   "source": [
    "### Model Tunning"
   ]
  },
  {
   "cell_type": "code",
   "execution_count": 43,
   "metadata": {
    "ExecuteTime": {
     "end_time": "2023-01-25T22:35:07.478361Z",
     "start_time": "2023-01-25T22:35:07.456198Z"
    }
   },
   "outputs": [],
   "source": [
    "# Create result dictionary for tuned models\n",
    "res_tab_tuned = {}"
   ]
  },
  {
   "cell_type": "markdown",
   "metadata": {
    "ExecuteTime": {
     "end_time": "2023-01-22T22:50:53.280172Z",
     "start_time": "2023-01-22T22:50:53.260163Z"
    }
   },
   "source": [
    "#### LogisticRegression"
   ]
  },
  {
   "cell_type": "code",
   "execution_count": 44,
   "metadata": {
    "ExecuteTime": {
     "end_time": "2023-01-25T22:35:20.284594Z",
     "start_time": "2023-01-25T22:35:07.485234Z"
    }
   },
   "outputs": [
    {
     "name": "stdout",
     "output_type": "stream",
     "text": [
      "GS_best_param:  {'logisticregression__C': 0.01, 'logisticregression__penalty': 'l2', 'logisticregression__solver': 'liblinear', 'logisticregression__tol': 0.001}\n",
      "AUC:  0.74942\n"
     ]
    }
   ],
   "source": [
    "# 1. Model_name\n",
    "model_name = 'Logit'\n",
    "\n",
    "# 2. Determine model\n",
    "pipeline = make_pipeline(StandardScaler(), \n",
    "                           LogisticRegression(random_state=5)\n",
    "                        )\n",
    "# 3. Create the parameter grid\n",
    "param_grid = [{\n",
    "    'logisticregression__penalty': ['l2', 'l1', 'elasticnet', None],\n",
    "    'logisticregression__C': [0.001, 0.01, 0.05, 0.1, 0.5, 1.0, 10.0],\n",
    "    'logisticregression__solver': ['lbfgs', 'liblinear', 'newton-cg', 'saga'],\n",
    "    'logisticregression__tol' : [1e-3, 1e-4]\n",
    "}]\n",
    "\n",
    "# 4. Create an instance of GridSearch Cross-validation estimator\n",
    "gs = GridSearchCV(estimator=pipeline,\n",
    "                     param_grid = param_grid,\n",
    "                     scoring='roc_auc',\n",
    "                     cv=5,\n",
    "                     refit = True,\n",
    "                     n_jobs=-1)\n",
    "\n",
    "# 5. Train the LogisticRegression Classifier\n",
    "gs_res = gs.fit(X_train, y_train)\n",
    "print('GS_best_param: ', gs_res.best_params_)\n",
    "\n",
    "# 6. Quality metric and saving result\n",
    "model = gs_res.best_estimator_\n",
    "prediction = model.predict_proba(X_test)[:,1]\n",
    "fpr, tpr, thresholds = roc_curve(y_test, prediction)\n",
    "auc_res = round(auc(fpr, tpr),5)\n",
    "print('AUC: ', auc_res)\n",
    "\n",
    "# 7. Save the result\n",
    "res_tab_tuned[model_name] = auc_res"
   ]
  },
  {
   "cell_type": "markdown",
   "metadata": {
    "ExecuteTime": {
     "end_time": "2023-01-22T22:50:53.280172Z",
     "start_time": "2023-01-22T22:50:53.260163Z"
    }
   },
   "source": [
    "#### Decision Tree"
   ]
  },
  {
   "cell_type": "code",
   "execution_count": 45,
   "metadata": {
    "ExecuteTime": {
     "end_time": "2023-01-25T22:35:32.165963Z",
     "start_time": "2023-01-25T22:35:20.290558Z"
    }
   },
   "outputs": [
    {
     "name": "stdout",
     "output_type": "stream",
     "text": [
      "GS_best_param:  {'decisiontreeclassifier__criterion': 'entropy', 'decisiontreeclassifier__max_leaf_nodes': 6, 'decisiontreeclassifier__min_samples_split': 2, 'decisiontreeclassifier__splitter': 'random'}\n",
      "AUC:  0.72186\n"
     ]
    }
   ],
   "source": [
    "# 1. Model_name\n",
    "model_name = 'Decision_Tree'\n",
    "\n",
    "# 2. Determine model\n",
    "scal = StandardScaler()\n",
    "method = DecisionTreeClassifier(random_state=5)\n",
    "\n",
    "pipeline = make_pipeline(\n",
    "                        scal, \n",
    "                        method\n",
    "                        )\n",
    "# 3. Create the parameter grid\n",
    "param_grid = [{\n",
    "    'decisiontreeclassifier__criterion': ['gini', 'entropy', 'log_loss'],\n",
    "    'decisiontreeclassifier__splitter': ['best', 'random'],\n",
    "    'decisiontreeclassifier__max_leaf_nodes': list(range(2, 50, 2)),\n",
    "    'decisiontreeclassifier__min_samples_split': [2, 3, 5,10],\n",
    "}]\n",
    "\n",
    "# 4. Create an instance of GridSearch Cross-validation estimator\n",
    "gs = GridSearchCV(estimator=pipeline,\n",
    "                     param_grid = param_grid,\n",
    "                     scoring='roc_auc',\n",
    "                     cv=5,\n",
    "                     refit = True,\n",
    "                     n_jobs=-1)\n",
    "\n",
    "# 5. Train the LogisticRegression Classifier\n",
    "gs_res = gs.fit(X_train, y_train)\n",
    "print('GS_best_param: ', gs_res.best_params_)\n",
    "\n",
    "# 6. Quality metric and saving result\n",
    "model = gs_res.best_estimator_\n",
    "prediction = model.predict_proba(X_test)[:,1]\n",
    "fpr, tpr, thresholds = roc_curve(y_test, prediction)\n",
    "auc_res = round(auc(fpr, tpr),5)\n",
    "print('AUC: ', auc_res)\n",
    "\n",
    "# 7. Save the result\n",
    "res_tab_tuned[model_name] = auc_res"
   ]
  },
  {
   "cell_type": "markdown",
   "metadata": {
    "ExecuteTime": {
     "end_time": "2023-01-22T22:50:53.280172Z",
     "start_time": "2023-01-22T22:50:53.260163Z"
    }
   },
   "source": [
    "#### Random Forest"
   ]
  },
  {
   "cell_type": "code",
   "execution_count": 46,
   "metadata": {
    "ExecuteTime": {
     "end_time": "2023-01-25T22:36:45.963567Z",
     "start_time": "2023-01-25T22:35:32.172509Z"
    }
   },
   "outputs": [
    {
     "name": "stdout",
     "output_type": "stream",
     "text": [
      "GS_best_param:  {'randomforestclassifier__criterion': 'gini', 'randomforestclassifier__max_depth': 6, 'randomforestclassifier__max_features': 7, 'randomforestclassifier__n_estimators': 100}\n",
      "AUC:  0.77037\n"
     ]
    }
   ],
   "source": [
    "# 1. Model_name\n",
    "model_name = 'Random_Forest'\n",
    "\n",
    "# 2. Determine model\n",
    "scal = StandardScaler()\n",
    "method = RandomForestClassifier(random_state=5)\n",
    "\n",
    "pipeline = make_pipeline(\n",
    "                        scal, \n",
    "                        method\n",
    "                        )\n",
    "# 3. Create the parameter grid\n",
    "param_grid = [{\n",
    "    'randomforestclassifier__max_depth': range(2, 10, 2),\n",
    "    'randomforestclassifier__max_features':[2, 3, 4, 7, 10, None],\n",
    "    'randomforestclassifier__n_estimators':[10, 50, 100, 500],\n",
    "    'randomforestclassifier__criterion': ['gini', 'entropy', 'log_loss']\n",
    "}]\n",
    "\n",
    "# 4. Create an instance of GridSearch Cross-validation estimator\n",
    "gs = GridSearchCV(estimator=pipeline,\n",
    "                     param_grid = param_grid,\n",
    "                     scoring='roc_auc',\n",
    "                     cv=5,\n",
    "                     refit = True,\n",
    "                     n_jobs=-1)\n",
    "\n",
    "# 5. Train the LogisticRegression Classifier\n",
    "gs_res = gs.fit(X_train, y_train)\n",
    "print('GS_best_param: ', gs_res.best_params_)\n",
    "\n",
    "# 6. Quality metric and saving result\n",
    "model = gs_res.best_estimator_\n",
    "prediction = model.predict_proba(X_test)[:,1]\n",
    "fpr, tpr, thresholds = roc_curve(y_test, prediction)\n",
    "auc_res = round(auc(fpr, tpr),5)\n",
    "print('AUC: ', auc_res)\n",
    "\n",
    "# 7. Save the result\n",
    "res_tab_tuned[model_name] = auc_res"
   ]
  },
  {
   "cell_type": "markdown",
   "metadata": {
    "ExecuteTime": {
     "end_time": "2023-01-22T22:50:53.280172Z",
     "start_time": "2023-01-22T22:50:53.260163Z"
    }
   },
   "source": [
    "#### SGD"
   ]
  },
  {
   "cell_type": "code",
   "execution_count": 47,
   "metadata": {
    "ExecuteTime": {
     "end_time": "2023-01-25T22:36:53.876143Z",
     "start_time": "2023-01-25T22:36:45.966152Z"
    }
   },
   "outputs": [
    {
     "name": "stdout",
     "output_type": "stream",
     "text": [
      "GS_best_param:  {'sgdclassifier__alpha': 0.1, 'sgdclassifier__loss': 'modified_huber', 'sgdclassifier__penalty': 'l2', 'sgdclassifier__tol': 0.0001}\n",
      "AUC:  0.73477\n"
     ]
    }
   ],
   "source": [
    "# 1. Model_name\n",
    "model_name = 'SGD'\n",
    "\n",
    "# 2. Determine model\n",
    "scal = StandardScaler()\n",
    "method = SGDClassifier(random_state=5)\n",
    "\n",
    "pipeline = make_pipeline(\n",
    "                        scal, \n",
    "                        method\n",
    "                        )\n",
    "# 3. Create the parameter grid\n",
    "param_grid = [{\n",
    "    'sgdclassifier__alpha':[0.0001, 0.001, 0.01, 0.1],\n",
    "    'sgdclassifier__loss':['hinge', 'log_loss', 'modified_huber', 'squared_hinge'],\n",
    "    'sgdclassifier__penalty': ['l2', 'l1', 'elasticnet', None],\n",
    "    'sgdclassifier__tol' : [0.001, 0.0001]\n",
    "    #'sgdclassifier__max_iter':[1000, 10000, 100000]\n",
    "}]\n",
    "\n",
    "# 4. Create an instance of GridSearch Cross-validation estimator\n",
    "gs = GridSearchCV(estimator=pipeline,\n",
    "                     param_grid = param_grid,\n",
    "                     scoring='roc_auc',\n",
    "                     cv=5,\n",
    "                     refit = True,\n",
    "                     n_jobs=-1)\n",
    "\n",
    "# 5. Train the LogisticRegression Classifier\n",
    "gs_res = gs.fit(X_train, y_train)\n",
    "print('GS_best_param: ', gs_res.best_params_)\n",
    "\n",
    "# 6. Quality metric and saving result\n",
    "model = gs_res.best_estimator_\n",
    "prediction = model.predict_proba(X_test)[:,1]\n",
    "fpr, tpr, thresholds = roc_curve(y_test, prediction)\n",
    "auc_res = round(auc(fpr, tpr),5)\n",
    "print('AUC: ', auc_res)\n",
    "\n",
    "# 7. Save the result\n",
    "res_tab_tuned[model_name] = auc_res"
   ]
  },
  {
   "cell_type": "markdown",
   "metadata": {
    "ExecuteTime": {
     "end_time": "2023-01-22T22:50:53.280172Z",
     "start_time": "2023-01-22T22:50:53.260163Z"
    }
   },
   "source": [
    "#### SVM"
   ]
  },
  {
   "cell_type": "code",
   "execution_count": 48,
   "metadata": {
    "ExecuteTime": {
     "end_time": "2023-01-25T22:38:58.313694Z",
     "start_time": "2023-01-25T22:36:53.880146Z"
    }
   },
   "outputs": [
    {
     "name": "stdout",
     "output_type": "stream",
     "text": [
      "GS_best_param:  {'svc__C': 1000, 'svc__degree': 3, 'svc__gamma': 0.0001, 'svc__kernel': 'sigmoid', 'svc__tol': 0.001}\n",
      "AUC:  0.62076\n"
     ]
    }
   ],
   "source": [
    "# 1. Model_name\n",
    "model_name = 'SVM'\n",
    "\n",
    "# 2. Determine model\n",
    "scal = StandardScaler()\n",
    "method = SVC(random_state=5, probability = True)\n",
    "\n",
    "pipeline = make_pipeline(\n",
    "                        scal, \n",
    "                        method\n",
    "                        )\n",
    "# 3. Create the parameter grid\n",
    "param_grid = [{\n",
    "    'svc__C':[0.1, 1, 10, 100, 1000],\n",
    "    'svc__kernel': ['poly', 'rbf', 'sigmoid'],\n",
    "    'svc__degree': [3, 4, 5],\n",
    "    'svc__gamma':[0.1, 0.01, 0.001, 0.0001],\n",
    "    'svc__tol': [1e-3, 1e-4]\n",
    "}]\n",
    "\n",
    "# 4. Create an instance of GridSearch Cross-validation estimator\n",
    "gs = GridSearchCV(estimator=pipeline,\n",
    "                     param_grid = param_grid,\n",
    "                     scoring='roc_auc',\n",
    "                     cv=5,\n",
    "                     refit = True,\n",
    "                     n_jobs=-1)\n",
    "\n",
    "# 5. Train the LogisticRegression Classifier\n",
    "gs_res = gs.fit(X_train, y_train)\n",
    "print('GS_best_param: ', gs_res.best_params_)\n",
    "\n",
    "# 6. Quality metric and saving result\n",
    "model = gs_res.best_estimator_\n",
    "prediction = model.predict_proba(X_test)[:,1]\n",
    "fpr, tpr, thresholds = roc_curve(y_test, prediction)\n",
    "auc_res = round(auc(fpr, tpr),5)\n",
    "print('AUC: ', auc_res)\n",
    "\n",
    "# 7. Save the result\n",
    "res_tab_tuned[model_name] = auc_res"
   ]
  },
  {
   "cell_type": "markdown",
   "metadata": {},
   "source": [
    "#### Result Table"
   ]
  },
  {
   "cell_type": "code",
   "execution_count": 49,
   "metadata": {
    "ExecuteTime": {
     "end_time": "2023-01-25T22:38:58.329698Z",
     "start_time": "2023-01-25T22:38:58.317696Z"
    }
   },
   "outputs": [
    {
     "data": {
      "text/html": [
       "<div>\n",
       "<style scoped>\n",
       "    .dataframe tbody tr th:only-of-type {\n",
       "        vertical-align: middle;\n",
       "    }\n",
       "\n",
       "    .dataframe tbody tr th {\n",
       "        vertical-align: top;\n",
       "    }\n",
       "\n",
       "    .dataframe thead th {\n",
       "        text-align: right;\n",
       "    }\n",
       "</style>\n",
       "<table border=\"1\" class=\"dataframe\">\n",
       "  <thead>\n",
       "    <tr style=\"text-align: right;\">\n",
       "      <th></th>\n",
       "      <th>AUC_tuned_models</th>\n",
       "    </tr>\n",
       "  </thead>\n",
       "  <tbody>\n",
       "    <tr>\n",
       "      <th>Random_Forest</th>\n",
       "      <td>0.77037</td>\n",
       "    </tr>\n",
       "    <tr>\n",
       "      <th>Logit</th>\n",
       "      <td>0.74942</td>\n",
       "    </tr>\n",
       "    <tr>\n",
       "      <th>SGD</th>\n",
       "      <td>0.73477</td>\n",
       "    </tr>\n",
       "    <tr>\n",
       "      <th>Decision_Tree</th>\n",
       "      <td>0.72186</td>\n",
       "    </tr>\n",
       "    <tr>\n",
       "      <th>SVM</th>\n",
       "      <td>0.62076</td>\n",
       "    </tr>\n",
       "  </tbody>\n",
       "</table>\n",
       "</div>"
      ],
      "text/plain": [
       "               AUC_tuned_models\n",
       "Random_Forest           0.77037\n",
       "Logit                   0.74942\n",
       "SGD                     0.73477\n",
       "Decision_Tree           0.72186\n",
       "SVM                     0.62076"
      ]
     },
     "execution_count": 49,
     "metadata": {},
     "output_type": "execute_result"
    }
   ],
   "source": [
    "res_tab_tuned_df = (pd.DataFrame.from_dict(res_tab_tuned, orient='index')\n",
    "              .rename(columns = {0:'AUC_tuned_models'})\n",
    "              .sort_values('AUC_tuned_models', ascending = False)\n",
    ")\n",
    "res_tab_tuned_df"
   ]
  },
  {
   "cell_type": "code",
   "execution_count": 50,
   "metadata": {
    "ExecuteTime": {
     "end_time": "2023-01-25T22:38:58.361731Z",
     "start_time": "2023-01-25T22:38:58.333704Z"
    }
   },
   "outputs": [],
   "source": [
    "# Conclusions:\n",
    "# The best mode is Random Forest, with:\n",
    "# criterion = gini\n",
    "# max_depth = 6\n",
    "# max_features = 7\n",
    "# n_estimators = 100"
   ]
  },
  {
   "cell_type": "markdown",
   "metadata": {},
   "source": [
    "#### Default vs Tuned Models"
   ]
  },
  {
   "cell_type": "code",
   "execution_count": 51,
   "metadata": {
    "ExecuteTime": {
     "end_time": "2023-01-25T22:38:58.377695Z",
     "start_time": "2023-01-25T22:38:58.364697Z"
    }
   },
   "outputs": [
    {
     "data": {
      "text/html": [
       "<div>\n",
       "<style scoped>\n",
       "    .dataframe tbody tr th:only-of-type {\n",
       "        vertical-align: middle;\n",
       "    }\n",
       "\n",
       "    .dataframe tbody tr th {\n",
       "        vertical-align: top;\n",
       "    }\n",
       "\n",
       "    .dataframe thead th {\n",
       "        text-align: right;\n",
       "    }\n",
       "</style>\n",
       "<table border=\"1\" class=\"dataframe\">\n",
       "  <thead>\n",
       "    <tr style=\"text-align: right;\">\n",
       "      <th></th>\n",
       "      <th>AUC_default_models</th>\n",
       "      <th>AUC_tuned_models</th>\n",
       "    </tr>\n",
       "  </thead>\n",
       "  <tbody>\n",
       "    <tr>\n",
       "      <th>Random_Forest</th>\n",
       "      <td>0.74953</td>\n",
       "      <td>0.77037</td>\n",
       "    </tr>\n",
       "    <tr>\n",
       "      <th>Logit</th>\n",
       "      <td>0.72764</td>\n",
       "      <td>0.74942</td>\n",
       "    </tr>\n",
       "    <tr>\n",
       "      <th>SVM</th>\n",
       "      <td>0.64079</td>\n",
       "      <td>0.62076</td>\n",
       "    </tr>\n",
       "    <tr>\n",
       "      <th>Decision_Tree</th>\n",
       "      <td>0.57150</td>\n",
       "      <td>0.72186</td>\n",
       "    </tr>\n",
       "    <tr>\n",
       "      <th>SGD</th>\n",
       "      <td>0.49032</td>\n",
       "      <td>0.73477</td>\n",
       "    </tr>\n",
       "  </tbody>\n",
       "</table>\n",
       "</div>"
      ],
      "text/plain": [
       "               AUC_default_models  AUC_tuned_models\n",
       "Random_Forest             0.74953           0.77037\n",
       "Logit                     0.72764           0.74942\n",
       "SVM                       0.64079           0.62076\n",
       "Decision_Tree             0.57150           0.72186\n",
       "SGD                       0.49032           0.73477"
      ]
     },
     "execution_count": 51,
     "metadata": {},
     "output_type": "execute_result"
    }
   ],
   "source": [
    "combined_results_df = pd.concat((res_tab_df, res_tab_tuned_df), axis=1)\n",
    "combined_results_df"
   ]
  },
  {
   "cell_type": "code",
   "execution_count": 53,
   "metadata": {
    "ExecuteTime": {
     "end_time": "2023-01-25T22:39:11.485600Z",
     "start_time": "2023-01-25T22:39:11.107732Z"
    }
   },
   "outputs": [
    {
     "data": {
      "image/png": "[encoded data removed]",
      "text/plain": [
       "<Figure size 640x500 with 1 Axes>"
      ]
     },
     "metadata": {},
     "output_type": "display_data"
    }
   ],
   "source": [
    "combined_results_df_reshaped = pd.melt(combined_results_df.reset_index().rename(columns = {'index': 'models'}), id_vars='models', var_name='model_types', value_name='AUC')\n",
    "sns.catplot(data=combined_results_df_reshaped, x='models', y='AUC', hue='model_types', kind='bar')\n",
    "plt.show()"
   ]
  },
  {
   "cell_type": "code",
   "execution_count": 54,
   "metadata": {
    "ExecuteTime": {
     "end_time": "2023-01-25T22:39:19.315021Z",
     "start_time": "2023-01-25T22:39:19.300022Z"
    }
   },
   "outputs": [],
   "source": [
    "# Observations:\n",
    "# All of the models attained better AUC results excetp SVM"
   ]
  },
  {
   "cell_type": "code",
   "execution_count": 55,
   "metadata": {
    "ExecuteTime": {
     "end_time": "2023-01-25T22:39:22.073364Z",
     "start_time": "2023-01-25T22:39:21.886337Z"
    }
   },
   "outputs": [
    {
     "name": "stdout",
     "output_type": "stream",
     "text": [
      "AUC:  0.77\n",
      "confusion_matrix: \n",
      " [[358  96]\n",
      " [ 28  35]]\n"
     ]
    }
   ],
   "source": [
    "# Fit best model\n",
    "# 1. Fit model\n",
    "model = RandomForestClassifier(random_state=5,\n",
    "                               criterion='gini',\n",
    "                               max_depth = 6,\n",
    "                               max_features = 7,\n",
    "                               n_estimators = 100\n",
    "                              )\n",
    "pipeline = make_pipeline(StandardScaler(), model)\n",
    "pipeline.fit(X_train, y_train)\n",
    "\n",
    "# 2. Prediction\n",
    "prediction_prob = pipeline.predict_proba(X_test)[:,1]\n",
    "fpr, tpr, thresholds = roc_curve(y_test, prediction_prob)\n",
    "auc_def = round(auc(fpr, tpr),3)\n",
    "print('AUC: ', auc_def)\n",
    "\n",
    "# 3. Prediction + threshold\n",
    "threshold = 0.15\n",
    "prediction = np.where(prediction_prob < threshold, 0, 1)\n",
    "print('confusion_matrix: \\n',confusion_matrix(y_test, prediction))"
   ]
  },
  {
   "cell_type": "markdown",
   "metadata": {},
   "source": [
    "#### Threshold Analysis"
   ]
  },
  {
   "cell_type": "code",
   "execution_count": 56,
   "metadata": {
    "ExecuteTime": {
     "end_time": "2023-01-25T22:39:25.905441Z",
     "start_time": "2023-01-25T22:39:25.520404Z"
    }
   },
   "outputs": [
    {
     "data": {
      "image/png": "[encoded data removed]",
      "text/plain": [
       "<Figure size 640x480 with 1 Axes>"
      ]
     },
     "metadata": {},
     "output_type": "display_data"
    }
   ],
   "source": [
    "# 1. table with recall, precision, f1 score\n",
    "rec_prec_threshold = pd.DataFrame(\n",
    "    {'threshold':np.arange(0.01, 0.3, 0.01),\n",
    "     'Recall':np.nan,\n",
    "     'Precision': np.nan,\n",
    "     'F1_score': np.nan\n",
    "    } )\n",
    "\n",
    "# 2. Main calculation\n",
    "for i in range(len(rec_prec_threshold)):\n",
    "    prediction = np.where(prediction_prob < rec_prec_threshold['threshold'][i], 0, 1)\n",
    "    rec_prec_threshold['Recall'][i]  = round(recall_score(y_pred=prediction, y_true=y_test),2)\n",
    "    rec_prec_threshold['Precision'][i]  = round(precision_score(y_pred=prediction, y_true=y_test),2)\n",
    "    rec_prec_threshold['F1_score'][i] = round(f1_score(y_pred=prediction, y_true=y_test), 2)\n",
    "\n",
    "# 3. Plot\n",
    "x = rec_prec_threshold.threshold\n",
    "y  = rec_prec_threshold.Recall\n",
    "z = rec_prec_threshold.Precision\n",
    "w = rec_prec_threshold.F1_score\n",
    "plt.plot(x, y)\n",
    "plt.plot(x, z)\n",
    "plt.plot(x, w)\n",
    "plt.legend(['Recall','Precision', 'F1 Score'], shadow = True, loc = 1)\n",
    "plt.xlabel('Threshold')\n",
    "plt.ylabel('Metrics');"
   ]
  },
  {
   "cell_type": "code",
   "execution_count": 57,
   "metadata": {
    "ExecuteTime": {
     "end_time": "2023-01-25T22:39:30.014092Z",
     "start_time": "2023-01-25T22:39:29.995084Z"
    }
   },
   "outputs": [],
   "source": [
    "# Selecting the threshold is a trade-off between Recall and Precision\n",
    "# Highest f1 score is at threshold = 0.16"
   ]
  },
  {
   "cell_type": "markdown",
   "metadata": {},
   "source": [
    "### Feature selection"
   ]
  },
  {
   "cell_type": "code",
   "execution_count": 60,
   "metadata": {
    "ExecuteTime": {
     "end_time": "2023-01-25T22:55:47.446680Z",
     "start_time": "2023-01-25T22:41:23.575328Z"
    }
   },
   "outputs": [
    {
     "name": "stderr",
     "output_type": "stream",
     "text": [
      "100%|█████████████████████████████████████████████████████████████████████████████████████████████████████████████████████████████████████████████████████████████████████████████| 34/34 [14:23<00:00, 25.41s/it]\n"
     ]
    }
   ],
   "source": [
    "num_feat_auc = {}\n",
    "for i in tqdm(range(7, X_train.shape[1])):\n",
    "# for i in [5,15,25,35,41]:\n",
    "    rfe_support, rfe_feature = rfe_selector(X_train, y_train, num_feats=i)\n",
    "    \n",
    "    model = RandomForestClassifier(random_state=5,\n",
    "                                   criterion='gini',\n",
    "                                   max_depth = 6,\n",
    "                                   max_features = 7,\n",
    "                                   n_estimators = 100,\n",
    "#                                    n_jobs=-1\n",
    "                                  )\n",
    "    model.fit(X_train[rfe_feature],y_train)\n",
    "\n",
    "    # 2. Prediction\n",
    "    prediction_prob = model.predict_proba(X_test[rfe_feature])[:,1]\n",
    "    fpr, tpr, thresholds = roc_curve(y_test, prediction_prob)\n",
    "    auc_def = auc(fpr, tpr)\n",
    "    \n",
    "    num_feat_auc[i] = auc_def"
   ]
  },
  {
   "cell_type": "code",
   "execution_count": 63,
   "metadata": {
    "ExecuteTime": {
     "end_time": "2023-01-25T22:56:38.072083Z",
     "start_time": "2023-01-25T22:56:37.787059Z"
    }
   },
   "outputs": [
    {
     "data": {
      "text/html": [
       "<div>\n",
       "<style scoped>\n",
       "    .dataframe tbody tr th:only-of-type {\n",
       "        vertical-align: middle;\n",
       "    }\n",
       "\n",
       "    .dataframe tbody tr th {\n",
       "        vertical-align: top;\n",
       "    }\n",
       "\n",
       "    .dataframe thead th {\n",
       "        text-align: right;\n",
       "    }\n",
       "</style>\n",
       "<table border=\"1\" class=\"dataframe\">\n",
       "  <thead>\n",
       "    <tr style=\"text-align: right;\">\n",
       "      <th></th>\n",
       "      <th>AUC</th>\n",
       "    </tr>\n",
       "    <tr>\n",
       "      <th>number_features</th>\n",
       "      <th></th>\n",
       "    </tr>\n",
       "  </thead>\n",
       "  <tbody>\n",
       "    <tr>\n",
       "      <th>7</th>\n",
       "      <td>0.722887</td>\n",
       "    </tr>\n",
       "    <tr>\n",
       "      <th>8</th>\n",
       "      <td>0.733445</td>\n",
       "    </tr>\n",
       "    <tr>\n",
       "      <th>9</th>\n",
       "      <td>0.711768</td>\n",
       "    </tr>\n",
       "    <tr>\n",
       "      <th>10</th>\n",
       "      <td>0.719320</td>\n",
       "    </tr>\n",
       "    <tr>\n",
       "      <th>11</th>\n",
       "      <td>0.733585</td>\n",
       "    </tr>\n",
       "    <tr>\n",
       "      <th>12</th>\n",
       "      <td>0.744983</td>\n",
       "    </tr>\n",
       "    <tr>\n",
       "      <th>13</th>\n",
       "      <td>0.736382</td>\n",
       "    </tr>\n",
       "    <tr>\n",
       "      <th>14</th>\n",
       "      <td>0.735193</td>\n",
       "    </tr>\n",
       "    <tr>\n",
       "      <th>15</th>\n",
       "      <td>0.752954</td>\n",
       "    </tr>\n",
       "    <tr>\n",
       "      <th>16</th>\n",
       "      <td>0.750192</td>\n",
       "    </tr>\n",
       "    <tr>\n",
       "      <th>17</th>\n",
       "      <td>0.753374</td>\n",
       "    </tr>\n",
       "    <tr>\n",
       "      <th>18</th>\n",
       "      <td>0.753444</td>\n",
       "    </tr>\n",
       "    <tr>\n",
       "      <th>19</th>\n",
       "      <td>0.764737</td>\n",
       "    </tr>\n",
       "    <tr>\n",
       "      <th>20</th>\n",
       "      <td>0.761345</td>\n",
       "    </tr>\n",
       "    <tr>\n",
       "      <th>21</th>\n",
       "      <td>0.754248</td>\n",
       "    </tr>\n",
       "    <tr>\n",
       "      <th>22</th>\n",
       "      <td>0.752150</td>\n",
       "    </tr>\n",
       "    <tr>\n",
       "      <th>23</th>\n",
       "      <td>0.757674</td>\n",
       "    </tr>\n",
       "    <tr>\n",
       "      <th>24</th>\n",
       "      <td>0.748969</td>\n",
       "    </tr>\n",
       "    <tr>\n",
       "      <th>25</th>\n",
       "      <td>0.765995</td>\n",
       "    </tr>\n",
       "    <tr>\n",
       "      <th>26</th>\n",
       "      <td>0.763478</td>\n",
       "    </tr>\n",
       "    <tr>\n",
       "      <th>27</th>\n",
       "      <td>0.763793</td>\n",
       "    </tr>\n",
       "    <tr>\n",
       "      <th>28</th>\n",
       "      <td>0.755646</td>\n",
       "    </tr>\n",
       "    <tr>\n",
       "      <th>29</th>\n",
       "      <td>0.759422</td>\n",
       "    </tr>\n",
       "    <tr>\n",
       "      <th>30</th>\n",
       "      <td>0.766415</td>\n",
       "    </tr>\n",
       "    <tr>\n",
       "      <th>31</th>\n",
       "      <td>0.758758</td>\n",
       "    </tr>\n",
       "    <tr>\n",
       "      <th>32</th>\n",
       "      <td>0.760716</td>\n",
       "    </tr>\n",
       "    <tr>\n",
       "      <th>33</th>\n",
       "      <td>0.760541</td>\n",
       "    </tr>\n",
       "    <tr>\n",
       "      <th>34</th>\n",
       "      <td>0.762289</td>\n",
       "    </tr>\n",
       "    <tr>\n",
       "      <th>35</th>\n",
       "      <td>0.767604</td>\n",
       "    </tr>\n",
       "    <tr>\n",
       "      <th>36</th>\n",
       "      <td>0.773582</td>\n",
       "    </tr>\n",
       "    <tr>\n",
       "      <th>37</th>\n",
       "      <td>0.761730</td>\n",
       "    </tr>\n",
       "    <tr>\n",
       "      <th>38</th>\n",
       "      <td>0.764247</td>\n",
       "    </tr>\n",
       "    <tr>\n",
       "      <th>39</th>\n",
       "      <td>0.769562</td>\n",
       "    </tr>\n",
       "    <tr>\n",
       "      <th>40</th>\n",
       "      <td>0.766100</td>\n",
       "    </tr>\n",
       "  </tbody>\n",
       "</table>\n",
       "</div>"
      ],
      "text/plain": [
       "                      AUC\n",
       "number_features          \n",
       "7                0.722887\n",
       "8                0.733445\n",
       "9                0.711768\n",
       "10               0.719320\n",
       "11               0.733585\n",
       "12               0.744983\n",
       "13               0.736382\n",
       "14               0.735193\n",
       "15               0.752954\n",
       "16               0.750192\n",
       "17               0.753374\n",
       "18               0.753444\n",
       "19               0.764737\n",
       "20               0.761345\n",
       "21               0.754248\n",
       "22               0.752150\n",
       "23               0.757674\n",
       "24               0.748969\n",
       "25               0.765995\n",
       "26               0.763478\n",
       "27               0.763793\n",
       "28               0.755646\n",
       "29               0.759422\n",
       "30               0.766415\n",
       "31               0.758758\n",
       "32               0.760716\n",
       "33               0.760541\n",
       "34               0.762289\n",
       "35               0.767604\n",
       "36               0.773582\n",
       "37               0.761730\n",
       "38               0.764247\n",
       "39               0.769562\n",
       "40               0.766100"
      ]
     },
     "execution_count": 63,
     "metadata": {},
     "output_type": "execute_result"
    },
    {
     "data": {
      "image/png": "[encoded data removed]",
      "text/plain": [
       "<Figure size 640x480 with 1 Axes>"
      ]
     },
     "metadata": {},
     "output_type": "display_data"
    }
   ],
   "source": [
    "# data for plot\n",
    "feat_res = \\\n",
    "(pd.DataFrame.from_dict(num_feat_auc, orient='index')\n",
    " .rename(columns = {0:'AUC'})\n",
    " .reset_index()\n",
    " .rename(columns = {'index':'number_features'})\n",
    " .set_index('number_features')\n",
    ")\n",
    "\n",
    "# Make plot\n",
    "title = 'AUC vs. number of features'\n",
    "sns.lineplot(feat_res, x = 'number_features', y = 'AUC').set(title=title);\n",
    "\n",
    "feat_res"
   ]
  },
  {
   "cell_type": "code",
   "execution_count": 96,
   "metadata": {
    "ExecuteTime": {
     "end_time": "2023-01-25T23:16:27.315308Z",
     "start_time": "2023-01-25T23:16:18.490790Z"
    }
   },
   "outputs": [
    {
     "name": "stdout",
     "output_type": "stream",
     "text": [
      "selected features ['month', 'credit_amount', 'credit_term', 'age', 'having_children_flg', 'region', 'income', 'phone_operator', 'is_client', 'education_Higher education', 'education_Incomplete higher education', 'education_Incomplete secondary education', 'education_Secondary education', 'education_Secondary special education', 'product_type_Audio & Video', 'product_type_Auto', 'product_type_Boats', 'product_type_Cell phones', 'product_type_Clothing', 'product_type_Computers', 'product_type_Construction Materials', 'product_type_Cosmetics and beauty services', 'product_type_Fitness', 'product_type_Furniture', 'product_type_Garden equipment', 'product_type_Household appliances', 'product_type_Jewelry', 'product_type_Medical services', 'product_type_Sporting goods', 'product_type_Tourism', 'product_type_Training', 'product_type_Windows & Doors', 'family_status_Another', 'family_status_Married', 'family_status_Unmarried', 'sex_female']\n"
     ]
    }
   ],
   "source": [
    "# 36 If we decrease the number of features to 19 the quality of metric will not decrease dramatically\n",
    "num_feat = 36\n",
    "rfe_support, rfe_feature = rfe_selector(X_train, y_train, num_feat)\n",
    "print('selected features', rfe_feature)"
   ]
  },
  {
   "cell_type": "markdown",
   "metadata": {},
   "source": [
    "### **Re-evaluate models with refined dataset**"
   ]
  },
  {
   "cell_type": "code",
   "execution_count": 97,
   "metadata": {
    "ExecuteTime": {
     "end_time": "2023-01-25T23:16:27.330306Z",
     "start_time": "2023-01-25T23:16:27.318269Z"
    }
   },
   "outputs": [],
   "source": [
    "# Create re-evaluation result dictionary\n",
    "res_tab_reeval = {}"
   ]
  },
  {
   "cell_type": "markdown",
   "metadata": {},
   "source": [
    "#### Logistic Regression"
   ]
  },
  {
   "cell_type": "code",
   "execution_count": 98,
   "metadata": {
    "ExecuteTime": {
     "end_time": "2023-01-25T23:16:27.376268Z",
     "start_time": "2023-01-25T23:16:27.334266Z"
    }
   },
   "outputs": [
    {
     "name": "stdout",
     "output_type": "stream",
     "text": [
      "AUC:  0.75117\n",
      "confusion_matrix: \n",
      " [[119 335]\n",
      " [  4  59]]\n"
     ]
    }
   ],
   "source": [
    "# 1. Model name\n",
    "model_name = 'Logit'\n",
    "\n",
    "# 2. Determine model\n",
    "pipeline = make_pipeline(StandardScaler(), \n",
    "                         LogisticRegression(random_state=5,\n",
    "                                            C=0.01,\n",
    "                                            penalty='l2',\n",
    "                                            solver='liblinear',\n",
    "                                            tol=0.001\n",
    "                                           ))\n",
    "\n",
    "# 3. Train model\n",
    "pipeline.fit(X_train[rfe_feature],y_train)\n",
    "\n",
    "# 4. Prediction\n",
    "prediction = pipeline.predict_proba(X_test[rfe_feature])[:,1]\n",
    "fpr, tpr, thresholds = roc_curve(y_test, prediction)\n",
    "auc_def = round(auc(fpr, tpr),5)\n",
    "print('AUC: ', auc_def)\n",
    "\n",
    "# 5. Prediction + threshold\n",
    "threshold = 0.16\n",
    "prediction = np.where(prediction < threshold, 0, 1)\n",
    "print('confusion_matrix: \\n',confusion_matrix(y_test, prediction))\n",
    "\n",
    "# 6. Save results\n",
    "res_tab_reeval[model_name] = auc_def"
   ]
  },
  {
   "cell_type": "markdown",
   "metadata": {},
   "source": [
    "#### Decision Tree"
   ]
  },
  {
   "cell_type": "code",
   "execution_count": 99,
   "metadata": {
    "ExecuteTime": {
     "end_time": "2023-01-25T23:16:27.406267Z",
     "start_time": "2023-01-25T23:16:27.380268Z"
    }
   },
   "outputs": [
    {
     "name": "stdout",
     "output_type": "stream",
     "text": [
      "AUC:  0.70568\n",
      "confusion_matrix: \n",
      " [[284 170]\n",
      " [ 19  44]]\n"
     ]
    }
   ],
   "source": [
    "# 1. Model name\n",
    "model_name = 'Decision_Tree'\n",
    "\n",
    "# 2. Determine model\n",
    "pipeline = make_pipeline(StandardScaler(), \n",
    "                         DecisionTreeClassifier(random_state=5,\n",
    "                                                criterion='entropy',\n",
    "                                                max_leaf_nodes=6,\n",
    "                                                min_samples_split=2,\n",
    "                                                splitter='random'\n",
    "                                               ))\n",
    "\n",
    "# 3. Train model\n",
    "pipeline.fit(X_train[rfe_feature],y_train)\n",
    "\n",
    "# 4. Prediction\n",
    "prediction = pipeline.predict_proba(X_test[rfe_feature])[:,1]\n",
    "fpr, tpr, thresholds = roc_curve(y_test, prediction)\n",
    "auc_def = round(auc(fpr, tpr),5)\n",
    "print('AUC: ', auc_def)\n",
    "\n",
    "# 5. Prediction + threshold\n",
    "threshold = 0.16\n",
    "prediction = np.where(prediction < threshold, 0, 1)\n",
    "print('confusion_matrix: \\n',confusion_matrix(y_test, prediction))\n",
    "\n",
    "# 6. Save results\n",
    "res_tab_reeval[model_name] = auc_def"
   ]
  },
  {
   "cell_type": "markdown",
   "metadata": {},
   "source": [
    "#### Random Forest"
   ]
  },
  {
   "cell_type": "code",
   "execution_count": 100,
   "metadata": {
    "ExecuteTime": {
     "end_time": "2023-01-25T23:16:27.671267Z",
     "start_time": "2023-01-25T23:16:27.410272Z"
    }
   },
   "outputs": [
    {
     "name": "stdout",
     "output_type": "stream",
     "text": [
      "AUC:  0.77379\n",
      "confusion_matrix: \n",
      " [[368  86]\n",
      " [ 33  30]]\n"
     ]
    }
   ],
   "source": [
    "# 1. Model name\n",
    "model_name = 'Random_Forest'\n",
    "\n",
    "# 2. Determine model\n",
    "pipeline = make_pipeline(StandardScaler(), \n",
    "                         RandomForestClassifier(random_state=5,\n",
    "                                                criterion='gini',\n",
    "                                                max_depth=6,\n",
    "                                                max_features=7,\n",
    "                                                n_estimators=100\n",
    "                                               ))\n",
    "\n",
    "# 3. Train model\n",
    "pipeline.fit(X_train[rfe_feature],y_train)\n",
    "\n",
    "# 4. Prediction\n",
    "prediction = pipeline.predict_proba(X_test[rfe_feature])[:,1]\n",
    "fpr, tpr, thresholds = roc_curve(y_test, prediction)\n",
    "auc_def = round(auc(fpr, tpr),5)\n",
    "print('AUC: ', auc_def)\n",
    "\n",
    "# 5. Prediction + threshold\n",
    "threshold = 0.16\n",
    "prediction = np.where(prediction < threshold, 0, 1)\n",
    "print('confusion_matrix: \\n',confusion_matrix(y_test, prediction))\n",
    "\n",
    "# 6. Save results\n",
    "res_tab_reeval[model_name] = auc_def"
   ]
  },
  {
   "cell_type": "markdown",
   "metadata": {},
   "source": [
    "#### SGD"
   ]
  },
  {
   "cell_type": "code",
   "execution_count": 101,
   "metadata": {
    "ExecuteTime": {
     "end_time": "2023-01-25T23:16:27.702276Z",
     "start_time": "2023-01-25T23:16:27.675266Z"
    }
   },
   "outputs": [
    {
     "name": "stdout",
     "output_type": "stream",
     "text": [
      "AUC:  0.74963\n",
      "confusion_matrix: \n",
      " [[385  69]\n",
      " [ 35  28]]\n"
     ]
    }
   ],
   "source": [
    "# 1. Model name\n",
    "model_name = 'SGD'\n",
    "\n",
    "# 2. Determine model\n",
    "pipeline = make_pipeline(StandardScaler(), \n",
    "                         SGDClassifier(random_state=5,\n",
    "                                       alpha=0.1,\n",
    "                                       loss='log',\n",
    "                                       penalty='l2',\n",
    "                                       tol=0.001\n",
    "                                      ))\n",
    "\n",
    "# 3. Train model\n",
    "pipeline.fit(X_train[rfe_feature], y_train)\n",
    "\n",
    "# 4. Prediction\n",
    "prediction = pipeline.predict_proba(X_test[rfe_feature])[:,1]\n",
    "fpr, tpr, thresholds = roc_curve(y_test, prediction)\n",
    "auc_def = round(auc(fpr, tpr),5)\n",
    "print('AUC: ', auc_def)\n",
    "\n",
    "# 5. Prediction + threshold\n",
    "threshold = 0.16\n",
    "prediction = np.where(prediction < threshold, 0, 1)\n",
    "print('confusion_matrix: \\n',confusion_matrix(y_test, prediction))\n",
    "\n",
    "# 6. Save results\n",
    "res_tab_reeval[model_name] = auc_def"
   ]
  },
  {
   "cell_type": "markdown",
   "metadata": {},
   "source": [
    "#### SVM"
   ]
  },
  {
   "cell_type": "code",
   "execution_count": 102,
   "metadata": {
    "ExecuteTime": {
     "end_time": "2023-01-25T23:16:30.176197Z",
     "start_time": "2023-01-25T23:16:30.004197Z"
    }
   },
   "outputs": [
    {
     "name": "stdout",
     "output_type": "stream",
     "text": [
      "AUC:  0.62601\n",
      "confusion_matrix: \n",
      " [[387  67]\n",
      " [ 45  18]]\n"
     ]
    }
   ],
   "source": [
    "# 1. Model name\n",
    "model_name = 'SVM'\n",
    "\n",
    "# 2. Determine model\n",
    "pipeline = make_pipeline(StandardScaler(),\n",
    "                         SVC(random_state=5,\n",
    "                             C=1000,\n",
    "                             gamma=0.0001,\n",
    "                             kernel='sigmoid',\n",
    "                             tol=0.001,\n",
    "                             probability=True\n",
    "                            )) # kernel 'sigmoid' ignores 'degree'\n",
    "\n",
    "# 3. Train model\n",
    "pipeline.fit(X_train[rfe_feature],y_train)\n",
    "\n",
    "# 4. Prediction\n",
    "prediction = pipeline.predict_proba(X_test[rfe_feature])[:,1]\n",
    "fpr, tpr, thresholds = roc_curve(y_test, prediction)\n",
    "auc_def = round(auc(fpr, tpr),5)\n",
    "print('AUC: ', auc_def)\n",
    "\n",
    "# 5. Prediction + threshold\n",
    "threshold = 0.16\n",
    "prediction = np.where(prediction < threshold, 0, 1)\n",
    "print('confusion_matrix: \\n',confusion_matrix(y_test, prediction))\n",
    "\n",
    "# 6. Save results\n",
    "res_tab_reeval[model_name] = auc_def"
   ]
  },
  {
   "cell_type": "markdown",
   "metadata": {},
   "source": [
    "#### Default vs. Tuned vs. Re-evaluated Models"
   ]
  },
  {
   "cell_type": "code",
   "execution_count": 103,
   "metadata": {
    "ExecuteTime": {
     "end_time": "2023-01-25T23:16:36.075440Z",
     "start_time": "2023-01-25T23:16:36.056397Z"
    }
   },
   "outputs": [
    {
     "data": {
      "text/html": [
       "<div>\n",
       "<style scoped>\n",
       "    .dataframe tbody tr th:only-of-type {\n",
       "        vertical-align: middle;\n",
       "    }\n",
       "\n",
       "    .dataframe tbody tr th {\n",
       "        vertical-align: top;\n",
       "    }\n",
       "\n",
       "    .dataframe thead th {\n",
       "        text-align: right;\n",
       "    }\n",
       "</style>\n",
       "<table border=\"1\" class=\"dataframe\">\n",
       "  <thead>\n",
       "    <tr style=\"text-align: right;\">\n",
       "      <th></th>\n",
       "      <th>AUC_default_models</th>\n",
       "      <th>AUC_tuned_models</th>\n",
       "      <th>AUC_reeval_models</th>\n",
       "    </tr>\n",
       "  </thead>\n",
       "  <tbody>\n",
       "    <tr>\n",
       "      <th>Random_Forest</th>\n",
       "      <td>0.74953</td>\n",
       "      <td>0.77037</td>\n",
       "      <td>0.77379</td>\n",
       "    </tr>\n",
       "    <tr>\n",
       "      <th>Logit</th>\n",
       "      <td>0.72764</td>\n",
       "      <td>0.74942</td>\n",
       "      <td>0.75117</td>\n",
       "    </tr>\n",
       "    <tr>\n",
       "      <th>SVM</th>\n",
       "      <td>0.64079</td>\n",
       "      <td>0.62076</td>\n",
       "      <td>0.62601</td>\n",
       "    </tr>\n",
       "    <tr>\n",
       "      <th>Decision_Tree</th>\n",
       "      <td>0.57150</td>\n",
       "      <td>0.72186</td>\n",
       "      <td>0.70568</td>\n",
       "    </tr>\n",
       "    <tr>\n",
       "      <th>SGD</th>\n",
       "      <td>0.49032</td>\n",
       "      <td>0.73477</td>\n",
       "      <td>0.74963</td>\n",
       "    </tr>\n",
       "  </tbody>\n",
       "</table>\n",
       "</div>"
      ],
      "text/plain": [
       "               AUC_default_models  AUC_tuned_models  AUC_reeval_models\n",
       "Random_Forest             0.74953           0.77037            0.77379\n",
       "Logit                     0.72764           0.74942            0.75117\n",
       "SVM                       0.64079           0.62076            0.62601\n",
       "Decision_Tree             0.57150           0.72186            0.70568\n",
       "SGD                       0.49032           0.73477            0.74963"
      ]
     },
     "execution_count": 103,
     "metadata": {},
     "output_type": "execute_result"
    }
   ],
   "source": [
    "res_tab_reeval_df = (pd.DataFrame.from_dict(res_tab_reeval, orient='index')\n",
    "                      .rename(columns = {0:'AUC_reeval_models'})\n",
    "                      .sort_values('AUC_reeval_models', ascending = False)\n",
    ")\n",
    "combined_results_df_1 = pd.concat((combined_results_df, res_tab_reeval_df), axis=1)\n",
    "combined_results_df_1"
   ]
  },
  {
   "cell_type": "code",
   "execution_count": 104,
   "metadata": {
    "ExecuteTime": {
     "end_time": "2023-01-25T23:16:49.872702Z",
     "start_time": "2023-01-25T23:16:49.425653Z"
    }
   },
   "outputs": [
    {
     "data": {
      "image/png": "[encoded data removed]",
      "text/plain": [
       "<Figure size 640x500 with 1 Axes>"
      ]
     },
     "metadata": {},
     "output_type": "display_data"
    }
   ],
   "source": [
    "combined_results_df_reshaped = pd.melt(combined_results_df_1.reset_index().rename(columns = {'index':'models'}), \n",
    "                                       id_vars='models', \n",
    "                                       var_name='model_types',\n",
    "                                       value_name='AUC')\n",
    "sns.catplot(data=combined_results_df_reshaped, x='models', y='AUC', hue='model_types', kind='bar')\n",
    "plt.show()"
   ]
  },
  {
   "cell_type": "code",
   "execution_count": 105,
   "metadata": {
    "ExecuteTime": {
     "end_time": "2023-01-25T23:16:51.962731Z",
     "start_time": "2023-01-25T23:16:51.958705Z"
    }
   },
   "outputs": [],
   "source": [
    "# The best model after feature selection is Random Forest"
   ]
  },
  {
   "cell_type": "markdown",
   "metadata": {},
   "source": [
    "### Re-tune the models with refined dataset"
   ]
  },
  {
   "cell_type": "code",
   "execution_count": 106,
   "metadata": {
    "ExecuteTime": {
     "end_time": "2023-01-25T23:16:54.254939Z",
     "start_time": "2023-01-25T23:16:54.240941Z"
    }
   },
   "outputs": [],
   "source": [
    "res_tab_retuned = {}"
   ]
  },
  {
   "cell_type": "markdown",
   "metadata": {},
   "source": [
    "#### Logistic Regression"
   ]
  },
  {
   "cell_type": "code",
   "execution_count": 107,
   "metadata": {
    "ExecuteTime": {
     "end_time": "2023-01-25T23:17:03.401444Z",
     "start_time": "2023-01-25T23:16:55.101842Z"
    }
   },
   "outputs": [
    {
     "name": "stdout",
     "output_type": "stream",
     "text": [
      "GS_best_param:  {'logisticregression__C': 0.01, 'logisticregression__penalty': 'l2', 'logisticregression__solver': 'liblinear', 'logisticregression__tol': 0.001}\n",
      "AUC:  0.75117\n"
     ]
    }
   ],
   "source": [
    "# 1. model_name\n",
    "model_name = 'Logit'\n",
    "\n",
    "# 2. Determine model\n",
    "pipeline = make_pipeline(StandardScaler(), \n",
    "                         LogisticRegression(random_state=5)\n",
    "                        )\n",
    "# 3. Create the parameter grid\n",
    "param_grid = [{\n",
    "    'logisticregression__penalty': ['l2', 'l1', 'elasticnet', None],\n",
    "    'logisticregression__C': [0.001, 0.01, 0.05, 0.1, 0.5, 1.0, 10.0],\n",
    "    'logisticregression__solver': ['lbfgs', 'liblinear', 'newton-cg', 'saga'],\n",
    "    'logisticregression__tol' : [1e-3, 1e-4]\n",
    "}]\n",
    "\n",
    "# 4. Create an instance of GridSearch Cross-validation estimator\n",
    "gs = GridSearchCV(estimator=pipeline,\n",
    "                     param_grid = param_grid,\n",
    "                     scoring='roc_auc',\n",
    "                     cv=5,\n",
    "                     refit = True,\n",
    "                     n_jobs=-1)\n",
    "\n",
    "# 5. Train the LogisticRegression Classifier\n",
    "gs_res = gs.fit(X_train[rfe_feature], y_train)\n",
    "print('GS_best_param: ', gs_res.best_params_)\n",
    "\n",
    "# 6. Quality metric and saving result\n",
    "model = gs_res.best_estimator_\n",
    "prediction = model.predict_proba(X_test[rfe_feature])[:,1]\n",
    "fpr, tpr, thresholds = roc_curve(y_test, prediction)\n",
    "auc_res = round(auc(fpr, tpr),5)\n",
    "print('AUC: ', auc_res)\n",
    "\n",
    "# 7. Save the result\n",
    "res_tab_retuned[model_name] = auc_res"
   ]
  },
  {
   "cell_type": "markdown",
   "metadata": {},
   "source": [
    "#### Decision Tree"
   ]
  },
  {
   "cell_type": "code",
   "execution_count": 108,
   "metadata": {
    "ExecuteTime": {
     "end_time": "2023-01-25T23:17:09.388208Z",
     "start_time": "2023-01-25T23:17:03.405446Z"
    }
   },
   "outputs": [
    {
     "name": "stdout",
     "output_type": "stream",
     "text": [
      "GS_best_param:  {'decisiontreeclassifier__criterion': 'entropy', 'decisiontreeclassifier__max_leaf_nodes': 8, 'decisiontreeclassifier__min_samples_split': 2, 'decisiontreeclassifier__splitter': 'random'}\n",
      "AUC:  0.69462\n"
     ]
    }
   ],
   "source": [
    "# 1. model_name\n",
    "model_name = 'Decision_Tree'\n",
    "\n",
    "# 2. Determine model\n",
    "scal = StandardScaler()\n",
    "method = DecisionTreeClassifier(random_state=5)\n",
    "\n",
    "pipeline = make_pipeline(\n",
    "                        scal, \n",
    "                        method\n",
    "                        )\n",
    "# 3. Create the parameter grid\n",
    "param_grid = [{\n",
    "    'decisiontreeclassifier__criterion': ['gini', 'entropy', 'log_loss'],\n",
    "    'decisiontreeclassifier__splitter': ['best', 'random'],\n",
    "    'decisiontreeclassifier__max_leaf_nodes': list(range(2, 50, 2)),\n",
    "    'decisiontreeclassifier__min_samples_split': [2, 3, 5, 10],\n",
    "}]\n",
    "\n",
    "# 4. Create an instance of GridSearch Cross-validation estimator\n",
    "gs = GridSearchCV(estimator=pipeline,\n",
    "                     param_grid = param_grid,\n",
    "                     scoring='roc_auc',\n",
    "                     cv=5,\n",
    "                     refit = True,\n",
    "                     n_jobs=-1)\n",
    "\n",
    "# 5. Train the LogisticRegression Classifier\n",
    "gs_res = gs.fit(X_train[rfe_feature], y_train)\n",
    "print('GS_best_param: ', gs_res.best_params_)\n",
    "\n",
    "# 6. Quality metric and saving result\n",
    "model = gs_res.best_estimator_\n",
    "prediction = model.predict_proba(X_test[rfe_feature])[:,1]\n",
    "fpr, tpr, thresholds = roc_curve(y_test, prediction)\n",
    "auc_res = round(auc(fpr, tpr),5)\n",
    "print('AUC: ', auc_res)\n",
    "\n",
    "# 7. Save the result\n",
    "res_tab_retuned[model_name] = auc_res"
   ]
  },
  {
   "cell_type": "markdown",
   "metadata": {},
   "source": [
    "#### Random Forest"
   ]
  },
  {
   "cell_type": "code",
   "execution_count": 109,
   "metadata": {
    "ExecuteTime": {
     "end_time": "2023-01-25T23:20:08.823148Z",
     "start_time": "2023-01-25T23:17:09.390200Z"
    }
   },
   "outputs": [
    {
     "name": "stdout",
     "output_type": "stream",
     "text": [
      "GS_best_param:  {'randomforestclassifier__criterion': 'gini', 'randomforestclassifier__max_depth': 4, 'randomforestclassifier__max_features': 7, 'randomforestclassifier__n_estimators': 100}\n",
      "AUC:  0.76725\n"
     ]
    }
   ],
   "source": [
    "# 1. model_name\n",
    "model_name = 'Random_Forest'\n",
    "\n",
    "# 2. Determine model\n",
    "scal = StandardScaler()\n",
    "method = RandomForestClassifier(random_state=5)\n",
    "\n",
    "pipeline = make_pipeline(\n",
    "                        scal, \n",
    "                        method\n",
    "                        )\n",
    "# 3. Create the parameter grid\n",
    "param_grid = [{\n",
    "    'randomforestclassifier__max_depth': range(2, 10, 2),\n",
    "    'randomforestclassifier__max_features':[2, 3, 4, 7, 10, None],\n",
    "    'randomforestclassifier__n_estimators':[100, 500, 1000],\n",
    "    'randomforestclassifier__criterion': ['gini', 'entropy', 'log_loss']\n",
    "}]\n",
    "\n",
    "# 4. Create an instance of GridSearch Cross-validation estimator\n",
    "gs = GridSearchCV(estimator=pipeline,\n",
    "                     param_grid = param_grid,\n",
    "                     scoring='roc_auc',\n",
    "                     cv=5,\n",
    "                     refit = True,\n",
    "                     n_jobs=-1)\n",
    "\n",
    "# 5. Train the LogisticRegression Classifier\n",
    "gs_res = gs.fit(X_train[rfe_feature], y_train)\n",
    "print('GS_best_param: ', gs_res.best_params_)\n",
    "\n",
    "# 6. Quality metric and saving result\n",
    "model = gs_res.best_estimator_\n",
    "prediction = model.predict_proba(X_test[rfe_feature])[:,1]\n",
    "fpr, tpr, thresholds = roc_curve(y_test, prediction)\n",
    "auc_res = round(auc(fpr, tpr),5)\n",
    "print('AUC: ', auc_res)\n",
    "\n",
    "# 7. Save the result\n",
    "res_tab_retuned[model_name] = auc_res"
   ]
  },
  {
   "cell_type": "markdown",
   "metadata": {},
   "source": [
    "#### SGD"
   ]
  },
  {
   "cell_type": "code",
   "execution_count": 110,
   "metadata": {
    "ExecuteTime": {
     "end_time": "2023-01-25T23:20:15.695141Z",
     "start_time": "2023-01-25T23:20:08.828142Z"
    }
   },
   "outputs": [
    {
     "name": "stdout",
     "output_type": "stream",
     "text": [
      "GS_best_param:  {'sgdclassifier__alpha': 0.1, 'sgdclassifier__loss': 'modified_huber', 'sgdclassifier__penalty': 'l2', 'sgdclassifier__tol': 0.0001}\n",
      "AUC:  0.74538\n"
     ]
    }
   ],
   "source": [
    "# 1. model_name\n",
    "model_name = 'SGD'\n",
    "\n",
    "# 2. Determine model\n",
    "scal = StandardScaler()\n",
    "method = SGDClassifier(random_state=5)\n",
    "\n",
    "pipeline = make_pipeline(\n",
    "                        scal, \n",
    "                        method\n",
    "                        )\n",
    "# 3. Create the parameter grid\n",
    "param_grid = [{\n",
    "    'sgdclassifier__alpha':[0.0001, 0.001, 0.01, 0.1],\n",
    "    'sgdclassifier__loss':['hinge', 'log_loss', 'modified_huber', 'squared_hinge'],\n",
    "    'sgdclassifier__penalty': ['l2', 'l1', 'elasticnet', None],\n",
    "    'sgdclassifier__tol' : [0.001, 0.0001]\n",
    "    #'sgdclassifier__max_iter':[1000, 10000, 100000]\n",
    "}]\n",
    "\n",
    "# 4. Create an instance of GridSearch Cross-validation estimator\n",
    "gs = GridSearchCV(estimator=pipeline,\n",
    "                     param_grid = param_grid,\n",
    "                     scoring='roc_auc',\n",
    "                     cv=5,\n",
    "                     refit = True,\n",
    "                     n_jobs=-1)\n",
    "\n",
    "# 5. Train the LogisticRegression Classifier\n",
    "gs_res = gs.fit(X_train[rfe_feature], y_train)\n",
    "print('GS_best_param: ', gs_res.best_params_)\n",
    "\n",
    "# 6. Quality metric and saving result\n",
    "model = gs_res.best_estimator_\n",
    "prediction = model.predict_proba(X_test[rfe_feature])[:,1]\n",
    "fpr, tpr, thresholds = roc_curve(y_test, prediction)\n",
    "auc_res = round(auc(fpr, tpr),5)\n",
    "print('AUC: ', auc_res)\n",
    "\n",
    "# 7. Save the result\n",
    "res_tab_retuned[model_name] = auc_res"
   ]
  },
  {
   "cell_type": "markdown",
   "metadata": {},
   "source": [
    "#### SVM"
   ]
  },
  {
   "cell_type": "code",
   "execution_count": 111,
   "metadata": {
    "ExecuteTime": {
     "end_time": "2023-01-25T23:22:17.013954Z",
     "start_time": "2023-01-25T23:20:15.698144Z"
    }
   },
   "outputs": [
    {
     "name": "stdout",
     "output_type": "stream",
     "text": [
      "GS_best_param:  {'svc__C': 100, 'svc__degree': 3, 'svc__gamma': 0.0001, 'svc__kernel': 'sigmoid', 'svc__tol': 0.001}\n",
      "AUC:  0.68128\n"
     ]
    }
   ],
   "source": [
    "# 1. model_name\n",
    "model_name = 'SVM'\n",
    "\n",
    "# 2. Determine model\n",
    "scal = StandardScaler()\n",
    "method = SVC(random_state=5, probability = True)\n",
    "\n",
    "pipeline = make_pipeline(\n",
    "                        scal, \n",
    "                        method\n",
    "                        )\n",
    "# 3. Create the parameter grid\n",
    "param_grid = [{\n",
    "    'svc__C':[0.1, 1, 10, 100, 1000],\n",
    "    'svc__kernel': ['poly', 'rbf', 'sigmoid'],\n",
    "    'svc__degree': [3, 4, 5],\n",
    "    'svc__gamma':[0.1, 0.01, 0.001, 0.0001],\n",
    "    'svc__tol': [1e-3, 1e-4]\n",
    "}]\n",
    "\n",
    "# 4. Create an instance of GridSearch Cross-validation estimator\n",
    "gs = GridSearchCV(estimator=pipeline,\n",
    "                     param_grid = param_grid,\n",
    "                     scoring='roc_auc',\n",
    "                     cv=5,\n",
    "                     refit = True,\n",
    "                     n_jobs=-1)\n",
    "\n",
    "# 5. Train the LogisticRegression Classifier\n",
    "gs_res = gs.fit(X_train[rfe_feature], y_train)\n",
    "print('GS_best_param: ', gs_res.best_params_)\n",
    "\n",
    "# 6. Quality metric and saving result\n",
    "model = gs_res.best_estimator_\n",
    "prediction = model.predict_proba(X_test[rfe_feature])[:,1]\n",
    "fpr, tpr, thresholds = roc_curve(y_test, prediction)\n",
    "auc_res = round(auc(fpr, tpr),5)\n",
    "print('AUC: ', auc_res)\n",
    "\n",
    "# 7. Save the result\n",
    "res_tab_retuned[model_name] = auc_res"
   ]
  },
  {
   "cell_type": "markdown",
   "metadata": {},
   "source": [
    "#### Result Table"
   ]
  },
  {
   "cell_type": "code",
   "execution_count": 112,
   "metadata": {
    "ExecuteTime": {
     "end_time": "2023-01-25T23:22:17.045955Z",
     "start_time": "2023-01-25T23:22:17.017958Z"
    }
   },
   "outputs": [
    {
     "data": {
      "text/html": [
       "<div>\n",
       "<style scoped>\n",
       "    .dataframe tbody tr th:only-of-type {\n",
       "        vertical-align: middle;\n",
       "    }\n",
       "\n",
       "    .dataframe tbody tr th {\n",
       "        vertical-align: top;\n",
       "    }\n",
       "\n",
       "    .dataframe thead th {\n",
       "        text-align: right;\n",
       "    }\n",
       "</style>\n",
       "<table border=\"1\" class=\"dataframe\">\n",
       "  <thead>\n",
       "    <tr style=\"text-align: right;\">\n",
       "      <th></th>\n",
       "      <th>AUC_default_models</th>\n",
       "      <th>AUC_tuned_models</th>\n",
       "      <th>AUC_reeval_models</th>\n",
       "      <th>AUC_retuned_models</th>\n",
       "    </tr>\n",
       "  </thead>\n",
       "  <tbody>\n",
       "    <tr>\n",
       "      <th>Random_Forest</th>\n",
       "      <td>0.74953</td>\n",
       "      <td>0.77037</td>\n",
       "      <td>0.77379</td>\n",
       "      <td>0.76725</td>\n",
       "    </tr>\n",
       "    <tr>\n",
       "      <th>Logit</th>\n",
       "      <td>0.72764</td>\n",
       "      <td>0.74942</td>\n",
       "      <td>0.75117</td>\n",
       "      <td>0.75117</td>\n",
       "    </tr>\n",
       "    <tr>\n",
       "      <th>SVM</th>\n",
       "      <td>0.64079</td>\n",
       "      <td>0.62076</td>\n",
       "      <td>0.62601</td>\n",
       "      <td>0.68128</td>\n",
       "    </tr>\n",
       "    <tr>\n",
       "      <th>Decision_Tree</th>\n",
       "      <td>0.57150</td>\n",
       "      <td>0.72186</td>\n",
       "      <td>0.70568</td>\n",
       "      <td>0.69462</td>\n",
       "    </tr>\n",
       "    <tr>\n",
       "      <th>SGD</th>\n",
       "      <td>0.49032</td>\n",
       "      <td>0.73477</td>\n",
       "      <td>0.74963</td>\n",
       "      <td>0.74538</td>\n",
       "    </tr>\n",
       "  </tbody>\n",
       "</table>\n",
       "</div>"
      ],
      "text/plain": [
       "               AUC_default_models  AUC_tuned_models  AUC_reeval_models  \\\n",
       "Random_Forest             0.74953           0.77037            0.77379   \n",
       "Logit                     0.72764           0.74942            0.75117   \n",
       "SVM                       0.64079           0.62076            0.62601   \n",
       "Decision_Tree             0.57150           0.72186            0.70568   \n",
       "SGD                       0.49032           0.73477            0.74963   \n",
       "\n",
       "               AUC_retuned_models  \n",
       "Random_Forest             0.76725  \n",
       "Logit                     0.75117  \n",
       "SVM                       0.68128  \n",
       "Decision_Tree             0.69462  \n",
       "SGD                       0.74538  "
      ]
     },
     "execution_count": 112,
     "metadata": {},
     "output_type": "execute_result"
    }
   ],
   "source": [
    "res_tab_retuned_df = (pd.DataFrame.from_dict(res_tab_retuned, orient='index')\n",
    "                     .rename(columns = {0:'AUC_retuned_models'})\n",
    "                     .sort_values('AUC_retuned_models', ascending=False)\n",
    ")\n",
    "combined_results_df_2 = pd.concat((combined_results_df_1, res_tab_retuned_df), axis=1)\n",
    "combined_results_df_2"
   ]
  },
  {
   "cell_type": "markdown",
   "metadata": {},
   "source": [
    "#### Default vs. Tuned vs. Re-evaluate vs. Re-tuned Models"
   ]
  },
  {
   "cell_type": "code",
   "execution_count": 113,
   "metadata": {
    "ExecuteTime": {
     "end_time": "2023-01-25T23:22:17.527963Z",
     "start_time": "2023-01-25T23:22:17.048955Z"
    }
   },
   "outputs": [
    {
     "data": {
      "image/png": "[encoded data removed]",
      "text/plain": [
       "<Figure size 644.25x500 with 1 Axes>"
      ]
     },
     "metadata": {},
     "output_type": "display_data"
    }
   ],
   "source": [
    "combined_results_df_reshaped = pd.melt(combined_results_df_2.reset_index().rename(columns = {'index':'models'}), id_vars='models', var_name='model_types', value_name='AUC')\n",
    "sns.catplot(data=combined_results_df_reshaped, x='models', y='AUC', hue='model_types', kind='bar')\n",
    "plt.show()"
   ]
  },
  {
   "cell_type": "code",
   "execution_count": 114,
   "metadata": {
    "ExecuteTime": {
     "end_time": "2023-01-25T23:23:11.018037Z",
     "start_time": "2023-01-25T23:23:11.011041Z"
    }
   },
   "outputs": [],
   "source": [
    "# The best model after feature selection and fine tuning is Random Forest"
   ]
  },
  {
   "cell_type": "code",
   "execution_count": 115,
   "metadata": {
    "ExecuteTime": {
     "end_time": "2023-01-25T23:23:11.831986Z",
     "start_time": "2023-01-25T23:23:11.642956Z"
    }
   },
   "outputs": [
    {
     "name": "stdout",
     "output_type": "stream",
     "text": [
      "AUC:  0.76718\n",
      "confusion_matrix: \n",
      " [[386  68]\n",
      " [ 33  30]]\n"
     ]
    }
   ],
   "source": [
    "# Fit best model\n",
    "# 1. Fit model\n",
    "model = RandomForestClassifier(random_state=5,\n",
    "                               criterion='gini',\n",
    "                               max_depth=4,\n",
    "                               max_features=7,\n",
    "                               n_estimators = 100\n",
    "                              )\n",
    "model.fit(X_train[rfe_feature],y_train)\n",
    "\n",
    "# 2. Prediction\n",
    "prediction_prob = model.predict_proba(X_test[rfe_feature])[:,1]\n",
    "fpr, tpr, thresholds = roc_curve(y_test, prediction_prob)\n",
    "auc_def = round(auc(fpr, tpr),5)\n",
    "print('AUC: ', auc_def)\n",
    "\n",
    "# 3. Prediction + threshold\n",
    "threshold = 0.16\n",
    "prediction = np.where(prediction_prob < threshold, 0, 1)\n",
    "print('confusion_matrix: \\n', confusion_matrix(y_test, prediction))"
   ]
  },
  {
   "cell_type": "markdown",
   "metadata": {},
   "source": [
    "#### Threshold analysis"
   ]
  },
  {
   "cell_type": "code",
   "execution_count": 116,
   "metadata": {
    "ExecuteTime": {
     "end_time": "2023-01-25T23:23:18.765264Z",
     "start_time": "2023-01-25T23:23:18.389079Z"
    }
   },
   "outputs": [
    {
     "data": {
      "image/png": "[encoded data removed]",
      "text/plain": [
       "<Figure size 640x480 with 1 Axes>"
      ]
     },
     "metadata": {},
     "output_type": "display_data"
    }
   ],
   "source": [
    "# 1. table with recall, precision, f1 score\n",
    "rec_prec_threshold = pd.DataFrame(\n",
    "    {'threshold':np.arange(0.01, 0.3, 0.01),\n",
    "     'Recall':np.nan,\n",
    "     'Precision': np.nan,\n",
    "     'F1_score': np.nan\n",
    "    } )\n",
    "\n",
    "# 2. Main calculation\n",
    "for i in range(len(rec_prec_threshold)):\n",
    "    prediction = np.where(prediction_prob < rec_prec_threshold['threshold'][i], 0, 1)\n",
    "    rec_prec_threshold['Recall'][i] = round(recall_score(y_pred=prediction, y_true=y_test),2)\n",
    "    rec_prec_threshold['Precision'][i] = round(precision_score(y_pred=prediction, y_true=y_test),2)\n",
    "    rec_prec_threshold['F1_score'][i] = round(f1_score(y_pred=prediction, y_true=y_test), 2)\n",
    "\n",
    "# 3. Plot\n",
    "x = rec_prec_threshold.threshold\n",
    "y  = rec_prec_threshold.Recall\n",
    "z = rec_prec_threshold.Precision\n",
    "w = rec_prec_threshold.F1_score\n",
    "plt.plot(x, y)\n",
    "plt.plot(x, z)\n",
    "plt.plot(x, w)\n",
    "plt.legend(['Recall','Precision', 'F1 Score'], shadow = True, loc = 1)\n",
    "plt.xlabel('Threshold')\n",
    "plt.ylabel('Metrics');"
   ]
  }
 ],
 "metadata": {
  "kernelspec": {
   "display_name": "Python 3 (ipykernel)",
   "language": "python",
   "name": "python3"
  },
  "language_info": {
   "codemirror_mode": {
    "name": "ipython",
    "version": 3
   },
   "file_extension": ".py",
   "mimetype": "text/x-python",
   "name": "python",
   "nbconvert_exporter": "python",
   "pygments_lexer": "ipython3",
   "version": "3.9.15"
  },
  "toc": {
   "base_numbering": 1,
   "nav_menu": {
    "height": "554.653px",
    "width": "845.653px"
   },
   "number_sections": true,
   "sideBar": true,
   "skip_h1_title": false,
   "title_cell": "Table of Contents",
   "title_sidebar": "Contents",
   "toc_cell": false,
   "toc_position": {},
   "toc_section_display": true,
   "toc_window_display": false
  }
 },
 "nbformat": 4,
 "nbformat_minor": 2
}
