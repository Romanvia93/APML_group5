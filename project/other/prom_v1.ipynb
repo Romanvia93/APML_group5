{
 "cells": [
  {
   "cell_type": "code",
   "execution_count": 262,
   "metadata": {},
   "outputs": [],
   "source": [
    "import os\n",
    "import pandas as pd\n",
    "import numpy as np\n",
    "import random\n",
    "\n",
    "from sklearn.model_selection import train_test_split\n",
    "import xgboost as xgb\n",
    "\n",
    "from matplotlib import pyplot as plt\n",
    "import seaborn as sns\n",
    "\n",
    "from sklearn.metrics import confusion_matrix, recall_score, auc,roc_curve, precision_score\n",
    "# from collections import Counter, defaultdict\n",
    "# from copy import deepcopy\n",
    "# from operator import itemgetter\n",
    "# from random import shuffle\n",
    "# import scipy\n",
    "# from matplotlib import pylab, gridspec, pyplot as plt\n",
    "# from IPython.display import Image\n",
    "# import urllib\n",
    "# import seaborn as sns\n",
    "\n",
    "# from sklearn.metrics import accuracy_score\n",
    "# from sklearn import metrics, neighbors, dummy, preprocessing, svm\n",
    "from sklearn.model_selection import train_test_split, KFold, cross_val_score, GridSearchCV\n",
    "# from sklearn import linear_model\n",
    "# from sklearn.neighbors import KNeighborsClassifier\n",
    "\n",
    "# from sklearn import cross_validation\n",
    "# from pandas.tools.plotting import scatter_matrix\n",
    "# from sklearn.preprocessing import StandardScaler\n",
    "# from sklearn.model_selection import train_test_split\n",
    "# from sklearn.model_selection import KFold\n",
    "from sklearn.model_selection import cross_val_score\n",
    "# from sklearn.model_selection import GridSearchCV\n",
    "# from sklearn.linear_model import Lasso\n",
    "# from sklearn.linear_model import ElasticNet\n",
    "# from sklearn.tree import DecisionTreeRegressor\n",
    "# from sklearn.svm import SVC\n",
    "# from sklearn.svm import SVR\n",
    "# from sklearn.pipeline import Pipeline\n",
    "\n",
    "from sklearn.ensemble import AdaBoostClassifier, GradientBoostingClassifier,  AdaBoostClassifier\n",
    "# from sklearn.metrics import mean_squared_error\n",
    "# from sklearn import linear_model\n",
    "# from sklearn.linear_model import Ridge\n",
    "\n",
    "# from matplotlib import pyplot\n",
    "# import matplotlib\n",
    "# %matplotlib inline\n",
    "pd.options.mode.chained_assignment = None  # default='warn'\n",
    "pd.set_option('display.max_columns', 100) \n",
    "pd.set_option('display.max_rows', 50) "
   ]
  },
  {
   "cell_type": "markdown",
   "metadata": {},
   "source": [
    "### Functions"
   ]
  },
  {
   "cell_type": "code",
   "execution_count": 189,
   "metadata": {},
   "outputs": [],
   "source": [
    "def feature_description(feature, data, barplot = None):\n",
    "    print('Analyzed feature: ',feature)\n",
    "    \n",
    "    if (data[feature].dtypes == 'int64') & (barplot == None):\n",
    "        \n",
    "        plt.figure(figsize=(10,5)) \n",
    "        plt.hist(data[feature]);\n",
    "\n",
    "        # look at destribution depends on target\n",
    "        sns.catplot(x=feature, y=\"bad_client_target\",\n",
    "                        kind=\"box\", orient=\"h\", data=data);\n",
    "        \n",
    "    else:\n",
    "        # look at destribution\n",
    "        data[feature].value_counts().plot(kind='bar');\n",
    "\n",
    "        # look at destribution depends on target\n",
    "        sns.catplot(x=feature, y=\"bad_client_target\",  kind=\"bar\", data=data);\n",
    " "
   ]
  },
  {
   "cell_type": "code",
   "execution_count": 190,
   "metadata": {},
   "outputs": [],
   "source": [
    "def encode_and_bind(original_dataframe, feature_to_encode):\n",
    "\n",
    "    \"\"\"\n",
    "This fucnction makes One-hot-encoding\n",
    "    Input: \n",
    "    - datatable with deal_kul_id and need features\n",
    "    - feature for One-hot-encoding\n",
    "    Output: \n",
    "    - datatable with One-hot-encoding features\n",
    "    \n",
    "    \"\"\"\n",
    "    #1. Make dummies and OHE     \n",
    "    dummies = pd.get_dummies(original_dataframe[[feature_to_encode]])\n",
    "    res = pd.concat([original_dataframe, dummies], axis=1).drop(feature_to_encode, axis=1)\n",
    "    \n",
    "    return(res)"
   ]
  },
  {
   "cell_type": "code",
   "execution_count": 191,
   "metadata": {},
   "outputs": [],
   "source": [
    "def feature_important(model):\n",
    "    \n",
    "    \"\"\"\n",
    "This fucnction shows feature imortants\n",
    "    Input: \n",
    "    - model  \n",
    "    \n",
    "    Output: \n",
    "    - table with score of feature importants\n",
    "    - plot with score of feature importants\n",
    "    \n",
    "    \"\"\"    \n",
    "\n",
    "    feature_important = model.get_booster().get_score(importance_type='weight')\n",
    "    keys = list(feature_important.keys())\n",
    "    values = list(feature_important.values())\n",
    "\n",
    "    global data\n",
    "    data = pd.DataFrame(data=values, index=keys, columns=[\"score\"]).sort_values(by = \"score\", ascending=False)\n",
    "    data.plot(kind='barh');\n",
    "\n",
    "    return data  "
   ]
  },
  {
   "cell_type": "code",
   "execution_count": 192,
   "metadata": {},
   "outputs": [],
   "source": [
    "def GS_table(learning_rate, max_depth, n_estimators, subsample, colsample_bytree, gamma,i_index  ):\n",
    "    \"\"\"\n",
    "This fucnction makes GS table\n",
    "    Input: \n",
    "    - parameres for greed search : learning_rate, max_depth, n_estimators, subsample, colsample_bytree, gamma,i_index\n",
    "    \n",
    "    Output: \n",
    "    - GS table\n",
    "    \n",
    "    \"\"\" \n",
    "    \n",
    "    # 1. Data preporation\n",
    "    learning_rate = pd.DataFrame(learning_rate, columns = ['learning_rate'])\n",
    "    max_depth = pd.DataFrame(max_depth, columns = ['max_depth'])\n",
    "    n_estimators = pd.DataFrame(n_estimators, columns = ['n_estimators'])\n",
    "    subsample = pd.DataFrame(subsample, columns = ['subsample'])\n",
    "    colsample_bytree = pd.DataFrame(colsample_bytree, columns = ['colsample_bytree'])\n",
    "    gamma= pd.DataFrame(gamma, columns = ['gamma'])\n",
    "    i_index = pd.DataFrame(i_index, columns = ['i_index'])\n",
    "    \n",
    "    \n",
    "    # 2. Technical moments\n",
    "    learning_rate['key'] = 0\n",
    "    n_estimators['key'] = 0\n",
    "    subsample['key'] = 0\n",
    "    max_depth['key'] = 0\n",
    "    colsample_bytree['key'] = 0\n",
    "    gamma['key'] = 0\n",
    "    i_index['key'] = 0\n",
    "    \n",
    "    \n",
    "    # 3. Merge data     \n",
    "    global grid_tab\n",
    "    grid_tab = pd.merge(learning_rate, n_estimators, how = 'outer').\\\n",
    "    merge(subsample, how = 'outer' ).\\\n",
    "    merge(max_depth, how = 'outer' ).\\\n",
    "    merge(colsample_bytree, how = 'outer' ).\\\n",
    "    merge(gamma, how = 'outer' ).\\\n",
    "    merge(i_index, how = 'outer' ).\\\n",
    "    drop('key', axis= 1)\n",
    "    \n",
    "    # 4. Assign mae  \n",
    "    grid_tab['auc1'] = 0.0\n",
    "    grid_tab['auc2'] = 0.0\n",
    "    grid_tab['auc3'] = 0.0\n",
    "    grid_tab['auc_avg'] = 0.0\n",
    "\n",
    "    # 5 Show shape grd_data\n",
    "    print(grid_tab.shape)"
   ]
  },
  {
   "cell_type": "markdown",
   "metadata": {},
   "source": [
    "### Part 1. Look at data\n",
    "\n",
    "\n",
    "#### 1. Download data"
   ]
  },
  {
   "cell_type": "code",
   "execution_count": 193,
   "metadata": {},
   "outputs": [
    {
     "name": "stdout",
     "output_type": "stream",
     "text": [
      "data shape: (1723, 14)\n"
     ]
    },
    {
     "data": {
      "text/html": [
       "<div>\n",
       "<style scoped>\n",
       "    .dataframe tbody tr th:only-of-type {\n",
       "        vertical-align: middle;\n",
       "    }\n",
       "\n",
       "    .dataframe tbody tr th {\n",
       "        vertical-align: top;\n",
       "    }\n",
       "\n",
       "    .dataframe thead th {\n",
       "        text-align: right;\n",
       "    }\n",
       "</style>\n",
       "<table border=\"1\" class=\"dataframe\">\n",
       "  <thead>\n",
       "    <tr style=\"text-align: right;\">\n",
       "      <th></th>\n",
       "      <th>month</th>\n",
       "      <th>credit_amount</th>\n",
       "      <th>credit_term</th>\n",
       "      <th>age</th>\n",
       "      <th>sex</th>\n",
       "      <th>education</th>\n",
       "      <th>product_type</th>\n",
       "      <th>having_children_flg</th>\n",
       "      <th>region</th>\n",
       "      <th>income</th>\n",
       "      <th>family_status</th>\n",
       "      <th>phone_operator</th>\n",
       "      <th>is_client</th>\n",
       "      <th>bad_client_target</th>\n",
       "    </tr>\n",
       "  </thead>\n",
       "  <tbody>\n",
       "    <tr>\n",
       "      <th>0</th>\n",
       "      <td>1</td>\n",
       "      <td>7000</td>\n",
       "      <td>12</td>\n",
       "      <td>39</td>\n",
       "      <td>male</td>\n",
       "      <td>Secondary special education</td>\n",
       "      <td>Cell phones</td>\n",
       "      <td>0</td>\n",
       "      <td>2</td>\n",
       "      <td>21000</td>\n",
       "      <td>Another</td>\n",
       "      <td>0</td>\n",
       "      <td>0</td>\n",
       "      <td>0</td>\n",
       "    </tr>\n",
       "    <tr>\n",
       "      <th>1</th>\n",
       "      <td>1</td>\n",
       "      <td>19000</td>\n",
       "      <td>6</td>\n",
       "      <td>20</td>\n",
       "      <td>male</td>\n",
       "      <td>Secondary special education</td>\n",
       "      <td>Household appliances</td>\n",
       "      <td>1</td>\n",
       "      <td>2</td>\n",
       "      <td>17000</td>\n",
       "      <td>Another</td>\n",
       "      <td>3</td>\n",
       "      <td>1</td>\n",
       "      <td>0</td>\n",
       "    </tr>\n",
       "    <tr>\n",
       "      <th>2</th>\n",
       "      <td>1</td>\n",
       "      <td>29000</td>\n",
       "      <td>12</td>\n",
       "      <td>23</td>\n",
       "      <td>female</td>\n",
       "      <td>Secondary special education</td>\n",
       "      <td>Household appliances</td>\n",
       "      <td>0</td>\n",
       "      <td>2</td>\n",
       "      <td>31000</td>\n",
       "      <td>Another</td>\n",
       "      <td>2</td>\n",
       "      <td>0</td>\n",
       "      <td>0</td>\n",
       "    </tr>\n",
       "    <tr>\n",
       "      <th>3</th>\n",
       "      <td>1</td>\n",
       "      <td>10000</td>\n",
       "      <td>12</td>\n",
       "      <td>30</td>\n",
       "      <td>male</td>\n",
       "      <td>Secondary special education</td>\n",
       "      <td>Cell phones</td>\n",
       "      <td>1</td>\n",
       "      <td>2</td>\n",
       "      <td>31000</td>\n",
       "      <td>Unmarried</td>\n",
       "      <td>3</td>\n",
       "      <td>1</td>\n",
       "      <td>0</td>\n",
       "    </tr>\n",
       "    <tr>\n",
       "      <th>4</th>\n",
       "      <td>1</td>\n",
       "      <td>14500</td>\n",
       "      <td>12</td>\n",
       "      <td>25</td>\n",
       "      <td>female</td>\n",
       "      <td>Higher education</td>\n",
       "      <td>Cell phones</td>\n",
       "      <td>0</td>\n",
       "      <td>2</td>\n",
       "      <td>26000</td>\n",
       "      <td>Married</td>\n",
       "      <td>0</td>\n",
       "      <td>1</td>\n",
       "      <td>0</td>\n",
       "    </tr>\n",
       "  </tbody>\n",
       "</table>\n",
       "</div>"
      ],
      "text/plain": [
       "   month  credit_amount  credit_term  age     sex  \\\n",
       "0      1           7000           12   39    male   \n",
       "1      1          19000            6   20    male   \n",
       "2      1          29000           12   23  female   \n",
       "3      1          10000           12   30    male   \n",
       "4      1          14500           12   25  female   \n",
       "\n",
       "                     education          product_type  having_children_flg  \\\n",
       "0  Secondary special education           Cell phones                    0   \n",
       "1  Secondary special education  Household appliances                    1   \n",
       "2  Secondary special education  Household appliances                    0   \n",
       "3  Secondary special education           Cell phones                    1   \n",
       "4             Higher education           Cell phones                    0   \n",
       "\n",
       "   region  income family_status  phone_operator  is_client  bad_client_target  \n",
       "0       2   21000       Another               0          0                  0  \n",
       "1       2   17000       Another               3          1                  0  \n",
       "2       2   31000       Another               2          0                  0  \n",
       "3       2   31000     Unmarried               3          1                  0  \n",
       "4       2   26000       Married               0          1                  0  "
      ]
     },
     "execution_count": 193,
     "metadata": {},
     "output_type": "execute_result"
    }
   ],
   "source": [
    "# 1. Set path and download data \n",
    "\n",
    "path = os.path.dirname(os.path.abspath('__file__'))\n",
    "data = pd.read_csv(path.replace('project', '')+'data\\\\clients.csv', sep=',' )\n",
    "\n",
    "print('data shape:',data.shape)\n",
    "data.head()"
   ]
  },
  {
   "cell_type": "markdown",
   "metadata": {},
   "source": [
    "#### 2.Main description"
   ]
  },
  {
   "cell_type": "code",
   "execution_count": 194,
   "metadata": {},
   "outputs": [
    {
     "data": {
      "text/html": [
       "<div>\n",
       "<style scoped>\n",
       "    .dataframe tbody tr th:only-of-type {\n",
       "        vertical-align: middle;\n",
       "    }\n",
       "\n",
       "    .dataframe tbody tr th {\n",
       "        vertical-align: top;\n",
       "    }\n",
       "\n",
       "    .dataframe thead th {\n",
       "        text-align: right;\n",
       "    }\n",
       "</style>\n",
       "<table border=\"1\" class=\"dataframe\">\n",
       "  <thead>\n",
       "    <tr style=\"text-align: right;\">\n",
       "      <th></th>\n",
       "      <th>month</th>\n",
       "      <th>credit_amount</th>\n",
       "      <th>credit_term</th>\n",
       "      <th>age</th>\n",
       "      <th>having_children_flg</th>\n",
       "      <th>region</th>\n",
       "      <th>income</th>\n",
       "      <th>phone_operator</th>\n",
       "      <th>is_client</th>\n",
       "      <th>bad_client_target</th>\n",
       "    </tr>\n",
       "  </thead>\n",
       "  <tbody>\n",
       "    <tr>\n",
       "      <th>count</th>\n",
       "      <td>1723.000000</td>\n",
       "      <td>1723.000000</td>\n",
       "      <td>1723.000000</td>\n",
       "      <td>1723.000000</td>\n",
       "      <td>1723.000000</td>\n",
       "      <td>1723.000000</td>\n",
       "      <td>1723.000000</td>\n",
       "      <td>1723.000000</td>\n",
       "      <td>1723.000000</td>\n",
       "      <td>1723.000000</td>\n",
       "    </tr>\n",
       "    <tr>\n",
       "      <th>mean</th>\n",
       "      <td>6.708067</td>\n",
       "      <td>29264.654672</td>\n",
       "      <td>11.546721</td>\n",
       "      <td>35.911782</td>\n",
       "      <td>0.428323</td>\n",
       "      <td>1.681370</td>\n",
       "      <td>32652.350551</td>\n",
       "      <td>1.125363</td>\n",
       "      <td>0.604759</td>\n",
       "      <td>0.113755</td>\n",
       "    </tr>\n",
       "    <tr>\n",
       "      <th>std</th>\n",
       "      <td>3.538420</td>\n",
       "      <td>27926.778301</td>\n",
       "      <td>6.548354</td>\n",
       "      <td>13.120203</td>\n",
       "      <td>0.494979</td>\n",
       "      <td>0.704256</td>\n",
       "      <td>20913.193158</td>\n",
       "      <td>1.015822</td>\n",
       "      <td>0.489044</td>\n",
       "      <td>0.317606</td>\n",
       "    </tr>\n",
       "    <tr>\n",
       "      <th>min</th>\n",
       "      <td>1.000000</td>\n",
       "      <td>5000.000000</td>\n",
       "      <td>3.000000</td>\n",
       "      <td>18.000000</td>\n",
       "      <td>0.000000</td>\n",
       "      <td>0.000000</td>\n",
       "      <td>1000.000000</td>\n",
       "      <td>0.000000</td>\n",
       "      <td>0.000000</td>\n",
       "      <td>0.000000</td>\n",
       "    </tr>\n",
       "    <tr>\n",
       "      <th>25%</th>\n",
       "      <td>3.000000</td>\n",
       "      <td>13000.000000</td>\n",
       "      <td>6.000000</td>\n",
       "      <td>26.000000</td>\n",
       "      <td>0.000000</td>\n",
       "      <td>2.000000</td>\n",
       "      <td>21000.000000</td>\n",
       "      <td>0.000000</td>\n",
       "      <td>0.000000</td>\n",
       "      <td>0.000000</td>\n",
       "    </tr>\n",
       "    <tr>\n",
       "      <th>50%</th>\n",
       "      <td>7.000000</td>\n",
       "      <td>21500.000000</td>\n",
       "      <td>12.000000</td>\n",
       "      <td>32.000000</td>\n",
       "      <td>0.000000</td>\n",
       "      <td>2.000000</td>\n",
       "      <td>27000.000000</td>\n",
       "      <td>1.000000</td>\n",
       "      <td>1.000000</td>\n",
       "      <td>0.000000</td>\n",
       "    </tr>\n",
       "    <tr>\n",
       "      <th>75%</th>\n",
       "      <td>10.000000</td>\n",
       "      <td>34000.000000</td>\n",
       "      <td>12.000000</td>\n",
       "      <td>44.000000</td>\n",
       "      <td>1.000000</td>\n",
       "      <td>2.000000</td>\n",
       "      <td>38000.000000</td>\n",
       "      <td>2.000000</td>\n",
       "      <td>1.000000</td>\n",
       "      <td>0.000000</td>\n",
       "    </tr>\n",
       "    <tr>\n",
       "      <th>max</th>\n",
       "      <td>12.000000</td>\n",
       "      <td>301000.000000</td>\n",
       "      <td>36.000000</td>\n",
       "      <td>90.000000</td>\n",
       "      <td>1.000000</td>\n",
       "      <td>2.000000</td>\n",
       "      <td>401000.000000</td>\n",
       "      <td>4.000000</td>\n",
       "      <td>1.000000</td>\n",
       "      <td>1.000000</td>\n",
       "    </tr>\n",
       "  </tbody>\n",
       "</table>\n",
       "</div>"
      ],
      "text/plain": [
       "             month  credit_amount  credit_term          age  \\\n",
       "count  1723.000000    1723.000000  1723.000000  1723.000000   \n",
       "mean      6.708067   29264.654672    11.546721    35.911782   \n",
       "std       3.538420   27926.778301     6.548354    13.120203   \n",
       "min       1.000000    5000.000000     3.000000    18.000000   \n",
       "25%       3.000000   13000.000000     6.000000    26.000000   \n",
       "50%       7.000000   21500.000000    12.000000    32.000000   \n",
       "75%      10.000000   34000.000000    12.000000    44.000000   \n",
       "max      12.000000  301000.000000    36.000000    90.000000   \n",
       "\n",
       "       having_children_flg       region         income  phone_operator  \\\n",
       "count          1723.000000  1723.000000    1723.000000     1723.000000   \n",
       "mean              0.428323     1.681370   32652.350551        1.125363   \n",
       "std               0.494979     0.704256   20913.193158        1.015822   \n",
       "min               0.000000     0.000000    1000.000000        0.000000   \n",
       "25%               0.000000     2.000000   21000.000000        0.000000   \n",
       "50%               0.000000     2.000000   27000.000000        1.000000   \n",
       "75%               1.000000     2.000000   38000.000000        2.000000   \n",
       "max               1.000000     2.000000  401000.000000        4.000000   \n",
       "\n",
       "         is_client  bad_client_target  \n",
       "count  1723.000000        1723.000000  \n",
       "mean      0.604759           0.113755  \n",
       "std       0.489044           0.317606  \n",
       "min       0.000000           0.000000  \n",
       "25%       0.000000           0.000000  \n",
       "50%       1.000000           0.000000  \n",
       "75%       1.000000           0.000000  \n",
       "max       1.000000           1.000000  "
      ]
     },
     "execution_count": 194,
     "metadata": {},
     "output_type": "execute_result"
    }
   ],
   "source": [
    "# 1. Main description\n",
    "data.describe()"
   ]
  },
  {
   "cell_type": "code",
   "execution_count": 195,
   "metadata": {
    "scrolled": true
   },
   "outputs": [
    {
     "data": {
      "text/plain": [
       "month                  0\n",
       "credit_amount          0\n",
       "credit_term            0\n",
       "age                    0\n",
       "sex                    0\n",
       "education              0\n",
       "product_type           0\n",
       "having_children_flg    0\n",
       "region                 0\n",
       "income                 0\n",
       "family_status          0\n",
       "phone_operator         0\n",
       "is_client              0\n",
       "bad_client_target      0\n",
       "dtype: int64"
      ]
     },
     "execution_count": 195,
     "metadata": {},
     "output_type": "execute_result"
    }
   ],
   "source": [
    "# 2. Look at NA\n",
    "data.isna().sum()\n"
   ]
  },
  {
   "cell_type": "code",
   "execution_count": 196,
   "metadata": {
    "scrolled": true
   },
   "outputs": [
    {
     "name": "stdout",
     "output_type": "stream",
     "text": [
      "<class 'pandas.core.frame.DataFrame'>\n",
      "RangeIndex: 1723 entries, 0 to 1722\n",
      "Data columns (total 14 columns):\n",
      " #   Column               Non-Null Count  Dtype \n",
      "---  ------               --------------  ----- \n",
      " 0   month                1723 non-null   int64 \n",
      " 1   credit_amount        1723 non-null   int64 \n",
      " 2   credit_term          1723 non-null   int64 \n",
      " 3   age                  1723 non-null   int64 \n",
      " 4   sex                  1723 non-null   object\n",
      " 5   education            1723 non-null   object\n",
      " 6   product_type         1723 non-null   object\n",
      " 7   having_children_flg  1723 non-null   int64 \n",
      " 8   region               1723 non-null   int64 \n",
      " 9   income               1723 non-null   int64 \n",
      " 10  family_status        1723 non-null   object\n",
      " 11  phone_operator       1723 non-null   int64 \n",
      " 12  is_client            1723 non-null   int64 \n",
      " 13  bad_client_target    1723 non-null   int64 \n",
      "dtypes: int64(10), object(4)\n",
      "memory usage: 188.6+ KB\n"
     ]
    }
   ],
   "source": [
    "data.info()"
   ]
  },
  {
   "cell_type": "markdown",
   "metadata": {},
   "source": [
    "#### Conclusion:\n",
    "1. No problem with na\n",
    "2. We can change type for sex and family_status"
   ]
  },
  {
   "cell_type": "markdown",
   "metadata": {},
   "source": [
    "#### 3. Look at dependent variable"
   ]
  },
  {
   "cell_type": "code",
   "execution_count": 197,
   "metadata": {},
   "outputs": [
    {
     "data": {
      "text/plain": [
       "0    1527\n",
       "1     196\n",
       "Name: bad_client_target, dtype: int64"
      ]
     },
     "execution_count": 197,
     "metadata": {},
     "output_type": "execute_result"
    },
    {
     "data": {
      "image/png": "[encoded data removed]",
      "text/plain": [
       "<Figure size 432x288 with 1 Axes>"
      ]
     },
     "metadata": {
      "needs_background": "light"
     },
     "output_type": "display_data"
    }
   ],
   "source": [
    "data['bad_client_target'].value_counts().plot(kind='bar');\n",
    "data.bad_client_target.value_counts()"
   ]
  },
  {
   "cell_type": "markdown",
   "metadata": {},
   "source": [
    "#### Conclusion:\n",
    "1. There is an imbalance problem"
   ]
  },
  {
   "cell_type": "markdown",
   "metadata": {},
   "source": [
    "#### 4. Look at independent variable"
   ]
  },
  {
   "cell_type": "code",
   "execution_count": 198,
   "metadata": {},
   "outputs": [
    {
     "name": "stdout",
     "output_type": "stream",
     "text": [
      "Analyzed feature:  month\n"
     ]
    },
    {
     "data": {
      "image/png": "[encoded data removed]",
      "text/plain": [
       "<Figure size 432x288 with 1 Axes>"
      ]
     },
     "metadata": {
      "needs_background": "light"
     },
     "output_type": "display_data"
    },
    {
     "data": {
      "image/png": "[encoded data removed]",
      "text/plain": [
       "<Figure size 360x360 with 1 Axes>"
      ]
     },
     "metadata": {
      "needs_background": "light"
     },
     "output_type": "display_data"
    }
   ],
   "source": [
    "# 1. feature\n",
    "\n",
    "feature = data.columns[0]\n",
    "feature_description(feature, data,barplot =True)"
   ]
  },
  {
   "cell_type": "markdown",
   "metadata": {},
   "source": [
    "#### Conclusion:\n",
    "1. Majority bad clients in december\n",
    "2. Minority in July"
   ]
  },
  {
   "cell_type": "code",
   "execution_count": 199,
   "metadata": {},
   "outputs": [
    {
     "name": "stdout",
     "output_type": "stream",
     "text": [
      "Analyzed feature:  credit_amount\n"
     ]
    },
    {
     "data": {
      "image/png": "[encoded data removed]",
      "text/plain": [
       "<Figure size 720x360 with 1 Axes>"
      ]
     },
     "metadata": {
      "needs_background": "light"
     },
     "output_type": "display_data"
    },
    {
     "data": {
      "image/png": "[encoded data removed]",
      "text/plain": [
       "<Figure size 360x360 with 1 Axes>"
      ]
     },
     "metadata": {
      "needs_background": "light"
     },
     "output_type": "display_data"
    }
   ],
   "source": [
    "# 2. feature\n",
    "\n",
    "feature = data.columns[1]\n",
    "feature_description(feature, data)"
   ]
  },
  {
   "cell_type": "code",
   "execution_count": 200,
   "metadata": {},
   "outputs": [],
   "source": [
    "# change data\n",
    "data['big_credit_amount'] = np.where(data[feature] < np.quantile(data[feature],0.95), 0, 1)"
   ]
  },
  {
   "cell_type": "code",
   "execution_count": 201,
   "metadata": {},
   "outputs": [
    {
     "name": "stdout",
     "output_type": "stream",
     "text": [
      "Analyzed feature:  credit_term\n"
     ]
    },
    {
     "data": {
      "image/png": "[encoded data removed]",
      "text/plain": [
       "<Figure size 432x288 with 1 Axes>"
      ]
     },
     "metadata": {
      "needs_background": "light"
     },
     "output_type": "display_data"
    },
    {
     "data": {
      "image/png": "[encoded data removed]",
      "text/plain": [
       "<Figure size 360x360 with 1 Axes>"
      ]
     },
     "metadata": {
      "needs_background": "light"
     },
     "output_type": "display_data"
    }
   ],
   "source": [
    "# feature\n",
    "\n",
    "feature = data.columns[2]\n",
    "feature_description(feature, data,barplot =True)"
   ]
  },
  {
   "cell_type": "markdown",
   "metadata": {},
   "source": [
    "#### Conclusion:\n",
    "1. Almost 100% bad clents with credit term = 27 but the q of them is not enoght\n",
    "2. It is good to create a feature wich show that credit term is high\n",
    "3. The share of bad clients higher for long term"
   ]
  },
  {
   "cell_type": "code",
   "execution_count": 202,
   "metadata": {},
   "outputs": [
    {
     "name": "stdout",
     "output_type": "stream",
     "text": [
      "Analyzed feature:  age\n"
     ]
    },
    {
     "data": {
      "image/png": "[encoded data removed]",
      "text/plain": [
       "<Figure size 720x360 with 1 Axes>"
      ]
     },
     "metadata": {
      "needs_background": "light"
     },
     "output_type": "display_data"
    },
    {
     "data": {
      "image/png": "[encoded data removed]",
      "text/plain": [
       "<Figure size 360x360 with 1 Axes>"
      ]
     },
     "metadata": {
      "needs_background": "light"
     },
     "output_type": "display_data"
    }
   ],
   "source": [
    "# feature\n",
    "\n",
    "feature = data.columns[3]\n",
    "feature_description(feature, data)"
   ]
  },
  {
   "cell_type": "markdown",
   "metadata": {},
   "source": [
    "#### Conclusion:\n",
    "Younger people are more likely bad clients"
   ]
  },
  {
   "cell_type": "code",
   "execution_count": 203,
   "metadata": {},
   "outputs": [
    {
     "name": "stdout",
     "output_type": "stream",
     "text": [
      "Analyzed feature:  sex\n"
     ]
    },
    {
     "data": {
      "image/png": "[encoded data removed]",
      "text/plain": [
       "<Figure size 432x288 with 1 Axes>"
      ]
     },
     "metadata": {
      "needs_background": "light"
     },
     "output_type": "display_data"
    },
    {
     "data": {
      "image/png": "[encoded data removed]",
      "text/plain": [
       "<Figure size 360x360 with 1 Axes>"
      ]
     },
     "metadata": {
      "needs_background": "light"
     },
     "output_type": "display_data"
    }
   ],
   "source": [
    "# feature\n",
    "\n",
    "feature = data.columns[4]\n",
    "feature_description(feature, data)"
   ]
  },
  {
   "cell_type": "code",
   "execution_count": 204,
   "metadata": {},
   "outputs": [],
   "source": [
    "# change data\n",
    "data['is_male'] = np.where(data[feature].isin(['male']), 1,0)\n"
   ]
  },
  {
   "cell_type": "markdown",
   "metadata": {},
   "source": [
    "#### Conclusion:\n",
    "Female are more likely bad clients"
   ]
  },
  {
   "cell_type": "code",
   "execution_count": 205,
   "metadata": {
    "scrolled": false
   },
   "outputs": [
    {
     "name": "stdout",
     "output_type": "stream",
     "text": [
      "Analyzed feature:  education\n"
     ]
    },
    {
     "data": {
      "image/png": "[encoded data removed]",
      "text/plain": [
       "<Figure size 432x288 with 1 Axes>"
      ]
     },
     "metadata": {
      "needs_background": "light"
     },
     "output_type": "display_data"
    },
    {
     "data": {
      "image/png": "[encoded data removed]",
      "text/plain": [
       "<Figure size 360x360 with 1 Axes>"
      ]
     },
     "metadata": {
      "needs_background": "light"
     },
     "output_type": "display_data"
    }
   ],
   "source": [
    "# feature\n",
    "\n",
    "feature = data.columns[5]\n",
    "feature_description(feature, data)"
   ]
  },
  {
   "cell_type": "code",
   "execution_count": 206,
   "metadata": {},
   "outputs": [],
   "source": [
    "# change data\n",
    "data[feature] = np.where(data[feature].isin(['PhD degree', 'Incomplete secondary education']), 'Other', data[feature])\n"
   ]
  },
  {
   "cell_type": "markdown",
   "metadata": {},
   "source": [
    "#### Conclusion:\n",
    "Bad education influences on type of clint in a negative way"
   ]
  },
  {
   "cell_type": "code",
   "execution_count": 207,
   "metadata": {},
   "outputs": [
    {
     "name": "stdout",
     "output_type": "stream",
     "text": [
      "Analyzed feature:  product_type\n"
     ]
    },
    {
     "data": {
      "image/png": "[encoded data removed]",
      "text/plain": [
       "<Figure size 432x288 with 1 Axes>"
      ]
     },
     "metadata": {
      "needs_background": "light"
     },
     "output_type": "display_data"
    },
    {
     "data": {
      "image/png": "[encoded data removed]",
      "text/plain": [
       "<Figure size 360x360 with 1 Axes>"
      ]
     },
     "metadata": {
      "needs_background": "light"
     },
     "output_type": "display_data"
    }
   ],
   "source": [
    "# feature\n",
    "\n",
    "feature = data.columns[6]\n",
    "feature_description(feature, data)"
   ]
  },
  {
   "cell_type": "code",
   "execution_count": 208,
   "metadata": {},
   "outputs": [],
   "source": [
    "data[feature] = np.where(data[feature].isin(['Cell phones']), 'Cell phones', \n",
    "                         np.where(data[feature].isin(['Household appliances']), 'Household appliances',\n",
    "                                  np.where(data[feature].isin(['Computers']), 'Computers',\n",
    "                                           np.where(data[feature].isin(['Furniture']), 'Furniture',\n",
    "                                                    np.where(data[feature].isin(['Clothing']), 'Clothing',\n",
    "                                                             np.where(data[feature].isin(['Cosmetics and beauty services']), 'Cosmetics',\n",
    "                                                                      'Other'))))))\n"
   ]
  },
  {
   "cell_type": "code",
   "execution_count": 209,
   "metadata": {},
   "outputs": [
    {
     "name": "stdout",
     "output_type": "stream",
     "text": [
      "Analyzed feature:  product_type\n"
     ]
    },
    {
     "data": {
      "image/png": "[encoded data removed]",
      "text/plain": [
       "<Figure size 432x288 with 1 Axes>"
      ]
     },
     "metadata": {
      "needs_background": "light"
     },
     "output_type": "display_data"
    },
    {
     "data": {
      "image/png": "[encoded data removed]",
      "text/plain": [
       "<Figure size 360x360 with 1 Axes>"
      ]
     },
     "metadata": {
      "needs_background": "light"
     },
     "output_type": "display_data"
    }
   ],
   "source": [
    "# feature\n",
    "\n",
    "feature = data.columns[6]\n",
    "feature_description(feature, data)"
   ]
  },
  {
   "cell_type": "code",
   "execution_count": 210,
   "metadata": {},
   "outputs": [
    {
     "name": "stdout",
     "output_type": "stream",
     "text": [
      "Analyzed feature:  having_children_flg\n"
     ]
    },
    {
     "data": {
      "image/png": "[encoded data removed]",
      "text/plain": [
       "<Figure size 432x288 with 1 Axes>"
      ]
     },
     "metadata": {
      "needs_background": "light"
     },
     "output_type": "display_data"
    },
    {
     "data": {
      "image/png": "[encoded data removed]",
      "text/plain": [
       "<Figure size 360x360 with 1 Axes>"
      ]
     },
     "metadata": {
      "needs_background": "light"
     },
     "output_type": "display_data"
    }
   ],
   "source": [
    "# feature\n",
    "\n",
    "feature = data.columns[7]\n",
    "feature_description(feature, data, barplot= True)"
   ]
  },
  {
   "cell_type": "markdown",
   "metadata": {},
   "source": [
    "#### Conclusion:\n",
    "If a clent has a children it is more likely that he/she is not a bad client"
   ]
  },
  {
   "cell_type": "code",
   "execution_count": 211,
   "metadata": {},
   "outputs": [
    {
     "name": "stdout",
     "output_type": "stream",
     "text": [
      "Analyzed feature:  region\n"
     ]
    },
    {
     "data": {
      "image/png": "[encoded data removed]",
      "text/plain": [
       "<Figure size 432x288 with 1 Axes>"
      ]
     },
     "metadata": {
      "needs_background": "light"
     },
     "output_type": "display_data"
    },
    {
     "data": {
      "image/png": "[encoded data removed]",
      "text/plain": [
       "<Figure size 360x360 with 1 Axes>"
      ]
     },
     "metadata": {
      "needs_background": "light"
     },
     "output_type": "display_data"
    }
   ],
   "source": [
    "# feature\n",
    "\n",
    "feature = data.columns[8]\n",
    "feature_description(feature, data, barplot= True)"
   ]
  },
  {
   "cell_type": "code",
   "execution_count": 212,
   "metadata": {},
   "outputs": [
    {
     "name": "stdout",
     "output_type": "stream",
     "text": [
      "Analyzed feature:  income\n"
     ]
    },
    {
     "data": {
      "image/png": "[encoded data removed]",
      "text/plain": [
       "<Figure size 720x360 with 1 Axes>"
      ]
     },
     "metadata": {
      "needs_background": "light"
     },
     "output_type": "display_data"
    },
    {
     "data": {
      "image/png": "[encoded data removed]",
      "text/plain": [
       "<Figure size 360x360 with 1 Axes>"
      ]
     },
     "metadata": {
      "needs_background": "light"
     },
     "output_type": "display_data"
    }
   ],
   "source": [
    "# feature\n",
    "\n",
    "feature = data.columns[9]\n",
    "feature_description(feature, data)"
   ]
  },
  {
   "cell_type": "code",
   "execution_count": 213,
   "metadata": {},
   "outputs": [],
   "source": [
    "# change data\n",
    "data['big_income'] = np.where(data[feature] < np.quantile(data[feature],0.95), 0, 1)"
   ]
  },
  {
   "cell_type": "code",
   "execution_count": 214,
   "metadata": {},
   "outputs": [
    {
     "name": "stdout",
     "output_type": "stream",
     "text": [
      "Analyzed feature:  family_status\n"
     ]
    },
    {
     "data": {
      "image/png": "[encoded data removed]",
      "text/plain": [
       "<Figure size 432x288 with 1 Axes>"
      ]
     },
     "metadata": {
      "needs_background": "light"
     },
     "output_type": "display_data"
    },
    {
     "data": {
      "image/png": "[encoded data removed]",
      "text/plain": [
       "<Figure size 360x360 with 1 Axes>"
      ]
     },
     "metadata": {
      "needs_background": "light"
     },
     "output_type": "display_data"
    }
   ],
   "source": [
    "# feature\n",
    "\n",
    "feature = data.columns[10]\n",
    "feature_description(feature, data)"
   ]
  },
  {
   "cell_type": "markdown",
   "metadata": {},
   "source": [
    "#### Conclusion:\n",
    " If a clent is married it is more likely that he/she is not a bad client"
   ]
  },
  {
   "cell_type": "code",
   "execution_count": 215,
   "metadata": {},
   "outputs": [
    {
     "name": "stdout",
     "output_type": "stream",
     "text": [
      "Analyzed feature:  phone_operator\n"
     ]
    },
    {
     "data": {
      "image/png": "[encoded data removed]",
      "text/plain": [
       "<Figure size 432x288 with 1 Axes>"
      ]
     },
     "metadata": {
      "needs_background": "light"
     },
     "output_type": "display_data"
    },
    {
     "data": {
      "image/png": "[encoded data removed]",
      "text/plain": [
       "<Figure size 360x360 with 1 Axes>"
      ]
     },
     "metadata": {
      "needs_background": "light"
     },
     "output_type": "display_data"
    }
   ],
   "source": [
    "# feature\n",
    "\n",
    "feature = data.columns[11]\n",
    "feature_description(feature, data, barplot= True)"
   ]
  },
  {
   "cell_type": "code",
   "execution_count": 216,
   "metadata": {},
   "outputs": [
    {
     "name": "stdout",
     "output_type": "stream",
     "text": [
      "Analyzed feature:  is_client\n"
     ]
    },
    {
     "data": {
      "image/png": "[encoded data removed]",
      "text/plain": [
       "<Figure size 432x288 with 1 Axes>"
      ]
     },
     "metadata": {
      "needs_background": "light"
     },
     "output_type": "display_data"
    },
    {
     "data": {
      "image/png": "[encoded data removed]",
      "text/plain": [
       "<Figure size 360x360 with 1 Axes>"
      ]
     },
     "metadata": {
      "needs_background": "light"
     },
     "output_type": "display_data"
    }
   ],
   "source": [
    "# feature\n",
    "\n",
    "feature = data.columns[12]\n",
    "feature_description(feature, data, barplot= True)"
   ]
  },
  {
   "cell_type": "markdown",
   "metadata": {},
   "source": [
    "#### Conclusion:\n",
    "If a clent is is_clents it is more likely that he/she is not a bad client"
   ]
  },
  {
   "cell_type": "markdown",
   "metadata": {},
   "source": [
    "#### 5. Delete useless vars and make new column"
   ]
  },
  {
   "cell_type": "code",
   "execution_count": 217,
   "metadata": {},
   "outputs": [],
   "source": [
    "data = data.drop(['sex'], axis =1)\n",
    "# data['id'] = np.arange(0,len(data))\n",
    "\n"
   ]
  },
  {
   "cell_type": "markdown",
   "metadata": {},
   "source": [
    "### Part 2. Preprocessing"
   ]
  },
  {
   "cell_type": "markdown",
   "metadata": {},
   "source": [
    "#### 2.1 One-hot-encoding"
   ]
  },
  {
   "cell_type": "code",
   "execution_count": 218,
   "metadata": {},
   "outputs": [],
   "source": [
    "# OHE\n",
    "data = encode_and_bind(data , 'education')\n",
    "data = encode_and_bind(data , 'product_type')\n",
    "data = encode_and_bind(data , 'family_status')"
   ]
  },
  {
   "cell_type": "code",
   "execution_count": 219,
   "metadata": {},
   "outputs": [],
   "source": [
    "# Swap data\n",
    "data = data[['bad_client_target', 'month', 'credit_amount', 'credit_term', 'age', 'having_children_flg',\n",
    "       'region', 'income', 'phone_operator', 'is_client',\n",
    "       'big_credit_amount', 'is_male', 'big_income', \n",
    "       'education_Higher education', 'education_Incomplete higher education',\n",
    "       'education_Other', 'education_Secondary education',\n",
    "       'education_Secondary special education', 'product_type_Cell phones',\n",
    "       'product_type_Clothing', 'product_type_Computers',\n",
    "       'product_type_Cosmetics', 'product_type_Furniture',\n",
    "       'product_type_Household appliances', 'product_type_Other',\n",
    "       'family_status_Another', 'family_status_Married',\n",
    "       'family_status_Unmarried']]\n",
    "\n",
    "data =  data.rename(columns={'bad_client_target':'y'})"
   ]
  },
  {
   "cell_type": "markdown",
   "metadata": {},
   "source": [
    "#### 2.2 Train and test split"
   ]
  },
  {
   "cell_type": "code",
   "execution_count": 220,
   "metadata": {
    "scrolled": true
   },
   "outputs": [
    {
     "name": "stdout",
     "output_type": "stream",
     "text": [
      "(1206, 27)\n",
      "(517, 27)\n"
     ]
    }
   ],
   "source": [
    "# split data on target and X\n",
    "train = data.iloc[:,1:]\n",
    "y = data.y\n",
    "\n",
    "\n",
    "# split data on train data set\n",
    "x_train, x_test, y_train, y_test = train_test_split(train,  y, test_size=0.3, random_state=42);\n",
    "print(x_train.shape)\n",
    "print(x_test.shape)\n"
   ]
  },
  {
   "cell_type": "markdown",
   "metadata": {},
   "source": [
    "### Part 2. Moddelling. Naive XGBoost"
   ]
  },
  {
   "cell_type": "code",
   "execution_count": 221,
   "metadata": {},
   "outputs": [
    {
     "name": "stdout",
     "output_type": "stream",
     "text": [
      "AUC:  0.68\n",
      "recall:  0.18\n",
      "[[432  30]\n",
      " [ 45  10]]\n",
      "Wall time: 129 ms\n"
     ]
    }
   ],
   "source": [
    "%%time\n",
    "\n",
    "threshold = 0.25\n",
    "# 1. fitting \n",
    "\n",
    "xg_reg = xgb.XGBClassifier( n_jobs=5, random_state=777, objective='reg:logistic', use_label_encoder=False)\n",
    "xg_reg.fit(x_train, y_train)\n",
    "\n",
    "\n",
    "# 2. Prediction\n",
    "prediction = xg_reg.predict_proba(x_test)[:, 1]\n",
    "fpr, tpr, thresholds = roc_curve(y_test, prediction)\n",
    "print('AUC: ', round(auc(fpr, tpr),2))\n",
    "\n",
    "\n",
    "# 3. Prediction + threshold\n",
    "prediction = np.where(prediction < threshold, 0, 1)\n",
    "\n",
    "\n",
    "print('recall: ', round(recall_score(y_pred = prediction, y_true = y_test),2))\n",
    "print(confusion_matrix(y_test, prediction))\n"
   ]
  },
  {
   "cell_type": "markdown",
   "metadata": {},
   "source": [
    "#### 2.3 Feature importance "
   ]
  },
  {
   "cell_type": "code",
   "execution_count": 222,
   "metadata": {},
   "outputs": [
    {
     "data": {
      "text/html": [
       "<div>\n",
       "<style scoped>\n",
       "    .dataframe tbody tr th:only-of-type {\n",
       "        vertical-align: middle;\n",
       "    }\n",
       "\n",
       "    .dataframe tbody tr th {\n",
       "        vertical-align: top;\n",
       "    }\n",
       "\n",
       "    .dataframe thead th {\n",
       "        text-align: right;\n",
       "    }\n",
       "</style>\n",
       "<table border=\"1\" class=\"dataframe\">\n",
       "  <thead>\n",
       "    <tr style=\"text-align: right;\">\n",
       "      <th></th>\n",
       "      <th>score</th>\n",
       "    </tr>\n",
       "  </thead>\n",
       "  <tbody>\n",
       "    <tr>\n",
       "      <th>credit_amount</th>\n",
       "      <td>407</td>\n",
       "    </tr>\n",
       "    <tr>\n",
       "      <th>age</th>\n",
       "      <td>315</td>\n",
       "    </tr>\n",
       "    <tr>\n",
       "      <th>income</th>\n",
       "      <td>260</td>\n",
       "    </tr>\n",
       "    <tr>\n",
       "      <th>month</th>\n",
       "      <td>209</td>\n",
       "    </tr>\n",
       "    <tr>\n",
       "      <th>credit_term</th>\n",
       "      <td>125</td>\n",
       "    </tr>\n",
       "    <tr>\n",
       "      <th>phone_operator</th>\n",
       "      <td>111</td>\n",
       "    </tr>\n",
       "    <tr>\n",
       "      <th>product_type_Cell phones</th>\n",
       "      <td>52</td>\n",
       "    </tr>\n",
       "    <tr>\n",
       "      <th>education_Secondary special education</th>\n",
       "      <td>44</td>\n",
       "    </tr>\n",
       "    <tr>\n",
       "      <th>having_children_flg</th>\n",
       "      <td>41</td>\n",
       "    </tr>\n",
       "    <tr>\n",
       "      <th>family_status_Married</th>\n",
       "      <td>41</td>\n",
       "    </tr>\n",
       "    <tr>\n",
       "      <th>is_male</th>\n",
       "      <td>40</td>\n",
       "    </tr>\n",
       "    <tr>\n",
       "      <th>family_status_Another</th>\n",
       "      <td>36</td>\n",
       "    </tr>\n",
       "    <tr>\n",
       "      <th>education_Secondary education</th>\n",
       "      <td>34</td>\n",
       "    </tr>\n",
       "    <tr>\n",
       "      <th>is_client</th>\n",
       "      <td>31</td>\n",
       "    </tr>\n",
       "    <tr>\n",
       "      <th>product_type_Household appliances</th>\n",
       "      <td>25</td>\n",
       "    </tr>\n",
       "    <tr>\n",
       "      <th>product_type_Other</th>\n",
       "      <td>23</td>\n",
       "    </tr>\n",
       "    <tr>\n",
       "      <th>education_Higher education</th>\n",
       "      <td>23</td>\n",
       "    </tr>\n",
       "    <tr>\n",
       "      <th>region</th>\n",
       "      <td>17</td>\n",
       "    </tr>\n",
       "    <tr>\n",
       "      <th>product_type_Computers</th>\n",
       "      <td>15</td>\n",
       "    </tr>\n",
       "    <tr>\n",
       "      <th>family_status_Unmarried</th>\n",
       "      <td>8</td>\n",
       "    </tr>\n",
       "    <tr>\n",
       "      <th>education_Incomplete higher education</th>\n",
       "      <td>5</td>\n",
       "    </tr>\n",
       "    <tr>\n",
       "      <th>product_type_Cosmetics</th>\n",
       "      <td>5</td>\n",
       "    </tr>\n",
       "    <tr>\n",
       "      <th>product_type_Furniture</th>\n",
       "      <td>1</td>\n",
       "    </tr>\n",
       "  </tbody>\n",
       "</table>\n",
       "</div>"
      ],
      "text/plain": [
       "                                       score\n",
       "credit_amount                            407\n",
       "age                                      315\n",
       "income                                   260\n",
       "month                                    209\n",
       "credit_term                              125\n",
       "phone_operator                           111\n",
       "product_type_Cell phones                  52\n",
       "education_Secondary special education     44\n",
       "having_children_flg                       41\n",
       "family_status_Married                     41\n",
       "is_male                                   40\n",
       "family_status_Another                     36\n",
       "education_Secondary education             34\n",
       "is_client                                 31\n",
       "product_type_Household appliances         25\n",
       "product_type_Other                        23\n",
       "education_Higher education                23\n",
       "region                                    17\n",
       "product_type_Computers                    15\n",
       "family_status_Unmarried                    8\n",
       "education_Incomplete higher education      5\n",
       "product_type_Cosmetics                     5\n",
       "product_type_Furniture                     1"
      ]
     },
     "execution_count": 222,
     "metadata": {},
     "output_type": "execute_result"
    },
    {
     "data": {
      "image/png": "[encoded data removed]",
      "text/plain": [
       "<Figure size 432x288 with 1 Axes>"
      ]
     },
     "metadata": {
      "needs_background": "light"
     },
     "output_type": "display_data"
    }
   ],
   "source": [
    "# 1. Select data with feature_importants\n",
    "\n",
    "feature_important(xg_reg)"
   ]
  },
  {
   "cell_type": "code",
   "execution_count": 223,
   "metadata": {},
   "outputs": [],
   "source": [
    "# 3. Select need features\n",
    "threshold = 38\n",
    "\n",
    "data = data.reset_index()\n",
    "data = data[data.score>threshold]\n",
    "columns = list(data['index'])\n",
    "\n",
    "\n",
    "# 4. Select only interesting columns duruing training\n",
    "x_train = x_train[columns]\n",
    "x_test = x_test[x_train.columns]"
   ]
  },
  {
   "cell_type": "markdown",
   "metadata": {},
   "source": [
    "#### 2.4 Naive XGBoost model with prune data"
   ]
  },
  {
   "cell_type": "code",
   "execution_count": 224,
   "metadata": {},
   "outputs": [
    {
     "name": "stdout",
     "output_type": "stream",
     "text": [
      "AUC:  0.69\n",
      "recall:  0.22\n",
      "[[421  41]\n",
      " [ 43  12]]\n",
      "Wall time: 118 ms\n"
     ]
    }
   ],
   "source": [
    "%%time\n",
    "\n",
    "threshold = 0.25\n",
    "# 1. fitting \n",
    "\n",
    "xg_reg = xgb.XGBClassifier( n_jobs=5, random_state=777, objective='reg:logistic', use_label_encoder=False)\n",
    "xg_reg.fit(x_train, y_train)\n",
    "\n",
    "\n",
    "# 2. Prediction\n",
    "prediction = xg_reg.predict_proba(x_test)[:, 1]\n",
    "fpr, tpr, thresholds = roc_curve(y_test, prediction)\n",
    "print('AUC: ', round(auc(fpr, tpr),2))\n",
    "\n",
    "\n",
    "# 3. Prediction + threshold\n",
    "prediction = np.where(prediction < threshold, 0, 1)\n",
    "\n",
    "\n",
    "print('recall: ', round(recall_score(y_pred = prediction, y_true = y_test),2))\n",
    "print(confusion_matrix(y_test, prediction))"
   ]
  },
  {
   "cell_type": "markdown",
   "metadata": {},
   "source": [
    "#### 2.5 Grid Search"
   ]
  },
  {
   "cell_type": "code",
   "execution_count": 225,
   "metadata": {},
   "outputs": [
    {
     "name": "stdout",
     "output_type": "stream",
     "text": [
      "(240, 11)\n"
     ]
    }
   ],
   "source": [
    "# 1. Determine param for GS\n",
    "learning_rate = [0.01,0.1,0.2,0.3] \n",
    "max_depth = [5,7,3] \n",
    "n_estimators = [100,200] \n",
    "subsample=  [1,0.75] \n",
    "colsample_bytree = [ 1]\n",
    "gamma = [0.25, 0.1,0.2,0.3, 0]\n",
    "i_index = [ 0]\n",
    "\n",
    "\n",
    "\n",
    "# 2. Create GS table\n",
    "GS_table(learning_rate, max_depth, n_estimators, subsample, colsample_bytree, gamma,i_index  )"
   ]
  },
  {
   "cell_type": "code",
   "execution_count": 226,
   "metadata": {},
   "outputs": [],
   "source": [
    "# 3. Data and folds fo GS\n",
    "data = x_train.copy()\n",
    "data['y'] = y_train \n",
    "\n",
    "# 3.1 Create folds\n",
    "random.seed(777)\n",
    "value = []\n",
    "for i in range(0,len(data)):\n",
    "    value.append(random.randint(1,3))\n",
    "data['fold'] = value"
   ]
  },
  {
   "cell_type": "code",
   "execution_count": 227,
   "metadata": {
    "scrolled": true
   },
   "outputs": [
    {
     "name": "stdout",
     "output_type": "stream",
     "text": [
      "0\n",
      "1\n",
      "2\n",
      "3\n",
      "4\n",
      "5\n",
      "6\n",
      "7\n",
      "8\n",
      "9\n",
      "10\n",
      "11\n",
      "12\n",
      "13\n",
      "14\n",
      "15\n",
      "16\n",
      "17\n",
      "18\n",
      "19\n",
      "20\n",
      "21\n",
      "22\n",
      "23\n",
      "24\n",
      "25\n",
      "26\n",
      "27\n",
      "28\n",
      "29\n",
      "30\n",
      "31\n",
      "32\n",
      "33\n",
      "34\n",
      "35\n",
      "36\n",
      "37\n",
      "38\n",
      "39\n",
      "40\n",
      "41\n",
      "42\n",
      "43\n",
      "44\n",
      "45\n",
      "46\n",
      "47\n",
      "48\n",
      "49\n",
      "50\n",
      "51\n",
      "52\n",
      "53\n",
      "54\n",
      "55\n",
      "56\n",
      "57\n",
      "58\n",
      "59\n",
      "60\n",
      "61\n",
      "62\n",
      "63\n",
      "64\n",
      "65\n",
      "66\n",
      "67\n",
      "68\n",
      "69\n",
      "70\n",
      "71\n",
      "72\n",
      "73\n",
      "74\n",
      "75\n",
      "76\n",
      "77\n",
      "78\n",
      "79\n",
      "80\n",
      "81\n",
      "82\n",
      "83\n",
      "84\n",
      "85\n",
      "86\n",
      "87\n",
      "88\n",
      "89\n",
      "90\n",
      "91\n",
      "92\n",
      "93\n",
      "94\n",
      "95\n",
      "96\n",
      "97\n",
      "98\n",
      "99\n",
      "100\n",
      "101\n",
      "102\n",
      "103\n",
      "104\n",
      "105\n",
      "106\n",
      "107\n",
      "108\n",
      "109\n",
      "110\n",
      "111\n",
      "112\n",
      "113\n",
      "114\n",
      "115\n",
      "116\n",
      "117\n",
      "118\n",
      "119\n",
      "120\n",
      "121\n",
      "122\n",
      "123\n",
      "124\n",
      "125\n",
      "126\n",
      "127\n",
      "128\n",
      "129\n",
      "130\n",
      "131\n",
      "132\n",
      "133\n",
      "134\n",
      "135\n",
      "136\n",
      "137\n",
      "138\n",
      "139\n",
      "140\n",
      "141\n",
      "142\n",
      "143\n",
      "144\n",
      "145\n",
      "146\n",
      "147\n",
      "148\n",
      "149\n",
      "150\n",
      "151\n",
      "152\n",
      "153\n",
      "154\n",
      "155\n",
      "156\n",
      "157\n",
      "158\n",
      "159\n",
      "160\n",
      "161\n",
      "162\n",
      "163\n",
      "164\n",
      "165\n",
      "166\n",
      "167\n",
      "168\n",
      "169\n",
      "170\n",
      "171\n",
      "172\n",
      "173\n",
      "174\n",
      "175\n",
      "176\n",
      "177\n",
      "178\n",
      "179\n",
      "180\n",
      "181\n",
      "182\n",
      "183\n",
      "184\n",
      "185\n",
      "186\n",
      "187\n",
      "188\n",
      "189\n",
      "190\n",
      "191\n",
      "192\n",
      "193\n",
      "194\n",
      "195\n",
      "196\n",
      "197\n",
      "198\n",
      "199\n",
      "200\n",
      "201\n",
      "202\n",
      "203\n",
      "204\n",
      "205\n",
      "206\n",
      "207\n",
      "208\n",
      "209\n",
      "210\n",
      "211\n",
      "212\n",
      "213\n",
      "214\n",
      "215\n",
      "216\n",
      "217\n",
      "218\n",
      "219\n",
      "220\n",
      "221\n",
      "222\n",
      "223\n",
      "224\n",
      "225\n",
      "226\n",
      "227\n",
      "228\n",
      "229\n",
      "230\n",
      "231\n",
      "232\n",
      "233\n",
      "234\n",
      "235\n",
      "236\n",
      "237\n",
      "238\n",
      "239\n"
     ]
    }
   ],
   "source": [
    "# 3. Make GS and folds fo GS\n",
    "for i in range(0,len(grid_tab)):\n",
    "    for j in [1,2,3]:\n",
    "        data_test = data[data.fold == j]\n",
    "        data_train = data[data.fold != j]\n",
    "    \n",
    "    \n",
    "    \n",
    "        xg_reg = xgb.XGBClassifier(n_jobs=7, random_state=7,\n",
    "                                 learning_rate = grid_tab.learning_rate[i],\n",
    "                                 max_depth = grid_tab.max_depth[i],\n",
    "                                 n_estimators = grid_tab.n_estimators[i],\n",
    "                                 subsample = grid_tab.subsample[i],\n",
    "                                 colsample_bytree = grid_tab.colsample_bytree[i],\n",
    "                                 gamma = grid_tab.gamma[i],\n",
    "                                objective='reg:logistic', use_label_encoder=False\n",
    "                                 )\n",
    "        xg_reg.fit(data_train.iloc[:,:(len(data_train.columns)-2)], data_train.y)\n",
    "\n",
    "#         # 2. Prediction\n",
    "        prediction = xg_reg.predict_proba(data_test.iloc[:,:(len(data_train.columns)-2)])[:, 1]\n",
    "        fpr, tpr, thresholds = roc_curve(data_test.y, prediction)\n",
    "        metric = round(auc(fpr, tpr),2)\n",
    "    \n",
    "# 6. Mae calculation for slices        \n",
    "        if j == 1:\n",
    "            grid_tab.auc1[i] = metric \n",
    "        elif j ==2:\n",
    "            grid_tab.auc2[i] = metric \n",
    "        else:\n",
    "            grid_tab.auc3[i] = metric    \n",
    "\n",
    "                \n",
    "# 7. MAE avg\n",
    "    grid_tab.auc_avg = (grid_tab.auc1 + grid_tab.auc2+ grid_tab.auc3)/3      \n",
    "    print(i)\n",
    "    \n",
    "    "
   ]
  },
  {
   "cell_type": "code",
   "execution_count": 228,
   "metadata": {
    "scrolled": false
   },
   "outputs": [
    {
     "data": {
      "image/png": "[encoded data removed]",
      "text/plain": [
       "<Figure size 432x288 with 1 Axes>"
      ]
     },
     "metadata": {
      "needs_background": "light"
     },
     "output_type": "display_data"
    },
    {
     "data": {
      "image/png": "[encoded data removed]",
      "text/plain": [
       "<Figure size 432x288 with 1 Axes>"
      ]
     },
     "metadata": {
      "needs_background": "light"
     },
     "output_type": "display_data"
    },
    {
     "data": {
      "image/png": "[encoded data removed]",
      "text/plain": [
       "<Figure size 432x288 with 1 Axes>"
      ]
     },
     "metadata": {
      "needs_background": "light"
     },
     "output_type": "display_data"
    },
    {
     "data": {
      "image/png": "[encoded data removed]",
      "text/plain": [
       "<Figure size 432x288 with 1 Axes>"
      ]
     },
     "metadata": {
      "needs_background": "light"
     },
     "output_type": "display_data"
    },
    {
     "data": {
      "image/png": "[encoded data removed]",
      "text/plain": [
       "<Figure size 432x288 with 1 Axes>"
      ]
     },
     "metadata": {
      "needs_background": "light"
     },
     "output_type": "display_data"
    },
    {
     "data": {
      "image/png": "[encoded data removed]",
      "text/plain": [
       "<Figure size 432x288 with 1 Axes>"
      ]
     },
     "metadata": {
      "needs_background": "light"
     },
     "output_type": "display_data"
    },
    {
     "data": {
      "image/png": "[encoded data removed]",
      "text/plain": [
       "<Figure size 432x288 with 1 Axes>"
      ]
     },
     "metadata": {
      "needs_background": "light"
     },
     "output_type": "display_data"
    },
    {
     "data": {
      "text/html": [
       "<div>\n",
       "<style scoped>\n",
       "    .dataframe tbody tr th:only-of-type {\n",
       "        vertical-align: middle;\n",
       "    }\n",
       "\n",
       "    .dataframe tbody tr th {\n",
       "        vertical-align: top;\n",
       "    }\n",
       "\n",
       "    .dataframe thead th {\n",
       "        text-align: right;\n",
       "    }\n",
       "</style>\n",
       "<table border=\"1\" class=\"dataframe\">\n",
       "  <thead>\n",
       "    <tr style=\"text-align: right;\">\n",
       "      <th></th>\n",
       "      <th>learning_rate</th>\n",
       "      <th>n_estimators</th>\n",
       "      <th>subsample</th>\n",
       "      <th>max_depth</th>\n",
       "      <th>colsample_bytree</th>\n",
       "      <th>gamma</th>\n",
       "      <th>i_index</th>\n",
       "      <th>auc1</th>\n",
       "      <th>auc2</th>\n",
       "      <th>auc3</th>\n",
       "      <th>auc_avg</th>\n",
       "    </tr>\n",
       "  </thead>\n",
       "  <tbody>\n",
       "    <tr>\n",
       "      <th>55</th>\n",
       "      <td>0.01</td>\n",
       "      <td>200</td>\n",
       "      <td>0.75</td>\n",
       "      <td>3</td>\n",
       "      <td>1</td>\n",
       "      <td>0.25</td>\n",
       "      <td>0</td>\n",
       "      <td>0.66</td>\n",
       "      <td>0.75</td>\n",
       "      <td>0.7</td>\n",
       "      <td>0.703333</td>\n",
       "    </tr>\n",
       "    <tr>\n",
       "      <th>57</th>\n",
       "      <td>0.01</td>\n",
       "      <td>200</td>\n",
       "      <td>0.75</td>\n",
       "      <td>3</td>\n",
       "      <td>1</td>\n",
       "      <td>0.20</td>\n",
       "      <td>0</td>\n",
       "      <td>0.66</td>\n",
       "      <td>0.75</td>\n",
       "      <td>0.7</td>\n",
       "      <td>0.703333</td>\n",
       "    </tr>\n",
       "  </tbody>\n",
       "</table>\n",
       "</div>"
      ],
      "text/plain": [
       "    learning_rate  n_estimators  subsample  max_depth  colsample_bytree  \\\n",
       "55           0.01           200       0.75          3                 1   \n",
       "57           0.01           200       0.75          3                 1   \n",
       "\n",
       "    gamma  i_index  auc1  auc2  auc3   auc_avg  \n",
       "55   0.25        0  0.66  0.75   0.7  0.703333  \n",
       "57   0.20        0  0.66  0.75   0.7  0.703333  "
      ]
     },
     "execution_count": 228,
     "metadata": {},
     "output_type": "execute_result"
    }
   ],
   "source": [
    "#### 3.2 Factor analysis\n",
    "\n",
    "# 1. Look at data dynamic\n",
    "# 1.1 Select need param\n",
    "k =  ['learning_rate','n_estimators', 'subsample', 'max_depth','colsample_bytree','gamma','i_index']\n",
    "\n",
    "\n",
    "# 1.2 Plot data\n",
    "for X in k:\n",
    "    t =grid_tab.groupby(X)[['auc_avg']].agg(np.mean)\n",
    "\n",
    "    # Plot the data\n",
    "    x = np.array(t.index)\n",
    "    y  = np.array(t['auc_avg'])\n",
    "    plt.plot(x, y)\n",
    "    plt.suptitle(X)\n",
    "    plt.show()\n",
    "    \n",
    "# 1.3 select the best param    \n",
    "grid_tab[grid_tab.auc_avg == grid_tab.auc_avg.max()]    "
   ]
  },
  {
   "cell_type": "markdown",
   "metadata": {},
   "source": [
    "#### 3.3 Result Advanced XGBoost model"
   ]
  },
  {
   "cell_type": "code",
   "execution_count": 268,
   "metadata": {},
   "outputs": [
    {
     "name": "stdout",
     "output_type": "stream",
     "text": [
      "AUC:  0.76\n",
      "recall:  0.36\n",
      "[[424  38]\n",
      " [ 35  20]]\n",
      "Wall time: 149 ms\n"
     ]
    }
   ],
   "source": [
    "%%time\n",
    "\n",
    "threshold = 0.25\n",
    "# 1. fitting \n",
    "\n",
    "xg_reg = xgb.XGBClassifier( n_jobs=7, random_state=777, objective='reg:logistic', use_label_encoder=False,\n",
    "                         learning_rate = 0.01,\n",
    "                          n_estimators = 200,\n",
    "                          subsample = 0.75,\n",
    "                          max_depth = 3,\n",
    "                          colsample_bytree = 1,\n",
    "                          gamma = 0.25\n",
    "                          )\n",
    "xg_reg.fit(x_train, y_train)\n",
    "\n",
    "\n",
    "# 2. Prediction\n",
    "pred = xg_reg.predict_proba(x_test)[:, 1]\n",
    "fpr, tpr, thresholds = roc_curve(y_test, pred)\n",
    "print('AUC: ', round(auc(fpr, tpr),2))\n",
    "\n",
    "\n",
    "# 3. Prediction + threshold\n",
    "prediction = np.where(pred  < threshold, 0, 1)\n",
    "\n",
    "\n",
    "print('recall: ', round(recall_score(y_pred = prediction, y_true = y_test),2))\n",
    "print(confusion_matrix(y_test, prediction))"
   ]
  },
  {
   "cell_type": "markdown",
   "metadata": {},
   "source": [
    "#### 3.4 Dependdens recall on threshold "
   ]
  },
  {
   "cell_type": "code",
   "execution_count": 266,
   "metadata": {},
   "outputs": [],
   "source": [
    "rec_prec_threshold = pd.DataFrame({'threshold':np.arange(0.01, 0.5, 0.01),\n",
    "             'Recall':np.nan,\n",
    "              'Precision': np.nan} )\n",
    "\n",
    "\n",
    "for i in range(len(rec_prec_threshold)):\n",
    "    prediction = np.where(pred < rec_prec_threshold['threshold'][i], 0, 1)\n",
    "    rec_prec_threshold['Recall'][i]  = round(recall_score(y_pred = prediction, y_true = y_test),2)\n",
    "    rec_prec_threshold['Precision'][i]  = round(precision_score(y_pred = prediction, y_true = y_test),2)\n",
    "    "
   ]
  },
  {
   "cell_type": "code",
   "execution_count": 272,
   "metadata": {
    "scrolled": true
   },
   "outputs": [
    {
     "data": {
      "image/png": "[encoded data removed]",
      "text/plain": [
       "<Figure size 432x288 with 1 Axes>"
      ]
     },
     "metadata": {
      "needs_background": "light"
     },
     "output_type": "display_data"
    }
   ],
   "source": [
    "x = rec_prec_threshold.threshold\n",
    "y  = rec_prec_threshold.Recall\n",
    "z = rec_prec_threshold.Precision_score\n",
    "plt.plot(x, y);\n",
    "plt.plot(x, z);\n",
    "plt.legend(['Recall','Precision' ],shadow = True, loc = 1);    "
   ]
  },
  {
   "cell_type": "code",
   "execution_count": 274,
   "metadata": {
    "scrolled": true
   },
   "outputs": [
    {
     "data": {
      "text/html": [
       "<div>\n",
       "<style scoped>\n",
       "    .dataframe tbody tr th:only-of-type {\n",
       "        vertical-align: middle;\n",
       "    }\n",
       "\n",
       "    .dataframe tbody tr th {\n",
       "        vertical-align: top;\n",
       "    }\n",
       "\n",
       "    .dataframe thead th {\n",
       "        text-align: right;\n",
       "    }\n",
       "</style>\n",
       "<table border=\"1\" class=\"dataframe\">\n",
       "  <thead>\n",
       "    <tr style=\"text-align: right;\">\n",
       "      <th></th>\n",
       "      <th>threshold</th>\n",
       "      <th>Recall</th>\n",
       "      <th>Precision_score</th>\n",
       "    </tr>\n",
       "  </thead>\n",
       "  <tbody>\n",
       "    <tr>\n",
       "      <th>0</th>\n",
       "      <td>0.01</td>\n",
       "      <td>1.00</td>\n",
       "      <td>0.11</td>\n",
       "    </tr>\n",
       "    <tr>\n",
       "      <th>1</th>\n",
       "      <td>0.02</td>\n",
       "      <td>1.00</td>\n",
       "      <td>0.11</td>\n",
       "    </tr>\n",
       "    <tr>\n",
       "      <th>2</th>\n",
       "      <td>0.03</td>\n",
       "      <td>1.00</td>\n",
       "      <td>0.11</td>\n",
       "    </tr>\n",
       "    <tr>\n",
       "      <th>3</th>\n",
       "      <td>0.04</td>\n",
       "      <td>1.00</td>\n",
       "      <td>0.11</td>\n",
       "    </tr>\n",
       "    <tr>\n",
       "      <th>4</th>\n",
       "      <td>0.05</td>\n",
       "      <td>1.00</td>\n",
       "      <td>0.11</td>\n",
       "    </tr>\n",
       "    <tr>\n",
       "      <th>5</th>\n",
       "      <td>0.06</td>\n",
       "      <td>1.00</td>\n",
       "      <td>0.11</td>\n",
       "    </tr>\n",
       "    <tr>\n",
       "      <th>6</th>\n",
       "      <td>0.07</td>\n",
       "      <td>1.00</td>\n",
       "      <td>0.11</td>\n",
       "    </tr>\n",
       "    <tr>\n",
       "      <th>7</th>\n",
       "      <td>0.08</td>\n",
       "      <td>1.00</td>\n",
       "      <td>0.11</td>\n",
       "    </tr>\n",
       "    <tr>\n",
       "      <th>8</th>\n",
       "      <td>0.09</td>\n",
       "      <td>0.96</td>\n",
       "      <td>0.11</td>\n",
       "    </tr>\n",
       "    <tr>\n",
       "      <th>9</th>\n",
       "      <td>0.10</td>\n",
       "      <td>0.95</td>\n",
       "      <td>0.12</td>\n",
       "    </tr>\n",
       "    <tr>\n",
       "      <th>10</th>\n",
       "      <td>0.11</td>\n",
       "      <td>0.93</td>\n",
       "      <td>0.13</td>\n",
       "    </tr>\n",
       "    <tr>\n",
       "      <th>11</th>\n",
       "      <td>0.12</td>\n",
       "      <td>0.93</td>\n",
       "      <td>0.14</td>\n",
       "    </tr>\n",
       "    <tr>\n",
       "      <th>12</th>\n",
       "      <td>0.13</td>\n",
       "      <td>0.91</td>\n",
       "      <td>0.15</td>\n",
       "    </tr>\n",
       "    <tr>\n",
       "      <th>13</th>\n",
       "      <td>0.14</td>\n",
       "      <td>0.84</td>\n",
       "      <td>0.15</td>\n",
       "    </tr>\n",
       "    <tr>\n",
       "      <th>14</th>\n",
       "      <td>0.15</td>\n",
       "      <td>0.82</td>\n",
       "      <td>0.17</td>\n",
       "    </tr>\n",
       "    <tr>\n",
       "      <th>15</th>\n",
       "      <td>0.16</td>\n",
       "      <td>0.78</td>\n",
       "      <td>0.19</td>\n",
       "    </tr>\n",
       "    <tr>\n",
       "      <th>16</th>\n",
       "      <td>0.17</td>\n",
       "      <td>0.71</td>\n",
       "      <td>0.21</td>\n",
       "    </tr>\n",
       "    <tr>\n",
       "      <th>17</th>\n",
       "      <td>0.18</td>\n",
       "      <td>0.69</td>\n",
       "      <td>0.22</td>\n",
       "    </tr>\n",
       "    <tr>\n",
       "      <th>18</th>\n",
       "      <td>0.19</td>\n",
       "      <td>0.67</td>\n",
       "      <td>0.24</td>\n",
       "    </tr>\n",
       "    <tr>\n",
       "      <th>19</th>\n",
       "      <td>0.20</td>\n",
       "      <td>0.65</td>\n",
       "      <td>0.25</td>\n",
       "    </tr>\n",
       "    <tr>\n",
       "      <th>20</th>\n",
       "      <td>0.21</td>\n",
       "      <td>0.60</td>\n",
       "      <td>0.26</td>\n",
       "    </tr>\n",
       "    <tr>\n",
       "      <th>21</th>\n",
       "      <td>0.22</td>\n",
       "      <td>0.53</td>\n",
       "      <td>0.26</td>\n",
       "    </tr>\n",
       "    <tr>\n",
       "      <th>22</th>\n",
       "      <td>0.23</td>\n",
       "      <td>0.49</td>\n",
       "      <td>0.29</td>\n",
       "    </tr>\n",
       "    <tr>\n",
       "      <th>23</th>\n",
       "      <td>0.24</td>\n",
       "      <td>0.44</td>\n",
       "      <td>0.32</td>\n",
       "    </tr>\n",
       "    <tr>\n",
       "      <th>24</th>\n",
       "      <td>0.25</td>\n",
       "      <td>0.36</td>\n",
       "      <td>0.34</td>\n",
       "    </tr>\n",
       "    <tr>\n",
       "      <th>25</th>\n",
       "      <td>0.26</td>\n",
       "      <td>0.33</td>\n",
       "      <td>0.35</td>\n",
       "    </tr>\n",
       "    <tr>\n",
       "      <th>26</th>\n",
       "      <td>0.27</td>\n",
       "      <td>0.24</td>\n",
       "      <td>0.32</td>\n",
       "    </tr>\n",
       "    <tr>\n",
       "      <th>27</th>\n",
       "      <td>0.28</td>\n",
       "      <td>0.22</td>\n",
       "      <td>0.33</td>\n",
       "    </tr>\n",
       "    <tr>\n",
       "      <th>28</th>\n",
       "      <td>0.29</td>\n",
       "      <td>0.20</td>\n",
       "      <td>0.38</td>\n",
       "    </tr>\n",
       "    <tr>\n",
       "      <th>29</th>\n",
       "      <td>0.30</td>\n",
       "      <td>0.18</td>\n",
       "      <td>0.40</td>\n",
       "    </tr>\n",
       "    <tr>\n",
       "      <th>30</th>\n",
       "      <td>0.31</td>\n",
       "      <td>0.15</td>\n",
       "      <td>0.38</td>\n",
       "    </tr>\n",
       "    <tr>\n",
       "      <th>31</th>\n",
       "      <td>0.32</td>\n",
       "      <td>0.13</td>\n",
       "      <td>0.44</td>\n",
       "    </tr>\n",
       "    <tr>\n",
       "      <th>32</th>\n",
       "      <td>0.33</td>\n",
       "      <td>0.11</td>\n",
       "      <td>0.43</td>\n",
       "    </tr>\n",
       "    <tr>\n",
       "      <th>33</th>\n",
       "      <td>0.34</td>\n",
       "      <td>0.09</td>\n",
       "      <td>0.42</td>\n",
       "    </tr>\n",
       "    <tr>\n",
       "      <th>34</th>\n",
       "      <td>0.35</td>\n",
       "      <td>0.09</td>\n",
       "      <td>0.42</td>\n",
       "    </tr>\n",
       "    <tr>\n",
       "      <th>35</th>\n",
       "      <td>0.36</td>\n",
       "      <td>0.07</td>\n",
       "      <td>0.36</td>\n",
       "    </tr>\n",
       "    <tr>\n",
       "      <th>36</th>\n",
       "      <td>0.37</td>\n",
       "      <td>0.05</td>\n",
       "      <td>0.30</td>\n",
       "    </tr>\n",
       "    <tr>\n",
       "      <th>37</th>\n",
       "      <td>0.38</td>\n",
       "      <td>0.05</td>\n",
       "      <td>0.30</td>\n",
       "    </tr>\n",
       "    <tr>\n",
       "      <th>38</th>\n",
       "      <td>0.39</td>\n",
       "      <td>0.04</td>\n",
       "      <td>0.25</td>\n",
       "    </tr>\n",
       "    <tr>\n",
       "      <th>39</th>\n",
       "      <td>0.40</td>\n",
       "      <td>0.04</td>\n",
       "      <td>0.33</td>\n",
       "    </tr>\n",
       "    <tr>\n",
       "      <th>40</th>\n",
       "      <td>0.41</td>\n",
       "      <td>0.04</td>\n",
       "      <td>0.33</td>\n",
       "    </tr>\n",
       "    <tr>\n",
       "      <th>41</th>\n",
       "      <td>0.42</td>\n",
       "      <td>0.02</td>\n",
       "      <td>0.20</td>\n",
       "    </tr>\n",
       "    <tr>\n",
       "      <th>42</th>\n",
       "      <td>0.43</td>\n",
       "      <td>0.02</td>\n",
       "      <td>0.25</td>\n",
       "    </tr>\n",
       "    <tr>\n",
       "      <th>43</th>\n",
       "      <td>0.44</td>\n",
       "      <td>0.02</td>\n",
       "      <td>0.25</td>\n",
       "    </tr>\n",
       "    <tr>\n",
       "      <th>44</th>\n",
       "      <td>0.45</td>\n",
       "      <td>0.02</td>\n",
       "      <td>0.25</td>\n",
       "    </tr>\n",
       "    <tr>\n",
       "      <th>45</th>\n",
       "      <td>0.46</td>\n",
       "      <td>0.02</td>\n",
       "      <td>0.25</td>\n",
       "    </tr>\n",
       "    <tr>\n",
       "      <th>46</th>\n",
       "      <td>0.47</td>\n",
       "      <td>0.02</td>\n",
       "      <td>0.25</td>\n",
       "    </tr>\n",
       "    <tr>\n",
       "      <th>47</th>\n",
       "      <td>0.48</td>\n",
       "      <td>0.02</td>\n",
       "      <td>0.25</td>\n",
       "    </tr>\n",
       "    <tr>\n",
       "      <th>48</th>\n",
       "      <td>0.49</td>\n",
       "      <td>0.02</td>\n",
       "      <td>0.25</td>\n",
       "    </tr>\n",
       "  </tbody>\n",
       "</table>\n",
       "</div>"
      ],
      "text/plain": [
       "    threshold  Recall  Precision_score\n",
       "0        0.01    1.00             0.11\n",
       "1        0.02    1.00             0.11\n",
       "2        0.03    1.00             0.11\n",
       "3        0.04    1.00             0.11\n",
       "4        0.05    1.00             0.11\n",
       "5        0.06    1.00             0.11\n",
       "6        0.07    1.00             0.11\n",
       "7        0.08    1.00             0.11\n",
       "8        0.09    0.96             0.11\n",
       "9        0.10    0.95             0.12\n",
       "10       0.11    0.93             0.13\n",
       "11       0.12    0.93             0.14\n",
       "12       0.13    0.91             0.15\n",
       "13       0.14    0.84             0.15\n",
       "14       0.15    0.82             0.17\n",
       "15       0.16    0.78             0.19\n",
       "16       0.17    0.71             0.21\n",
       "17       0.18    0.69             0.22\n",
       "18       0.19    0.67             0.24\n",
       "19       0.20    0.65             0.25\n",
       "20       0.21    0.60             0.26\n",
       "21       0.22    0.53             0.26\n",
       "22       0.23    0.49             0.29\n",
       "23       0.24    0.44             0.32\n",
       "24       0.25    0.36             0.34\n",
       "25       0.26    0.33             0.35\n",
       "26       0.27    0.24             0.32\n",
       "27       0.28    0.22             0.33\n",
       "28       0.29    0.20             0.38\n",
       "29       0.30    0.18             0.40\n",
       "30       0.31    0.15             0.38\n",
       "31       0.32    0.13             0.44\n",
       "32       0.33    0.11             0.43\n",
       "33       0.34    0.09             0.42\n",
       "34       0.35    0.09             0.42\n",
       "35       0.36    0.07             0.36\n",
       "36       0.37    0.05             0.30\n",
       "37       0.38    0.05             0.30\n",
       "38       0.39    0.04             0.25\n",
       "39       0.40    0.04             0.33\n",
       "40       0.41    0.04             0.33\n",
       "41       0.42    0.02             0.20\n",
       "42       0.43    0.02             0.25\n",
       "43       0.44    0.02             0.25\n",
       "44       0.45    0.02             0.25\n",
       "45       0.46    0.02             0.25\n",
       "46       0.47    0.02             0.25\n",
       "47       0.48    0.02             0.25\n",
       "48       0.49    0.02             0.25"
      ]
     },
     "execution_count": 274,
     "metadata": {},
     "output_type": "execute_result"
    }
   ],
   "source": [
    "rec_prec_threshold"
   ]
  },
  {
   "cell_type": "markdown",
   "metadata": {},
   "source": [
    "#### Part 4. Conclusion"
   ]
  },
  {
   "cell_type": "code",
   "execution_count": 275,
   "metadata": {},
   "outputs": [
    {
     "name": "stdout",
     "output_type": "stream",
     "text": [
      "AUC:  0.76\n",
      "recall:  0.49\n",
      "[[397  65]\n",
      " [ 28  27]]\n"
     ]
    }
   ],
   "source": [
    "#  Result model \n",
    "model = xg_reg\n",
    "\n",
    "# Model AUC\n",
    "pred = model.predict_proba(x_test)[:, 1]\n",
    "fpr, tpr, thresholds = roc_curve(y_test, pred)\n",
    "print('AUC: ', round(auc(fpr, tpr),2))\n",
    "\n",
    "\n",
    "# В зависимости от цели задачи необходимо установить \"порог\" для определения плохих клиентов.\n",
    "# Чем меньше порог, тем больше плохих клиентов получаеться отлавиливать, но возрастает ошибка первого рода.\n",
    "# Рекомендую использовать график выше для определения оптимального порога, например,\n",
    "# Если задача идентифицировать 50% плохих клиентов, то порог 0.23\n",
    "\n",
    "# 3. Prediction + threshold\n",
    "threshold = 0.23\n",
    "prediction = np.where(pred  < threshold, 0, 1)\n",
    "\n",
    "\n",
    "# 4. Итоговая confusion_matrix\n",
    "print('recall: ', round(recall_score(y_pred = prediction, y_true = y_test),2))\n",
    "print(confusion_matrix(y_test, prediction))"
   ]
  },
  {
   "cell_type": "code",
   "execution_count": null,
   "metadata": {},
   "outputs": [],
   "source": []
  },
  {
   "cell_type": "code",
   "execution_count": null,
   "metadata": {},
   "outputs": [],
   "source": []
  },
  {
   "cell_type": "code",
   "execution_count": null,
   "metadata": {},
   "outputs": [],
   "source": []
  },
  {
   "cell_type": "code",
   "execution_count": null,
   "metadata": {},
   "outputs": [],
   "source": []
  },
  {
   "cell_type": "code",
   "execution_count": null,
   "metadata": {},
   "outputs": [],
   "source": []
  },
  {
   "cell_type": "code",
   "execution_count": null,
   "metadata": {},
   "outputs": [],
   "source": []
  },
  {
   "cell_type": "code",
   "execution_count": 43,
   "metadata": {},
   "outputs": [
    {
     "data": {
      "text/plain": [
       "Index(['credit_amount', 'age', 'income', 'month', 'credit_term',\n",
       "       'phone_operator', 'product_type_Cell phones',\n",
       "       'education_Secondary special education', 'having_children_flg',\n",
       "       'family_status_Married', 'is_male', 'y', 'fold'],\n",
       "      dtype='object')"
      ]
     },
     "execution_count": 43,
     "metadata": {},
     "output_type": "execute_result"
    }
   ],
   "source": [
    "x_train.columns"
   ]
  },
  {
   "cell_type": "code",
   "execution_count": null,
   "metadata": {},
   "outputs": [],
   "source": []
  },
  {
   "cell_type": "code",
   "execution_count": null,
   "metadata": {},
   "outputs": [],
   "source": []
  },
  {
   "cell_type": "code",
   "execution_count": 60,
   "metadata": {
    "scrolled": true
   },
   "outputs": [
    {
     "data": {
      "text/plain": [
       "(1206, 13)"
      ]
     },
     "execution_count": 60,
     "metadata": {},
     "output_type": "execute_result"
    }
   ],
   "source": [
    "x_train.shape"
   ]
  },
  {
   "cell_type": "code",
   "execution_count": 61,
   "metadata": {},
   "outputs": [
    {
     "data": {
      "text/plain": [
       "Index(['credit_amount', 'age', 'income', 'month', 'credit_term',\n",
       "       'phone_operator', 'product_type_Cell phones',\n",
       "       'education_Secondary special education', 'having_children_flg',\n",
       "       'family_status_Married', 'is_male', 'y', 'fold'],\n",
       "      dtype='object')"
      ]
     },
     "execution_count": 61,
     "metadata": {},
     "output_type": "execute_result"
    }
   ],
   "source": [
    "x_train.columns"
   ]
  },
  {
   "cell_type": "code",
   "execution_count": null,
   "metadata": {},
   "outputs": [],
   "source": []
  },
  {
   "cell_type": "code",
   "execution_count": null,
   "metadata": {},
   "outputs": [],
   "source": []
  },
  {
   "cell_type": "code",
   "execution_count": 58,
   "metadata": {
    "scrolled": true
   },
   "outputs": [
    {
     "data": {
      "text/plain": [
       "array([0.00126779, 0.00126779, 0.00126779, 0.00126779, 0.00126779,\n",
       "       0.00126779, 0.00126779, 0.00126779, 0.00126779, 0.00126779,\n",
       "       0.00126779, 0.00126779, 0.00126779, 0.00126779, 0.00126779,\n",
       "       0.00126779, 0.00126779, 0.00126779, 0.00126779, 0.00126779,\n",
       "       0.00126779, 0.00126779, 0.00126779, 0.00126779, 0.00126779,\n",
       "       0.00126779, 0.00126779, 0.00126779, 0.00126779, 0.00126779,\n",
       "       0.00126779, 0.00126779, 0.00126779, 0.00126779, 0.00126779,\n",
       "       0.00126779, 0.00126779, 0.00126779, 0.00126779, 0.00126779,\n",
       "       0.00126779, 0.00126779, 0.00126779, 0.00126779, 0.00126779,\n",
       "       0.00126779, 0.00126779, 0.00126779, 0.00126779, 0.00126779,\n",
       "       0.00126779, 0.00126779, 0.00126779, 0.00126779, 0.00126779,\n",
       "       0.00126779, 0.00126779, 0.00126779, 0.00126779, 0.00126779,\n",
       "       0.00126779, 0.00126779, 0.00126779, 0.00126779, 0.00126779,\n",
       "       0.00126779, 0.00126779, 0.00126779, 0.00126779, 0.00126779,\n",
       "       0.00126779, 0.00126779, 0.00126779, 0.00126779, 0.00126779,\n",
       "       0.00126779, 0.00126779, 0.00126779, 0.00126779, 0.00126779,\n",
       "       0.00126779, 0.00126779, 0.00126779, 0.00126779, 0.00126779,\n",
       "       0.00126779, 0.00126779, 0.00126779, 0.00126779, 0.00126779,\n",
       "       0.00126779, 0.00126779, 0.00126779, 0.00126779, 0.00126779,\n",
       "       0.00126779, 0.00126779, 0.00126779, 0.00126779, 0.00126779,\n",
       "       0.00126779, 0.00126779, 0.00126779, 0.00126779, 0.00126779,\n",
       "       0.00126779, 0.00126779, 0.00126779, 0.00126779, 0.00126779,\n",
       "       0.00126779, 0.00126779, 0.00126779, 0.00126779, 0.00126779,\n",
       "       0.00126779, 0.00126779, 0.00126779, 0.00126779, 0.00126779,\n",
       "       0.00126779, 0.00126779, 0.00126779, 0.00126779, 0.00126779,\n",
       "       0.00126779, 0.00126779, 0.00126779, 0.00126779, 0.00126779,\n",
       "       0.00126779, 0.00126779, 0.00126779, 0.00126779, 0.00126779,\n",
       "       0.00126779, 0.00126779, 0.00126779, 0.00126779, 0.00126779,\n",
       "       0.00126779, 0.00126779, 0.00126779, 0.00126779, 0.00126779,\n",
       "       0.00126779, 0.00126779, 0.00126779, 0.00126779, 0.00126779,\n",
       "       0.00126779, 0.00126779, 0.00126779, 0.00126779, 0.00126779,\n",
       "       0.00126779, 0.00126779, 0.00126779, 0.00126779, 0.00126779,\n",
       "       0.00126779, 0.00126779, 0.00126779, 0.00126779, 0.00126779,\n",
       "       0.00126779, 0.00126779, 0.00126779, 0.00126779, 0.00126779,\n",
       "       0.00126779, 0.00126779, 0.00126779, 0.00126779, 0.00126779,\n",
       "       0.00126779, 0.00126779, 0.00126779, 0.00126779, 0.00126779,\n",
       "       0.00126779, 0.00126779, 0.00126779, 0.00126779, 0.00126779,\n",
       "       0.00126779, 0.00126779, 0.00126779, 0.00126779, 0.00126779,\n",
       "       0.00126779, 0.00126779, 0.00126779, 0.00126779, 0.00126779,\n",
       "       0.00126779, 0.00126779, 0.00126779, 0.00126779, 0.00126779,\n",
       "       0.00126779, 0.00126779, 0.00126779, 0.00126779, 0.00126779,\n",
       "       0.00126779, 0.00126779, 0.00126779, 0.00126779, 0.00126779,\n",
       "       0.00126779, 0.00126779, 0.00126779, 0.00126779, 0.00126779,\n",
       "       0.00126779, 0.00126779, 0.00126779, 0.00126779, 0.00126779,\n",
       "       0.00126779, 0.00126779, 0.00126779, 0.00126779, 0.00126779,\n",
       "       0.00126779, 0.00126779, 0.00126779, 0.00126779, 0.00126779,\n",
       "       0.00126779, 0.00126779, 0.00126779, 0.00126779, 0.00126779,\n",
       "       0.00126779, 0.00126779, 0.00126779, 0.00126779, 0.00126779,\n",
       "       0.00126779, 0.00126779, 0.00126779, 0.00126779, 0.00126779,\n",
       "       0.00126779, 0.00126779, 0.00126779, 0.00126779, 0.00126779,\n",
       "       0.00126779, 0.00126779, 0.00126779, 0.00126779, 0.00126779,\n",
       "       0.00126779, 0.00126779, 0.00126779, 0.00126779, 0.00126779,\n",
       "       0.00126779, 0.00126779, 0.00126779, 0.00126779, 0.00126779,\n",
       "       0.00126779, 0.00126779, 0.00126779, 0.00126779, 0.00126779,\n",
       "       0.00126779, 0.00126779, 0.00126779, 0.00126779, 0.00126779,\n",
       "       0.00126779, 0.00126779, 0.00126779, 0.00126779, 0.00126779,\n",
       "       0.00126779, 0.00126779, 0.00126779, 0.00126779, 0.00126779,\n",
       "       0.00126779, 0.00126779, 0.00126779, 0.00126779, 0.00126779,\n",
       "       0.00126779, 0.00126779, 0.00126779, 0.00126779, 0.00126779,\n",
       "       0.00126779, 0.00126779, 0.00126779, 0.00126779, 0.00126779,\n",
       "       0.00126779, 0.00126779, 0.00126779, 0.00126779, 0.00126779,\n",
       "       0.00126779, 0.00126779, 0.00126779, 0.00126779, 0.00126779,\n",
       "       0.00126779, 0.00126779, 0.00126779, 0.00126779, 0.00126779,\n",
       "       0.00126779, 0.00126779, 0.00126779, 0.00126779, 0.00126779,\n",
       "       0.00126779, 0.00126779, 0.00126779, 0.00126779, 0.00126779,\n",
       "       0.00126779, 0.00126779, 0.00126779, 0.00126779, 0.00126779,\n",
       "       0.00126779, 0.00126779, 0.00126779, 0.00126779, 0.00126779,\n",
       "       0.00126779, 0.00126779, 0.00126779, 0.00126779, 0.00126779,\n",
       "       0.00126779, 0.00126779, 0.00126779, 0.00126779, 0.00126779,\n",
       "       0.00126779, 0.00126779, 0.00126779, 0.00126779, 0.00126779,\n",
       "       0.00126779, 0.00126779, 0.00126779, 0.00126779, 0.00126779,\n",
       "       0.00126779, 0.00126779, 0.00126779, 0.00126779, 0.00126779,\n",
       "       0.00126779, 0.00126779, 0.00126779, 0.00126779, 0.00126779,\n",
       "       0.00126779, 0.00126779, 0.00126779, 0.00126779, 0.00126779,\n",
       "       0.00126779, 0.00126779, 0.00126779, 0.00126779, 0.00126779,\n",
       "       0.00126779, 0.00126779, 0.00126779, 0.00126779, 0.00126779,\n",
       "       0.00126779, 0.00126779, 0.00126779, 0.00126779, 0.00126779,\n",
       "       0.00126779, 0.00126779, 0.00126779, 0.00126779, 0.00126779,\n",
       "       0.00126779, 0.00126779, 0.00126779, 0.00126779, 0.00126779,\n",
       "       0.00126779, 0.00126779, 0.00126779, 0.00126779, 0.00126779,\n",
       "       0.00126779, 0.00126779, 0.00126779, 0.00126779, 0.00126779,\n",
       "       0.00126779, 0.00126779, 0.00126779, 0.00126779, 0.00126779,\n",
       "       0.00126779, 0.00126779, 0.00126779, 0.00126779, 0.00126779,\n",
       "       0.00126779, 0.00126779, 0.00126779, 0.00126779, 0.00126779,\n",
       "       0.00126779, 0.00126779, 0.00126779, 0.00126779, 0.00126779,\n",
       "       0.00126779, 0.00126779, 0.00126779, 0.00126779, 0.00126779,\n",
       "       0.00126779, 0.00126779, 0.00126779, 0.00126779, 0.00126779,\n",
       "       0.00126779, 0.00126779, 0.00126779, 0.00126779, 0.00126779,\n",
       "       0.00126779, 0.00126779, 0.00126779, 0.00126779, 0.00126779,\n",
       "       0.00126779, 0.00126779, 0.00126779, 0.00126779, 0.00126779,\n",
       "       0.00126779, 0.00126779, 0.00126779, 0.00126779, 0.00126779,\n",
       "       0.00126779, 0.00126779, 0.00126779, 0.00126779, 0.00126779,\n",
       "       0.00126779, 0.00126779, 0.00126779, 0.00126779, 0.00126779,\n",
       "       0.00126779, 0.00126779, 0.00126779, 0.00126779, 0.00126779,\n",
       "       0.00126779, 0.00126779, 0.00126779, 0.00126779, 0.00126779,\n",
       "       0.00126779, 0.00126779, 0.00126779, 0.00126779, 0.00126779,\n",
       "       0.00126779, 0.00126779, 0.00126779, 0.00126779, 0.00126779,\n",
       "       0.00126779, 0.00126779, 0.00126779, 0.00126779, 0.00126779,\n",
       "       0.00126779, 0.00126779, 0.00126779, 0.00126779, 0.00126779,\n",
       "       0.00126779, 0.00126779, 0.00126779, 0.00126779, 0.00126779,\n",
       "       0.00126779, 0.00126779, 0.00126779, 0.00126779, 0.00126779,\n",
       "       0.00126779, 0.00126779, 0.00126779, 0.00126779, 0.00126779,\n",
       "       0.00126779, 0.00126779, 0.00126779, 0.00126779, 0.00126779,\n",
       "       0.00126779, 0.00126779], dtype=float32)"
      ]
     },
     "execution_count": 58,
     "metadata": {},
     "output_type": "execute_result"
    }
   ],
   "source": [
    "xg_reg.predict_proba(x_test)[:, 1]"
   ]
  },
  {
   "cell_type": "code",
   "execution_count": null,
   "metadata": {},
   "outputs": [],
   "source": []
  },
  {
   "cell_type": "code",
   "execution_count": null,
   "metadata": {},
   "outputs": [],
   "source": []
  },
  {
   "cell_type": "code",
   "execution_count": null,
   "metadata": {},
   "outputs": [],
   "source": []
  },
  {
   "cell_type": "code",
   "execution_count": null,
   "metadata": {},
   "outputs": [],
   "source": []
  },
  {
   "cell_type": "code",
   "execution_count": null,
   "metadata": {},
   "outputs": [],
   "source": [
    "# 1. xgb model\n",
    "# 2. Treshold and CM\n",
    "# 3. Delete extrme deals"
   ]
  },
  {
   "cell_type": "code",
   "execution_count": null,
   "metadata": {},
   "outputs": [],
   "source": []
  },
  {
   "cell_type": "code",
   "execution_count": null,
   "metadata": {},
   "outputs": [],
   "source": []
  },
  {
   "cell_type": "markdown",
   "metadata": {},
   "source": [
    "### Part 2. Moddelling"
   ]
  },
  {
   "cell_type": "markdown",
   "metadata": {},
   "source": [
    "#### 2. First attempt to create a model with default parametres."
   ]
  },
  {
   "cell_type": "code",
   "execution_count": 35,
   "metadata": {},
   "outputs": [],
   "source": [
    "from sklearn.ensemble import RandomForestClassifier"
   ]
  },
  {
   "cell_type": "code",
   "execution_count": 36,
   "metadata": {},
   "outputs": [
    {
     "name": "stdout",
     "output_type": "stream",
     "text": [
      "Wall time: 823 ms\n"
     ]
    },
    {
     "data": {
      "text/plain": [
       "RandomForestClassifier(n_estimators=500)"
      ]
     },
     "execution_count": 36,
     "metadata": {},
     "output_type": "execute_result"
    }
   ],
   "source": [
    "%%time\n",
    "rf_def = RandomForestClassifier(n_estimators=500)\n",
    "rf_def.fit(x_train, y_train)"
   ]
  },
  {
   "cell_type": "code",
   "execution_count": 38,
   "metadata": {},
   "outputs": [
    {
     "name": "stdout",
     "output_type": "stream",
     "text": [
      "MAE:  0.01818181818181818\n"
     ]
    }
   ],
   "source": [
    "print('MAE: ',recall_score(y_test, rf_def.predict(x_test) ))"
   ]
  },
  {
   "cell_type": "code",
   "execution_count": null,
   "metadata": {},
   "outputs": [],
   "source": [
    "%%time\n",
    "rf_def = RandomForestClassifier(n_estimators=500)\n",
    "rf_def.fit(x_train, y_train)\n",
    "print('MAE: ',recall_score(y_test, rf_def.predict(x_test) ))"
   ]
  },
  {
   "cell_type": "markdown",
   "metadata": {},
   "source": [
    "#### 3. Feature importance "
   ]
  },
  {
   "cell_type": "code",
   "execution_count": 40,
   "metadata": {},
   "outputs": [
    {
     "data": {
      "text/html": [
       "<div>\n",
       "<style scoped>\n",
       "    .dataframe tbody tr th:only-of-type {\n",
       "        vertical-align: middle;\n",
       "    }\n",
       "\n",
       "    .dataframe tbody tr th {\n",
       "        vertical-align: top;\n",
       "    }\n",
       "\n",
       "    .dataframe thead th {\n",
       "        text-align: right;\n",
       "    }\n",
       "</style>\n",
       "<table border=\"1\" class=\"dataframe\">\n",
       "  <thead>\n",
       "    <tr style=\"text-align: right;\">\n",
       "      <th></th>\n",
       "      <th>importance</th>\n",
       "    </tr>\n",
       "  </thead>\n",
       "  <tbody>\n",
       "    <tr>\n",
       "      <th>credit_amount</th>\n",
       "      <td>0.155089</td>\n",
       "    </tr>\n",
       "    <tr>\n",
       "      <th>age</th>\n",
       "      <td>0.143201</td>\n",
       "    </tr>\n",
       "    <tr>\n",
       "      <th>income</th>\n",
       "      <td>0.123815</td>\n",
       "    </tr>\n",
       "    <tr>\n",
       "      <th>month</th>\n",
       "      <td>0.105956</td>\n",
       "    </tr>\n",
       "    <tr>\n",
       "      <th>credit_term</th>\n",
       "      <td>0.089765</td>\n",
       "    </tr>\n",
       "    <tr>\n",
       "      <th>phone_operator</th>\n",
       "      <td>0.061750</td>\n",
       "    </tr>\n",
       "    <tr>\n",
       "      <th>product_type_Cell phones</th>\n",
       "      <td>0.043343</td>\n",
       "    </tr>\n",
       "    <tr>\n",
       "      <th>having_children_flg</th>\n",
       "      <td>0.027407</td>\n",
       "    </tr>\n",
       "    <tr>\n",
       "      <th>is_client</th>\n",
       "      <td>0.026402</td>\n",
       "    </tr>\n",
       "    <tr>\n",
       "      <th>is_male</th>\n",
       "      <td>0.025673</td>\n",
       "    </tr>\n",
       "    <tr>\n",
       "      <th>education_Secondary education</th>\n",
       "      <td>0.022754</td>\n",
       "    </tr>\n",
       "    <tr>\n",
       "      <th>region</th>\n",
       "      <td>0.021775</td>\n",
       "    </tr>\n",
       "    <tr>\n",
       "      <th>family_status_Another</th>\n",
       "      <td>0.021092</td>\n",
       "    </tr>\n",
       "    <tr>\n",
       "      <th>family_status_Married</th>\n",
       "      <td>0.020772</td>\n",
       "    </tr>\n",
       "    <tr>\n",
       "      <th>education_Secondary special education</th>\n",
       "      <td>0.019043</td>\n",
       "    </tr>\n",
       "    <tr>\n",
       "      <th>education_Higher education</th>\n",
       "      <td>0.017454</td>\n",
       "    </tr>\n",
       "    <tr>\n",
       "      <th>product_type_Household appliances</th>\n",
       "      <td>0.014024</td>\n",
       "    </tr>\n",
       "    <tr>\n",
       "      <th>product_type_Other</th>\n",
       "      <td>0.012667</td>\n",
       "    </tr>\n",
       "    <tr>\n",
       "      <th>family_status_Unmarried</th>\n",
       "      <td>0.008724</td>\n",
       "    </tr>\n",
       "    <tr>\n",
       "      <th>product_type_Computers</th>\n",
       "      <td>0.008012</td>\n",
       "    </tr>\n",
       "    <tr>\n",
       "      <th>product_type_Furniture</th>\n",
       "      <td>0.006751</td>\n",
       "    </tr>\n",
       "    <tr>\n",
       "      <th>education_Incomplete higher education</th>\n",
       "      <td>0.005825</td>\n",
       "    </tr>\n",
       "    <tr>\n",
       "      <th>product_type_Cosmetics</th>\n",
       "      <td>0.005807</td>\n",
       "    </tr>\n",
       "    <tr>\n",
       "      <th>product_type_Clothing</th>\n",
       "      <td>0.004953</td>\n",
       "    </tr>\n",
       "    <tr>\n",
       "      <th>big_credit_amount</th>\n",
       "      <td>0.004834</td>\n",
       "    </tr>\n",
       "    <tr>\n",
       "      <th>big_income</th>\n",
       "      <td>0.002919</td>\n",
       "    </tr>\n",
       "    <tr>\n",
       "      <th>education_Other</th>\n",
       "      <td>0.000194</td>\n",
       "    </tr>\n",
       "  </tbody>\n",
       "</table>\n",
       "</div>"
      ],
      "text/plain": [
       "                                       importance\n",
       "credit_amount                            0.155089\n",
       "age                                      0.143201\n",
       "income                                   0.123815\n",
       "month                                    0.105956\n",
       "credit_term                              0.089765\n",
       "phone_operator                           0.061750\n",
       "product_type_Cell phones                 0.043343\n",
       "having_children_flg                      0.027407\n",
       "is_client                                0.026402\n",
       "is_male                                  0.025673\n",
       "education_Secondary education            0.022754\n",
       "region                                   0.021775\n",
       "family_status_Another                    0.021092\n",
       "family_status_Married                    0.020772\n",
       "education_Secondary special education    0.019043\n",
       "education_Higher education               0.017454\n",
       "product_type_Household appliances        0.014024\n",
       "product_type_Other                       0.012667\n",
       "family_status_Unmarried                  0.008724\n",
       "product_type_Computers                   0.008012\n",
       "product_type_Furniture                   0.006751\n",
       "education_Incomplete higher education    0.005825\n",
       "product_type_Cosmetics                   0.005807\n",
       "product_type_Clothing                    0.004953\n",
       "big_credit_amount                        0.004834\n",
       "big_income                               0.002919\n",
       "education_Other                          0.000194"
      ]
     },
     "execution_count": 40,
     "metadata": {},
     "output_type": "execute_result"
    }
   ],
   "source": [
    "feature_importances = pd.DataFrame(rf_def.feature_importances_,\n",
    "                                   index = x_train.columns,\n",
    "                                    columns=['importance']).sort_values('importance',  ascending=False)\n",
    "feature_importances"
   ]
  },
  {
   "cell_type": "code",
   "execution_count": 42,
   "metadata": {},
   "outputs": [
    {
     "data": {
      "image/png": "[encoded data removed]",
      "text/plain": [
       "<Figure size 720x720 with 1 Axes>"
      ]
     },
     "metadata": {
      "needs_background": "light"
     },
     "output_type": "display_data"
    }
   ],
   "source": [
    "feat_importances = pd.Series(rf_def.feature_importances_, index = x_train.columns)\n",
    "plot1 = feat_importances.nlargest(50).plot(kind='barh', figsize = (10,10))\n",
    "plot1.tick_params(axis = 'both', which = 'major', labelsize = 10);"
   ]
  },
  {
   "cell_type": "markdown",
   "metadata": {},
   "source": [
    "#### 4. Determine thebest features"
   ]
  },
  {
   "cell_type": "code",
   "execution_count": 43,
   "metadata": {},
   "outputs": [
    {
     "data": {
      "text/plain": [
       "['credit_amount',\n",
       " 'age',\n",
       " 'income',\n",
       " 'month',\n",
       " 'credit_term',\n",
       " 'phone_operator',\n",
       " 'product_type_Cell phones',\n",
       " 'having_children_flg',\n",
       " 'is_client',\n",
       " 'is_male']"
      ]
     },
     "execution_count": 43,
     "metadata": {},
     "output_type": "execute_result"
    }
   ],
   "source": [
    "columns = feature_importances[feature_importances['importance']>0.025].index.tolist()\n",
    "columns\n",
    "#columns"
   ]
  },
  {
   "cell_type": "code",
   "execution_count": 45,
   "metadata": {},
   "outputs": [
    {
     "name": "stdout",
     "output_type": "stream",
     "text": [
      "MAE:  0.03636363636363636\n",
      "[[442  20]\n",
      " [ 49   6]]\n",
      "Wall time: 908 ms\n"
     ]
    }
   ],
   "source": [
    "%%time\n",
    "rf_def = RandomForestClassifier(n_estimators=500)\n",
    "rf_def.fit(x_train, y_train)\n",
    "print('MAE: ',recall_score(y_test, rf_def.predict(x_test) ))\n",
    "print(confusion_matrix(y_test, prediction))"
   ]
  },
  {
   "cell_type": "markdown",
   "metadata": {},
   "source": [
    "#### 5. Comparison of algortms with default parametres"
   ]
  },
  {
   "cell_type": "code",
   "execution_count": 49,
   "metadata": {},
   "outputs": [],
   "source": [
    "# Spot Check Algorithms\n",
    "models = []\n",
    "models.append(('RF', RandomForestClassifier()))\n",
    "models.append(('GBM',  GradientBoostingClassifier()))\n",
    "models.append(('AB',  AdaBoostClassifier()))\n",
    "\n"
   ]
  },
  {
   "cell_type": "code",
   "execution_count": 56,
   "metadata": {},
   "outputs": [
    {
     "name": "stdout",
     "output_type": "stream",
     "text": [
      "RF: 0.042849 (0.025037)\n",
      "GBM: 0.059943 (0.030730)\n",
      "AB: 0.079886 (0.042923)\n",
      "Wall time: 2.04 s\n"
     ]
    }
   ],
   "source": [
    "%%time\n",
    "\n",
    "# Test options and evaluation metric using Root Mean Square error method\n",
    "num_folds = 5\n",
    "seed = 7\n",
    "scoring = 'recall'\n",
    "\n",
    "\n",
    "results = []\n",
    "names = []\n",
    "\n",
    "\n",
    "for name, model in models:\n",
    "    kfold = KFold(n_splits=num_folds)\n",
    "    cv_results = cross_val_score(model, x_train, y_train, cv=kfold, scoring=scoring)\n",
    "    results.append(cv_results)\n",
    "    names.append(name)\n",
    "    msg = \"%s: %f (%f)\" % (name, cv_results.mean(), cv_results.std())\n",
    "    print(msg)"
   ]
  },
  {
   "cell_type": "code",
   "execution_count": 60,
   "metadata": {},
   "outputs": [
    {
     "data": {
      "image/png": "[encoded data removed]",
      "text/plain": [
       "<Figure size 432x288 with 1 Axes>"
      ]
     },
     "metadata": {
      "needs_background": "light"
     },
     "output_type": "display_data"
    }
   ],
   "source": [
    "# Compare algoritmes\n",
    "fig = plt.figure()\n",
    "fig.suptitle('Algorithm Comparison')\n",
    "ax = fig.add_subplot(111)\n",
    "plt.boxplot(results)\n",
    "ax.set_xticklabels(names)\n",
    "plt.show()"
   ]
  },
  {
   "cell_type": "markdown",
   "metadata": {},
   "source": [
    "#### Determine the best methods"
   ]
  },
  {
   "cell_type": "code",
   "execution_count": 68,
   "metadata": {
    "scrolled": true
   },
   "outputs": [
    {
     "data": {
      "text/html": [
       "<div>\n",
       "<style scoped>\n",
       "    .dataframe tbody tr th:only-of-type {\n",
       "        vertical-align: middle;\n",
       "    }\n",
       "\n",
       "    .dataframe tbody tr th {\n",
       "        vertical-align: top;\n",
       "    }\n",
       "\n",
       "    .dataframe thead th {\n",
       "        text-align: right;\n",
       "    }\n",
       "</style>\n",
       "<table border=\"1\" class=\"dataframe\">\n",
       "  <thead>\n",
       "    <tr style=\"text-align: right;\">\n",
       "      <th></th>\n",
       "      <th>recall</th>\n",
       "    </tr>\n",
       "  </thead>\n",
       "  <tbody>\n",
       "    <tr>\n",
       "      <th>AB</th>\n",
       "      <td>0.079886</td>\n",
       "    </tr>\n",
       "    <tr>\n",
       "      <th>GBM</th>\n",
       "      <td>0.059943</td>\n",
       "    </tr>\n",
       "    <tr>\n",
       "      <th>RF</th>\n",
       "      <td>0.042849</td>\n",
       "    </tr>\n",
       "  </tbody>\n",
       "</table>\n",
       "</div>"
      ],
      "text/plain": [
       "       recall\n",
       "AB   0.079886\n",
       "GBM  0.059943\n",
       "RF   0.042849"
      ]
     },
     "execution_count": 68,
     "metadata": {},
     "output_type": "execute_result"
    }
   ],
   "source": [
    "res = []\n",
    "\n",
    "# Create vector of model names\n",
    "for i in np.arange(0,3):\n",
    "    res.append(models[i][0])\n",
    "\n",
    "# create vector of with names of models and their metrics of quality\n",
    "data_model = pd.DataFrame(np.mean(results, axis=1), res, columns = ['recall'])\n",
    "data_model = data_model.sort_values(by=['recall'], ascending= False)\n",
    "data_model"
   ]
  },
  {
   "cell_type": "markdown",
   "metadata": {},
   "source": [
    "#### Tune scaled GBM"
   ]
  },
  {
   "cell_type": "markdown",
   "metadata": {},
   "source": [
    "Calculate the time ofcalculation for 1 iteration"
   ]
  },
  {
   "cell_type": "markdown",
   "metadata": {},
   "source": [
    "##### 1 -st attempt"
   ]
  },
  {
   "cell_type": "code",
   "execution_count": 93,
   "metadata": {},
   "outputs": [
    {
     "name": "stdout",
     "output_type": "stream",
     "text": [
      "Best: 0.251154 using {'learning_rate': 1, 'n_estimators': 500}\n",
      "Wall time: 19.7 s\n"
     ]
    }
   ],
   "source": [
    "%%time\n",
    "\n",
    "model = AdaBoostClassifier()\n",
    "kfold = KFold(n_splits=num_folds)\n",
    "kfold  =5\n",
    "\n",
    "\n",
    "grid = GridSearchCV(estimator=model,cv=kfold, scoring='recall',\n",
    "                  param_grid={\n",
    "                    'n_estimators':  [50,100,500],\n",
    "                    'learning_rate': [0.05,0.5,1],\n",
    "                    })\n",
    "\n",
    "\n",
    "grid_result = grid.fit(train,  y)\n",
    "\n",
    "print(\"Best: %f using %s\" % (grid_result.best_score_, grid_result.best_params_))\n",
    "means = grid_result.cv_results_['mean_test_score']\n",
    "stds = grid_result.cv_results_['std_test_score']\n",
    "params = grid_result.cv_results_['params']\n",
    "\n",
    "\n",
    "# for mean, stdev, param in zip(means, stds, params):\n",
    "#     print(\"%f (%f) with: %r\" % (mean, stdev, param))"
   ]
  },
  {
   "cell_type": "code",
   "execution_count": 97,
   "metadata": {},
   "outputs": [
    {
     "name": "stdout",
     "output_type": "stream",
     "text": [
      "0.07272727272727272\n"
     ]
    }
   ],
   "source": [
    "\n",
    "\n",
    "\n",
    "# prepare the model\n",
    "model = AdaBoostClassifier( n_estimators = 500,\n",
    "                           learning_rate = 1)\n",
    "model.fit(x_train, y_train)\n",
    "# transform the validation dataset\n",
    "\n",
    "predictions = model.predict( x_test)\n",
    "print( recall_score(y_test, predictions))"
   ]
  },
  {
   "cell_type": "code",
   "execution_count": null,
   "metadata": {},
   "outputs": [],
   "source": []
  },
  {
   "cell_type": "code",
   "execution_count": null,
   "metadata": {},
   "outputs": [],
   "source": []
  },
  {
   "cell_type": "code",
   "execution_count": null,
   "metadata": {},
   "outputs": [],
   "source": []
  },
  {
   "cell_type": "code",
   "execution_count": null,
   "metadata": {},
   "outputs": [],
   "source": []
  },
  {
   "cell_type": "code",
   "execution_count": null,
   "metadata": {},
   "outputs": [],
   "source": []
  },
  {
   "cell_type": "code",
   "execution_count": null,
   "metadata": {},
   "outputs": [],
   "source": []
  },
  {
   "cell_type": "code",
   "execution_count": null,
   "metadata": {},
   "outputs": [],
   "source": []
  },
  {
   "cell_type": "code",
   "execution_count": null,
   "metadata": {},
   "outputs": [],
   "source": []
  },
  {
   "cell_type": "code",
   "execution_count": null,
   "metadata": {},
   "outputs": [],
   "source": []
  },
  {
   "cell_type": "code",
   "execution_count": null,
   "metadata": {},
   "outputs": [],
   "source": []
  },
  {
   "cell_type": "code",
   "execution_count": null,
   "metadata": {},
   "outputs": [],
   "source": []
  },
  {
   "cell_type": "code",
   "execution_count": null,
   "metadata": {},
   "outputs": [],
   "source": []
  },
  {
   "cell_type": "code",
   "execution_count": null,
   "metadata": {},
   "outputs": [],
   "source": []
  },
  {
   "cell_type": "code",
   "execution_count": null,
   "metadata": {},
   "outputs": [],
   "source": []
  },
  {
   "cell_type": "code",
   "execution_count": null,
   "metadata": {},
   "outputs": [],
   "source": []
  },
  {
   "cell_type": "code",
   "execution_count": null,
   "metadata": {},
   "outputs": [],
   "source": []
  },
  {
   "cell_type": "code",
   "execution_count": null,
   "metadata": {},
   "outputs": [],
   "source": []
  },
  {
   "cell_type": "code",
   "execution_count": null,
   "metadata": {},
   "outputs": [],
   "source": []
  },
  {
   "cell_type": "code",
   "execution_count": null,
   "metadata": {},
   "outputs": [],
   "source": []
  },
  {
   "cell_type": "code",
   "execution_count": null,
   "metadata": {},
   "outputs": [],
   "source": []
  },
  {
   "cell_type": "code",
   "execution_count": null,
   "metadata": {},
   "outputs": [],
   "source": []
  },
  {
   "cell_type": "code",
   "execution_count": null,
   "metadata": {},
   "outputs": [],
   "source": []
  },
  {
   "cell_type": "code",
   "execution_count": null,
   "metadata": {},
   "outputs": [],
   "source": []
  },
  {
   "cell_type": "code",
   "execution_count": null,
   "metadata": {},
   "outputs": [],
   "source": []
  },
  {
   "cell_type": "code",
   "execution_count": null,
   "metadata": {},
   "outputs": [],
   "source": []
  },
  {
   "cell_type": "code",
   "execution_count": null,
   "metadata": {},
   "outputs": [],
   "source": []
  },
  {
   "cell_type": "code",
   "execution_count": null,
   "metadata": {},
   "outputs": [],
   "source": []
  },
  {
   "cell_type": "code",
   "execution_count": null,
   "metadata": {},
   "outputs": [],
   "source": []
  },
  {
   "cell_type": "code",
   "execution_count": 408,
   "metadata": {},
   "outputs": [],
   "source": [
    "import pandas as pd\n",
    "from sklearn.ensemble import RandomForestRegressor\n",
    "from sklearn.model_selection import GridSearchCV\n",
    "\n",
    "\n",
    "gs = GridSearchCV(RandomForestRegressor(n_estimators=100),\n",
    "                  param_grid={\n",
    "                        'max_depth': np.arange(2,50,4),\n",
    "                        'min_samples_split': np.arange(2,20,4),\n",
    "                        'min_samples_leaf': np.arange(2,20,4),\n",
    "                      'max_features': [None, 'log2', 'sqrt']\n",
    "                  },\n",
    "                  cv=cv,\n",
    "                  scoring='neg_mean_absolute_error')\n",
    "# verbose. Look at this parametres"
   ]
  },
  {
   "cell_type": "code",
   "execution_count": 409,
   "metadata": {},
   "outputs": [
    {
     "name": "stdout",
     "output_type": "stream",
     "text": [
      "Wall time: 15min 57s\n"
     ]
    },
    {
     "data": {
      "text/plain": [
       "GridSearchCV(cv=KFold(n_splits=5, random_state=241, shuffle=True),\n",
       "       error_score='raise',\n",
       "       estimator=RandomForestRegressor(bootstrap=True, criterion='mse', max_depth=None,\n",
       "           max_features='auto', max_leaf_nodes=None,\n",
       "           min_impurity_decrease=0.0, min_impurity_split=None,\n",
       "           min_samples_leaf=1, min_samples_split=2,\n",
       "           min_weight_fraction_leaf=0.0, n_estimators=100, n_jobs=1,\n",
       "           oob_score=False, random_state=None, verbose=0, warm_start=False),\n",
       "       fit_params=None, iid=True, n_jobs=1,\n",
       "       param_grid={'max_depth': array([ 2,  6, 10, 14, 18, 22, 26, 30, 34, 38, 42, 46]), 'min_samples_split': array([ 2,  6, 10, 14, 18]), 'min_samples_leaf': array([ 2,  6, 10, 14, 18]), 'max_features': [None, 'log2', 'sqrt']},\n",
       "       pre_dispatch='2*n_jobs', refit=True, return_train_score='warn',\n",
       "       scoring='neg_mean_absolute_error', verbose=0)"
      ]
     },
     "execution_count": 409,
     "metadata": {},
     "output_type": "execute_result"
    }
   ],
   "source": [
    "%%time\n",
    "gs.fit(df_train.drop(['medv'], axis = 1), df_train['medv'])"
   ]
  },
  {
   "cell_type": "code",
   "execution_count": 261,
   "metadata": {},
   "outputs": [
    {
     "name": "stderr",
     "output_type": "stream",
     "text": [
      "C:\\Users\\user\\Anaconda3\\lib\\site-packages\\sklearn\\utils\\deprecation.py:122: FutureWarning: You are accessing a training score ('mean_train_score'), which will not be available by default any more in 0.21. If you need training scores, please set return_train_score=True\n",
      "  warnings.warn(*warn_args, **warn_kwargs)\n",
      "C:\\Users\\user\\Anaconda3\\lib\\site-packages\\sklearn\\utils\\deprecation.py:122: FutureWarning: You are accessing a training score ('split0_train_score'), which will not be available by default any more in 0.21. If you need training scores, please set return_train_score=True\n",
      "  warnings.warn(*warn_args, **warn_kwargs)\n",
      "C:\\Users\\user\\Anaconda3\\lib\\site-packages\\sklearn\\utils\\deprecation.py:122: FutureWarning: You are accessing a training score ('split1_train_score'), which will not be available by default any more in 0.21. If you need training scores, please set return_train_score=True\n",
      "  warnings.warn(*warn_args, **warn_kwargs)\n",
      "C:\\Users\\user\\Anaconda3\\lib\\site-packages\\sklearn\\utils\\deprecation.py:122: FutureWarning: You are accessing a training score ('split2_train_score'), which will not be available by default any more in 0.21. If you need training scores, please set return_train_score=True\n",
      "  warnings.warn(*warn_args, **warn_kwargs)\n",
      "C:\\Users\\user\\Anaconda3\\lib\\site-packages\\sklearn\\utils\\deprecation.py:122: FutureWarning: You are accessing a training score ('split3_train_score'), which will not be available by default any more in 0.21. If you need training scores, please set return_train_score=True\n",
      "  warnings.warn(*warn_args, **warn_kwargs)\n",
      "C:\\Users\\user\\Anaconda3\\lib\\site-packages\\sklearn\\utils\\deprecation.py:122: FutureWarning: You are accessing a training score ('split4_train_score'), which will not be available by default any more in 0.21. If you need training scores, please set return_train_score=True\n",
      "  warnings.warn(*warn_args, **warn_kwargs)\n",
      "C:\\Users\\user\\Anaconda3\\lib\\site-packages\\sklearn\\utils\\deprecation.py:122: FutureWarning: You are accessing a training score ('std_train_score'), which will not be available by default any more in 0.21. If you need training scores, please set return_train_score=True\n",
      "  warnings.warn(*warn_args, **warn_kwargs)\n"
     ]
    },
    {
     "data": {
      "text/html": [
       "<div>\n",
       "<style scoped>\n",
       "    .dataframe tbody tr th:only-of-type {\n",
       "        vertical-align: middle;\n",
       "    }\n",
       "\n",
       "    .dataframe tbody tr th {\n",
       "        vertical-align: top;\n",
       "    }\n",
       "\n",
       "    .dataframe thead th {\n",
       "        text-align: right;\n",
       "    }\n",
       "</style>\n",
       "<table border=\"1\" class=\"dataframe\">\n",
       "  <thead>\n",
       "    <tr style=\"text-align: right;\">\n",
       "      <th></th>\n",
       "      <th>params</th>\n",
       "      <th>mean_test_score</th>\n",
       "      <th>std_test_score</th>\n",
       "    </tr>\n",
       "  </thead>\n",
       "  <tbody>\n",
       "    <tr>\n",
       "      <th>0</th>\n",
       "      <td>{'max_depth': 2, 'max_features': None, 'min_sa...</td>\n",
       "      <td>-2.723341</td>\n",
       "      <td>0.207946</td>\n",
       "    </tr>\n",
       "    <tr>\n",
       "      <th>1</th>\n",
       "      <td>{'max_depth': 2, 'max_features': None, 'min_sa...</td>\n",
       "      <td>-2.709505</td>\n",
       "      <td>0.210681</td>\n",
       "    </tr>\n",
       "    <tr>\n",
       "      <th>2</th>\n",
       "      <td>{'max_depth': 2, 'max_features': None, 'min_sa...</td>\n",
       "      <td>-2.705841</td>\n",
       "      <td>0.218698</td>\n",
       "    </tr>\n",
       "    <tr>\n",
       "      <th>3</th>\n",
       "      <td>{'max_depth': 2, 'max_features': None, 'min_sa...</td>\n",
       "      <td>-2.714064</td>\n",
       "      <td>0.213262</td>\n",
       "    </tr>\n",
       "    <tr>\n",
       "      <th>4</th>\n",
       "      <td>{'max_depth': 2, 'max_features': None, 'min_sa...</td>\n",
       "      <td>-2.731933</td>\n",
       "      <td>0.189346</td>\n",
       "    </tr>\n",
       "    <tr>\n",
       "      <th>5</th>\n",
       "      <td>{'max_depth': 2, 'max_features': None, 'min_sa...</td>\n",
       "      <td>-2.733962</td>\n",
       "      <td>0.236855</td>\n",
       "    </tr>\n",
       "    <tr>\n",
       "      <th>6</th>\n",
       "      <td>{'max_depth': 2, 'max_features': None, 'min_sa...</td>\n",
       "      <td>-2.790819</td>\n",
       "      <td>0.221137</td>\n",
       "    </tr>\n",
       "    <tr>\n",
       "      <th>7</th>\n",
       "      <td>{'max_depth': 2, 'max_features': None, 'min_sa...</td>\n",
       "      <td>-2.672156</td>\n",
       "      <td>0.247139</td>\n",
       "    </tr>\n",
       "    <tr>\n",
       "      <th>8</th>\n",
       "      <td>{'max_depth': 2, 'max_features': None, 'min_sa...</td>\n",
       "      <td>-2.771207</td>\n",
       "      <td>0.219014</td>\n",
       "    </tr>\n",
       "    <tr>\n",
       "      <th>9</th>\n",
       "      <td>{'max_depth': 2, 'max_features': None, 'min_sa...</td>\n",
       "      <td>-2.695489</td>\n",
       "      <td>0.244259</td>\n",
       "    </tr>\n",
       "    <tr>\n",
       "      <th>10</th>\n",
       "      <td>{'max_depth': 2, 'max_features': None, 'min_sa...</td>\n",
       "      <td>-2.708521</td>\n",
       "      <td>0.201959</td>\n",
       "    </tr>\n",
       "    <tr>\n",
       "      <th>11</th>\n",
       "      <td>{'max_depth': 2, 'max_features': None, 'min_sa...</td>\n",
       "      <td>-2.765103</td>\n",
       "      <td>0.192790</td>\n",
       "    </tr>\n",
       "    <tr>\n",
       "      <th>12</th>\n",
       "      <td>{'max_depth': 2, 'max_features': None, 'min_sa...</td>\n",
       "      <td>-2.704726</td>\n",
       "      <td>0.252611</td>\n",
       "    </tr>\n",
       "    <tr>\n",
       "      <th>13</th>\n",
       "      <td>{'max_depth': 2, 'max_features': None, 'min_sa...</td>\n",
       "      <td>-2.712094</td>\n",
       "      <td>0.247941</td>\n",
       "    </tr>\n",
       "    <tr>\n",
       "      <th>14</th>\n",
       "      <td>{'max_depth': 2, 'max_features': None, 'min_sa...</td>\n",
       "      <td>-2.764233</td>\n",
       "      <td>0.207438</td>\n",
       "    </tr>\n",
       "    <tr>\n",
       "      <th>15</th>\n",
       "      <td>{'max_depth': 2, 'max_features': None, 'min_sa...</td>\n",
       "      <td>-2.782415</td>\n",
       "      <td>0.256541</td>\n",
       "    </tr>\n",
       "    <tr>\n",
       "      <th>16</th>\n",
       "      <td>{'max_depth': 2, 'max_features': 'sqrt', 'min_...</td>\n",
       "      <td>-3.052460</td>\n",
       "      <td>0.349287</td>\n",
       "    </tr>\n",
       "    <tr>\n",
       "      <th>17</th>\n",
       "      <td>{'max_depth': 2, 'max_features': 'sqrt', 'min_...</td>\n",
       "      <td>-3.020858</td>\n",
       "      <td>0.393757</td>\n",
       "    </tr>\n",
       "    <tr>\n",
       "      <th>18</th>\n",
       "      <td>{'max_depth': 2, 'max_features': 'sqrt', 'min_...</td>\n",
       "      <td>-2.983669</td>\n",
       "      <td>0.329708</td>\n",
       "    </tr>\n",
       "    <tr>\n",
       "      <th>19</th>\n",
       "      <td>{'max_depth': 2, 'max_features': 'sqrt', 'min_...</td>\n",
       "      <td>-3.086093</td>\n",
       "      <td>0.346332</td>\n",
       "    </tr>\n",
       "    <tr>\n",
       "      <th>20</th>\n",
       "      <td>{'max_depth': 2, 'max_features': 'sqrt', 'min_...</td>\n",
       "      <td>-3.067035</td>\n",
       "      <td>0.312925</td>\n",
       "    </tr>\n",
       "    <tr>\n",
       "      <th>21</th>\n",
       "      <td>{'max_depth': 2, 'max_features': 'sqrt', 'min_...</td>\n",
       "      <td>-3.163070</td>\n",
       "      <td>0.299698</td>\n",
       "    </tr>\n",
       "    <tr>\n",
       "      <th>22</th>\n",
       "      <td>{'max_depth': 2, 'max_features': 'sqrt', 'min_...</td>\n",
       "      <td>-3.069148</td>\n",
       "      <td>0.357520</td>\n",
       "    </tr>\n",
       "    <tr>\n",
       "      <th>23</th>\n",
       "      <td>{'max_depth': 2, 'max_features': 'sqrt', 'min_...</td>\n",
       "      <td>-3.069787</td>\n",
       "      <td>0.371776</td>\n",
       "    </tr>\n",
       "    <tr>\n",
       "      <th>24</th>\n",
       "      <td>{'max_depth': 2, 'max_features': 'sqrt', 'min_...</td>\n",
       "      <td>-3.073410</td>\n",
       "      <td>0.324717</td>\n",
       "    </tr>\n",
       "    <tr>\n",
       "      <th>25</th>\n",
       "      <td>{'max_depth': 2, 'max_features': 'sqrt', 'min_...</td>\n",
       "      <td>-3.042123</td>\n",
       "      <td>0.334549</td>\n",
       "    </tr>\n",
       "    <tr>\n",
       "      <th>26</th>\n",
       "      <td>{'max_depth': 2, 'max_features': 'sqrt', 'min_...</td>\n",
       "      <td>-3.083167</td>\n",
       "      <td>0.293700</td>\n",
       "    </tr>\n",
       "    <tr>\n",
       "      <th>27</th>\n",
       "      <td>{'max_depth': 2, 'max_features': 'sqrt', 'min_...</td>\n",
       "      <td>-3.095539</td>\n",
       "      <td>0.387047</td>\n",
       "    </tr>\n",
       "    <tr>\n",
       "      <th>28</th>\n",
       "      <td>{'max_depth': 2, 'max_features': 'sqrt', 'min_...</td>\n",
       "      <td>-3.122816</td>\n",
       "      <td>0.433293</td>\n",
       "    </tr>\n",
       "    <tr>\n",
       "      <th>29</th>\n",
       "      <td>{'max_depth': 2, 'max_features': 'sqrt', 'min_...</td>\n",
       "      <td>-3.087774</td>\n",
       "      <td>0.331761</td>\n",
       "    </tr>\n",
       "    <tr>\n",
       "      <th>30</th>\n",
       "      <td>{'max_depth': 2, 'max_features': 'sqrt', 'min_...</td>\n",
       "      <td>-3.070362</td>\n",
       "      <td>0.358346</td>\n",
       "    </tr>\n",
       "    <tr>\n",
       "      <th>31</th>\n",
       "      <td>{'max_depth': 2, 'max_features': 'sqrt', 'min_...</td>\n",
       "      <td>-3.030434</td>\n",
       "      <td>0.406096</td>\n",
       "    </tr>\n",
       "    <tr>\n",
       "      <th>32</th>\n",
       "      <td>{'max_depth': 7, 'max_features': None, 'min_sa...</td>\n",
       "      <td>-2.117845</td>\n",
       "      <td>0.123496</td>\n",
       "    </tr>\n",
       "    <tr>\n",
       "      <th>33</th>\n",
       "      <td>{'max_depth': 7, 'max_features': None, 'min_sa...</td>\n",
       "      <td>-2.115995</td>\n",
       "      <td>0.117275</td>\n",
       "    </tr>\n",
       "    <tr>\n",
       "      <th>34</th>\n",
       "      <td>{'max_depth': 7, 'max_features': None, 'min_sa...</td>\n",
       "      <td>-2.126357</td>\n",
       "      <td>0.122118</td>\n",
       "    </tr>\n",
       "    <tr>\n",
       "      <th>35</th>\n",
       "      <td>{'max_depth': 7, 'max_features': None, 'min_sa...</td>\n",
       "      <td>-2.201974</td>\n",
       "      <td>0.126482</td>\n",
       "    </tr>\n",
       "    <tr>\n",
       "      <th>36</th>\n",
       "      <td>{'max_depth': 7, 'max_features': None, 'min_sa...</td>\n",
       "      <td>-2.211918</td>\n",
       "      <td>0.153737</td>\n",
       "    </tr>\n",
       "    <tr>\n",
       "      <th>37</th>\n",
       "      <td>{'max_depth': 7, 'max_features': None, 'min_sa...</td>\n",
       "      <td>-2.219841</td>\n",
       "      <td>0.170761</td>\n",
       "    </tr>\n",
       "    <tr>\n",
       "      <th>38</th>\n",
       "      <td>{'max_depth': 7, 'max_features': None, 'min_sa...</td>\n",
       "      <td>-2.202872</td>\n",
       "      <td>0.153969</td>\n",
       "    </tr>\n",
       "    <tr>\n",
       "      <th>39</th>\n",
       "      <td>{'max_depth': 7, 'max_features': None, 'min_sa...</td>\n",
       "      <td>-2.232526</td>\n",
       "      <td>0.170950</td>\n",
       "    </tr>\n",
       "    <tr>\n",
       "      <th>40</th>\n",
       "      <td>{'max_depth': 7, 'max_features': None, 'min_sa...</td>\n",
       "      <td>-2.315695</td>\n",
       "      <td>0.183591</td>\n",
       "    </tr>\n",
       "    <tr>\n",
       "      <th>41</th>\n",
       "      <td>{'max_depth': 7, 'max_features': None, 'min_sa...</td>\n",
       "      <td>-2.322240</td>\n",
       "      <td>0.181665</td>\n",
       "    </tr>\n",
       "    <tr>\n",
       "      <th>42</th>\n",
       "      <td>{'max_depth': 7, 'max_features': None, 'min_sa...</td>\n",
       "      <td>-2.331903</td>\n",
       "      <td>0.196080</td>\n",
       "    </tr>\n",
       "    <tr>\n",
       "      <th>43</th>\n",
       "      <td>{'max_depth': 7, 'max_features': None, 'min_sa...</td>\n",
       "      <td>-2.295814</td>\n",
       "      <td>0.209994</td>\n",
       "    </tr>\n",
       "    <tr>\n",
       "      <th>44</th>\n",
       "      <td>{'max_depth': 7, 'max_features': None, 'min_sa...</td>\n",
       "      <td>-2.463381</td>\n",
       "      <td>0.227288</td>\n",
       "    </tr>\n",
       "    <tr>\n",
       "      <th>45</th>\n",
       "      <td>{'max_depth': 7, 'max_features': None, 'min_sa...</td>\n",
       "      <td>-2.436409</td>\n",
       "      <td>0.191986</td>\n",
       "    </tr>\n",
       "    <tr>\n",
       "      <th>46</th>\n",
       "      <td>{'max_depth': 7, 'max_features': None, 'min_sa...</td>\n",
       "      <td>-2.465661</td>\n",
       "      <td>0.186732</td>\n",
       "    </tr>\n",
       "    <tr>\n",
       "      <th>47</th>\n",
       "      <td>{'max_depth': 7, 'max_features': None, 'min_sa...</td>\n",
       "      <td>-2.442796</td>\n",
       "      <td>0.155509</td>\n",
       "    </tr>\n",
       "    <tr>\n",
       "      <th>48</th>\n",
       "      <td>{'max_depth': 7, 'max_features': 'sqrt', 'min_...</td>\n",
       "      <td>-2.082144</td>\n",
       "      <td>0.222919</td>\n",
       "    </tr>\n",
       "    <tr>\n",
       "      <th>49</th>\n",
       "      <td>{'max_depth': 7, 'max_features': 'sqrt', 'min_...</td>\n",
       "      <td>-2.144987</td>\n",
       "      <td>0.172718</td>\n",
       "    </tr>\n",
       "    <tr>\n",
       "      <th>50</th>\n",
       "      <td>{'max_depth': 7, 'max_features': 'sqrt', 'min_...</td>\n",
       "      <td>-2.207337</td>\n",
       "      <td>0.208249</td>\n",
       "    </tr>\n",
       "    <tr>\n",
       "      <th>51</th>\n",
       "      <td>{'max_depth': 7, 'max_features': 'sqrt', 'min_...</td>\n",
       "      <td>-2.277923</td>\n",
       "      <td>0.231104</td>\n",
       "    </tr>\n",
       "    <tr>\n",
       "      <th>...</th>\n",
       "      <td>...</td>\n",
       "      <td>...</td>\n",
       "      <td>...</td>\n",
       "    </tr>\n",
       "    <tr>\n",
       "      <th>268</th>\n",
       "      <td>{'max_depth': 42, 'max_features': None, 'min_s...</td>\n",
       "      <td>-2.470865</td>\n",
       "      <td>0.180976</td>\n",
       "    </tr>\n",
       "    <tr>\n",
       "      <th>269</th>\n",
       "      <td>{'max_depth': 42, 'max_features': None, 'min_s...</td>\n",
       "      <td>-2.470160</td>\n",
       "      <td>0.195401</td>\n",
       "    </tr>\n",
       "    <tr>\n",
       "      <th>270</th>\n",
       "      <td>{'max_depth': 42, 'max_features': None, 'min_s...</td>\n",
       "      <td>-2.467251</td>\n",
       "      <td>0.198373</td>\n",
       "    </tr>\n",
       "    <tr>\n",
       "      <th>271</th>\n",
       "      <td>{'max_depth': 42, 'max_features': None, 'min_s...</td>\n",
       "      <td>-2.448230</td>\n",
       "      <td>0.182676</td>\n",
       "    </tr>\n",
       "    <tr>\n",
       "      <th>272</th>\n",
       "      <td>{'max_depth': 42, 'max_features': 'sqrt', 'min...</td>\n",
       "      <td>-2.093443</td>\n",
       "      <td>0.186160</td>\n",
       "    </tr>\n",
       "    <tr>\n",
       "      <th>273</th>\n",
       "      <td>{'max_depth': 42, 'max_features': 'sqrt', 'min...</td>\n",
       "      <td>-2.095815</td>\n",
       "      <td>0.175285</td>\n",
       "    </tr>\n",
       "    <tr>\n",
       "      <th>274</th>\n",
       "      <td>{'max_depth': 42, 'max_features': 'sqrt', 'min...</td>\n",
       "      <td>-2.162640</td>\n",
       "      <td>0.175189</td>\n",
       "    </tr>\n",
       "    <tr>\n",
       "      <th>275</th>\n",
       "      <td>{'max_depth': 42, 'max_features': 'sqrt', 'min...</td>\n",
       "      <td>-2.309854</td>\n",
       "      <td>0.227869</td>\n",
       "    </tr>\n",
       "    <tr>\n",
       "      <th>276</th>\n",
       "      <td>{'max_depth': 42, 'max_features': 'sqrt', 'min...</td>\n",
       "      <td>-2.369533</td>\n",
       "      <td>0.154024</td>\n",
       "    </tr>\n",
       "    <tr>\n",
       "      <th>277</th>\n",
       "      <td>{'max_depth': 42, 'max_features': 'sqrt', 'min...</td>\n",
       "      <td>-2.323824</td>\n",
       "      <td>0.208824</td>\n",
       "    </tr>\n",
       "    <tr>\n",
       "      <th>278</th>\n",
       "      <td>{'max_depth': 42, 'max_features': 'sqrt', 'min...</td>\n",
       "      <td>-2.307084</td>\n",
       "      <td>0.179646</td>\n",
       "    </tr>\n",
       "    <tr>\n",
       "      <th>279</th>\n",
       "      <td>{'max_depth': 42, 'max_features': 'sqrt', 'min...</td>\n",
       "      <td>-2.375296</td>\n",
       "      <td>0.223192</td>\n",
       "    </tr>\n",
       "    <tr>\n",
       "      <th>280</th>\n",
       "      <td>{'max_depth': 42, 'max_features': 'sqrt', 'min...</td>\n",
       "      <td>-2.589170</td>\n",
       "      <td>0.231732</td>\n",
       "    </tr>\n",
       "    <tr>\n",
       "      <th>281</th>\n",
       "      <td>{'max_depth': 42, 'max_features': 'sqrt', 'min...</td>\n",
       "      <td>-2.536059</td>\n",
       "      <td>0.187065</td>\n",
       "    </tr>\n",
       "    <tr>\n",
       "      <th>282</th>\n",
       "      <td>{'max_depth': 42, 'max_features': 'sqrt', 'min...</td>\n",
       "      <td>-2.544789</td>\n",
       "      <td>0.244513</td>\n",
       "    </tr>\n",
       "    <tr>\n",
       "      <th>283</th>\n",
       "      <td>{'max_depth': 42, 'max_features': 'sqrt', 'min...</td>\n",
       "      <td>-2.532886</td>\n",
       "      <td>0.187158</td>\n",
       "    </tr>\n",
       "    <tr>\n",
       "      <th>284</th>\n",
       "      <td>{'max_depth': 42, 'max_features': 'sqrt', 'min...</td>\n",
       "      <td>-2.742187</td>\n",
       "      <td>0.264687</td>\n",
       "    </tr>\n",
       "    <tr>\n",
       "      <th>285</th>\n",
       "      <td>{'max_depth': 42, 'max_features': 'sqrt', 'min...</td>\n",
       "      <td>-2.709791</td>\n",
       "      <td>0.247562</td>\n",
       "    </tr>\n",
       "    <tr>\n",
       "      <th>286</th>\n",
       "      <td>{'max_depth': 42, 'max_features': 'sqrt', 'min...</td>\n",
       "      <td>-2.748936</td>\n",
       "      <td>0.258227</td>\n",
       "    </tr>\n",
       "    <tr>\n",
       "      <th>287</th>\n",
       "      <td>{'max_depth': 42, 'max_features': 'sqrt', 'min...</td>\n",
       "      <td>-2.728931</td>\n",
       "      <td>0.272635</td>\n",
       "    </tr>\n",
       "    <tr>\n",
       "      <th>288</th>\n",
       "      <td>{'max_depth': 47, 'max_features': None, 'min_s...</td>\n",
       "      <td>-2.102910</td>\n",
       "      <td>0.153539</td>\n",
       "    </tr>\n",
       "    <tr>\n",
       "      <th>289</th>\n",
       "      <td>{'max_depth': 47, 'max_features': None, 'min_s...</td>\n",
       "      <td>-2.046710</td>\n",
       "      <td>0.149668</td>\n",
       "    </tr>\n",
       "    <tr>\n",
       "      <th>290</th>\n",
       "      <td>{'max_depth': 47, 'max_features': None, 'min_s...</td>\n",
       "      <td>-2.105258</td>\n",
       "      <td>0.165116</td>\n",
       "    </tr>\n",
       "    <tr>\n",
       "      <th>291</th>\n",
       "      <td>{'max_depth': 47, 'max_features': None, 'min_s...</td>\n",
       "      <td>-2.154629</td>\n",
       "      <td>0.148890</td>\n",
       "    </tr>\n",
       "    <tr>\n",
       "      <th>292</th>\n",
       "      <td>{'max_depth': 47, 'max_features': None, 'min_s...</td>\n",
       "      <td>-2.154859</td>\n",
       "      <td>0.176396</td>\n",
       "    </tr>\n",
       "    <tr>\n",
       "      <th>293</th>\n",
       "      <td>{'max_depth': 47, 'max_features': None, 'min_s...</td>\n",
       "      <td>-2.222441</td>\n",
       "      <td>0.169186</td>\n",
       "    </tr>\n",
       "    <tr>\n",
       "      <th>294</th>\n",
       "      <td>{'max_depth': 47, 'max_features': None, 'min_s...</td>\n",
       "      <td>-2.169827</td>\n",
       "      <td>0.213236</td>\n",
       "    </tr>\n",
       "    <tr>\n",
       "      <th>295</th>\n",
       "      <td>{'max_depth': 47, 'max_features': None, 'min_s...</td>\n",
       "      <td>-2.222059</td>\n",
       "      <td>0.206876</td>\n",
       "    </tr>\n",
       "    <tr>\n",
       "      <th>296</th>\n",
       "      <td>{'max_depth': 47, 'max_features': None, 'min_s...</td>\n",
       "      <td>-2.366665</td>\n",
       "      <td>0.188129</td>\n",
       "    </tr>\n",
       "    <tr>\n",
       "      <th>297</th>\n",
       "      <td>{'max_depth': 47, 'max_features': None, 'min_s...</td>\n",
       "      <td>-2.313555</td>\n",
       "      <td>0.234594</td>\n",
       "    </tr>\n",
       "    <tr>\n",
       "      <th>298</th>\n",
       "      <td>{'max_depth': 47, 'max_features': None, 'min_s...</td>\n",
       "      <td>-2.370931</td>\n",
       "      <td>0.219973</td>\n",
       "    </tr>\n",
       "    <tr>\n",
       "      <th>299</th>\n",
       "      <td>{'max_depth': 47, 'max_features': None, 'min_s...</td>\n",
       "      <td>-2.317094</td>\n",
       "      <td>0.215175</td>\n",
       "    </tr>\n",
       "    <tr>\n",
       "      <th>300</th>\n",
       "      <td>{'max_depth': 47, 'max_features': None, 'min_s...</td>\n",
       "      <td>-2.431237</td>\n",
       "      <td>0.210514</td>\n",
       "    </tr>\n",
       "    <tr>\n",
       "      <th>301</th>\n",
       "      <td>{'max_depth': 47, 'max_features': None, 'min_s...</td>\n",
       "      <td>-2.417338</td>\n",
       "      <td>0.233774</td>\n",
       "    </tr>\n",
       "    <tr>\n",
       "      <th>302</th>\n",
       "      <td>{'max_depth': 47, 'max_features': None, 'min_s...</td>\n",
       "      <td>-2.433365</td>\n",
       "      <td>0.180689</td>\n",
       "    </tr>\n",
       "    <tr>\n",
       "      <th>303</th>\n",
       "      <td>{'max_depth': 47, 'max_features': None, 'min_s...</td>\n",
       "      <td>-2.463762</td>\n",
       "      <td>0.254040</td>\n",
       "    </tr>\n",
       "    <tr>\n",
       "      <th>304</th>\n",
       "      <td>{'max_depth': 47, 'max_features': 'sqrt', 'min...</td>\n",
       "      <td>-2.077759</td>\n",
       "      <td>0.152793</td>\n",
       "    </tr>\n",
       "    <tr>\n",
       "      <th>305</th>\n",
       "      <td>{'max_depth': 47, 'max_features': 'sqrt', 'min...</td>\n",
       "      <td>-2.156999</td>\n",
       "      <td>0.190282</td>\n",
       "    </tr>\n",
       "    <tr>\n",
       "      <th>306</th>\n",
       "      <td>{'max_depth': 47, 'max_features': 'sqrt', 'min...</td>\n",
       "      <td>-2.142749</td>\n",
       "      <td>0.184638</td>\n",
       "    </tr>\n",
       "    <tr>\n",
       "      <th>307</th>\n",
       "      <td>{'max_depth': 47, 'max_features': 'sqrt', 'min...</td>\n",
       "      <td>-2.242813</td>\n",
       "      <td>0.183244</td>\n",
       "    </tr>\n",
       "    <tr>\n",
       "      <th>308</th>\n",
       "      <td>{'max_depth': 47, 'max_features': 'sqrt', 'min...</td>\n",
       "      <td>-2.324692</td>\n",
       "      <td>0.197139</td>\n",
       "    </tr>\n",
       "    <tr>\n",
       "      <th>309</th>\n",
       "      <td>{'max_depth': 47, 'max_features': 'sqrt', 'min...</td>\n",
       "      <td>-2.355069</td>\n",
       "      <td>0.220538</td>\n",
       "    </tr>\n",
       "    <tr>\n",
       "      <th>310</th>\n",
       "      <td>{'max_depth': 47, 'max_features': 'sqrt', 'min...</td>\n",
       "      <td>-2.355234</td>\n",
       "      <td>0.221013</td>\n",
       "    </tr>\n",
       "    <tr>\n",
       "      <th>311</th>\n",
       "      <td>{'max_depth': 47, 'max_features': 'sqrt', 'min...</td>\n",
       "      <td>-2.395641</td>\n",
       "      <td>0.212121</td>\n",
       "    </tr>\n",
       "    <tr>\n",
       "      <th>312</th>\n",
       "      <td>{'max_depth': 47, 'max_features': 'sqrt', 'min...</td>\n",
       "      <td>-2.535096</td>\n",
       "      <td>0.225400</td>\n",
       "    </tr>\n",
       "    <tr>\n",
       "      <th>313</th>\n",
       "      <td>{'max_depth': 47, 'max_features': 'sqrt', 'min...</td>\n",
       "      <td>-2.511350</td>\n",
       "      <td>0.177997</td>\n",
       "    </tr>\n",
       "    <tr>\n",
       "      <th>314</th>\n",
       "      <td>{'max_depth': 47, 'max_features': 'sqrt', 'min...</td>\n",
       "      <td>-2.522227</td>\n",
       "      <td>0.210622</td>\n",
       "    </tr>\n",
       "    <tr>\n",
       "      <th>315</th>\n",
       "      <td>{'max_depth': 47, 'max_features': 'sqrt', 'min...</td>\n",
       "      <td>-2.516399</td>\n",
       "      <td>0.163135</td>\n",
       "    </tr>\n",
       "    <tr>\n",
       "      <th>316</th>\n",
       "      <td>{'max_depth': 47, 'max_features': 'sqrt', 'min...</td>\n",
       "      <td>-2.722744</td>\n",
       "      <td>0.249304</td>\n",
       "    </tr>\n",
       "    <tr>\n",
       "      <th>317</th>\n",
       "      <td>{'max_depth': 47, 'max_features': 'sqrt', 'min...</td>\n",
       "      <td>-2.701368</td>\n",
       "      <td>0.204215</td>\n",
       "    </tr>\n",
       "    <tr>\n",
       "      <th>318</th>\n",
       "      <td>{'max_depth': 47, 'max_features': 'sqrt', 'min...</td>\n",
       "      <td>-2.700381</td>\n",
       "      <td>0.260536</td>\n",
       "    </tr>\n",
       "    <tr>\n",
       "      <th>319</th>\n",
       "      <td>{'max_depth': 47, 'max_features': 'sqrt', 'min...</td>\n",
       "      <td>-2.633939</td>\n",
       "      <td>0.258103</td>\n",
       "    </tr>\n",
       "  </tbody>\n",
       "</table>\n",
       "<p>320 rows × 3 columns</p>\n",
       "</div>"
      ],
      "text/plain": [
       "                                                params  mean_test_score  \\\n",
       "0    {'max_depth': 2, 'max_features': None, 'min_sa...        -2.723341   \n",
       "1    {'max_depth': 2, 'max_features': None, 'min_sa...        -2.709505   \n",
       "2    {'max_depth': 2, 'max_features': None, 'min_sa...        -2.705841   \n",
       "3    {'max_depth': 2, 'max_features': None, 'min_sa...        -2.714064   \n",
       "4    {'max_depth': 2, 'max_features': None, 'min_sa...        -2.731933   \n",
       "5    {'max_depth': 2, 'max_features': None, 'min_sa...        -2.733962   \n",
       "6    {'max_depth': 2, 'max_features': None, 'min_sa...        -2.790819   \n",
       "7    {'max_depth': 2, 'max_features': None, 'min_sa...        -2.672156   \n",
       "8    {'max_depth': 2, 'max_features': None, 'min_sa...        -2.771207   \n",
       "9    {'max_depth': 2, 'max_features': None, 'min_sa...        -2.695489   \n",
       "10   {'max_depth': 2, 'max_features': None, 'min_sa...        -2.708521   \n",
       "11   {'max_depth': 2, 'max_features': None, 'min_sa...        -2.765103   \n",
       "12   {'max_depth': 2, 'max_features': None, 'min_sa...        -2.704726   \n",
       "13   {'max_depth': 2, 'max_features': None, 'min_sa...        -2.712094   \n",
       "14   {'max_depth': 2, 'max_features': None, 'min_sa...        -2.764233   \n",
       "15   {'max_depth': 2, 'max_features': None, 'min_sa...        -2.782415   \n",
       "16   {'max_depth': 2, 'max_features': 'sqrt', 'min_...        -3.052460   \n",
       "17   {'max_depth': 2, 'max_features': 'sqrt', 'min_...        -3.020858   \n",
       "18   {'max_depth': 2, 'max_features': 'sqrt', 'min_...        -2.983669   \n",
       "19   {'max_depth': 2, 'max_features': 'sqrt', 'min_...        -3.086093   \n",
       "20   {'max_depth': 2, 'max_features': 'sqrt', 'min_...        -3.067035   \n",
       "21   {'max_depth': 2, 'max_features': 'sqrt', 'min_...        -3.163070   \n",
       "22   {'max_depth': 2, 'max_features': 'sqrt', 'min_...        -3.069148   \n",
       "23   {'max_depth': 2, 'max_features': 'sqrt', 'min_...        -3.069787   \n",
       "24   {'max_depth': 2, 'max_features': 'sqrt', 'min_...        -3.073410   \n",
       "25   {'max_depth': 2, 'max_features': 'sqrt', 'min_...        -3.042123   \n",
       "26   {'max_depth': 2, 'max_features': 'sqrt', 'min_...        -3.083167   \n",
       "27   {'max_depth': 2, 'max_features': 'sqrt', 'min_...        -3.095539   \n",
       "28   {'max_depth': 2, 'max_features': 'sqrt', 'min_...        -3.122816   \n",
       "29   {'max_depth': 2, 'max_features': 'sqrt', 'min_...        -3.087774   \n",
       "30   {'max_depth': 2, 'max_features': 'sqrt', 'min_...        -3.070362   \n",
       "31   {'max_depth': 2, 'max_features': 'sqrt', 'min_...        -3.030434   \n",
       "32   {'max_depth': 7, 'max_features': None, 'min_sa...        -2.117845   \n",
       "33   {'max_depth': 7, 'max_features': None, 'min_sa...        -2.115995   \n",
       "34   {'max_depth': 7, 'max_features': None, 'min_sa...        -2.126357   \n",
       "35   {'max_depth': 7, 'max_features': None, 'min_sa...        -2.201974   \n",
       "36   {'max_depth': 7, 'max_features': None, 'min_sa...        -2.211918   \n",
       "37   {'max_depth': 7, 'max_features': None, 'min_sa...        -2.219841   \n",
       "38   {'max_depth': 7, 'max_features': None, 'min_sa...        -2.202872   \n",
       "39   {'max_depth': 7, 'max_features': None, 'min_sa...        -2.232526   \n",
       "40   {'max_depth': 7, 'max_features': None, 'min_sa...        -2.315695   \n",
       "41   {'max_depth': 7, 'max_features': None, 'min_sa...        -2.322240   \n",
       "42   {'max_depth': 7, 'max_features': None, 'min_sa...        -2.331903   \n",
       "43   {'max_depth': 7, 'max_features': None, 'min_sa...        -2.295814   \n",
       "44   {'max_depth': 7, 'max_features': None, 'min_sa...        -2.463381   \n",
       "45   {'max_depth': 7, 'max_features': None, 'min_sa...        -2.436409   \n",
       "46   {'max_depth': 7, 'max_features': None, 'min_sa...        -2.465661   \n",
       "47   {'max_depth': 7, 'max_features': None, 'min_sa...        -2.442796   \n",
       "48   {'max_depth': 7, 'max_features': 'sqrt', 'min_...        -2.082144   \n",
       "49   {'max_depth': 7, 'max_features': 'sqrt', 'min_...        -2.144987   \n",
       "50   {'max_depth': 7, 'max_features': 'sqrt', 'min_...        -2.207337   \n",
       "51   {'max_depth': 7, 'max_features': 'sqrt', 'min_...        -2.277923   \n",
       "..                                                 ...              ...   \n",
       "268  {'max_depth': 42, 'max_features': None, 'min_s...        -2.470865   \n",
       "269  {'max_depth': 42, 'max_features': None, 'min_s...        -2.470160   \n",
       "270  {'max_depth': 42, 'max_features': None, 'min_s...        -2.467251   \n",
       "271  {'max_depth': 42, 'max_features': None, 'min_s...        -2.448230   \n",
       "272  {'max_depth': 42, 'max_features': 'sqrt', 'min...        -2.093443   \n",
       "273  {'max_depth': 42, 'max_features': 'sqrt', 'min...        -2.095815   \n",
       "274  {'max_depth': 42, 'max_features': 'sqrt', 'min...        -2.162640   \n",
       "275  {'max_depth': 42, 'max_features': 'sqrt', 'min...        -2.309854   \n",
       "276  {'max_depth': 42, 'max_features': 'sqrt', 'min...        -2.369533   \n",
       "277  {'max_depth': 42, 'max_features': 'sqrt', 'min...        -2.323824   \n",
       "278  {'max_depth': 42, 'max_features': 'sqrt', 'min...        -2.307084   \n",
       "279  {'max_depth': 42, 'max_features': 'sqrt', 'min...        -2.375296   \n",
       "280  {'max_depth': 42, 'max_features': 'sqrt', 'min...        -2.589170   \n",
       "281  {'max_depth': 42, 'max_features': 'sqrt', 'min...        -2.536059   \n",
       "282  {'max_depth': 42, 'max_features': 'sqrt', 'min...        -2.544789   \n",
       "283  {'max_depth': 42, 'max_features': 'sqrt', 'min...        -2.532886   \n",
       "284  {'max_depth': 42, 'max_features': 'sqrt', 'min...        -2.742187   \n",
       "285  {'max_depth': 42, 'max_features': 'sqrt', 'min...        -2.709791   \n",
       "286  {'max_depth': 42, 'max_features': 'sqrt', 'min...        -2.748936   \n",
       "287  {'max_depth': 42, 'max_features': 'sqrt', 'min...        -2.728931   \n",
       "288  {'max_depth': 47, 'max_features': None, 'min_s...        -2.102910   \n",
       "289  {'max_depth': 47, 'max_features': None, 'min_s...        -2.046710   \n",
       "290  {'max_depth': 47, 'max_features': None, 'min_s...        -2.105258   \n",
       "291  {'max_depth': 47, 'max_features': None, 'min_s...        -2.154629   \n",
       "292  {'max_depth': 47, 'max_features': None, 'min_s...        -2.154859   \n",
       "293  {'max_depth': 47, 'max_features': None, 'min_s...        -2.222441   \n",
       "294  {'max_depth': 47, 'max_features': None, 'min_s...        -2.169827   \n",
       "295  {'max_depth': 47, 'max_features': None, 'min_s...        -2.222059   \n",
       "296  {'max_depth': 47, 'max_features': None, 'min_s...        -2.366665   \n",
       "297  {'max_depth': 47, 'max_features': None, 'min_s...        -2.313555   \n",
       "298  {'max_depth': 47, 'max_features': None, 'min_s...        -2.370931   \n",
       "299  {'max_depth': 47, 'max_features': None, 'min_s...        -2.317094   \n",
       "300  {'max_depth': 47, 'max_features': None, 'min_s...        -2.431237   \n",
       "301  {'max_depth': 47, 'max_features': None, 'min_s...        -2.417338   \n",
       "302  {'max_depth': 47, 'max_features': None, 'min_s...        -2.433365   \n",
       "303  {'max_depth': 47, 'max_features': None, 'min_s...        -2.463762   \n",
       "304  {'max_depth': 47, 'max_features': 'sqrt', 'min...        -2.077759   \n",
       "305  {'max_depth': 47, 'max_features': 'sqrt', 'min...        -2.156999   \n",
       "306  {'max_depth': 47, 'max_features': 'sqrt', 'min...        -2.142749   \n",
       "307  {'max_depth': 47, 'max_features': 'sqrt', 'min...        -2.242813   \n",
       "308  {'max_depth': 47, 'max_features': 'sqrt', 'min...        -2.324692   \n",
       "309  {'max_depth': 47, 'max_features': 'sqrt', 'min...        -2.355069   \n",
       "310  {'max_depth': 47, 'max_features': 'sqrt', 'min...        -2.355234   \n",
       "311  {'max_depth': 47, 'max_features': 'sqrt', 'min...        -2.395641   \n",
       "312  {'max_depth': 47, 'max_features': 'sqrt', 'min...        -2.535096   \n",
       "313  {'max_depth': 47, 'max_features': 'sqrt', 'min...        -2.511350   \n",
       "314  {'max_depth': 47, 'max_features': 'sqrt', 'min...        -2.522227   \n",
       "315  {'max_depth': 47, 'max_features': 'sqrt', 'min...        -2.516399   \n",
       "316  {'max_depth': 47, 'max_features': 'sqrt', 'min...        -2.722744   \n",
       "317  {'max_depth': 47, 'max_features': 'sqrt', 'min...        -2.701368   \n",
       "318  {'max_depth': 47, 'max_features': 'sqrt', 'min...        -2.700381   \n",
       "319  {'max_depth': 47, 'max_features': 'sqrt', 'min...        -2.633939   \n",
       "\n",
       "     std_test_score  \n",
       "0          0.207946  \n",
       "1          0.210681  \n",
       "2          0.218698  \n",
       "3          0.213262  \n",
       "4          0.189346  \n",
       "5          0.236855  \n",
       "6          0.221137  \n",
       "7          0.247139  \n",
       "8          0.219014  \n",
       "9          0.244259  \n",
       "10         0.201959  \n",
       "11         0.192790  \n",
       "12         0.252611  \n",
       "13         0.247941  \n",
       "14         0.207438  \n",
       "15         0.256541  \n",
       "16         0.349287  \n",
       "17         0.393757  \n",
       "18         0.329708  \n",
       "19         0.346332  \n",
       "20         0.312925  \n",
       "21         0.299698  \n",
       "22         0.357520  \n",
       "23         0.371776  \n",
       "24         0.324717  \n",
       "25         0.334549  \n",
       "26         0.293700  \n",
       "27         0.387047  \n",
       "28         0.433293  \n",
       "29         0.331761  \n",
       "30         0.358346  \n",
       "31         0.406096  \n",
       "32         0.123496  \n",
       "33         0.117275  \n",
       "34         0.122118  \n",
       "35         0.126482  \n",
       "36         0.153737  \n",
       "37         0.170761  \n",
       "38         0.153969  \n",
       "39         0.170950  \n",
       "40         0.183591  \n",
       "41         0.181665  \n",
       "42         0.196080  \n",
       "43         0.209994  \n",
       "44         0.227288  \n",
       "45         0.191986  \n",
       "46         0.186732  \n",
       "47         0.155509  \n",
       "48         0.222919  \n",
       "49         0.172718  \n",
       "50         0.208249  \n",
       "51         0.231104  \n",
       "..              ...  \n",
       "268        0.180976  \n",
       "269        0.195401  \n",
       "270        0.198373  \n",
       "271        0.182676  \n",
       "272        0.186160  \n",
       "273        0.175285  \n",
       "274        0.175189  \n",
       "275        0.227869  \n",
       "276        0.154024  \n",
       "277        0.208824  \n",
       "278        0.179646  \n",
       "279        0.223192  \n",
       "280        0.231732  \n",
       "281        0.187065  \n",
       "282        0.244513  \n",
       "283        0.187158  \n",
       "284        0.264687  \n",
       "285        0.247562  \n",
       "286        0.258227  \n",
       "287        0.272635  \n",
       "288        0.153539  \n",
       "289        0.149668  \n",
       "290        0.165116  \n",
       "291        0.148890  \n",
       "292        0.176396  \n",
       "293        0.169186  \n",
       "294        0.213236  \n",
       "295        0.206876  \n",
       "296        0.188129  \n",
       "297        0.234594  \n",
       "298        0.219973  \n",
       "299        0.215175  \n",
       "300        0.210514  \n",
       "301        0.233774  \n",
       "302        0.180689  \n",
       "303        0.254040  \n",
       "304        0.152793  \n",
       "305        0.190282  \n",
       "306        0.184638  \n",
       "307        0.183244  \n",
       "308        0.197139  \n",
       "309        0.220538  \n",
       "310        0.221013  \n",
       "311        0.212121  \n",
       "312        0.225400  \n",
       "313        0.177997  \n",
       "314        0.210622  \n",
       "315        0.163135  \n",
       "316        0.249304  \n",
       "317        0.204215  \n",
       "318        0.260536  \n",
       "319        0.258103  \n",
       "\n",
       "[320 rows x 3 columns]"
      ]
     },
     "execution_count": 261,
     "metadata": {},
     "output_type": "execute_result"
    }
   ],
   "source": [
    "pd.DataFrame(gs.cv_results_)[['params', 'mean_test_score', 'std_test_score']]"
   ]
  },
  {
   "cell_type": "code",
   "execution_count": 411,
   "metadata": {},
   "outputs": [
    {
     "name": "stdout",
     "output_type": "stream",
     "text": [
      "MAE:  2.0005002269160244\n",
      "Best parametres:  {'max_depth': 22, 'max_features': 'sqrt', 'min_samples_leaf': 2, 'min_samples_split': 2}\n"
     ]
    }
   ],
   "source": [
    "print('MAE: ', -gs.best_score_)\n",
    "print('Best parametres: ',gs.best_params_)"
   ]
  },
  {
   "cell_type": "code",
   "execution_count": 83,
   "metadata": {},
   "outputs": [],
   "source": [
    "# parametrization\n",
    "RF_best = RandomForestRegressor(max_depth =  58,max_features = 'sqrt', min_samples_leaf = 2, min_samples_split =  2,n_estimators=100)\n",
    "\n",
    "# fitting\n",
    "#knn_best.fit(X_train, y_train)\n"
   ]
  },
  {
   "cell_type": "code",
   "execution_count": 84,
   "metadata": {},
   "outputs": [
    {
     "data": {
      "text/plain": [
       "RandomForestRegressor(bootstrap=True, criterion='mse', max_depth=58,\n",
       "           max_features='sqrt', max_leaf_nodes=None,\n",
       "           min_impurity_decrease=0.0, min_impurity_split=None,\n",
       "           min_samples_leaf=2, min_samples_split=2,\n",
       "           min_weight_fraction_leaf=0.0, n_estimators=100, n_jobs=1,\n",
       "           oob_score=False, random_state=None, verbose=0, warm_start=False)"
      ]
     },
     "execution_count": 84,
     "metadata": {},
     "output_type": "execute_result"
    }
   ],
   "source": [
    "RF_best.fit(df_train.drop(['medv'], axis = 1), df_train['medv'])"
   ]
  },
  {
   "cell_type": "code",
   "execution_count": 262,
   "metadata": {},
   "outputs": [],
   "source": [
    "from sklearn.model_selection import train_test_split, StratifiedKFold\n",
    "X_train, X_holdout, y_train, y_holdout = train_test_split(df_train.drop(['medv'], axis = 1), df_train['medv'], test_size=0.3,\n",
    "                                                          random_state=17)"
   ]
  },
  {
   "cell_type": "code",
   "execution_count": 263,
   "metadata": {},
   "outputs": [
    {
     "data": {
      "text/plain": [
       "RandomForestRegressor(bootstrap=True, criterion='mse', max_depth=58,\n",
       "           max_features='sqrt', max_leaf_nodes=None,\n",
       "           min_impurity_decrease=0.0, min_impurity_split=None,\n",
       "           min_samples_leaf=2, min_samples_split=2,\n",
       "           min_weight_fraction_leaf=0.0, n_estimators=100, n_jobs=1,\n",
       "           oob_score=False, random_state=None, verbose=0, warm_start=False)"
      ]
     },
     "execution_count": 263,
     "metadata": {},
     "output_type": "execute_result"
    }
   ],
   "source": [
    "RF_best = RandomForestRegressor(max_depth =  58,max_features = 'sqrt', min_samples_leaf = 2, min_samples_split =  2,n_estimators=100)\n",
    "\n",
    "RF_best.fit(X_train, y_train)"
   ]
  },
  {
   "cell_type": "code",
   "execution_count": 264,
   "metadata": {},
   "outputs": [
    {
     "data": {
      "text/plain": [
       "0.7859208781522237"
      ]
     },
     "execution_count": 264,
     "metadata": {},
     "output_type": "execute_result"
    }
   ],
   "source": [
    "RF_best.score(X_holdout, y_holdout)"
   ]
  },
  {
   "cell_type": "code",
   "execution_count": 265,
   "metadata": {},
   "outputs": [],
   "source": [
    "from sklearn.metrics import mean_absolute_error\n",
    "#mean_absolute_erro"
   ]
  },
  {
   "cell_type": "code",
   "execution_count": 266,
   "metadata": {},
   "outputs": [
    {
     "data": {
      "text/plain": [
       "2.4731475485743375"
      ]
     },
     "execution_count": 266,
     "metadata": {},
     "output_type": "execute_result"
    }
   ],
   "source": [
    "mean_absolute_error(y_holdout, RF_best.predict(X_holdout) )"
   ]
  },
  {
   "cell_type": "code",
   "execution_count": 267,
   "metadata": {},
   "outputs": [
    {
     "data": {
      "text/plain": [
       "<bound method RegressorMixin.score of RandomForestRegressor(bootstrap=True, criterion='mse', max_depth=58,\n",
       "           max_features='sqrt', max_leaf_nodes=None,\n",
       "           min_impurity_decrease=0.0, min_impurity_split=None,\n",
       "           min_samples_leaf=2, min_samples_split=2,\n",
       "           min_weight_fraction_leaf=0.0, n_estimators=100, n_jobs=1,\n",
       "           oob_score=False, random_state=None, verbose=0, warm_start=False)>"
      ]
     },
     "execution_count": 267,
     "metadata": {},
     "output_type": "execute_result"
    }
   ],
   "source": [
    "RF_best.score"
   ]
  },
  {
   "cell_type": "markdown",
   "metadata": {},
   "source": [
    "#### Find the best  range for grid search"
   ]
  },
  {
   "cell_type": "code",
   "execution_count": 440,
   "metadata": {},
   "outputs": [],
   "source": [
    "from operator import itemgetter\n",
    "\n",
    "# Utility function to report best scores\n",
    "def report(grid_scores, n_top):\n",
    "    top_scores = sorted(grid_scores, key=itemgetter(1), reverse=True)[:n_top]\n",
    "    for i, score in enumerate(top_scores):\n",
    "        print(\"Model with rank: {0}\".format(i + 1))\n",
    "        print(\"Mean validation score: {0:.4f})\".format(\n",
    "              score.mean_validation_score,\n",
    "              np.std(score.cv_validation_scores)))\n",
    "        print(\"Parameters: {0}\".format(score.parameters))\n",
    "        print(\"\")"
   ]
  },
  {
   "cell_type": "code",
   "execution_count": null,
   "metadata": {},
   "outputs": [],
   "source": [
    "report(grid_search.grid_scores_, 4)"
   ]
  },
  {
   "cell_type": "markdown",
   "metadata": {},
   "source": [
    "#### 5. Feature importance "
   ]
  },
  {
   "cell_type": "code",
   "execution_count": 268,
   "metadata": {},
   "outputs": [
    {
     "data": {
      "text/html": [
       "<div>\n",
       "<style scoped>\n",
       "    .dataframe tbody tr th:only-of-type {\n",
       "        vertical-align: middle;\n",
       "    }\n",
       "\n",
       "    .dataframe tbody tr th {\n",
       "        vertical-align: top;\n",
       "    }\n",
       "\n",
       "    .dataframe thead th {\n",
       "        text-align: right;\n",
       "    }\n",
       "</style>\n",
       "<table border=\"1\" class=\"dataframe\">\n",
       "  <thead>\n",
       "    <tr style=\"text-align: right;\">\n",
       "      <th></th>\n",
       "      <th>importance</th>\n",
       "    </tr>\n",
       "  </thead>\n",
       "  <tbody>\n",
       "    <tr>\n",
       "      <th>lstat</th>\n",
       "      <td>0.228846</td>\n",
       "    </tr>\n",
       "    <tr>\n",
       "      <th>rm</th>\n",
       "      <td>0.144035</td>\n",
       "    </tr>\n",
       "    <tr>\n",
       "      <th>nox</th>\n",
       "      <td>0.105277</td>\n",
       "    </tr>\n",
       "    <tr>\n",
       "      <th>crim</th>\n",
       "      <td>0.102910</td>\n",
       "    </tr>\n",
       "    <tr>\n",
       "      <th>dis</th>\n",
       "      <td>0.068276</td>\n",
       "    </tr>\n",
       "    <tr>\n",
       "      <th>ptratio</th>\n",
       "      <td>0.067786</td>\n",
       "    </tr>\n",
       "    <tr>\n",
       "      <th>indus</th>\n",
       "      <td>0.061708</td>\n",
       "    </tr>\n",
       "    <tr>\n",
       "      <th>age</th>\n",
       "      <td>0.055990</td>\n",
       "    </tr>\n",
       "    <tr>\n",
       "      <th>tax</th>\n",
       "      <td>0.045134</td>\n",
       "    </tr>\n",
       "    <tr>\n",
       "      <th>high_crim</th>\n",
       "      <td>0.036011</td>\n",
       "    </tr>\n",
       "    <tr>\n",
       "      <th>black</th>\n",
       "      <td>0.022669</td>\n",
       "    </tr>\n",
       "    <tr>\n",
       "      <th>rad</th>\n",
       "      <td>0.018281</td>\n",
       "    </tr>\n",
       "    <tr>\n",
       "      <th>high_rad</th>\n",
       "      <td>0.016919</td>\n",
       "    </tr>\n",
       "    <tr>\n",
       "      <th>high_tax</th>\n",
       "      <td>0.009615</td>\n",
       "    </tr>\n",
       "    <tr>\n",
       "      <th>zn</th>\n",
       "      <td>0.007062</td>\n",
       "    </tr>\n",
       "    <tr>\n",
       "      <th>low_black</th>\n",
       "      <td>0.004419</td>\n",
       "    </tr>\n",
       "    <tr>\n",
       "      <th>high_zn</th>\n",
       "      <td>0.004144</td>\n",
       "    </tr>\n",
       "    <tr>\n",
       "      <th>chas</th>\n",
       "      <td>0.000917</td>\n",
       "    </tr>\n",
       "  </tbody>\n",
       "</table>\n",
       "</div>"
      ],
      "text/plain": [
       "           importance\n",
       "lstat        0.228846\n",
       "rm           0.144035\n",
       "nox          0.105277\n",
       "crim         0.102910\n",
       "dis          0.068276\n",
       "ptratio      0.067786\n",
       "indus        0.061708\n",
       "age          0.055990\n",
       "tax          0.045134\n",
       "high_crim    0.036011\n",
       "black        0.022669\n",
       "rad          0.018281\n",
       "high_rad     0.016919\n",
       "high_tax     0.009615\n",
       "zn           0.007062\n",
       "low_black    0.004419\n",
       "high_zn      0.004144\n",
       "chas         0.000917"
      ]
     },
     "execution_count": 268,
     "metadata": {},
     "output_type": "execute_result"
    }
   ],
   "source": [
    "feature_importances = pd.DataFrame(RF_best.feature_importances_,\n",
    "                                   index = df_train.drop(['medv'], axis = 1).columns,\n",
    "                                    columns=['importance']).sort_values('importance',  ascending=False)\n",
    "feature_importances "
   ]
  },
  {
   "cell_type": "code",
   "execution_count": 269,
   "metadata": {},
   "outputs": [
    {
     "data": {
      "image/png": "[encoded data removed]",
      "text/plain": [
       "<matplotlib.figure.Figure at 0x274ab1bef98>"
      ]
     },
     "metadata": {},
     "output_type": "display_data"
    }
   ],
   "source": [
    "feat_importances = pd.Series(RF_best.feature_importances_, index = df_train.drop(['medv'], axis = 1).columns)\n",
    "plot1 = feat_importances.nlargest(1000).plot(kind='barh', figsize = (10,10))\n",
    "plot1.tick_params(axis = 'both', which = 'major', labelsize = 10);"
   ]
  },
  {
   "cell_type": "code",
   "execution_count": null,
   "metadata": {},
   "outputs": [],
   "source": []
  },
  {
   "cell_type": "code",
   "execution_count": null,
   "metadata": {},
   "outputs": [],
   "source": []
  },
  {
   "cell_type": "code",
   "execution_count": null,
   "metadata": {},
   "outputs": [],
   "source": []
  },
  {
   "cell_type": "code",
   "execution_count": null,
   "metadata": {},
   "outputs": [],
   "source": []
  },
  {
   "cell_type": "code",
   "execution_count": null,
   "metadata": {},
   "outputs": [],
   "source": []
  },
  {
   "cell_type": "code",
   "execution_count": null,
   "metadata": {},
   "outputs": [],
   "source": []
  },
  {
   "cell_type": "code",
   "execution_count": 44,
   "metadata": {
    "scrolled": true
   },
   "outputs": [
    {
     "data": {
      "text/html": [
       "<div>\n",
       "<style scoped>\n",
       "    .dataframe tbody tr th:only-of-type {\n",
       "        vertical-align: middle;\n",
       "    }\n",
       "\n",
       "    .dataframe tbody tr th {\n",
       "        vertical-align: top;\n",
       "    }\n",
       "\n",
       "    .dataframe thead th {\n",
       "        text-align: right;\n",
       "    }\n",
       "</style>\n",
       "<table border=\"1\" class=\"dataframe\">\n",
       "  <thead>\n",
       "    <tr style=\"text-align: right;\">\n",
       "      <th></th>\n",
       "      <th>crim</th>\n",
       "      <th>zn</th>\n",
       "      <th>indus</th>\n",
       "      <th>nox</th>\n",
       "      <th>rm</th>\n",
       "      <th>age</th>\n",
       "      <th>dis</th>\n",
       "      <th>rad</th>\n",
       "      <th>tax</th>\n",
       "      <th>ptratio</th>\n",
       "      <th>black</th>\n",
       "      <th>lstat</th>\n",
       "      <th>medv</th>\n",
       "    </tr>\n",
       "  </thead>\n",
       "  <tbody>\n",
       "    <tr>\n",
       "      <th>count</th>\n",
       "      <td>366.000000</td>\n",
       "      <td>366.000000</td>\n",
       "      <td>366.000000</td>\n",
       "      <td>366.000000</td>\n",
       "      <td>366.000000</td>\n",
       "      <td>366.000000</td>\n",
       "      <td>366.000000</td>\n",
       "      <td>366.000000</td>\n",
       "      <td>366.000000</td>\n",
       "      <td>366.000000</td>\n",
       "      <td>366.000000</td>\n",
       "      <td>366.000000</td>\n",
       "      <td>366.000000</td>\n",
       "    </tr>\n",
       "    <tr>\n",
       "      <th>mean</th>\n",
       "      <td>-0.823320</td>\n",
       "      <td>10.318306</td>\n",
       "      <td>2.166516</td>\n",
       "      <td>-0.613492</td>\n",
       "      <td>1.831259</td>\n",
       "      <td>4.077534</td>\n",
       "      <td>1.224869</td>\n",
       "      <td>9.663934</td>\n",
       "      <td>408.950820</td>\n",
       "      <td>18.559016</td>\n",
       "      <td>354.595246</td>\n",
       "      <td>2.418944</td>\n",
       "      <td>21.017486</td>\n",
       "    </tr>\n",
       "    <tr>\n",
       "      <th>std</th>\n",
       "      <td>2.163990</td>\n",
       "      <td>21.508117</td>\n",
       "      <td>0.758435</td>\n",
       "      <td>0.202156</td>\n",
       "      <td>0.073986</td>\n",
       "      <td>0.623569</td>\n",
       "      <td>0.528321</td>\n",
       "      <td>8.783806</td>\n",
       "      <td>169.282508</td>\n",
       "      <td>2.053040</td>\n",
       "      <td>96.567695</td>\n",
       "      <td>0.526958</td>\n",
       "      <td>6.528431</td>\n",
       "    </tr>\n",
       "    <tr>\n",
       "      <th>min</th>\n",
       "      <td>-5.064036</td>\n",
       "      <td>0.000000</td>\n",
       "      <td>-0.301105</td>\n",
       "      <td>-0.936493</td>\n",
       "      <td>1.645963</td>\n",
       "      <td>1.064711</td>\n",
       "      <td>0.274825</td>\n",
       "      <td>1.000000</td>\n",
       "      <td>187.000000</td>\n",
       "      <td>12.600000</td>\n",
       "      <td>0.320000</td>\n",
       "      <td>0.683097</td>\n",
       "      <td>5.000000</td>\n",
       "    </tr>\n",
       "    <tr>\n",
       "      <th>25%</th>\n",
       "      <td>-2.527357</td>\n",
       "      <td>0.000000</td>\n",
       "      <td>1.646734</td>\n",
       "      <td>-0.802405</td>\n",
       "      <td>1.779096</td>\n",
       "      <td>3.816611</td>\n",
       "      <td>0.774024</td>\n",
       "      <td>4.000000</td>\n",
       "      <td>281.750000</td>\n",
       "      <td>17.400000</td>\n",
       "      <td>376.280000</td>\n",
       "      <td>2.022204</td>\n",
       "      <td>17.100000</td>\n",
       "    </tr>\n",
       "    <tr>\n",
       "      <th>50%</th>\n",
       "      <td>-1.534171</td>\n",
       "      <td>0.000000</td>\n",
       "      <td>2.271094</td>\n",
       "      <td>-0.638688</td>\n",
       "      <td>1.827931</td>\n",
       "      <td>4.312809</td>\n",
       "      <td>1.213918</td>\n",
       "      <td>5.000000</td>\n",
       "      <td>330.000000</td>\n",
       "      <td>19.100000</td>\n",
       "      <td>391.880000</td>\n",
       "      <td>2.448397</td>\n",
       "      <td>21.050000</td>\n",
       "    </tr>\n",
       "    <tr>\n",
       "      <th>75%</th>\n",
       "      <td>1.347159</td>\n",
       "      <td>12.500000</td>\n",
       "      <td>2.895912</td>\n",
       "      <td>-0.471605</td>\n",
       "      <td>1.880228</td>\n",
       "      <td>4.542762</td>\n",
       "      <td>1.686529</td>\n",
       "      <td>24.000000</td>\n",
       "      <td>666.000000</td>\n",
       "      <td>20.200000</td>\n",
       "      <td>396.270000</td>\n",
       "      <td>2.836290</td>\n",
       "      <td>24.400000</td>\n",
       "    </tr>\n",
       "    <tr>\n",
       "      <th>max</th>\n",
       "      <td>4.488369</td>\n",
       "      <td>95.000000</td>\n",
       "      <td>3.322875</td>\n",
       "      <td>-0.138113</td>\n",
       "      <td>2.004179</td>\n",
       "      <td>4.605170</td>\n",
       "      <td>2.495393</td>\n",
       "      <td>24.000000</td>\n",
       "      <td>711.000000</td>\n",
       "      <td>22.000000</td>\n",
       "      <td>396.900000</td>\n",
       "      <td>3.526949</td>\n",
       "      <td>37.900000</td>\n",
       "    </tr>\n",
       "  </tbody>\n",
       "</table>\n",
       "</div>"
      ],
      "text/plain": [
       "             crim          zn       indus         nox          rm         age  \\\n",
       "count  366.000000  366.000000  366.000000  366.000000  366.000000  366.000000   \n",
       "mean    -0.823320   10.318306    2.166516   -0.613492    1.831259    4.077534   \n",
       "std      2.163990   21.508117    0.758435    0.202156    0.073986    0.623569   \n",
       "min     -5.064036    0.000000   -0.301105   -0.936493    1.645963    1.064711   \n",
       "25%     -2.527357    0.000000    1.646734   -0.802405    1.779096    3.816611   \n",
       "50%     -1.534171    0.000000    2.271094   -0.638688    1.827931    4.312809   \n",
       "75%      1.347159   12.500000    2.895912   -0.471605    1.880228    4.542762   \n",
       "max      4.488369   95.000000    3.322875   -0.138113    2.004179    4.605170   \n",
       "\n",
       "              dis         rad         tax     ptratio       black       lstat  \\\n",
       "count  366.000000  366.000000  366.000000  366.000000  366.000000  366.000000   \n",
       "mean     1.224869    9.663934  408.950820   18.559016  354.595246    2.418944   \n",
       "std      0.528321    8.783806  169.282508    2.053040   96.567695    0.526958   \n",
       "min      0.274825    1.000000  187.000000   12.600000    0.320000    0.683097   \n",
       "25%      0.774024    4.000000  281.750000   17.400000  376.280000    2.022204   \n",
       "50%      1.213918    5.000000  330.000000   19.100000  391.880000    2.448397   \n",
       "75%      1.686529   24.000000  666.000000   20.200000  396.270000    2.836290   \n",
       "max      2.495393   24.000000  711.000000   22.000000  396.900000    3.526949   \n",
       "\n",
       "             medv  \n",
       "count  366.000000  \n",
       "mean    21.017486  \n",
       "std      6.528431  \n",
       "min      5.000000  \n",
       "25%     17.100000  \n",
       "50%     21.050000  \n",
       "75%     24.400000  \n",
       "max     37.900000  "
      ]
     },
     "execution_count": 44,
     "metadata": {},
     "output_type": "execute_result"
    }
   ],
   "source": [
    "df_train.describe()"
   ]
  },
  {
   "cell_type": "markdown",
   "metadata": {},
   "source": [
    "Сделаем разбиения для кросс-валидации"
   ]
  },
  {
   "cell_type": "code",
   "execution_count": 45,
   "metadata": {},
   "outputs": [],
   "source": [
    "from sklearn.model_selection import KFold, cross_val_score\n",
    "cv = KFold(shuffle=True, random_state=241)"
   ]
  },
  {
   "cell_type": "markdown",
   "metadata": {},
   "source": [
    "Теперь переберем разные параметры для дерева"
   ]
  },
  {
   "cell_type": "markdown",
   "metadata": {},
   "source": [
    "Решающие леса"
   ]
  },
  {
   "cell_type": "code",
   "execution_count": 49,
   "metadata": {},
   "outputs": [],
   "source": [
    "from sklearn.ensemble import RandomForestRegressor\n",
    "import pandas as pd\n",
    "from sklearn.model_selection import GridSearchCV\n",
    "gs = GridSearchCV(RandomForestRegressor(n_estimators=10),\n",
    "                  param_grid={\n",
    "                              'max_depth': np.linspace(2.0, 50, num=49)},\n",
    "                  cv=cv,\n",
    "                  scoring='r2')"
   ]
  },
  {
   "cell_type": "code",
   "execution_count": 50,
   "metadata": {},
   "outputs": [
    {
     "data": {
      "text/plain": [
       "GridSearchCV(cv=KFold(n_splits=3, random_state=241, shuffle=True),\n",
       "       error_score='raise',\n",
       "       estimator=RandomForestRegressor(bootstrap=True, criterion='mse', max_depth=None,\n",
       "           max_features='auto', max_leaf_nodes=None,\n",
       "           min_impurity_decrease=0.0, min_impurity_split=None,\n",
       "           min_samples_leaf=1, min_samples_split=2,\n",
       "           min_weight_fraction_leaf=0.0, n_estimators=10, n_jobs=1,\n",
       "           oob_score=False, random_state=None, verbose=0, warm_start=False),\n",
       "       fit_params=None, iid=True, n_jobs=1,\n",
       "       param_grid={'max_depth': array([ 2.,  3.,  4.,  5.,  6.,  7.,  8.,  9., 10., 11., 12., 13., 14.,\n",
       "       15., 16., 17., 18., 19., 20., 21., 22., 23., 24., 25., 26., 27.,\n",
       "       28., 29., 30., 31., 32., 33., 34., 35., 36., 37., 38., 39., 40.,\n",
       "       41., 42., 43., 44., 45., 46., 47., 48., 49., 50.])},\n",
       "       pre_dispatch='2*n_jobs', refit=True, return_train_score='warn',\n",
       "       scoring='r2', verbose=0)"
      ]
     },
     "execution_count": 50,
     "metadata": {},
     "output_type": "execute_result"
    }
   ],
   "source": [
    "gs.fit(df_train.drop(['medv'], axis = 1), df_train['medv'])"
   ]
  },
  {
   "cell_type": "code",
   "execution_count": 51,
   "metadata": {},
   "outputs": [
    {
     "name": "stderr",
     "output_type": "stream",
     "text": [
      "C:\\Users\\user\\Anaconda3\\lib\\site-packages\\sklearn\\utils\\deprecation.py:122: FutureWarning: You are accessing a training score ('mean_train_score'), which will not be available by default any more in 0.21. If you need training scores, please set return_train_score=True\n",
      "  warnings.warn(*warn_args, **warn_kwargs)\n",
      "C:\\Users\\user\\Anaconda3\\lib\\site-packages\\sklearn\\utils\\deprecation.py:122: FutureWarning: You are accessing a training score ('split0_train_score'), which will not be available by default any more in 0.21. If you need training scores, please set return_train_score=True\n",
      "  warnings.warn(*warn_args, **warn_kwargs)\n",
      "C:\\Users\\user\\Anaconda3\\lib\\site-packages\\sklearn\\utils\\deprecation.py:122: FutureWarning: You are accessing a training score ('split1_train_score'), which will not be available by default any more in 0.21. If you need training scores, please set return_train_score=True\n",
      "  warnings.warn(*warn_args, **warn_kwargs)\n",
      "C:\\Users\\user\\Anaconda3\\lib\\site-packages\\sklearn\\utils\\deprecation.py:122: FutureWarning: You are accessing a training score ('split2_train_score'), which will not be available by default any more in 0.21. If you need training scores, please set return_train_score=True\n",
      "  warnings.warn(*warn_args, **warn_kwargs)\n",
      "C:\\Users\\user\\Anaconda3\\lib\\site-packages\\sklearn\\utils\\deprecation.py:122: FutureWarning: You are accessing a training score ('std_train_score'), which will not be available by default any more in 0.21. If you need training scores, please set return_train_score=True\n",
      "  warnings.warn(*warn_args, **warn_kwargs)\n"
     ]
    },
    {
     "data": {
      "text/html": [
       "<div>\n",
       "<style scoped>\n",
       "    .dataframe tbody tr th:only-of-type {\n",
       "        vertical-align: middle;\n",
       "    }\n",
       "\n",
       "    .dataframe tbody tr th {\n",
       "        vertical-align: top;\n",
       "    }\n",
       "\n",
       "    .dataframe thead th {\n",
       "        text-align: right;\n",
       "    }\n",
       "</style>\n",
       "<table border=\"1\" class=\"dataframe\">\n",
       "  <thead>\n",
       "    <tr style=\"text-align: right;\">\n",
       "      <th></th>\n",
       "      <th>params</th>\n",
       "      <th>mean_test_score</th>\n",
       "      <th>std_test_score</th>\n",
       "    </tr>\n",
       "  </thead>\n",
       "  <tbody>\n",
       "    <tr>\n",
       "      <th>0</th>\n",
       "      <td>{'max_depth': 2.0}</td>\n",
       "      <td>0.704452</td>\n",
       "      <td>0.035638</td>\n",
       "    </tr>\n",
       "    <tr>\n",
       "      <th>1</th>\n",
       "      <td>{'max_depth': 3.0}</td>\n",
       "      <td>0.731959</td>\n",
       "      <td>0.014162</td>\n",
       "    </tr>\n",
       "    <tr>\n",
       "      <th>2</th>\n",
       "      <td>{'max_depth': 4.0}</td>\n",
       "      <td>0.767194</td>\n",
       "      <td>0.004861</td>\n",
       "    </tr>\n",
       "    <tr>\n",
       "      <th>3</th>\n",
       "      <td>{'max_depth': 5.0}</td>\n",
       "      <td>0.773574</td>\n",
       "      <td>0.015968</td>\n",
       "    </tr>\n",
       "    <tr>\n",
       "      <th>4</th>\n",
       "      <td>{'max_depth': 6.0}</td>\n",
       "      <td>0.784171</td>\n",
       "      <td>0.002942</td>\n",
       "    </tr>\n",
       "    <tr>\n",
       "      <th>5</th>\n",
       "      <td>{'max_depth': 7.0}</td>\n",
       "      <td>0.787186</td>\n",
       "      <td>0.006573</td>\n",
       "    </tr>\n",
       "    <tr>\n",
       "      <th>6</th>\n",
       "      <td>{'max_depth': 8.0}</td>\n",
       "      <td>0.798993</td>\n",
       "      <td>0.019311</td>\n",
       "    </tr>\n",
       "    <tr>\n",
       "      <th>7</th>\n",
       "      <td>{'max_depth': 9.0}</td>\n",
       "      <td>0.799058</td>\n",
       "      <td>0.016909</td>\n",
       "    </tr>\n",
       "    <tr>\n",
       "      <th>8</th>\n",
       "      <td>{'max_depth': 10.0}</td>\n",
       "      <td>0.789341</td>\n",
       "      <td>0.018068</td>\n",
       "    </tr>\n",
       "    <tr>\n",
       "      <th>9</th>\n",
       "      <td>{'max_depth': 11.0}</td>\n",
       "      <td>0.778803</td>\n",
       "      <td>0.023279</td>\n",
       "    </tr>\n",
       "    <tr>\n",
       "      <th>10</th>\n",
       "      <td>{'max_depth': 12.0}</td>\n",
       "      <td>0.784540</td>\n",
       "      <td>0.015611</td>\n",
       "    </tr>\n",
       "    <tr>\n",
       "      <th>11</th>\n",
       "      <td>{'max_depth': 13.0}</td>\n",
       "      <td>0.766028</td>\n",
       "      <td>0.024773</td>\n",
       "    </tr>\n",
       "    <tr>\n",
       "      <th>12</th>\n",
       "      <td>{'max_depth': 14.0}</td>\n",
       "      <td>0.789429</td>\n",
       "      <td>0.028486</td>\n",
       "    </tr>\n",
       "    <tr>\n",
       "      <th>13</th>\n",
       "      <td>{'max_depth': 15.0}</td>\n",
       "      <td>0.794342</td>\n",
       "      <td>0.013124</td>\n",
       "    </tr>\n",
       "    <tr>\n",
       "      <th>14</th>\n",
       "      <td>{'max_depth': 16.0}</td>\n",
       "      <td>0.793623</td>\n",
       "      <td>0.021693</td>\n",
       "    </tr>\n",
       "    <tr>\n",
       "      <th>15</th>\n",
       "      <td>{'max_depth': 17.0}</td>\n",
       "      <td>0.766732</td>\n",
       "      <td>0.026715</td>\n",
       "    </tr>\n",
       "    <tr>\n",
       "      <th>16</th>\n",
       "      <td>{'max_depth': 18.0}</td>\n",
       "      <td>0.800754</td>\n",
       "      <td>0.012595</td>\n",
       "    </tr>\n",
       "    <tr>\n",
       "      <th>17</th>\n",
       "      <td>{'max_depth': 19.0}</td>\n",
       "      <td>0.797562</td>\n",
       "      <td>0.009625</td>\n",
       "    </tr>\n",
       "    <tr>\n",
       "      <th>18</th>\n",
       "      <td>{'max_depth': 20.0}</td>\n",
       "      <td>0.783986</td>\n",
       "      <td>0.002690</td>\n",
       "    </tr>\n",
       "    <tr>\n",
       "      <th>19</th>\n",
       "      <td>{'max_depth': 21.0}</td>\n",
       "      <td>0.783942</td>\n",
       "      <td>0.026731</td>\n",
       "    </tr>\n",
       "    <tr>\n",
       "      <th>20</th>\n",
       "      <td>{'max_depth': 22.0}</td>\n",
       "      <td>0.798486</td>\n",
       "      <td>0.026670</td>\n",
       "    </tr>\n",
       "    <tr>\n",
       "      <th>21</th>\n",
       "      <td>{'max_depth': 23.0}</td>\n",
       "      <td>0.793067</td>\n",
       "      <td>0.014546</td>\n",
       "    </tr>\n",
       "    <tr>\n",
       "      <th>22</th>\n",
       "      <td>{'max_depth': 24.0}</td>\n",
       "      <td>0.776145</td>\n",
       "      <td>0.009431</td>\n",
       "    </tr>\n",
       "    <tr>\n",
       "      <th>23</th>\n",
       "      <td>{'max_depth': 25.0}</td>\n",
       "      <td>0.786261</td>\n",
       "      <td>0.003073</td>\n",
       "    </tr>\n",
       "    <tr>\n",
       "      <th>24</th>\n",
       "      <td>{'max_depth': 26.0}</td>\n",
       "      <td>0.792412</td>\n",
       "      <td>0.002806</td>\n",
       "    </tr>\n",
       "    <tr>\n",
       "      <th>25</th>\n",
       "      <td>{'max_depth': 27.0}</td>\n",
       "      <td>0.790780</td>\n",
       "      <td>0.004618</td>\n",
       "    </tr>\n",
       "    <tr>\n",
       "      <th>26</th>\n",
       "      <td>{'max_depth': 28.0}</td>\n",
       "      <td>0.784351</td>\n",
       "      <td>0.011449</td>\n",
       "    </tr>\n",
       "    <tr>\n",
       "      <th>27</th>\n",
       "      <td>{'max_depth': 29.0}</td>\n",
       "      <td>0.796400</td>\n",
       "      <td>0.008388</td>\n",
       "    </tr>\n",
       "    <tr>\n",
       "      <th>28</th>\n",
       "      <td>{'max_depth': 30.0}</td>\n",
       "      <td>0.786627</td>\n",
       "      <td>0.005051</td>\n",
       "    </tr>\n",
       "    <tr>\n",
       "      <th>29</th>\n",
       "      <td>{'max_depth': 31.0}</td>\n",
       "      <td>0.790739</td>\n",
       "      <td>0.012291</td>\n",
       "    </tr>\n",
       "    <tr>\n",
       "      <th>30</th>\n",
       "      <td>{'max_depth': 32.0}</td>\n",
       "      <td>0.787435</td>\n",
       "      <td>0.007630</td>\n",
       "    </tr>\n",
       "    <tr>\n",
       "      <th>31</th>\n",
       "      <td>{'max_depth': 33.0}</td>\n",
       "      <td>0.765495</td>\n",
       "      <td>0.002507</td>\n",
       "    </tr>\n",
       "    <tr>\n",
       "      <th>32</th>\n",
       "      <td>{'max_depth': 34.0}</td>\n",
       "      <td>0.791608</td>\n",
       "      <td>0.003914</td>\n",
       "    </tr>\n",
       "    <tr>\n",
       "      <th>33</th>\n",
       "      <td>{'max_depth': 35.0}</td>\n",
       "      <td>0.775882</td>\n",
       "      <td>0.009303</td>\n",
       "    </tr>\n",
       "    <tr>\n",
       "      <th>34</th>\n",
       "      <td>{'max_depth': 36.0}</td>\n",
       "      <td>0.785834</td>\n",
       "      <td>0.021601</td>\n",
       "    </tr>\n",
       "    <tr>\n",
       "      <th>35</th>\n",
       "      <td>{'max_depth': 37.0}</td>\n",
       "      <td>0.796503</td>\n",
       "      <td>0.005041</td>\n",
       "    </tr>\n",
       "    <tr>\n",
       "      <th>36</th>\n",
       "      <td>{'max_depth': 38.0}</td>\n",
       "      <td>0.790697</td>\n",
       "      <td>0.005947</td>\n",
       "    </tr>\n",
       "    <tr>\n",
       "      <th>37</th>\n",
       "      <td>{'max_depth': 39.0}</td>\n",
       "      <td>0.798352</td>\n",
       "      <td>0.005086</td>\n",
       "    </tr>\n",
       "    <tr>\n",
       "      <th>38</th>\n",
       "      <td>{'max_depth': 40.0}</td>\n",
       "      <td>0.783141</td>\n",
       "      <td>0.006370</td>\n",
       "    </tr>\n",
       "    <tr>\n",
       "      <th>39</th>\n",
       "      <td>{'max_depth': 41.0}</td>\n",
       "      <td>0.786927</td>\n",
       "      <td>0.026717</td>\n",
       "    </tr>\n",
       "    <tr>\n",
       "      <th>40</th>\n",
       "      <td>{'max_depth': 42.0}</td>\n",
       "      <td>0.792346</td>\n",
       "      <td>0.000872</td>\n",
       "    </tr>\n",
       "    <tr>\n",
       "      <th>41</th>\n",
       "      <td>{'max_depth': 43.0}</td>\n",
       "      <td>0.796195</td>\n",
       "      <td>0.011771</td>\n",
       "    </tr>\n",
       "    <tr>\n",
       "      <th>42</th>\n",
       "      <td>{'max_depth': 44.0}</td>\n",
       "      <td>0.798471</td>\n",
       "      <td>0.019542</td>\n",
       "    </tr>\n",
       "    <tr>\n",
       "      <th>43</th>\n",
       "      <td>{'max_depth': 45.0}</td>\n",
       "      <td>0.796658</td>\n",
       "      <td>0.011681</td>\n",
       "    </tr>\n",
       "    <tr>\n",
       "      <th>44</th>\n",
       "      <td>{'max_depth': 46.0}</td>\n",
       "      <td>0.783309</td>\n",
       "      <td>0.023188</td>\n",
       "    </tr>\n",
       "    <tr>\n",
       "      <th>45</th>\n",
       "      <td>{'max_depth': 47.0}</td>\n",
       "      <td>0.782342</td>\n",
       "      <td>0.014963</td>\n",
       "    </tr>\n",
       "    <tr>\n",
       "      <th>46</th>\n",
       "      <td>{'max_depth': 48.0}</td>\n",
       "      <td>0.773049</td>\n",
       "      <td>0.000695</td>\n",
       "    </tr>\n",
       "    <tr>\n",
       "      <th>47</th>\n",
       "      <td>{'max_depth': 49.0}</td>\n",
       "      <td>0.786695</td>\n",
       "      <td>0.027975</td>\n",
       "    </tr>\n",
       "    <tr>\n",
       "      <th>48</th>\n",
       "      <td>{'max_depth': 50.0}</td>\n",
       "      <td>0.761845</td>\n",
       "      <td>0.021105</td>\n",
       "    </tr>\n",
       "  </tbody>\n",
       "</table>\n",
       "</div>"
      ],
      "text/plain": [
       "                 params  mean_test_score  std_test_score\n",
       "0    {'max_depth': 2.0}         0.704452        0.035638\n",
       "1    {'max_depth': 3.0}         0.731959        0.014162\n",
       "2    {'max_depth': 4.0}         0.767194        0.004861\n",
       "3    {'max_depth': 5.0}         0.773574        0.015968\n",
       "4    {'max_depth': 6.0}         0.784171        0.002942\n",
       "5    {'max_depth': 7.0}         0.787186        0.006573\n",
       "6    {'max_depth': 8.0}         0.798993        0.019311\n",
       "7    {'max_depth': 9.0}         0.799058        0.016909\n",
       "8   {'max_depth': 10.0}         0.789341        0.018068\n",
       "9   {'max_depth': 11.0}         0.778803        0.023279\n",
       "10  {'max_depth': 12.0}         0.784540        0.015611\n",
       "11  {'max_depth': 13.0}         0.766028        0.024773\n",
       "12  {'max_depth': 14.0}         0.789429        0.028486\n",
       "13  {'max_depth': 15.0}         0.794342        0.013124\n",
       "14  {'max_depth': 16.0}         0.793623        0.021693\n",
       "15  {'max_depth': 17.0}         0.766732        0.026715\n",
       "16  {'max_depth': 18.0}         0.800754        0.012595\n",
       "17  {'max_depth': 19.0}         0.797562        0.009625\n",
       "18  {'max_depth': 20.0}         0.783986        0.002690\n",
       "19  {'max_depth': 21.0}         0.783942        0.026731\n",
       "20  {'max_depth': 22.0}         0.798486        0.026670\n",
       "21  {'max_depth': 23.0}         0.793067        0.014546\n",
       "22  {'max_depth': 24.0}         0.776145        0.009431\n",
       "23  {'max_depth': 25.0}         0.786261        0.003073\n",
       "24  {'max_depth': 26.0}         0.792412        0.002806\n",
       "25  {'max_depth': 27.0}         0.790780        0.004618\n",
       "26  {'max_depth': 28.0}         0.784351        0.011449\n",
       "27  {'max_depth': 29.0}         0.796400        0.008388\n",
       "28  {'max_depth': 30.0}         0.786627        0.005051\n",
       "29  {'max_depth': 31.0}         0.790739        0.012291\n",
       "30  {'max_depth': 32.0}         0.787435        0.007630\n",
       "31  {'max_depth': 33.0}         0.765495        0.002507\n",
       "32  {'max_depth': 34.0}         0.791608        0.003914\n",
       "33  {'max_depth': 35.0}         0.775882        0.009303\n",
       "34  {'max_depth': 36.0}         0.785834        0.021601\n",
       "35  {'max_depth': 37.0}         0.796503        0.005041\n",
       "36  {'max_depth': 38.0}         0.790697        0.005947\n",
       "37  {'max_depth': 39.0}         0.798352        0.005086\n",
       "38  {'max_depth': 40.0}         0.783141        0.006370\n",
       "39  {'max_depth': 41.0}         0.786927        0.026717\n",
       "40  {'max_depth': 42.0}         0.792346        0.000872\n",
       "41  {'max_depth': 43.0}         0.796195        0.011771\n",
       "42  {'max_depth': 44.0}         0.798471        0.019542\n",
       "43  {'max_depth': 45.0}         0.796658        0.011681\n",
       "44  {'max_depth': 46.0}         0.783309        0.023188\n",
       "45  {'max_depth': 47.0}         0.782342        0.014963\n",
       "46  {'max_depth': 48.0}         0.773049        0.000695\n",
       "47  {'max_depth': 49.0}         0.786695        0.027975\n",
       "48  {'max_depth': 50.0}         0.761845        0.021105"
      ]
     },
     "execution_count": 51,
     "metadata": {},
     "output_type": "execute_result"
    }
   ],
   "source": [
    "pd.DataFrame(gs.cv_results_)[['params', 'mean_test_score', 'std_test_score']]"
   ]
  },
  {
   "cell_type": "code",
   "execution_count": 52,
   "metadata": {},
   "outputs": [
    {
     "data": {
      "text/plain": [
       "{'max_depth': 18.0}"
      ]
     },
     "execution_count": 52,
     "metadata": {},
     "output_type": "execute_result"
    }
   ],
   "source": [
    "gs.best_params_"
   ]
  },
  {
   "cell_type": "code",
   "execution_count": 53,
   "metadata": {},
   "outputs": [],
   "source": [
    "# parametrization\n",
    "RF_best = RandomForestRegressor(max_depth = 48 )\n",
    "\n",
    "# fitting\n",
    "#knn_best.fit(X_train, y_train)\n"
   ]
  },
  {
   "cell_type": "code",
   "execution_count": 54,
   "metadata": {},
   "outputs": [
    {
     "data": {
      "text/plain": [
       "RandomForestRegressor(bootstrap=True, criterion='mse', max_depth=48,\n",
       "           max_features='auto', max_leaf_nodes=None,\n",
       "           min_impurity_decrease=0.0, min_impurity_split=None,\n",
       "           min_samples_leaf=1, min_samples_split=2,\n",
       "           min_weight_fraction_leaf=0.0, n_estimators=10, n_jobs=1,\n",
       "           oob_score=False, random_state=None, verbose=0, warm_start=False)"
      ]
     },
     "execution_count": 54,
     "metadata": {},
     "output_type": "execute_result"
    }
   ],
   "source": [
    "RF_best.fit(df_train.drop(['medv'], axis = 1), df_train['medv'])"
   ]
  },
  {
   "cell_type": "markdown",
   "metadata": {},
   "source": [
    "### Part 4. predictions "
   ]
  },
  {
   "cell_type": "code",
   "execution_count": 141,
   "metadata": {},
   "outputs": [],
   "source": [
    "df_test = pd.read_csv('boston_test_data.csv', sep=',' )"
   ]
  },
  {
   "cell_type": "code",
   "execution_count": 142,
   "metadata": {},
   "outputs": [
    {
     "data": {
      "text/plain": [
       "array([35.66, 21.05, 18.12, 24.74, 19.05, 24.95, 19.3 , 16.03, 18.62,\n",
       "       44.54, 46.75, 11.54, 15.39, 34.96, 26.6 ,  9.97, 22.22, 20.07,\n",
       "       19.78, 12.01, 22.65, 31.04, 13.66,  9.97, 21.26, 21.59, 35.28,\n",
       "       19.89, 19.08, 48.47, 24.57, 12.01, 22.24, 20.37, 20.76, 41.13,\n",
       "       26.88, 42.79, 21.88, 14.56, 14.62, 50.  , 20.42, 15.97, 32.03,\n",
       "       20.87, 19.3 , 21.5 , 20.53, 16.75, 23.48, 15.61, 21.02, 12.63,\n",
       "       26.22, 20.7 , 20.57, 22.74, 19.73, 20.2 , 41.24, 18.39, 14.75,\n",
       "       21.16, 32.39,  9.07, 19.73, 21.49, 18.68, 14.74, 31.51, 20.94,\n",
       "       19.52, 30.56, 18.25, 19.56, 21.08, 21.5 , 29.67, 33.04, 20.12,\n",
       "       18.66, 27.93, 10.32, 34.06,  8.32, 15.91, 16.58, 19.43, 14.64,\n",
       "       19.8 , 48.76, 41.17, 17.04, 30.21, 15.74, 34.14, 23.73, 22.2 ,\n",
       "       18.08, 45.35, 44.61])"
      ]
     },
     "execution_count": 142,
     "metadata": {},
     "output_type": "execute_result"
    }
   ],
   "source": [
    "d_predictions = RF_best.predict(df_test)\n",
    "\n",
    "d_predictions"
   ]
  },
  {
   "cell_type": "code",
   "execution_count": 144,
   "metadata": {},
   "outputs": [],
   "source": [
    "res = pd.DataFrame({\"Price\":d_predictions} )\n",
    "\n",
    "res.to_csv('C://Users//user//Desktop//ML//kaggle//Boston//res_RF_2.csv', index = True)"
   ]
  },
  {
   "cell_type": "code",
   "execution_count": null,
   "metadata": {},
   "outputs": [],
   "source": []
  },
  {
   "cell_type": "code",
   "execution_count": null,
   "metadata": {},
   "outputs": [],
   "source": [
    "\n",
    "df_test = pd.read_csv('boston_test_data.csv', sep=',' )\n",
    "\n",
    "# 1 Correct test data\n",
    "df_test['crim'] = np.log(df_test['crim'] ) \n",
    "df_test['indus'] = np.log(df_test['indus'] ) \n",
    "df_test['chas'] = df_test['chas'].astype('category')\n",
    "df_test['nox'] = np.log(df_test['nox'] ) \n",
    "df_test['rm'] = np.log(df_test['rm'] ) \n",
    "df_test['age'] = np.log(df_test['age'] ) \n",
    "df_test['dis'] = np.log(df_test['dis'] ) \n",
    "df_test['lstat'] = np.log(df_test['lstat'] ) \n",
    "\n",
    "d_predictions = regr.predict(df_test.values)\n",
    "\n",
    "d_predictions\n",
    "\n",
    "res = pd.DataFrame({\"Price\":d_predictions} )\n",
    "\n",
    "res.to_csv('C://Users//user//Desktop//ML//kaggle//Boston//res_2.csv', index = True)"
   ]
  }
 ],
 "metadata": {
  "kernelspec": {
   "display_name": "Python 3",
   "language": "python",
   "name": "python3"
  },
  "language_info": {
   "codemirror_mode": {
    "name": "ipython",
    "version": 3
   },
   "file_extension": ".py",
   "mimetype": "text/x-python",
   "name": "python",
   "nbconvert_exporter": "python",
   "pygments_lexer": "ipython3",
   "version": "3.9.1"
  }
 },
 "nbformat": 4,
 "nbformat_minor": 2
}
