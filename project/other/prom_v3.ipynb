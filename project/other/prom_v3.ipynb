{
 "cells": [
  {
   "cell_type": "code",
   "execution_count": 131,
   "metadata": {},
   "outputs": [],
   "source": [
    "import os\n",
    "import pandas as pd\n",
    "import numpy as np\n",
    "import random\n",
    "\n",
    "\n",
    "import xgboost as xgb\n",
    "from sklearn.metrics import confusion_matrix, recall_score, auc,roc_curve, precision_score\n",
    "from sklearn.model_selection import train_test_split, KFold, cross_val_score, GridSearchCV, cross_val_score, train_test_split\n",
    "from sklearn.ensemble import AdaBoostClassifier, GradientBoostingClassifier,  AdaBoostClassifier\n",
    "\n",
    "\n",
    "from matplotlib import pyplot as plt\n",
    "import seaborn as sns\n",
    "\n",
    "\n",
    "pd.options.mode.chained_assignment = None  \n",
    "pd.set_option('display.max_columns', 100) \n",
    "pd.set_option('display.max_rows', 50) "
   ]
  },
  {
   "cell_type": "markdown",
   "metadata": {},
   "source": [
    "### Functions"
   ]
  },
  {
   "cell_type": "code",
   "execution_count": 132,
   "metadata": {},
   "outputs": [],
   "source": [
    "# 1. Fun\n",
    "def encode_and_bind(original_dataframe, feature_to_encode):\n",
    "\n",
    "    \"\"\"\n",
    "This fucnction makes One-hot-encoding\n",
    "    Input: \n",
    "    - datatable with deal_kul_id and need features\n",
    "    - feature for One-hot-encoding\n",
    "    Output: \n",
    "    - datatable with One-hot-encoding features\n",
    "    \n",
    "    \"\"\"\n",
    "    #1. Make dummies and OHE     \n",
    "    dummies = pd.get_dummies(original_dataframe[[feature_to_encode]])\n",
    "    res = pd.concat([original_dataframe, dummies], axis=1).drop(feature_to_encode, axis=1)\n",
    "    \n",
    "    return(res)"
   ]
  },
  {
   "cell_type": "code",
   "execution_count": 133,
   "metadata": {},
   "outputs": [],
   "source": [
    "# 2. Fun\n",
    "def feature_important(model):\n",
    "    \n",
    "    \"\"\"\n",
    "This fucnction shows feature imortants\n",
    "    Input: \n",
    "    - model  \n",
    "    \n",
    "    Output: \n",
    "    - table with score of feature importants\n",
    "    - plot with score of feature importants\n",
    "    \n",
    "    \"\"\"    \n",
    "\n",
    "    feature_important = model.get_booster().get_score(importance_type='weight')\n",
    "    keys = list(feature_important.keys())\n",
    "    values = list(feature_important.values())\n",
    "\n",
    "    global data\n",
    "    data = pd.DataFrame(data=values, index=keys, columns=[\"score\"]).sort_values(by = \"score\", ascending=False)\n",
    "    data.plot(kind='barh');\n",
    "\n",
    "    return data  "
   ]
  },
  {
   "cell_type": "code",
   "execution_count": 134,
   "metadata": {},
   "outputs": [],
   "source": [
    "# 3. Fun\n",
    "def GS_table(learning_rate, max_depth, n_estimators, subsample, colsample_bytree, gamma,i_index  ):\n",
    "    \"\"\"\n",
    "This fucnction makes GS table\n",
    "    Input: \n",
    "    - parameres for greed search : learning_rate, max_depth, n_estimators, subsample, colsample_bytree, gamma,i_index\n",
    "    \n",
    "    Output: \n",
    "    - GS table\n",
    "    \n",
    "    \"\"\" \n",
    "    \n",
    "    # 1. Data preporation\n",
    "    learning_rate = pd.DataFrame(learning_rate, columns = ['learning_rate'])\n",
    "    max_depth = pd.DataFrame(max_depth, columns = ['max_depth'])\n",
    "    n_estimators = pd.DataFrame(n_estimators, columns = ['n_estimators'])\n",
    "    subsample = pd.DataFrame(subsample, columns = ['subsample'])\n",
    "    colsample_bytree = pd.DataFrame(colsample_bytree, columns = ['colsample_bytree'])\n",
    "    gamma= pd.DataFrame(gamma, columns = ['gamma'])\n",
    "    i_index = pd.DataFrame(i_index, columns = ['i_index'])\n",
    "    \n",
    "    \n",
    "    # 2. Technical moments\n",
    "    learning_rate['key'] = 0\n",
    "    n_estimators['key'] = 0\n",
    "    subsample['key'] = 0\n",
    "    max_depth['key'] = 0\n",
    "    colsample_bytree['key'] = 0\n",
    "    gamma['key'] = 0\n",
    "    i_index['key'] = 0\n",
    "    \n",
    "    \n",
    "    # 3. Merge data     \n",
    "    global grid_tab\n",
    "    grid_tab = pd.merge(learning_rate, n_estimators, how = 'outer').\\\n",
    "    merge(subsample, how = 'outer' ).\\\n",
    "    merge(max_depth, how = 'outer' ).\\\n",
    "    merge(colsample_bytree, how = 'outer' ).\\\n",
    "    merge(gamma, how = 'outer' ).\\\n",
    "    merge(i_index, how = 'outer' ).\\\n",
    "    drop('key', axis= 1)\n",
    "    \n",
    "    # 4. Assign mae  \n",
    "    grid_tab['auc1'] = 0.0\n",
    "    grid_tab['auc2'] = 0.0\n",
    "    grid_tab['auc3'] = 0.0\n",
    "    grid_tab['auc_avg'] = 0.0\n",
    "\n",
    "    # 5 Show shape grd_data\n",
    "    print(grid_tab.shape)"
   ]
  },
  {
   "cell_type": "code",
   "execution_count": 135,
   "metadata": {},
   "outputs": [],
   "source": [
    "# 4. Fun\n",
    "def feature_description(feature, data, barplot = None):\n",
    "    print('Analyzed feature: ',feature)\n",
    "    \n",
    "    if (data[feature].dtypes == 'int64') & (barplot == None):\n",
    "        \n",
    "        plt.figure(figsize=(10,5)) \n",
    "        plt.hist(data[feature]);\n",
    "\n",
    "        # look at destribution depends on target\n",
    "        sns.catplot(x=feature, y=\"bad_client_target\",\n",
    "                        kind=\"box\", orient=\"h\", data=data);\n",
    "        \n",
    "    else:\n",
    "        # look at destribution\n",
    "        data[feature].value_counts().plot(kind='bar');\n",
    "\n",
    "        # look at destribution depends on target\n",
    "        sns.catplot(x=feature, y=\"bad_client_target\",  kind=\"bar\", data=data);"
   ]
  },
  {
   "cell_type": "markdown",
   "metadata": {},
   "source": [
    "### Part 1. Data preprocessing\n",
    "\n",
    "\n",
    "#### 1.1 Download data"
   ]
  },
  {
   "cell_type": "code",
   "execution_count": 136,
   "metadata": {},
   "outputs": [
    {
     "name": "stdout",
     "output_type": "stream",
     "text": [
      "data shape: (1723, 14)\n"
     ]
    }
   ],
   "source": [
    "# 1. Set path and download data \n",
    "\n",
    "path = os.path.dirname(os.path.abspath('__file__'))\n",
    "data = pd.read_csv(path.replace('project', '')+'data\\\\clients.csv', sep=',' )\n",
    "\n",
    "print('data shape:',data.shape)"
   ]
  },
  {
   "cell_type": "markdown",
   "metadata": {},
   "source": [
    "#### 1.2 Main description"
   ]
  },
  {
   "cell_type": "code",
   "execution_count": 137,
   "metadata": {},
   "outputs": [
    {
     "data": {
      "text/html": [
       "<div>\n",
       "<style scoped>\n",
       "    .dataframe tbody tr th:only-of-type {\n",
       "        vertical-align: middle;\n",
       "    }\n",
       "\n",
       "    .dataframe tbody tr th {\n",
       "        vertical-align: top;\n",
       "    }\n",
       "\n",
       "    .dataframe thead th {\n",
       "        text-align: right;\n",
       "    }\n",
       "</style>\n",
       "<table border=\"1\" class=\"dataframe\">\n",
       "  <thead>\n",
       "    <tr style=\"text-align: right;\">\n",
       "      <th></th>\n",
       "      <th>month</th>\n",
       "      <th>credit_amount</th>\n",
       "      <th>credit_term</th>\n",
       "      <th>age</th>\n",
       "      <th>having_children_flg</th>\n",
       "      <th>region</th>\n",
       "      <th>income</th>\n",
       "      <th>phone_operator</th>\n",
       "      <th>is_client</th>\n",
       "      <th>bad_client_target</th>\n",
       "    </tr>\n",
       "  </thead>\n",
       "  <tbody>\n",
       "    <tr>\n",
       "      <th>count</th>\n",
       "      <td>1723.000000</td>\n",
       "      <td>1723.000000</td>\n",
       "      <td>1723.000000</td>\n",
       "      <td>1723.000000</td>\n",
       "      <td>1723.000000</td>\n",
       "      <td>1723.000000</td>\n",
       "      <td>1723.000000</td>\n",
       "      <td>1723.000000</td>\n",
       "      <td>1723.000000</td>\n",
       "      <td>1723.000000</td>\n",
       "    </tr>\n",
       "    <tr>\n",
       "      <th>mean</th>\n",
       "      <td>6.708067</td>\n",
       "      <td>29264.654672</td>\n",
       "      <td>11.546721</td>\n",
       "      <td>35.911782</td>\n",
       "      <td>0.428323</td>\n",
       "      <td>1.681370</td>\n",
       "      <td>32652.350551</td>\n",
       "      <td>1.125363</td>\n",
       "      <td>0.604759</td>\n",
       "      <td>0.113755</td>\n",
       "    </tr>\n",
       "    <tr>\n",
       "      <th>std</th>\n",
       "      <td>3.538420</td>\n",
       "      <td>27926.778301</td>\n",
       "      <td>6.548354</td>\n",
       "      <td>13.120203</td>\n",
       "      <td>0.494979</td>\n",
       "      <td>0.704256</td>\n",
       "      <td>20913.193158</td>\n",
       "      <td>1.015822</td>\n",
       "      <td>0.489044</td>\n",
       "      <td>0.317606</td>\n",
       "    </tr>\n",
       "    <tr>\n",
       "      <th>min</th>\n",
       "      <td>1.000000</td>\n",
       "      <td>5000.000000</td>\n",
       "      <td>3.000000</td>\n",
       "      <td>18.000000</td>\n",
       "      <td>0.000000</td>\n",
       "      <td>0.000000</td>\n",
       "      <td>1000.000000</td>\n",
       "      <td>0.000000</td>\n",
       "      <td>0.000000</td>\n",
       "      <td>0.000000</td>\n",
       "    </tr>\n",
       "    <tr>\n",
       "      <th>25%</th>\n",
       "      <td>3.000000</td>\n",
       "      <td>13000.000000</td>\n",
       "      <td>6.000000</td>\n",
       "      <td>26.000000</td>\n",
       "      <td>0.000000</td>\n",
       "      <td>2.000000</td>\n",
       "      <td>21000.000000</td>\n",
       "      <td>0.000000</td>\n",
       "      <td>0.000000</td>\n",
       "      <td>0.000000</td>\n",
       "    </tr>\n",
       "    <tr>\n",
       "      <th>50%</th>\n",
       "      <td>7.000000</td>\n",
       "      <td>21500.000000</td>\n",
       "      <td>12.000000</td>\n",
       "      <td>32.000000</td>\n",
       "      <td>0.000000</td>\n",
       "      <td>2.000000</td>\n",
       "      <td>27000.000000</td>\n",
       "      <td>1.000000</td>\n",
       "      <td>1.000000</td>\n",
       "      <td>0.000000</td>\n",
       "    </tr>\n",
       "    <tr>\n",
       "      <th>75%</th>\n",
       "      <td>10.000000</td>\n",
       "      <td>34000.000000</td>\n",
       "      <td>12.000000</td>\n",
       "      <td>44.000000</td>\n",
       "      <td>1.000000</td>\n",
       "      <td>2.000000</td>\n",
       "      <td>38000.000000</td>\n",
       "      <td>2.000000</td>\n",
       "      <td>1.000000</td>\n",
       "      <td>0.000000</td>\n",
       "    </tr>\n",
       "    <tr>\n",
       "      <th>max</th>\n",
       "      <td>12.000000</td>\n",
       "      <td>301000.000000</td>\n",
       "      <td>36.000000</td>\n",
       "      <td>90.000000</td>\n",
       "      <td>1.000000</td>\n",
       "      <td>2.000000</td>\n",
       "      <td>401000.000000</td>\n",
       "      <td>4.000000</td>\n",
       "      <td>1.000000</td>\n",
       "      <td>1.000000</td>\n",
       "    </tr>\n",
       "  </tbody>\n",
       "</table>\n",
       "</div>"
      ],
      "text/plain": [
       "             month  credit_amount  credit_term          age  \\\n",
       "count  1723.000000    1723.000000  1723.000000  1723.000000   \n",
       "mean      6.708067   29264.654672    11.546721    35.911782   \n",
       "std       3.538420   27926.778301     6.548354    13.120203   \n",
       "min       1.000000    5000.000000     3.000000    18.000000   \n",
       "25%       3.000000   13000.000000     6.000000    26.000000   \n",
       "50%       7.000000   21500.000000    12.000000    32.000000   \n",
       "75%      10.000000   34000.000000    12.000000    44.000000   \n",
       "max      12.000000  301000.000000    36.000000    90.000000   \n",
       "\n",
       "       having_children_flg       region         income  phone_operator  \\\n",
       "count          1723.000000  1723.000000    1723.000000     1723.000000   \n",
       "mean              0.428323     1.681370   32652.350551        1.125363   \n",
       "std               0.494979     0.704256   20913.193158        1.015822   \n",
       "min               0.000000     0.000000    1000.000000        0.000000   \n",
       "25%               0.000000     2.000000   21000.000000        0.000000   \n",
       "50%               0.000000     2.000000   27000.000000        1.000000   \n",
       "75%               1.000000     2.000000   38000.000000        2.000000   \n",
       "max               1.000000     2.000000  401000.000000        4.000000   \n",
       "\n",
       "         is_client  bad_client_target  \n",
       "count  1723.000000        1723.000000  \n",
       "mean      0.604759           0.113755  \n",
       "std       0.489044           0.317606  \n",
       "min       0.000000           0.000000  \n",
       "25%       0.000000           0.000000  \n",
       "50%       1.000000           0.000000  \n",
       "75%       1.000000           0.000000  \n",
       "max       1.000000           1.000000  "
      ]
     },
     "execution_count": 137,
     "metadata": {},
     "output_type": "execute_result"
    }
   ],
   "source": [
    "# 1. Main description\n",
    "data.describe()"
   ]
  },
  {
   "cell_type": "code",
   "execution_count": 138,
   "metadata": {
    "scrolled": true
   },
   "outputs": [
    {
     "data": {
      "text/plain": [
       "month                  0\n",
       "credit_amount          0\n",
       "credit_term            0\n",
       "age                    0\n",
       "sex                    0\n",
       "education              0\n",
       "product_type           0\n",
       "having_children_flg    0\n",
       "region                 0\n",
       "income                 0\n",
       "family_status          0\n",
       "phone_operator         0\n",
       "is_client              0\n",
       "bad_client_target      0\n",
       "dtype: int64"
      ]
     },
     "execution_count": 138,
     "metadata": {},
     "output_type": "execute_result"
    }
   ],
   "source": [
    "# 2. Look at NA\n",
    "data.isna().sum()"
   ]
  },
  {
   "cell_type": "code",
   "execution_count": 139,
   "metadata": {
    "scrolled": true
   },
   "outputs": [
    {
     "name": "stdout",
     "output_type": "stream",
     "text": [
      "<class 'pandas.core.frame.DataFrame'>\n",
      "RangeIndex: 1723 entries, 0 to 1722\n",
      "Data columns (total 14 columns):\n",
      " #   Column               Non-Null Count  Dtype \n",
      "---  ------               --------------  ----- \n",
      " 0   month                1723 non-null   int64 \n",
      " 1   credit_amount        1723 non-null   int64 \n",
      " 2   credit_term          1723 non-null   int64 \n",
      " 3   age                  1723 non-null   int64 \n",
      " 4   sex                  1723 non-null   object\n",
      " 5   education            1723 non-null   object\n",
      " 6   product_type         1723 non-null   object\n",
      " 7   having_children_flg  1723 non-null   int64 \n",
      " 8   region               1723 non-null   int64 \n",
      " 9   income               1723 non-null   int64 \n",
      " 10  family_status        1723 non-null   object\n",
      " 11  phone_operator       1723 non-null   int64 \n",
      " 12  is_client            1723 non-null   int64 \n",
      " 13  bad_client_target    1723 non-null   int64 \n",
      "dtypes: int64(10), object(4)\n",
      "memory usage: 188.6+ KB\n"
     ]
    }
   ],
   "source": [
    "# 3. Look at main info\n",
    "data.info()"
   ]
  },
  {
   "cell_type": "markdown",
   "metadata": {},
   "source": [
    "#### Conclusion:\n",
    "1. No problem with na\n",
    "2. We can change type for sex and family_status"
   ]
  },
  {
   "cell_type": "markdown",
   "metadata": {},
   "source": [
    "#### 1.3 Look at dependent variable"
   ]
  },
  {
   "cell_type": "code",
   "execution_count": 140,
   "metadata": {},
   "outputs": [
    {
     "data": {
      "text/plain": [
       "0    1527\n",
       "1     196\n",
       "Name: bad_client_target, dtype: int64"
      ]
     },
     "execution_count": 140,
     "metadata": {},
     "output_type": "execute_result"
    },
    {
     "data": {
      "image/png": "[encoded data removed]",
      "text/plain": [
       "<Figure size 432x288 with 1 Axes>"
      ]
     },
     "metadata": {
      "needs_background": "light"
     },
     "output_type": "display_data"
    }
   ],
   "source": [
    "data['bad_client_target'].value_counts().plot(kind='bar');\n",
    "data.bad_client_target.value_counts()"
   ]
  },
  {
   "cell_type": "markdown",
   "metadata": {},
   "source": [
    "#### Conclusion:\n",
    "1. There is an imbalance problem"
   ]
  },
  {
   "cell_type": "markdown",
   "metadata": {},
   "source": [
    "#### 1.4 Look at independent variable"
   ]
  },
  {
   "cell_type": "code",
   "execution_count": 141,
   "metadata": {},
   "outputs": [
    {
     "name": "stdout",
     "output_type": "stream",
     "text": [
      "Analyzed feature:  month\n"
     ]
    },
    {
     "data": {
      "image/png": "[encoded data removed]",
      "text/plain": [
       "<Figure size 432x288 with 1 Axes>"
      ]
     },
     "metadata": {
      "needs_background": "light"
     },
     "output_type": "display_data"
    },
    {
     "data": {
      "image/png": "[encoded data removed]",
      "text/plain": [
       "<Figure size 360x360 with 1 Axes>"
      ]
     },
     "metadata": {
      "needs_background": "light"
     },
     "output_type": "display_data"
    }
   ],
   "source": [
    "# feature\n",
    "\n",
    "feature = data.columns[0]\n",
    "feature_description(feature, data,barplot =True)"
   ]
  },
  {
   "cell_type": "markdown",
   "metadata": {},
   "source": [
    "#### Conclusion:\n",
    "1. Majority bad clients in december\n",
    "2. Minority in July"
   ]
  },
  {
   "cell_type": "code",
   "execution_count": 142,
   "metadata": {},
   "outputs": [
    {
     "name": "stdout",
     "output_type": "stream",
     "text": [
      "Analyzed feature:  credit_amount\n"
     ]
    },
    {
     "data": {
      "image/png": "[encoded data removed]",
      "text/plain": [
       "<Figure size 720x360 with 1 Axes>"
      ]
     },
     "metadata": {
      "needs_background": "light"
     },
     "output_type": "display_data"
    },
    {
     "data": {
      "image/png": "[encoded data removed]",
      "text/plain": [
       "<Figure size 360x360 with 1 Axes>"
      ]
     },
     "metadata": {
      "needs_background": "light"
     },
     "output_type": "display_data"
    }
   ],
   "source": [
    "# feature\n",
    "\n",
    "feature = data.columns[1]\n",
    "feature_description(feature, data)"
   ]
  },
  {
   "cell_type": "code",
   "execution_count": 143,
   "metadata": {},
   "outputs": [],
   "source": [
    "# change data\n",
    "data['big_credit_amount'] = np.where(data[feature] < np.quantile(data[feature],0.95), 0, 1)"
   ]
  },
  {
   "cell_type": "code",
   "execution_count": 144,
   "metadata": {},
   "outputs": [
    {
     "name": "stdout",
     "output_type": "stream",
     "text": [
      "Analyzed feature:  credit_term\n"
     ]
    },
    {
     "data": {
      "image/png": "[encoded data removed]",
      "text/plain": [
       "<Figure size 432x288 with 1 Axes>"
      ]
     },
     "metadata": {
      "needs_background": "light"
     },
     "output_type": "display_data"
    },
    {
     "data": {
      "image/png": "[encoded data removed]",
      "text/plain": [
       "<Figure size 360x360 with 1 Axes>"
      ]
     },
     "metadata": {
      "needs_background": "light"
     },
     "output_type": "display_data"
    }
   ],
   "source": [
    "# feature\n",
    "\n",
    "feature = data.columns[2]\n",
    "feature_description(feature, data,barplot =True)"
   ]
  },
  {
   "cell_type": "markdown",
   "metadata": {},
   "source": [
    "#### Conclusion:\n",
    "1. Almost 100% bad clents with credit term = 27 but the q of them is not enoght\n",
    "2. It is good to create a feature wich show that credit term is high\n",
    "3. The share of bad clients higher for long term"
   ]
  },
  {
   "cell_type": "code",
   "execution_count": 145,
   "metadata": {},
   "outputs": [
    {
     "name": "stdout",
     "output_type": "stream",
     "text": [
      "Analyzed feature:  age\n"
     ]
    },
    {
     "data": {
      "image/png": "[encoded data removed]",
      "text/plain": [
       "<Figure size 720x360 with 1 Axes>"
      ]
     },
     "metadata": {
      "needs_background": "light"
     },
     "output_type": "display_data"
    },
    {
     "data": {
      "image/png": "[encoded data removed]",
      "text/plain": [
       "<Figure size 360x360 with 1 Axes>"
      ]
     },
     "metadata": {
      "needs_background": "light"
     },
     "output_type": "display_data"
    }
   ],
   "source": [
    "# feature\n",
    "\n",
    "feature = data.columns[3]\n",
    "feature_description(feature, data)"
   ]
  },
  {
   "cell_type": "markdown",
   "metadata": {},
   "source": [
    "#### Conclusion:\n",
    "Younger people are more likely bad clients"
   ]
  },
  {
   "cell_type": "code",
   "execution_count": 146,
   "metadata": {},
   "outputs": [
    {
     "name": "stdout",
     "output_type": "stream",
     "text": [
      "Analyzed feature:  sex\n"
     ]
    },
    {
     "data": {
      "image/png": "[encoded data removed]",
      "text/plain": [
       "<Figure size 432x288 with 1 Axes>"
      ]
     },
     "metadata": {
      "needs_background": "light"
     },
     "output_type": "display_data"
    },
    {
     "data": {
      "image/png": "[encoded data removed]",
      "text/plain": [
       "<Figure size 360x360 with 1 Axes>"
      ]
     },
     "metadata": {
      "needs_background": "light"
     },
     "output_type": "display_data"
    }
   ],
   "source": [
    "# feature\n",
    "\n",
    "feature = data.columns[4]\n",
    "feature_description(feature, data)"
   ]
  },
  {
   "cell_type": "code",
   "execution_count": 147,
   "metadata": {},
   "outputs": [],
   "source": [
    "# change data\n",
    "data['is_male'] = np.where(data[feature].isin(['male']), 1,0)\n"
   ]
  },
  {
   "cell_type": "markdown",
   "metadata": {},
   "source": [
    "#### Conclusion:\n",
    "Female are more likely bad clients"
   ]
  },
  {
   "cell_type": "code",
   "execution_count": 148,
   "metadata": {
    "scrolled": false
   },
   "outputs": [
    {
     "name": "stdout",
     "output_type": "stream",
     "text": [
      "Analyzed feature:  education\n"
     ]
    },
    {
     "data": {
      "image/png": "[encoded data removed]",
      "text/plain": [
       "<Figure size 432x288 with 1 Axes>"
      ]
     },
     "metadata": {
      "needs_background": "light"
     },
     "output_type": "display_data"
    },
    {
     "data": {
      "image/png": "[encoded data removed]",
      "text/plain": [
       "<Figure size 360x360 with 1 Axes>"
      ]
     },
     "metadata": {
      "needs_background": "light"
     },
     "output_type": "display_data"
    }
   ],
   "source": [
    "# feature\n",
    "\n",
    "feature = data.columns[5]\n",
    "feature_description(feature, data)"
   ]
  },
  {
   "cell_type": "code",
   "execution_count": 149,
   "metadata": {},
   "outputs": [],
   "source": [
    "# change data\n",
    "data[feature] = np.where(data[feature].isin(['PhD degree', 'Incomplete secondary education']), 'Other', data[feature])\n"
   ]
  },
  {
   "cell_type": "markdown",
   "metadata": {},
   "source": [
    "#### Conclusion:\n",
    "Bad education influences on type of clint in a negative way"
   ]
  },
  {
   "cell_type": "code",
   "execution_count": 150,
   "metadata": {},
   "outputs": [
    {
     "name": "stdout",
     "output_type": "stream",
     "text": [
      "Analyzed feature:  product_type\n"
     ]
    },
    {
     "data": {
      "image/png": "[encoded data removed]",
      "text/plain": [
       "<Figure size 432x288 with 1 Axes>"
      ]
     },
     "metadata": {
      "needs_background": "light"
     },
     "output_type": "display_data"
    },
    {
     "data": {
      "image/png": "[encoded data removed]",
      "text/plain": [
       "<Figure size 360x360 with 1 Axes>"
      ]
     },
     "metadata": {
      "needs_background": "light"
     },
     "output_type": "display_data"
    }
   ],
   "source": [
    "# feature\n",
    "\n",
    "feature = data.columns[6]\n",
    "feature_description(feature, data)"
   ]
  },
  {
   "cell_type": "code",
   "execution_count": 151,
   "metadata": {},
   "outputs": [],
   "source": [
    "data[feature] = np.where(data[feature].isin(['Cell phones']), 'Cell phones', \n",
    "                         np.where(data[feature].isin(['Household appliances']), 'Household appliances',\n",
    "                                  np.where(data[feature].isin(['Computers']), 'Computers',\n",
    "                                           np.where(data[feature].isin(['Furniture']), 'Furniture',\n",
    "                                                    np.where(data[feature].isin(['Clothing']), 'Clothing',\n",
    "                                                             np.where(data[feature].isin(['Cosmetics and beauty services']), 'Cosmetics',\n",
    "                                                                      'Other'))))))\n"
   ]
  },
  {
   "cell_type": "code",
   "execution_count": 152,
   "metadata": {},
   "outputs": [
    {
     "name": "stdout",
     "output_type": "stream",
     "text": [
      "Analyzed feature:  product_type\n"
     ]
    },
    {
     "data": {
      "image/png": "[encoded data removed]",
      "text/plain": [
       "<Figure size 432x288 with 1 Axes>"
      ]
     },
     "metadata": {
      "needs_background": "light"
     },
     "output_type": "display_data"
    },
    {
     "data": {
      "image/png": "[encoded data removed]",
      "text/plain": [
       "<Figure size 360x360 with 1 Axes>"
      ]
     },
     "metadata": {
      "needs_background": "light"
     },
     "output_type": "display_data"
    }
   ],
   "source": [
    "# feature\n",
    "\n",
    "feature = data.columns[6]\n",
    "feature_description(feature, data)"
   ]
  },
  {
   "cell_type": "code",
   "execution_count": 153,
   "metadata": {},
   "outputs": [
    {
     "name": "stdout",
     "output_type": "stream",
     "text": [
      "Analyzed feature:  having_children_flg\n"
     ]
    },
    {
     "data": {
      "image/png": "[encoded data removed]",
      "text/plain": [
       "<Figure size 432x288 with 1 Axes>"
      ]
     },
     "metadata": {
      "needs_background": "light"
     },
     "output_type": "display_data"
    },
    {
     "data": {
      "image/png": "[encoded data removed]",
      "text/plain": [
       "<Figure size 360x360 with 1 Axes>"
      ]
     },
     "metadata": {
      "needs_background": "light"
     },
     "output_type": "display_data"
    }
   ],
   "source": [
    "# feature\n",
    "\n",
    "feature = data.columns[7]\n",
    "feature_description(feature, data, barplot= True)"
   ]
  },
  {
   "cell_type": "markdown",
   "metadata": {},
   "source": [
    "#### Conclusion:\n",
    "If a clent has a children it is more likely that he/she is not a bad client"
   ]
  },
  {
   "cell_type": "code",
   "execution_count": 154,
   "metadata": {},
   "outputs": [
    {
     "name": "stdout",
     "output_type": "stream",
     "text": [
      "Analyzed feature:  region\n"
     ]
    },
    {
     "data": {
      "image/png": "[encoded data removed]",
      "text/plain": [
       "<Figure size 432x288 with 1 Axes>"
      ]
     },
     "metadata": {
      "needs_background": "light"
     },
     "output_type": "display_data"
    },
    {
     "data": {
      "image/png": "[encoded data removed]",
      "text/plain": [
       "<Figure size 360x360 with 1 Axes>"
      ]
     },
     "metadata": {
      "needs_background": "light"
     },
     "output_type": "display_data"
    }
   ],
   "source": [
    "# feature\n",
    "\n",
    "feature = data.columns[8]\n",
    "feature_description(feature, data, barplot= True)"
   ]
  },
  {
   "cell_type": "code",
   "execution_count": 155,
   "metadata": {},
   "outputs": [
    {
     "name": "stdout",
     "output_type": "stream",
     "text": [
      "Analyzed feature:  income\n"
     ]
    },
    {
     "data": {
      "image/png": "[encoded data removed]",
      "text/plain": [
       "<Figure size 720x360 with 1 Axes>"
      ]
     },
     "metadata": {
      "needs_background": "light"
     },
     "output_type": "display_data"
    },
    {
     "data": {
      "image/png": "[encoded data removed]",
      "text/plain": [
       "<Figure size 360x360 with 1 Axes>"
      ]
     },
     "metadata": {
      "needs_background": "light"
     },
     "output_type": "display_data"
    }
   ],
   "source": [
    "# feature\n",
    "\n",
    "feature = data.columns[9]\n",
    "feature_description(feature, data)"
   ]
  },
  {
   "cell_type": "code",
   "execution_count": 156,
   "metadata": {},
   "outputs": [],
   "source": [
    "# change data\n",
    "data['big_income'] = np.where(data[feature] < np.quantile(data[feature],0.95), 0, 1)"
   ]
  },
  {
   "cell_type": "code",
   "execution_count": 157,
   "metadata": {},
   "outputs": [
    {
     "name": "stdout",
     "output_type": "stream",
     "text": [
      "Analyzed feature:  family_status\n"
     ]
    },
    {
     "data": {
      "image/png": "[encoded data removed]",
      "text/plain": [
       "<Figure size 432x288 with 1 Axes>"
      ]
     },
     "metadata": {
      "needs_background": "light"
     },
     "output_type": "display_data"
    },
    {
     "data": {
      "image/png": "[encoded data removed]",
      "text/plain": [
       "<Figure size 360x360 with 1 Axes>"
      ]
     },
     "metadata": {
      "needs_background": "light"
     },
     "output_type": "display_data"
    }
   ],
   "source": [
    "# feature\n",
    "\n",
    "feature = data.columns[10]\n",
    "feature_description(feature, data)"
   ]
  },
  {
   "cell_type": "markdown",
   "metadata": {},
   "source": [
    "#### Conclusion:\n",
    " If a clent is married it is more likely that he/she is not a bad client"
   ]
  },
  {
   "cell_type": "code",
   "execution_count": 158,
   "metadata": {},
   "outputs": [
    {
     "name": "stdout",
     "output_type": "stream",
     "text": [
      "Analyzed feature:  phone_operator\n"
     ]
    },
    {
     "data": {
      "image/png": "[encoded data removed]",
      "text/plain": [
       "<Figure size 432x288 with 1 Axes>"
      ]
     },
     "metadata": {
      "needs_background": "light"
     },
     "output_type": "display_data"
    },
    {
     "data": {
      "image/png": "[encoded data removed]",
      "text/plain": [
       "<Figure size 360x360 with 1 Axes>"
      ]
     },
     "metadata": {
      "needs_background": "light"
     },
     "output_type": "display_data"
    }
   ],
   "source": [
    "# feature\n",
    "\n",
    "feature = data.columns[11]\n",
    "feature_description(feature, data, barplot= True)"
   ]
  },
  {
   "cell_type": "code",
   "execution_count": 159,
   "metadata": {},
   "outputs": [
    {
     "name": "stdout",
     "output_type": "stream",
     "text": [
      "Analyzed feature:  is_client\n"
     ]
    },
    {
     "data": {
      "image/png": "[encoded data removed]",
      "text/plain": [
       "<Figure size 432x288 with 1 Axes>"
      ]
     },
     "metadata": {
      "needs_background": "light"
     },
     "output_type": "display_data"
    },
    {
     "data": {
      "image/png": "[encoded data removed]",
      "text/plain": [
       "<Figure size 360x360 with 1 Axes>"
      ]
     },
     "metadata": {
      "needs_background": "light"
     },
     "output_type": "display_data"
    }
   ],
   "source": [
    "# feature\n",
    "\n",
    "feature = data.columns[12]\n",
    "feature_description(feature, data, barplot= True)"
   ]
  },
  {
   "cell_type": "markdown",
   "metadata": {},
   "source": [
    "#### Conclusion:\n",
    "If a clent is is_clents it is more likely that he/she is not a bad client"
   ]
  },
  {
   "cell_type": "markdown",
   "metadata": {},
   "source": [
    "#### 1.5 One-hot-encoding"
   ]
  },
  {
   "cell_type": "code",
   "execution_count": 160,
   "metadata": {},
   "outputs": [],
   "source": [
    "data = data.drop(['sex'], axis =1)\n",
    "\n",
    "# OHE\n",
    "data = encode_and_bind(data , 'education')\n",
    "data = encode_and_bind(data , 'product_type')\n",
    "data = encode_and_bind(data , 'family_status')"
   ]
  },
  {
   "cell_type": "code",
   "execution_count": 161,
   "metadata": {},
   "outputs": [],
   "source": [
    "# Swap data\n",
    "data = data[['bad_client_target', 'month', 'credit_amount', 'credit_term', 'age', 'having_children_flg',\n",
    "       'region', 'income', 'phone_operator', 'is_client',\n",
    "       'big_credit_amount', 'is_male', 'big_income', \n",
    "       'education_Higher education', 'education_Incomplete higher education',\n",
    "       'education_Other', 'education_Secondary education',\n",
    "       'education_Secondary special education', 'product_type_Cell phones',\n",
    "       'product_type_Clothing', 'product_type_Computers',\n",
    "       'product_type_Cosmetics', 'product_type_Furniture',\n",
    "       'product_type_Household appliances', 'product_type_Other',\n",
    "       'family_status_Another', 'family_status_Married',\n",
    "       'family_status_Unmarried']]\n",
    "\n",
    "data =  data.rename(columns={'bad_client_target':'y'})"
   ]
  },
  {
   "cell_type": "markdown",
   "metadata": {},
   "source": [
    "#### 6 Train and test split"
   ]
  },
  {
   "cell_type": "code",
   "execution_count": 162,
   "metadata": {
    "scrolled": true
   },
   "outputs": [
    {
     "name": "stdout",
     "output_type": "stream",
     "text": [
      "(1206, 28)\n",
      "(517, 28)\n"
     ]
    }
   ],
   "source": [
    "# split data on target and X\n",
    "train = data\n",
    "\n",
    "\n",
    "# split data on train data set\n",
    "x_train, x_test = train_test_split(train, test_size=0.3, random_state=42);\n",
    "print(x_train.shape)\n",
    "print(x_test.shape)\n"
   ]
  },
  {
   "cell_type": "code",
   "execution_count": 163,
   "metadata": {},
   "outputs": [],
   "source": [
    "x_train = x_train[(x_train.big_credit_amount == 0) & (x_train.big_income == 0)]\n",
    "x_train = x_train.drop(['big_credit_amount', 'big_income'], axis =1)\n",
    "x_test = x_test.drop(['big_credit_amount', 'big_income'], axis =1)"
   ]
  },
  {
   "cell_type": "code",
   "execution_count": 164,
   "metadata": {},
   "outputs": [],
   "source": [
    "y_train = x_train.y\n",
    "y_test = x_test.y\n",
    "\n",
    "x_train = x_train.iloc[:,1:]\n",
    "x_test = x_test.iloc[:,1:]"
   ]
  },
  {
   "cell_type": "markdown",
   "metadata": {},
   "source": [
    "### Part 2. Moddelling. Naive XGBoost"
   ]
  },
  {
   "cell_type": "markdown",
   "metadata": {},
   "source": [
    "#### 2.1 Main table with result"
   ]
  },
  {
   "cell_type": "code",
   "execution_count": 165,
   "metadata": {},
   "outputs": [],
   "source": [
    "res_tab = pd.DataFrame({'Method': ['naive', 'naive_plus_cleaning', 'advanced'],\n",
    "             'auc':np.nan,\n",
    "              'recall': np.nan} )"
   ]
  },
  {
   "cell_type": "markdown",
   "metadata": {},
   "source": [
    "#### 2.2 train Naive model"
   ]
  },
  {
   "cell_type": "code",
   "execution_count": 166,
   "metadata": {},
   "outputs": [
    {
     "name": "stdout",
     "output_type": "stream",
     "text": [
      "AUC:  0.71\n",
      "recall:  0.25\n",
      "[[428  34]\n",
      " [ 41  14]]\n",
      "Wall time: 123 ms\n"
     ]
    }
   ],
   "source": [
    "%%time\n",
    "\n",
    "# 0. set threshold \n",
    "threshold = 0.25\n",
    "\n",
    "# 1. fitting \n",
    "xg_reg = xgb.XGBClassifier( n_jobs=5, random_state=777, objective='reg:logistic', use_label_encoder=False)\n",
    "xg_reg.fit(x_train, y_train)\n",
    "\n",
    "\n",
    "# 2. Prediction\n",
    "prediction = xg_reg.predict_proba(x_test)[:, 1]\n",
    "fpr, tpr, thresholds = roc_curve(y_test, prediction)\n",
    "print('AUC: ', round(auc(fpr, tpr),2))\n",
    "\n",
    "\n",
    "# 3. Prediction + threshold\n",
    "prediction = np.where(prediction < threshold, 0, 1)\n",
    "\n",
    "print('recall: ', round(recall_score(y_pred = prediction, y_true = y_test),2))\n",
    "print(confusion_matrix(y_test, prediction))\n",
    "\n",
    "# 4. Save result\n",
    "res_tab['auc'][0] = round(auc(fpr, tpr),2)\n",
    "res_tab['recall'][0] = round(recall_score(y_pred = prediction, y_true = y_test),2)"
   ]
  },
  {
   "cell_type": "markdown",
   "metadata": {},
   "source": [
    "#### 2.3 Feature importance "
   ]
  },
  {
   "cell_type": "code",
   "execution_count": 167,
   "metadata": {},
   "outputs": [
    {
     "data": {
      "text/html": [
       "<div>\n",
       "<style scoped>\n",
       "    .dataframe tbody tr th:only-of-type {\n",
       "        vertical-align: middle;\n",
       "    }\n",
       "\n",
       "    .dataframe tbody tr th {\n",
       "        vertical-align: top;\n",
       "    }\n",
       "\n",
       "    .dataframe thead th {\n",
       "        text-align: right;\n",
       "    }\n",
       "</style>\n",
       "<table border=\"1\" class=\"dataframe\">\n",
       "  <thead>\n",
       "    <tr style=\"text-align: right;\">\n",
       "      <th></th>\n",
       "      <th>score</th>\n",
       "    </tr>\n",
       "  </thead>\n",
       "  <tbody>\n",
       "    <tr>\n",
       "      <th>credit_amount</th>\n",
       "      <td>404</td>\n",
       "    </tr>\n",
       "    <tr>\n",
       "      <th>age</th>\n",
       "      <td>345</td>\n",
       "    </tr>\n",
       "    <tr>\n",
       "      <th>income</th>\n",
       "      <td>274</td>\n",
       "    </tr>\n",
       "    <tr>\n",
       "      <th>month</th>\n",
       "      <td>241</td>\n",
       "    </tr>\n",
       "    <tr>\n",
       "      <th>credit_term</th>\n",
       "      <td>143</td>\n",
       "    </tr>\n",
       "    <tr>\n",
       "      <th>phone_operator</th>\n",
       "      <td>121</td>\n",
       "    </tr>\n",
       "    <tr>\n",
       "      <th>family_status_Another</th>\n",
       "      <td>58</td>\n",
       "    </tr>\n",
       "    <tr>\n",
       "      <th>having_children_flg</th>\n",
       "      <td>57</td>\n",
       "    </tr>\n",
       "    <tr>\n",
       "      <th>product_type_Cell phones</th>\n",
       "      <td>50</td>\n",
       "    </tr>\n",
       "    <tr>\n",
       "      <th>is_client</th>\n",
       "      <td>48</td>\n",
       "    </tr>\n",
       "    <tr>\n",
       "      <th>is_male</th>\n",
       "      <td>45</td>\n",
       "    </tr>\n",
       "    <tr>\n",
       "      <th>family_status_Married</th>\n",
       "      <td>40</td>\n",
       "    </tr>\n",
       "    <tr>\n",
       "      <th>education_Secondary special education</th>\n",
       "      <td>38</td>\n",
       "    </tr>\n",
       "    <tr>\n",
       "      <th>education_Secondary education</th>\n",
       "      <td>35</td>\n",
       "    </tr>\n",
       "    <tr>\n",
       "      <th>education_Higher education</th>\n",
       "      <td>25</td>\n",
       "    </tr>\n",
       "    <tr>\n",
       "      <th>region</th>\n",
       "      <td>23</td>\n",
       "    </tr>\n",
       "    <tr>\n",
       "      <th>product_type_Other</th>\n",
       "      <td>16</td>\n",
       "    </tr>\n",
       "    <tr>\n",
       "      <th>product_type_Household appliances</th>\n",
       "      <td>13</td>\n",
       "    </tr>\n",
       "    <tr>\n",
       "      <th>product_type_Computers</th>\n",
       "      <td>9</td>\n",
       "    </tr>\n",
       "    <tr>\n",
       "      <th>education_Incomplete higher education</th>\n",
       "      <td>5</td>\n",
       "    </tr>\n",
       "    <tr>\n",
       "      <th>family_status_Unmarried</th>\n",
       "      <td>4</td>\n",
       "    </tr>\n",
       "    <tr>\n",
       "      <th>product_type_Furniture</th>\n",
       "      <td>3</td>\n",
       "    </tr>\n",
       "    <tr>\n",
       "      <th>product_type_Cosmetics</th>\n",
       "      <td>2</td>\n",
       "    </tr>\n",
       "    <tr>\n",
       "      <th>product_type_Clothing</th>\n",
       "      <td>1</td>\n",
       "    </tr>\n",
       "  </tbody>\n",
       "</table>\n",
       "</div>"
      ],
      "text/plain": [
       "                                       score\n",
       "credit_amount                            404\n",
       "age                                      345\n",
       "income                                   274\n",
       "month                                    241\n",
       "credit_term                              143\n",
       "phone_operator                           121\n",
       "family_status_Another                     58\n",
       "having_children_flg                       57\n",
       "product_type_Cell phones                  50\n",
       "is_client                                 48\n",
       "is_male                                   45\n",
       "family_status_Married                     40\n",
       "education_Secondary special education     38\n",
       "education_Secondary education             35\n",
       "education_Higher education                25\n",
       "region                                    23\n",
       "product_type_Other                        16\n",
       "product_type_Household appliances         13\n",
       "product_type_Computers                     9\n",
       "education_Incomplete higher education      5\n",
       "family_status_Unmarried                    4\n",
       "product_type_Furniture                     3\n",
       "product_type_Cosmetics                     2\n",
       "product_type_Clothing                      1"
      ]
     },
     "execution_count": 167,
     "metadata": {},
     "output_type": "execute_result"
    },
    {
     "data": {
      "image/png": "[encoded data removed]",
      "text/plain": [
       "<Figure size 432x288 with 1 Axes>"
      ]
     },
     "metadata": {
      "needs_background": "light"
     },
     "output_type": "display_data"
    }
   ],
   "source": [
    "# 1. Select data with feature_importants\n",
    "feature_important(xg_reg)"
   ]
  },
  {
   "cell_type": "code",
   "execution_count": 168,
   "metadata": {},
   "outputs": [],
   "source": [
    "# 2. Select need features\n",
    "threshold = 36\n",
    "\n",
    "data = data.reset_index()\n",
    "data = data[data.score>threshold]\n",
    "columns = list(data['index'])\n",
    "\n",
    "\n",
    "# 4. Select only interesting columns duruing training\n",
    "x_train = x_train[columns]\n",
    "x_test = x_test[x_train.columns]"
   ]
  },
  {
   "cell_type": "markdown",
   "metadata": {},
   "source": [
    "#### 2.4 Train Naive model with prune data"
   ]
  },
  {
   "cell_type": "code",
   "execution_count": 169,
   "metadata": {},
   "outputs": [
    {
     "name": "stdout",
     "output_type": "stream",
     "text": [
      "AUC:  0.71\n",
      "recall:  0.29\n",
      "[[424  38]\n",
      " [ 39  16]]\n",
      "Wall time: 87.8 ms\n"
     ]
    }
   ],
   "source": [
    "%%time\n",
    "\n",
    "# 0. set threshold \n",
    "threshold = 0.25\n",
    "\n",
    "# 1. fitting \n",
    "xg_reg = xgb.XGBClassifier( n_jobs=5, random_state=777, objective='reg:logistic', use_label_encoder=False)\n",
    "xg_reg.fit(x_train, y_train)\n",
    "\n",
    "\n",
    "# 2. Prediction\n",
    "prediction = xg_reg.predict_proba(x_test)[:, 1]\n",
    "fpr, tpr, thresholds = roc_curve(y_test, prediction)\n",
    "print('AUC: ', round(auc(fpr, tpr),2))\n",
    "\n",
    "\n",
    "# 3. Prediction + threshold\n",
    "prediction = np.where(prediction < threshold, 0, 1)\n",
    "\n",
    "print('recall: ', round(recall_score(y_pred = prediction, y_true = y_test),2))\n",
    "print(confusion_matrix(y_test, prediction))\n",
    "\n",
    "# 4. Save result\n",
    "res_tab['auc'][1] = round(auc(fpr, tpr),2)\n",
    "res_tab['recall'][1] = round(recall_score(y_pred = prediction, y_true = y_test),2)"
   ]
  },
  {
   "cell_type": "markdown",
   "metadata": {},
   "source": [
    "#### 2.5 Grid Search"
   ]
  },
  {
   "cell_type": "code",
   "execution_count": 120,
   "metadata": {},
   "outputs": [
    {
     "name": "stdout",
     "output_type": "stream",
     "text": [
      "(240, 11)\n"
     ]
    }
   ],
   "source": [
    "# 1. Determine param for GS\n",
    "learning_rate = [0.01,0.1,0.2,0.3] \n",
    "max_depth = [5,7,3] \n",
    "n_estimators = [100,200] \n",
    "subsample=  [1,0.75] \n",
    "colsample_bytree = [ 1]\n",
    "gamma = [0.25, 0.1,0.2,0.3, 0]\n",
    "i_index = [0]\n",
    "\n",
    "\n",
    "\n",
    "# 2. Create GS table\n",
    "GS_table(learning_rate, max_depth, n_estimators, subsample, colsample_bytree, gamma,i_index  )"
   ]
  },
  {
   "cell_type": "code",
   "execution_count": 121,
   "metadata": {},
   "outputs": [],
   "source": [
    "# 3. Data and folds fo GS\n",
    "data = x_train.copy()\n",
    "data['y'] = y_train \n",
    "\n",
    "# 3.1 Create folds\n",
    "random.seed(777)\n",
    "value = []\n",
    "for i in range(0,len(data)):\n",
    "    value.append(random.randint(1,3))\n",
    "data['fold'] = value"
   ]
  },
  {
   "cell_type": "code",
   "execution_count": 122,
   "metadata": {
    "scrolled": true
   },
   "outputs": [
    {
     "name": "stdout",
     "output_type": "stream",
     "text": [
      "0\n",
      "1\n",
      "2\n",
      "3\n",
      "4\n",
      "5\n",
      "6\n",
      "7\n",
      "8\n",
      "9\n",
      "10\n",
      "11\n",
      "12\n",
      "13\n",
      "14\n",
      "15\n",
      "16\n",
      "17\n",
      "18\n",
      "19\n",
      "20\n",
      "21\n",
      "22\n",
      "23\n",
      "24\n",
      "25\n",
      "26\n",
      "27\n",
      "28\n",
      "29\n",
      "30\n",
      "31\n",
      "32\n",
      "33\n",
      "34\n",
      "35\n",
      "36\n",
      "37\n",
      "38\n",
      "39\n",
      "40\n",
      "41\n",
      "42\n",
      "43\n",
      "44\n",
      "45\n",
      "46\n",
      "47\n",
      "48\n",
      "49\n",
      "50\n",
      "51\n",
      "52\n",
      "53\n",
      "54\n",
      "55\n",
      "56\n",
      "57\n",
      "58\n",
      "59\n",
      "60\n",
      "61\n",
      "62\n",
      "63\n",
      "64\n",
      "65\n",
      "66\n",
      "67\n",
      "68\n",
      "69\n",
      "70\n",
      "71\n",
      "72\n",
      "73\n",
      "74\n",
      "75\n",
      "76\n",
      "77\n",
      "78\n",
      "79\n",
      "80\n",
      "81\n",
      "82\n",
      "83\n",
      "84\n",
      "85\n",
      "86\n",
      "87\n",
      "88\n",
      "89\n",
      "90\n",
      "91\n",
      "92\n",
      "93\n",
      "94\n",
      "95\n",
      "96\n",
      "97\n",
      "98\n",
      "99\n",
      "100\n",
      "101\n",
      "102\n",
      "103\n",
      "104\n",
      "105\n",
      "106\n",
      "107\n",
      "108\n",
      "109\n",
      "110\n",
      "111\n",
      "112\n",
      "113\n",
      "114\n",
      "115\n",
      "116\n",
      "117\n",
      "118\n",
      "119\n",
      "120\n",
      "121\n",
      "122\n",
      "123\n",
      "124\n",
      "125\n",
      "126\n",
      "127\n",
      "128\n",
      "129\n",
      "130\n",
      "131\n",
      "132\n",
      "133\n",
      "134\n",
      "135\n",
      "136\n",
      "137\n",
      "138\n",
      "139\n",
      "140\n",
      "141\n",
      "142\n",
      "143\n",
      "144\n",
      "145\n",
      "146\n",
      "147\n",
      "148\n",
      "149\n",
      "150\n",
      "151\n",
      "152\n",
      "153\n",
      "154\n",
      "155\n",
      "156\n",
      "157\n",
      "158\n",
      "159\n",
      "160\n",
      "161\n",
      "162\n",
      "163\n",
      "164\n",
      "165\n",
      "166\n",
      "167\n",
      "168\n",
      "169\n",
      "170\n",
      "171\n",
      "172\n",
      "173\n",
      "174\n",
      "175\n",
      "176\n",
      "177\n",
      "178\n",
      "179\n",
      "180\n",
      "181\n",
      "182\n",
      "183\n",
      "184\n",
      "185\n",
      "186\n",
      "187\n",
      "188\n",
      "189\n",
      "190\n",
      "191\n",
      "192\n",
      "193\n",
      "194\n",
      "195\n",
      "196\n",
      "197\n",
      "198\n",
      "199\n",
      "200\n",
      "201\n",
      "202\n",
      "203\n",
      "204\n",
      "205\n",
      "206\n",
      "207\n",
      "208\n",
      "209\n",
      "210\n",
      "211\n",
      "212\n",
      "213\n",
      "214\n",
      "215\n",
      "216\n",
      "217\n",
      "218\n",
      "219\n",
      "220\n",
      "221\n",
      "222\n",
      "223\n",
      "224\n",
      "225\n",
      "226\n",
      "227\n",
      "228\n",
      "229\n",
      "230\n",
      "231\n",
      "232\n",
      "233\n",
      "234\n",
      "235\n",
      "236\n",
      "237\n",
      "238\n",
      "239\n"
     ]
    }
   ],
   "source": [
    "# 4. GS process\n",
    "for i in range(0,len(grid_tab)):\n",
    "    for j in [1,2,3]:\n",
    "        data_test = data[data.fold == j]\n",
    "        data_train = data[data.fold != j]\n",
    "    \n",
    "    \n",
    "    \n",
    "        xg_reg = xgb.XGBClassifier(n_jobs=7, random_state=7,\n",
    "                                 learning_rate = grid_tab.learning_rate[i],\n",
    "                                 max_depth = grid_tab.max_depth[i],\n",
    "                                 n_estimators = grid_tab.n_estimators[i],\n",
    "                                 subsample = grid_tab.subsample[i],\n",
    "                                 colsample_bytree = grid_tab.colsample_bytree[i],\n",
    "                                 gamma = grid_tab.gamma[i],\n",
    "                                objective='reg:logistic', use_label_encoder=False\n",
    "                                 )\n",
    "        xg_reg.fit(data_train.iloc[:,:(len(data_train.columns)-2)], data_train.y)\n",
    "\n",
    "# Prediction\n",
    "        prediction = xg_reg.predict_proba(data_test.iloc[:,:(len(data_train.columns)-2)])[:, 1]\n",
    "        fpr, tpr, thresholds = roc_curve(data_test.y, prediction)\n",
    "        metric = round(auc(fpr, tpr),2)\n",
    "    \n",
    "# Mae calculation for slices        \n",
    "        if j == 1:\n",
    "            grid_tab.auc1[i] = metric \n",
    "        elif j ==2:\n",
    "            grid_tab.auc2[i] = metric \n",
    "        else:\n",
    "            grid_tab.auc3[i] = metric    \n",
    "\n",
    "                \n",
    "# MAE avg\n",
    "    grid_tab.auc_avg = (grid_tab.auc1 + grid_tab.auc2+ grid_tab.auc3)/3      \n",
    "    print(i)  "
   ]
  },
  {
   "cell_type": "code",
   "execution_count": 123,
   "metadata": {
    "scrolled": false
   },
   "outputs": [
    {
     "data": {
      "image/png": "[encoded data removed]",
      "text/plain": [
       "<Figure size 432x288 with 1 Axes>"
      ]
     },
     "metadata": {
      "needs_background": "light"
     },
     "output_type": "display_data"
    },
    {
     "data": {
      "image/png": "[encoded data removed]",
      "text/plain": [
       "<Figure size 432x288 with 1 Axes>"
      ]
     },
     "metadata": {
      "needs_background": "light"
     },
     "output_type": "display_data"
    },
    {
     "data": {
      "image/png": "[encoded data removed]",
      "text/plain": [
       "<Figure size 432x288 with 1 Axes>"
      ]
     },
     "metadata": {
      "needs_background": "light"
     },
     "output_type": "display_data"
    },
    {
     "data": {
      "image/png": "[encoded data removed]",
      "text/plain": [
       "<Figure size 432x288 with 1 Axes>"
      ]
     },
     "metadata": {
      "needs_background": "light"
     },
     "output_type": "display_data"
    },
    {
     "data": {
      "image/png": "[encoded data removed]",
      "text/plain": [
       "<Figure size 432x288 with 1 Axes>"
      ]
     },
     "metadata": {
      "needs_background": "light"
     },
     "output_type": "display_data"
    },
    {
     "data": {
      "image/png": "[encoded data removed]",
      "text/plain": [
       "<Figure size 432x288 with 1 Axes>"
      ]
     },
     "metadata": {
      "needs_background": "light"
     },
     "output_type": "display_data"
    },
    {
     "data": {
      "image/png": "[encoded data removed]",
      "text/plain": [
       "<Figure size 432x288 with 1 Axes>"
      ]
     },
     "metadata": {
      "needs_background": "light"
     },
     "output_type": "display_data"
    },
    {
     "data": {
      "text/html": [
       "<div>\n",
       "<style scoped>\n",
       "    .dataframe tbody tr th:only-of-type {\n",
       "        vertical-align: middle;\n",
       "    }\n",
       "\n",
       "    .dataframe tbody tr th {\n",
       "        vertical-align: top;\n",
       "    }\n",
       "\n",
       "    .dataframe thead th {\n",
       "        text-align: right;\n",
       "    }\n",
       "</style>\n",
       "<table border=\"1\" class=\"dataframe\">\n",
       "  <thead>\n",
       "    <tr style=\"text-align: right;\">\n",
       "      <th></th>\n",
       "      <th>learning_rate</th>\n",
       "      <th>n_estimators</th>\n",
       "      <th>subsample</th>\n",
       "      <th>max_depth</th>\n",
       "      <th>colsample_bytree</th>\n",
       "      <th>gamma</th>\n",
       "      <th>i_index</th>\n",
       "      <th>auc1</th>\n",
       "      <th>auc2</th>\n",
       "      <th>auc3</th>\n",
       "      <th>auc_avg</th>\n",
       "    </tr>\n",
       "  </thead>\n",
       "  <tbody>\n",
       "    <tr>\n",
       "      <th>55</th>\n",
       "      <td>0.01</td>\n",
       "      <td>200</td>\n",
       "      <td>0.75</td>\n",
       "      <td>3</td>\n",
       "      <td>1</td>\n",
       "      <td>0.25</td>\n",
       "      <td>0</td>\n",
       "      <td>0.75</td>\n",
       "      <td>0.73</td>\n",
       "      <td>0.71</td>\n",
       "      <td>0.73</td>\n",
       "    </tr>\n",
       "    <tr>\n",
       "      <th>56</th>\n",
       "      <td>0.01</td>\n",
       "      <td>200</td>\n",
       "      <td>0.75</td>\n",
       "      <td>3</td>\n",
       "      <td>1</td>\n",
       "      <td>0.10</td>\n",
       "      <td>0</td>\n",
       "      <td>0.75</td>\n",
       "      <td>0.73</td>\n",
       "      <td>0.71</td>\n",
       "      <td>0.73</td>\n",
       "    </tr>\n",
       "    <tr>\n",
       "      <th>57</th>\n",
       "      <td>0.01</td>\n",
       "      <td>200</td>\n",
       "      <td>0.75</td>\n",
       "      <td>3</td>\n",
       "      <td>1</td>\n",
       "      <td>0.20</td>\n",
       "      <td>0</td>\n",
       "      <td>0.75</td>\n",
       "      <td>0.73</td>\n",
       "      <td>0.71</td>\n",
       "      <td>0.73</td>\n",
       "    </tr>\n",
       "    <tr>\n",
       "      <th>58</th>\n",
       "      <td>0.01</td>\n",
       "      <td>200</td>\n",
       "      <td>0.75</td>\n",
       "      <td>3</td>\n",
       "      <td>1</td>\n",
       "      <td>0.30</td>\n",
       "      <td>0</td>\n",
       "      <td>0.75</td>\n",
       "      <td>0.73</td>\n",
       "      <td>0.71</td>\n",
       "      <td>0.73</td>\n",
       "    </tr>\n",
       "    <tr>\n",
       "      <th>59</th>\n",
       "      <td>0.01</td>\n",
       "      <td>200</td>\n",
       "      <td>0.75</td>\n",
       "      <td>3</td>\n",
       "      <td>1</td>\n",
       "      <td>0.00</td>\n",
       "      <td>0</td>\n",
       "      <td>0.75</td>\n",
       "      <td>0.73</td>\n",
       "      <td>0.71</td>\n",
       "      <td>0.73</td>\n",
       "    </tr>\n",
       "  </tbody>\n",
       "</table>\n",
       "</div>"
      ],
      "text/plain": [
       "    learning_rate  n_estimators  subsample  max_depth  colsample_bytree  \\\n",
       "55           0.01           200       0.75          3                 1   \n",
       "56           0.01           200       0.75          3                 1   \n",
       "57           0.01           200       0.75          3                 1   \n",
       "58           0.01           200       0.75          3                 1   \n",
       "59           0.01           200       0.75          3                 1   \n",
       "\n",
       "    gamma  i_index  auc1  auc2  auc3  auc_avg  \n",
       "55   0.25        0  0.75  0.73  0.71     0.73  \n",
       "56   0.10        0  0.75  0.73  0.71     0.73  \n",
       "57   0.20        0  0.75  0.73  0.71     0.73  \n",
       "58   0.30        0  0.75  0.73  0.71     0.73  \n",
       "59   0.00        0  0.75  0.73  0.71     0.73  "
      ]
     },
     "execution_count": 123,
     "metadata": {},
     "output_type": "execute_result"
    }
   ],
   "source": [
    "#### 5 Factor analysis\n",
    "\n",
    "# 5.1 Look at data dynamic\n",
    "# 5.2 Select need param\n",
    "k =  ['learning_rate','n_estimators', 'subsample', 'max_depth','colsample_bytree','gamma','i_index']\n",
    "\n",
    "\n",
    "# 5.3 Plot data\n",
    "for X in k:\n",
    "    t =grid_tab.groupby(X)[['auc_avg']].agg(np.mean)\n",
    "\n",
    "    # Plot the data\n",
    "    x = np.array(t.index)\n",
    "    y  = np.array(t['auc_avg'])\n",
    "    plt.plot(x, y)\n",
    "    plt.suptitle(X)\n",
    "    plt.show()\n",
    "    \n",
    "# 5.4 select the best param    \n",
    "grid_tab[grid_tab.auc_avg == grid_tab.auc_avg.max()]    "
   ]
  },
  {
   "cell_type": "markdown",
   "metadata": {},
   "source": [
    "#### 2.6 Advanced XGBoost model"
   ]
  },
  {
   "cell_type": "code",
   "execution_count": 170,
   "metadata": {},
   "outputs": [
    {
     "name": "stdout",
     "output_type": "stream",
     "text": [
      "AUC:  0.77\n",
      "recall:  0.38\n",
      "[[418  44]\n",
      " [ 34  21]]\n",
      "Wall time: 176 ms\n"
     ]
    }
   ],
   "source": [
    "%%time\n",
    "\n",
    "# 0. set threshold \n",
    "threshold = 0.25\n",
    "\n",
    "# 1. fitting \n",
    "xg_reg = xgb.XGBClassifier( n_jobs=7, random_state=777, objective='reg:logistic', use_label_encoder=False,\n",
    "                         learning_rate = 0.01,\n",
    "                          n_estimators = 200,\n",
    "                          subsample = 0.75,\n",
    "                          max_depth = 3,\n",
    "                          colsample_bytree = 1,\n",
    "                          gamma = 0.25\n",
    "                          )\n",
    "xg_reg.fit(x_train, y_train)\n",
    "\n",
    "\n",
    "# 2. Prediction\n",
    "pred = xg_reg.predict_proba(x_test)[:, 1]\n",
    "fpr, tpr, thresholds = roc_curve(y_test, pred)\n",
    "print('AUC: ', round(auc(fpr, tpr),2))\n",
    "\n",
    "\n",
    "# 3. Prediction + threshold\n",
    "prediction = np.where(pred  < threshold, 0, 1)\n",
    "\n",
    "print('recall: ', round(recall_score(y_pred = prediction, y_true = y_test),2))\n",
    "print(confusion_matrix(y_test, prediction))\n",
    "\n",
    "# 4. Save result\n",
    "res_tab['auc'][2] = round(auc(fpr, tpr),2)\n",
    "res_tab['recall'][2] = round(recall_score(y_pred = prediction, y_true = y_test),2)"
   ]
  },
  {
   "cell_type": "code",
   "execution_count": 171,
   "metadata": {},
   "outputs": [
    {
     "data": {
      "text/html": [
       "<div>\n",
       "<style scoped>\n",
       "    .dataframe tbody tr th:only-of-type {\n",
       "        vertical-align: middle;\n",
       "    }\n",
       "\n",
       "    .dataframe tbody tr th {\n",
       "        vertical-align: top;\n",
       "    }\n",
       "\n",
       "    .dataframe thead th {\n",
       "        text-align: right;\n",
       "    }\n",
       "</style>\n",
       "<table border=\"1\" class=\"dataframe\">\n",
       "  <thead>\n",
       "    <tr style=\"text-align: right;\">\n",
       "      <th></th>\n",
       "      <th>Method</th>\n",
       "      <th>auc</th>\n",
       "      <th>recall</th>\n",
       "    </tr>\n",
       "  </thead>\n",
       "  <tbody>\n",
       "    <tr>\n",
       "      <th>0</th>\n",
       "      <td>naive</td>\n",
       "      <td>0.71</td>\n",
       "      <td>0.25</td>\n",
       "    </tr>\n",
       "    <tr>\n",
       "      <th>1</th>\n",
       "      <td>naive_plus_cleaning</td>\n",
       "      <td>0.71</td>\n",
       "      <td>0.29</td>\n",
       "    </tr>\n",
       "    <tr>\n",
       "      <th>2</th>\n",
       "      <td>advanced</td>\n",
       "      <td>0.77</td>\n",
       "      <td>0.38</td>\n",
       "    </tr>\n",
       "  </tbody>\n",
       "</table>\n",
       "</div>"
      ],
      "text/plain": [
       "                Method   auc  recall\n",
       "0                naive  0.71    0.25\n",
       "1  naive_plus_cleaning  0.71    0.29\n",
       "2             advanced  0.77    0.38"
      ]
     },
     "execution_count": 171,
     "metadata": {},
     "output_type": "execute_result"
    }
   ],
   "source": [
    "res_tab"
   ]
  },
  {
   "cell_type": "markdown",
   "metadata": {},
   "source": [
    "#### 2.8 Dependdens recall on threshold "
   ]
  },
  {
   "cell_type": "code",
   "execution_count": 172,
   "metadata": {},
   "outputs": [],
   "source": [
    "# 1. table with recall / precision\n",
    "rec_prec_threshold = pd.DataFrame({'threshold':np.arange(0.01, 0.5, 0.01),\n",
    "             'Recall':np.nan,\n",
    "              'Precision': np.nan} )\n",
    "\n",
    "# 2. Main calculation\n",
    "for i in range(len(rec_prec_threshold)):\n",
    "    prediction = np.where(pred < rec_prec_threshold['threshold'][i], 0, 1)\n",
    "    rec_prec_threshold['Recall'][i]  = round(recall_score(y_pred = prediction, y_true = y_test),2)\n",
    "    rec_prec_threshold['Precision'][i]  = round(precision_score(y_pred = prediction, y_true = y_test),2)"
   ]
  },
  {
   "cell_type": "code",
   "execution_count": 173,
   "metadata": {
    "scrolled": true
   },
   "outputs": [
    {
     "data": {
      "image/png": "[encoded data removed]",
      "text/plain": [
       "<Figure size 432x288 with 1 Axes>"
      ]
     },
     "metadata": {
      "needs_background": "light"
     },
     "output_type": "display_data"
    }
   ],
   "source": [
    "# 3. Plot it\n",
    "x = rec_prec_threshold.threshold\n",
    "y  = rec_prec_threshold.Recall\n",
    "z = rec_prec_threshold.Precision\n",
    "plt.plot(x, y);\n",
    "plt.plot(x, z);\n",
    "plt.legend(['Recall','Precision' ],shadow = True, loc = 1);    "
   ]
  },
  {
   "cell_type": "markdown",
   "metadata": {},
   "source": [
    "#### Part 4. Conclusion"
   ]
  },
  {
   "cell_type": "code",
   "execution_count": 174,
   "metadata": {},
   "outputs": [
    {
     "name": "stdout",
     "output_type": "stream",
     "text": [
      "[[395  67]\n",
      " [ 26  29]]\n"
     ]
    }
   ],
   "source": [
    "#  1. Result model \n",
    "model = xg_reg\n",
    "\n",
    "# Model AUC\n",
    "pred = model.predict_proba(x_test)[:, 1]\n",
    "fpr, tpr, thresholds = roc_curve(y_test, pred)\n",
    "\n",
    "\n",
    "# В зависимости от цели задачи необходимо установить \"порог\" для определения плохих клиентов.\n",
    "# Чем меньше порог, тем больше плохих клиентов получаеться отлавиливать, но возрастает ошибка первого рода.\n",
    "# Рекомендую использовать график выше для определения оптимального порога, например,\n",
    "# Если задача идентифицировать 50% плохих клиентов, то порог 0.23\n",
    "\n",
    "# 3. Prediction + threshold\n",
    "threshold = 0.23\n",
    "prediction = np.where(pred  < threshold, 0, 1)\n",
    "\n",
    "\n",
    "# 4. Итоговая confusion_matrix\n",
    "print(confusion_matrix(y_test, prediction))"
   ]
  },
  {
   "cell_type": "code",
   "execution_count": 129,
   "metadata": {},
   "outputs": [
    {
     "data": {
      "text/html": [
       "<div>\n",
       "<style scoped>\n",
       "    .dataframe tbody tr th:only-of-type {\n",
       "        vertical-align: middle;\n",
       "    }\n",
       "\n",
       "    .dataframe tbody tr th {\n",
       "        vertical-align: top;\n",
       "    }\n",
       "\n",
       "    .dataframe thead th {\n",
       "        text-align: right;\n",
       "    }\n",
       "</style>\n",
       "<table border=\"1\" class=\"dataframe\">\n",
       "  <thead>\n",
       "    <tr style=\"text-align: right;\">\n",
       "      <th></th>\n",
       "      <th>Method</th>\n",
       "      <th>auc</th>\n",
       "      <th>recall</th>\n",
       "    </tr>\n",
       "  </thead>\n",
       "  <tbody>\n",
       "    <tr>\n",
       "      <th>0</th>\n",
       "      <td>naive</td>\n",
       "      <td>0.71</td>\n",
       "      <td>0.25</td>\n",
       "    </tr>\n",
       "    <tr>\n",
       "      <th>1</th>\n",
       "      <td>naive_plus_cleaning</td>\n",
       "      <td>0.72</td>\n",
       "      <td>0.22</td>\n",
       "    </tr>\n",
       "    <tr>\n",
       "      <th>2</th>\n",
       "      <td>advanced</td>\n",
       "      <td>0.77</td>\n",
       "      <td>0.36</td>\n",
       "    </tr>\n",
       "  </tbody>\n",
       "</table>\n",
       "</div>"
      ],
      "text/plain": [
       "                Method   auc  recall\n",
       "0                naive  0.71    0.25\n",
       "1  naive_plus_cleaning  0.72    0.22\n",
       "2             advanced  0.77    0.36"
      ]
     },
     "execution_count": 129,
     "metadata": {},
     "output_type": "execute_result"
    }
   ],
   "source": [
    "# 5. Model evolution\n",
    "res_tab"
   ]
  },
  {
   "cell_type": "code",
   "execution_count": 130,
   "metadata": {},
   "outputs": [
    {
     "data": {
      "text/plain": [
       "['credit_amount',\n",
       " 'age',\n",
       " 'income',\n",
       " 'month',\n",
       " 'credit_term',\n",
       " 'phone_operator',\n",
       " 'family_status_Another',\n",
       " 'having_children_flg',\n",
       " 'product_type_Cell phones',\n",
       " 'is_client',\n",
       " 'is_male',\n",
       " 'family_status_Married',\n",
       " 'education_Secondary special education',\n",
       " 'education_Secondary education']"
      ]
     },
     "execution_count": 130,
     "metadata": {},
     "output_type": "execute_result"
    }
   ],
   "source": [
    "# 6. Параметры модели\n",
    "columns"
   ]
  },
  {
   "cell_type": "markdown",
   "metadata": {},
   "source": [
    "#### 7. Что можно еще сделать для улучшения качества модели? Зависит от поставновки задачи. Основные идеи:\n",
    "\n",
    "1. Перебор других методов: Catboost, GBM, ADABoost, Random Forest\n",
    "2. Удаление выбросов\n",
    "3. Использование других метрик качетства: f-score\n",
    "4. Преодолление проблемы неслансированности: Oversampling, undersampling, weighted methods - Эти методы помогают редко.\n",
    "5. Feature engenirng    "
   ]
  }
 ],
 "metadata": {
  "kernelspec": {
   "display_name": "Python 3",
   "language": "python",
   "name": "python3"
  },
  "language_info": {
   "codemirror_mode": {
    "name": "ipython",
    "version": 3
   },
   "file_extension": ".py",
   "mimetype": "text/x-python",
   "name": "python",
   "nbconvert_exporter": "python",
   "pygments_lexer": "ipython3",
   "version": "3.9.1"
  }
 },
 "nbformat": 4,
 "nbformat_minor": 2
}
